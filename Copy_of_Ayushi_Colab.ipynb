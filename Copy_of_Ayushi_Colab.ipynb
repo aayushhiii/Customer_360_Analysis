{
  "nbformat": 4,
  "nbformat_minor": 0,
  "metadata": {
    "colab": {
      "name": "Copy of Ayushi-Colab.ipynb",
      "provenance": [],
      "collapsed_sections": [],
      "include_colab_link": true
    },
    "kernelspec": {
      "display_name": "Python 3",
      "name": "python3"
    },
    "language_info": {
      "name": "python"
    }
  },
  "cells": [
    {
      "cell_type": "markdown",
      "metadata": {
        "id": "view-in-github",
        "colab_type": "text"
      },
      "source": [
        "<a href=\"https://colab.research.google.com/github/aayushhiii/Customer_360_Analysis/blob/main/Copy_of_Ayushi_Colab.ipynb\" target=\"_parent\"><img src=\"https://colab.research.google.com/assets/colab-badge.svg\" alt=\"Open In Colab\"/></a>"
      ]
    },
    {
      "cell_type": "code",
      "metadata": {
        "id": "zuLq_71AKtI_"
      },
      "source": [
        "'''\n",
        "customers 360 degree analysis\n",
        "\n",
        "1) hard data and soft data\n",
        "focus on soft data for prediction\n",
        "\n",
        "2) predicting customers behaviour\n",
        "churn analysis,sentiment, propensity to buy,lifetime value\n",
        "\n",
        "3) predicting strategies to improve sale\n",
        "(focusing on purchase history , offering discounts, demonstrating increased dissatisfaction or any negative reviews(causes of churn))\n",
        "\n",
        "4) Identifying relationship ,connections with company and predicting flags (churn , fraud risk)\n",
        "\n",
        "5)https://www.kaggle.com/olistbr/brazilian-ecommerce?select=olist_order_reviews_dataset.csv\n",
        "\n",
        "6) https://github.com/mapr-demos/customer360\n",
        "\n",
        "7) https://www.kaggle.com/blastchar/telco-customer-churn\n",
        "\n",
        "8) https://www.kaggle.com/vijayuv/onlineretail ( only tracking essential metrics, customer segmentation, and predicting the lifetime value \n",
        "                                                  possible in this dataset)\n",
        "\n",
        "9) https://blog.hootsuite.com/buyer-persona/ (basic approach to create buyers persona)\n",
        "\n",
        "10) if we have the transactional records dataset we can break down to clustering customers and then based on transaction\n",
        "  clusters can be predicted accordingly and recommendations can be provided to win back customers.\n",
        "  ( https://archive.ics.uci.edu/ml/datasets/online+retail#) can be done on this retail dataset.\n",
        "\n",
        "11) Customer Segmentation (k-means)\n",
        "Determine appropriate product pricing.\n",
        "Develop customized marketing campaigns.\n",
        "Design an optimal distribution strategy.\n",
        "Choose specific product features for deployment.\n",
        "Prioritize new product development efforts.\n",
        "\n",
        "12) https://www.kaggle.com/vjchoudhary7/customer-segmentation-tutorial-in-python (demographic data)\n",
        "\n",
        "13) https://www.kaggle.com/carrie1/ecommerce-data ,https://www.kaggle.com/snap/amazon-fine-food-reviews (Combining these two datasets I think \n",
        "I can predict the next item that can be recommended to customers and recommend startegies  to run personalized, high-performing campaigns by \n",
        "segmenting customers based on their past transactions and history)\n",
        "\n",
        "14) dataset columns required\n",
        "\n",
        "    user ID , Product ID , Ratings, invoice date , amount spend by customer, invoice number\n",
        "\n",
        "\n",
        "'''\n"
      ],
      "execution_count": null,
      "outputs": []
    },
    {
      "cell_type": "markdown",
      "metadata": {
        "id": "7VdFKNNVBEE2"
      },
      "source": [
        "# **Customer 360 Analysis**\n",
        "\n",
        "### *   Product Recommendation\n",
        "\n",
        "### *   RFM Analysis\n",
        "\n",
        "### *   Offer Prediction\n",
        "\n",
        "### *   CLV Analysis\n",
        "\n",
        "\n",
        "\n",
        "\n",
        "\n",
        "\n",
        "\n",
        "\n",
        "\n",
        "\n",
        "\n",
        "\n",
        "\n",
        "\n"
      ]
    },
    {
      "cell_type": "markdown",
      "metadata": {
        "id": "O4mBVeuDCz0z"
      },
      "source": [
        "###***Importing the Dataset***"
      ]
    },
    {
      "cell_type": "code",
      "metadata": {
        "colab": {
          "resources": {
            "http://localhost:8080/nbextensions/google.colab/files.js": {
              "data": "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",
              "ok": true,
              "headers": [
                [
                  "content-type",
                  "application/javascript"
                ]
              ],
              "status": 200,
              "status_text": ""
            }
          },
          "base_uri": "https://localhost:8080/",
          "height": 72
        },
        "id": "iCqQEjnnmyP8",
        "outputId": "0e6a8031-cc84-4d7a-c144-760fca4dbef1"
      },
      "source": [
        "from google.colab import files\n",
        "uploaded = files.upload()"
      ],
      "execution_count": null,
      "outputs": [
        {
          "output_type": "display_data",
          "data": {
            "text/html": [
              "\n",
              "     <input type=\"file\" id=\"files-9484b855-be47-44cc-8ded-f290acce19ab\" name=\"files[]\" multiple disabled\n",
              "        style=\"border:none\" />\n",
              "     <output id=\"result-9484b855-be47-44cc-8ded-f290acce19ab\">\n",
              "      Upload widget is only available when the cell has been executed in the\n",
              "      current browser session. Please rerun this cell to enable.\n",
              "      </output>\n",
              "      <script src=\"/nbextensions/google.colab/files.js\"></script> "
            ],
            "text/plain": [
              "<IPython.core.display.HTML object>"
            ]
          },
          "metadata": {
            "tags": []
          }
        },
        {
          "output_type": "stream",
          "text": [
            "Saving data1.csv to data1.csv\n"
          ],
          "name": "stdout"
        }
      ]
    },
    {
      "cell_type": "markdown",
      "metadata": {
        "id": "fsHMVENKEDjx"
      },
      "source": [
        "###***Importing Libraries and Preprocessing***"
      ]
    },
    {
      "cell_type": "code",
      "metadata": {
        "id": "-GnOGrR9sTIN"
      },
      "source": [
        "import numpy as np \n",
        "import pandas as pd"
      ],
      "execution_count": null,
      "outputs": []
    },
    {
      "cell_type": "code",
      "metadata": {
        "id": "tC3_KSqSsXdV"
      },
      "source": [
        "import io\n",
        "df = pd.read_csv(io.BytesIO(uploaded['data1.csv']), header= 0,\n",
        "                        encoding= 'unicode_escape')\n"
      ],
      "execution_count": null,
      "outputs": []
    },
    {
      "cell_type": "code",
      "metadata": {
        "id": "-CZuE0Frsb8V"
      },
      "source": [
        "df['Rating'] = np.random.randint(1, 6, df.shape[0]) #creating column rating with random values 1 to 5\n",
        "\n",
        "#The used_discount , used_bogo and Offer in dataframe are on Products  \n",
        "\n",
        "df[\"used_discount\"]=np.random.randint(0,2,df.shape[0]) #creating discount column with random values 0 and 1\n",
        "df[\"used_bogo\"]=np.where(df[\"used_discount\"]==1,0,1) #creating bogo column where 1 put 0 in discount and vice versa\n",
        "off=['Buy one get one','No offer','10','15','20','25'] #offer column\n",
        "df[\"Offer\"]=np.random.choice(off,size=len(df))\n",
        "df\n",
        "\n"
      ],
      "execution_count": null,
      "outputs": []
    },
    {
      "cell_type": "code",
      "metadata": {
        "id": "6n8IcW0eZU5I",
        "colab": {
          "base_uri": "https://localhost:8080/",
          "height": 340
        },
        "outputId": "368544fb-d5bb-4a52-c11f-8746a4d4f80e"
      },
      "source": [
        "df['InvoiceDate'] = pd.to_datetime(df['InvoiceDate'])\n",
        "df[\"Day_Name\"] = pd.to_datetime(df[\"InvoiceDate\"]).dt.day_name()\n",
        "df.head()"
      ],
      "execution_count": null,
      "outputs": [
        {
          "output_type": "execute_result",
          "data": {
            "text/html": [
              "<div>\n",
              "<style scoped>\n",
              "    .dataframe tbody tr th:only-of-type {\n",
              "        vertical-align: middle;\n",
              "    }\n",
              "\n",
              "    .dataframe tbody tr th {\n",
              "        vertical-align: top;\n",
              "    }\n",
              "\n",
              "    .dataframe thead th {\n",
              "        text-align: right;\n",
              "    }\n",
              "</style>\n",
              "<table border=\"1\" class=\"dataframe\">\n",
              "  <thead>\n",
              "    <tr style=\"text-align: right;\">\n",
              "      <th></th>\n",
              "      <th>InvoiceNo</th>\n",
              "      <th>StockCode</th>\n",
              "      <th>Description</th>\n",
              "      <th>Quantity</th>\n",
              "      <th>InvoiceDate</th>\n",
              "      <th>UnitPrice</th>\n",
              "      <th>CustomerID</th>\n",
              "      <th>Country</th>\n",
              "      <th>Rating</th>\n",
              "      <th>used_discount</th>\n",
              "      <th>used_bogo</th>\n",
              "      <th>Offer</th>\n",
              "      <th>Day_Name</th>\n",
              "    </tr>\n",
              "  </thead>\n",
              "  <tbody>\n",
              "    <tr>\n",
              "      <th>0</th>\n",
              "      <td>536365</td>\n",
              "      <td>85123A</td>\n",
              "      <td>WHITE HANGING HEART T-LIGHT HOLDER</td>\n",
              "      <td>6</td>\n",
              "      <td>2010-12-01 08:26:00</td>\n",
              "      <td>2.55</td>\n",
              "      <td>17850.0</td>\n",
              "      <td>United Kingdom</td>\n",
              "      <td>3</td>\n",
              "      <td>0</td>\n",
              "      <td>1</td>\n",
              "      <td>Buy one get one</td>\n",
              "      <td>Wednesday</td>\n",
              "    </tr>\n",
              "    <tr>\n",
              "      <th>1</th>\n",
              "      <td>536365</td>\n",
              "      <td>71053</td>\n",
              "      <td>WHITE METAL LANTERN</td>\n",
              "      <td>6</td>\n",
              "      <td>2010-12-01 08:26:00</td>\n",
              "      <td>3.39</td>\n",
              "      <td>17850.0</td>\n",
              "      <td>United Kingdom</td>\n",
              "      <td>1</td>\n",
              "      <td>1</td>\n",
              "      <td>0</td>\n",
              "      <td>15</td>\n",
              "      <td>Wednesday</td>\n",
              "    </tr>\n",
              "    <tr>\n",
              "      <th>2</th>\n",
              "      <td>536365</td>\n",
              "      <td>84406B</td>\n",
              "      <td>CREAM CUPID HEARTS COAT HANGER</td>\n",
              "      <td>8</td>\n",
              "      <td>2010-12-01 08:26:00</td>\n",
              "      <td>2.75</td>\n",
              "      <td>17850.0</td>\n",
              "      <td>United Kingdom</td>\n",
              "      <td>2</td>\n",
              "      <td>1</td>\n",
              "      <td>0</td>\n",
              "      <td>20</td>\n",
              "      <td>Wednesday</td>\n",
              "    </tr>\n",
              "    <tr>\n",
              "      <th>3</th>\n",
              "      <td>536365</td>\n",
              "      <td>84029G</td>\n",
              "      <td>KNITTED UNION FLAG HOT WATER BOTTLE</td>\n",
              "      <td>6</td>\n",
              "      <td>2010-12-01 08:26:00</td>\n",
              "      <td>3.39</td>\n",
              "      <td>17850.0</td>\n",
              "      <td>United Kingdom</td>\n",
              "      <td>5</td>\n",
              "      <td>1</td>\n",
              "      <td>0</td>\n",
              "      <td>20</td>\n",
              "      <td>Wednesday</td>\n",
              "    </tr>\n",
              "    <tr>\n",
              "      <th>4</th>\n",
              "      <td>536365</td>\n",
              "      <td>84029E</td>\n",
              "      <td>RED WOOLLY HOTTIE WHITE HEART.</td>\n",
              "      <td>6</td>\n",
              "      <td>2010-12-01 08:26:00</td>\n",
              "      <td>3.39</td>\n",
              "      <td>17850.0</td>\n",
              "      <td>United Kingdom</td>\n",
              "      <td>3</td>\n",
              "      <td>1</td>\n",
              "      <td>0</td>\n",
              "      <td>Buy one get one</td>\n",
              "      <td>Wednesday</td>\n",
              "    </tr>\n",
              "  </tbody>\n",
              "</table>\n",
              "</div>"
            ],
            "text/plain": [
              "  InvoiceNo StockCode  ...            Offer   Day_Name\n",
              "0    536365    85123A  ...  Buy one get one  Wednesday\n",
              "1    536365     71053  ...               15  Wednesday\n",
              "2    536365    84406B  ...               20  Wednesday\n",
              "3    536365    84029G  ...               20  Wednesday\n",
              "4    536365    84029E  ...  Buy one get one  Wednesday\n",
              "\n",
              "[5 rows x 13 columns]"
            ]
          },
          "metadata": {
            "tags": []
          },
          "execution_count": 5
        }
      ]
    },
    {
      "cell_type": "code",
      "metadata": {
        "colab": {
          "base_uri": "https://localhost:8080/"
        },
        "id": "f6fkiCIv5U9c",
        "outputId": "fabd5fb0-c3e1-4d90-e5e3-ed5fd5a8b9b6"
      },
      "source": [
        "df.shape"
      ],
      "execution_count": null,
      "outputs": [
        {
          "output_type": "execute_result",
          "data": {
            "text/plain": [
              "(541909, 13)"
            ]
          },
          "metadata": {
            "tags": []
          },
          "execution_count": 6
        }
      ]
    },
    {
      "cell_type": "code",
      "metadata": {
        "id": "W4CaFuxc5bHt"
      },
      "source": [
        "df.info()"
      ],
      "execution_count": null,
      "outputs": []
    },
    {
      "cell_type": "code",
      "metadata": {
        "id": "h4I_zvNQ5jPp"
      },
      "source": [
        "round(100*(df.isnull().sum())/len(df), 2) #finding null values"
      ],
      "execution_count": null,
      "outputs": []
    },
    {
      "cell_type": "code",
      "metadata": {
        "id": "a-BJk4kr5nYS"
      },
      "source": [
        "df.dropna(inplace=True) #dropping null values"
      ],
      "execution_count": null,
      "outputs": []
    },
    {
      "cell_type": "code",
      "metadata": {
        "id": "hyBONXfN5rj1"
      },
      "source": [
        "round(100*(df.isnull().sum())/len(df), 2) # no null values found now"
      ],
      "execution_count": null,
      "outputs": []
    },
    {
      "cell_type": "code",
      "metadata": {
        "colab": {
          "base_uri": "https://localhost:8080/"
        },
        "id": "gE_tW_Pd5vX9",
        "outputId": "78fd0607-a0f3-488f-f468-a6045c94ed11"
      },
      "source": [
        "df.shape"
      ],
      "execution_count": null,
      "outputs": [
        {
          "output_type": "execute_result",
          "data": {
            "text/plain": [
              "(406829, 13)"
            ]
          },
          "metadata": {
            "tags": []
          },
          "execution_count": 11
        }
      ]
    },
    {
      "cell_type": "code",
      "metadata": {
        "id": "P5FIF9Pta3Xh"
      },
      "source": [
        "df['CustomerID'] = df['CustomerID'].astype('int')\n",
        "df['Rating'] = df['Rating'].astype('int')\n",
        "df['Quantity'] = df['Quantity'].astype('int')\n",
        "df['UnitPrice'] = df['UnitPrice'].astype('float')\n",
        "df.info()"
      ],
      "execution_count": null,
      "outputs": []
    },
    {
      "cell_type": "markdown",
      "metadata": {
        "id": "jtcIK-i3HwxL"
      },
      "source": [
        "##***Product Recommendation***"
      ]
    },
    {
      "cell_type": "markdown",
      "metadata": {
        "id": "vk6OO9u-IJ6_"
      },
      "source": [
        "###Importing Libraries "
      ]
    },
    {
      "cell_type": "code",
      "metadata": {
        "id": "qFfeSSv6gDY2"
      },
      "source": [
        "import matplotlib.pyplot as plt\n",
        "%matplotlib inline\n",
        "import nltk\n",
        "\n",
        "from sklearn.neighbors import NearestNeighbors\n",
        "from sklearn import neighbors\n",
        "from scipy.spatial.distance import cosine\n",
        "from sklearn.metrics import classification_report\n",
        "from sklearn.metrics import accuracy_score\n",
        "\n",
        "\n",
        "from sklearn.feature_selection import SelectKBest\n",
        "from sklearn.feature_extraction.text import CountVectorizer, TfidfTransformer\n",
        "\n",
        "import re\n",
        "import string\n",
        "from wordcloud import WordCloud, STOPWORDS"
      ],
      "execution_count": null,
      "outputs": []
    },
    {
      "cell_type": "code",
      "metadata": {
        "colab": {
          "base_uri": "https://localhost:8080/"
        },
        "id": "BfAuUj52Gdt0",
        "outputId": "4e6d15a0-f001-482c-8d0a-b7867994a114"
      },
      "source": [
        "df.shape"
      ],
      "execution_count": null,
      "outputs": [
        {
          "output_type": "execute_result",
          "data": {
            "text/plain": [
              "(406829, 13)"
            ]
          },
          "metadata": {
            "tags": []
          },
          "execution_count": 14
        }
      ]
    },
    {
      "cell_type": "code",
      "metadata": {
        "id": "F8vBzasujxNM"
      },
      "source": [
        "# grouping data customer wise (counting and finding the mean)\n",
        "count = df.groupby(\"CustomerID\", as_index=False).count() \n",
        "mean = df.groupby(\"CustomerID\", as_index=False).mean()"
      ],
      "execution_count": null,
      "outputs": []
    },
    {
      "cell_type": "code",
      "metadata": {
        "id": "EADMWJZCi-dG"
      },
      "source": [
        "df1 = pd.merge(df, count, how='right', on=[\"CustomerID\"]) #Merging df and count dataframe\n"
      ],
      "execution_count": null,
      "outputs": []
    },
    {
      "cell_type": "code",
      "metadata": {
        "id": "Q_hoN6tGj5eM"
      },
      "source": [
        "df1[\"Count\"] = df1[\"StockCode_y\"]\n",
        "df1[\"Rating\"] = df1[\"Rating_x\"]\n",
        "df1[\"Description\"] = df1[\"Description_x\"]\n",
        "\n",
        "\n",
        "df1 = df1[[\"CustomerID\",'Description','Rating',\"Count\"]]"
      ],
      "execution_count": null,
      "outputs": []
    },
    {
      "cell_type": "code",
      "metadata": {
        "id": "4VDQP2rNh_fH"
      },
      "source": [
        "df1 = df1.sort_values('Count', ascending=False)\n",
        "df2 = df1[df1.Count >= 100] #considering customers only for those we have data more than 100\n",
        "df4 = df.groupby(\"CustomerID\", as_index=False).mean()"
      ],
      "execution_count": null,
      "outputs": []
    },
    {
      "cell_type": "code",
      "metadata": {
        "id": "GTIm4AuOkq3W"
      },
      "source": [
        "#Dataframe of only Description of total products purchased by Customers\n",
        "combine_summary = df2.groupby(\"CustomerID\")[\"Description\"].apply(list) \n",
        "combine_summary = pd.DataFrame(combine_summary)\n",
        "combine_summary.to_csv(\"combine_summary.csv\")\n",
        "combine_summary"
      ],
      "execution_count": null,
      "outputs": []
    },
    {
      "cell_type": "code",
      "metadata": {
        "id": "HkMGqwcNkerc"
      },
      "source": [
        "df3 = pd.read_csv(\"combine_summary.csv\")\n",
        "df3 = pd.merge(df3, df4, on=\"CustomerID\", how='inner')\n",
        "df3 = df3[['CustomerID','Description','Rating']]"
      ],
      "execution_count": null,
      "outputs": []
    },
    {
      "cell_type": "code",
      "metadata": {
        "id": "OxgCfiBEoOXv"
      },
      "source": [
        "#Function for cleaning up the Description\n",
        "cleanup_re = re.compile('[^a-z]+')\n",
        "def cleanup(sentence):\n",
        "    sentence = sentence.lower()\n",
        "    sentence = cleanup_re.sub(' ', sentence).strip()\n",
        "    sentence = \" \".join(nltk.word_tokenize(sentence))\n",
        "    return sentence"
      ],
      "execution_count": null,
      "outputs": []
    },
    {
      "cell_type": "code",
      "metadata": {
        "colab": {
          "base_uri": "https://localhost:8080/"
        },
        "id": "4I7qkAtAo6ap",
        "outputId": "4ab6e6d6-1406-49e5-83dd-311255a21214"
      },
      "source": [
        "import nltk\n",
        "nltk.download('punkt')"
      ],
      "execution_count": null,
      "outputs": [
        {
          "output_type": "stream",
          "text": [
            "[nltk_data] Downloading package punkt to /root/nltk_data...\n",
            "[nltk_data]   Unzipping tokenizers/punkt.zip.\n"
          ],
          "name": "stdout"
        },
        {
          "output_type": "execute_result",
          "data": {
            "text/plain": [
              "True"
            ]
          },
          "metadata": {
            "tags": []
          },
          "execution_count": 28
        }
      ]
    },
    {
      "cell_type": "code",
      "metadata": {
        "id": "zONl-ROglwM9"
      },
      "source": [
        "#Cleaning the Description by calling the function\n",
        "df3[\"Description_clean\"] = df3[\"Description\"].apply(cleanup)"
      ],
      "execution_count": null,
      "outputs": []
    },
    {
      "cell_type": "code",
      "metadata": {
        "id": "_5c1P7-Go_Lu"
      },
      "source": [
        "df3 = df3.drop_duplicates(['Rating'], keep='last')\n",
        "df3 = df3.reset_index()"
      ],
      "execution_count": null,
      "outputs": []
    },
    {
      "cell_type": "code",
      "metadata": {
        "id": "_ttvOwq_pLEG"
      },
      "source": [
        "#CountVectorizer that tokenize a collection of text in description of Products\n",
        "from pandas import DataFrame \n",
        "from sklearn.feature_extraction.text import CountVectorizer \n",
        "docs = df3[\"Description_clean\"] \n",
        "vect = CountVectorizer(max_features = 100, stop_words='english') \n",
        "X = vect.fit_transform(docs) \n",
        "\n",
        "df5 = DataFrame(X.A, columns=vect.get_feature_names())\n",
        "df5 = df5.astype(int)"
      ],
      "execution_count": null,
      "outputs": []
    },
    {
      "cell_type": "code",
      "metadata": {
        "id": "aUq7vHUcpch2"
      },
      "source": [
        "df5.to_csv(\"df5.csv\")\n",
        "kkk=df.sort_values(by='Rating', ascending=False)\n",
        "kkk  = df.drop_duplicates(['Description'], keep='first') #Keeping the best rating product by arranging in descending order\n",
        "kkk = kkk.reset_index()"
      ],
      "execution_count": null,
      "outputs": []
    },
    {
      "cell_type": "code",
      "metadata": {
        "id": "Qnb8yWXtpiZA"
      },
      "source": [
        "#splitting test and train size for k-nearest neighnour\n",
        "X = np.array(df5)\n",
        "\n",
        "tpercent = 0.95\n",
        "tsize = int(np.floor(tpercent * len(df5)))\n",
        "df5_train = X[:tsize]\n",
        "\n",
        "df5_test = X[tsize:]\n",
        "\n",
        "lentrain = len(df5_train)\n",
        "lentest = len(df5_test)\n",
        "\n"
      ],
      "execution_count": null,
      "outputs": []
    },
    {
      "cell_type": "code",
      "metadata": {
        "colab": {
          "base_uri": "https://localhost:8080/"
        },
        "id": "b_i-iuNecyDx",
        "outputId": "4c89f179-eda9-4eb3-8f2c-f1122452db1b"
      },
      "source": [
        "#fitting train data to nearest neighbour\n",
        "nbrs = NearestNeighbors(n_neighbors=3, algorithm='ball_tree').fit(df5_train)\n",
        "\n",
        "\n",
        "distances, indices = nbrs.kneighbors(df5_train)\n",
        "nbrs"
      ],
      "execution_count": null,
      "outputs": [
        {
          "output_type": "execute_result",
          "data": {
            "text/plain": [
              "NearestNeighbors(algorithm='ball_tree', leaf_size=30, metric='minkowski',\n",
              "                 metric_params=None, n_jobs=None, n_neighbors=3, p=2,\n",
              "                 radius=1.0)"
            ]
          },
          "metadata": {
            "tags": []
          },
          "execution_count": 34
        }
      ]
    },
    {
      "cell_type": "code",
      "metadata": {
        "colab": {
          "base_uri": "https://localhost:8080/"
        },
        "id": "SzINvhNXe_hZ",
        "outputId": "a41a2333-1fa0-4981-fca4-a723a5a93363"
      },
      "source": [
        "#finding out best product recommendation for test data\n",
        "for i in range(lentest):\n",
        "    a = nbrs.kneighbors([df5_test[i]])\n",
        "    related_product_list = a[1]\n",
        "    \n",
        "    first_related_product = [item[0] for item in related_product_list]\n",
        "    first_related_product = str(first_related_product).strip('[]')\n",
        "    first_related_product = int(first_related_product)\n",
        "    second_related_product = [item[1] for item in related_product_list]\n",
        "    second_related_product = str(second_related_product).strip('[]')\n",
        "    second_related_product = int(second_related_product)\n",
        "    third_related_product = [item[2] for item in related_product_list]\n",
        "    third_related_product = str(third_related_product).strip('[]')\n",
        "    third_related_product = int(third_related_product)\n",
        "    \n",
        "    print (\"Based on  description, for user is \", df3[\"CustomerID\"][lentrain + i])\n",
        "\n",
        "    for i in range(3896):\n",
        "      if (kkk[\"CustomerID\"][i] == df3[\"CustomerID\"][first_related_product]):\n",
        "        print (\"The first similar user is \", df3[\"CustomerID\"][first_related_product], \".\") \n",
        "        print (\"He/She likes following products\")\n",
        "        for i in range(3896):\n",
        "            if (kkk[\"CustomerID\"][i] == df3[\"CustomerID\"][first_related_product]): \n",
        "                aaa= kkk[\"StockCode\"][i]\n",
        "                bbb= kkk[\"Rating\"][i]\n",
        "\n",
        "                print(aaa ,\" and it's rating is : \", bbb)\n",
        "        print (\"--------------------------------------------------------------------\")\n",
        "        break\n",
        "      \n",
        "        #print(\"_________\")\n",
        "    for i in range(3896):\n",
        "      if (kkk[\"CustomerID\"][i] == df3[\"CustomerID\"][second_related_product]):\n",
        "        print (\"The second similar user is \", df3[\"CustomerID\"][second_related_product], \".\") \n",
        "        print (\"He/She likes following products\")\n",
        "        for i in range(3896):\n",
        "            if (kkk[\"CustomerID\"][i] == df3[\"CustomerID\"][second_related_product]): \n",
        "                aaa= kkk[\"StockCode\"][i]\n",
        "                bbb=kkk[\"Rating\"][i]\n",
        "\n",
        "                print(aaa ,\" and it's rating is : \", bbb)\n",
        "        print (\"--------------------------------------------------------------------\")\n",
        "        break\n",
        "\n",
        "    for i in range(3896):\n",
        "      if (kkk[\"CustomerID\"][i] == df3[\"CustomerID\"][third_related_product]):\n",
        "        print (\"The third similar user is \", df3[\"CustomerID\"][third_related_product], \".\") \n",
        "        print (\"He/She likes following products\")\n",
        "        for i in range(3896):\n",
        "            if (kkk[\"CustomerID\"][i] == df3[\"CustomerID\"][third_related_product]): \n",
        "                aaa= kkk[\"StockCode\"][i]\n",
        "                bbb=kkk[\"Rating\"][i]\n",
        "\n",
        "                print(aaa ,\" and it's rating is : \", bbb)\n",
        "        print (\"--------------------------------------------------------------------\")\n",
        "        break\n",
        "      \n",
        "      \n",
        "\n",
        "    print (\"--------------------------------------------------------------------\")"
      ],
      "execution_count": null,
      "outputs": [
        {
          "output_type": "stream",
          "text": [
            "Based on  description, for user is  17961\n",
            "The first similar user is  15281 .\n",
            "He/She likes following products\n",
            "21280  and it's rating is :  3\n",
            "--------------------------------------------------------------------\n",
            "The second similar user is  15834 .\n",
            "He/She likes following products\n",
            "16248B  and it's rating is :  3\n",
            "21841  and it's rating is :  3\n",
            "--------------------------------------------------------------------\n",
            "--------------------------------------------------------------------\n",
            "Based on  description, for user is  17964\n",
            "--------------------------------------------------------------------\n",
            "Based on  description, for user is  17965\n",
            "The second similar user is  17419 .\n",
            "He/She likes following products\n",
            "21773  and it's rating is :  2\n",
            "--------------------------------------------------------------------\n",
            "The third similar user is  14461 .\n",
            "He/She likes following products\n",
            "90036F  and it's rating is :  4\n",
            "90030B  and it's rating is :  1\n",
            "90131  and it's rating is :  5\n",
            "84551  and it's rating is :  4\n",
            "--------------------------------------------------------------------\n",
            "--------------------------------------------------------------------\n",
            "Based on  description, for user is  17974\n",
            "--------------------------------------------------------------------\n",
            "Based on  description, for user is  17975\n",
            "The third similar user is  13168 .\n",
            "He/She likes following products\n",
            "35638A  and it's rating is :  1\n",
            "--------------------------------------------------------------------\n",
            "--------------------------------------------------------------------\n",
            "Based on  description, for user is  17979\n",
            "The first similar user is  15987 .\n",
            "He/She likes following products\n",
            "22811  and it's rating is :  1\n",
            "21713  and it's rating is :  4\n",
            "20802  and it's rating is :  3\n",
            "22052  and it's rating is :  1\n",
            "20781  and it's rating is :  4\n",
            "22389  and it's rating is :  5\n",
            "90014C  and it's rating is :  2\n",
            "--------------------------------------------------------------------\n",
            "--------------------------------------------------------------------\n",
            "Based on  description, for user is  17997\n",
            "The third similar user is  14626 .\n",
            "He/She likes following products\n",
            "23484  and it's rating is :  5\n",
            "--------------------------------------------------------------------\n",
            "--------------------------------------------------------------------\n",
            "Based on  description, for user is  18016\n",
            "The first similar user is  17897 .\n",
            "He/She likes following products\n",
            "21621  and it's rating is :  4\n",
            "47563A  and it's rating is :  1\n",
            "84558A  and it's rating is :  2\n",
            "21577  and it's rating is :  3\n",
            "22087  and it's rating is :  1\n",
            "22651  and it's rating is :  1\n",
            "22713  and it's rating is :  5\n",
            "21370  and it's rating is :  4\n",
            "21367  and it's rating is :  1\n",
            "22376  and it's rating is :  2\n",
            "21895  and it's rating is :  3\n",
            "22372  and it's rating is :  1\n",
            "21190  and it's rating is :  4\n",
            "21894  and it's rating is :  3\n",
            "70007  and it's rating is :  5\n",
            "84596J  and it's rating is :  1\n",
            "85170A  and it's rating is :  2\n",
            "85059  and it's rating is :  2\n",
            "84497  and it's rating is :  3\n",
            "--------------------------------------------------------------------\n",
            "--------------------------------------------------------------------\n",
            "Based on  description, for user is  18022\n",
            "The second similar user is  13654 .\n",
            "He/She likes following products\n",
            "90093  and it's rating is :  3\n",
            "90085  and it's rating is :  1\n",
            "23475  and it's rating is :  5\n",
            "--------------------------------------------------------------------\n",
            "--------------------------------------------------------------------\n",
            "Based on  description, for user is  18034\n",
            "--------------------------------------------------------------------\n",
            "Based on  description, for user is  18041\n",
            "The first similar user is  12720 .\n",
            "He/She likes following products\n",
            "22346  and it's rating is :  5\n",
            "22344  and it's rating is :  3\n",
            "22345  and it's rating is :  5\n",
            "--------------------------------------------------------------------\n",
            "The second similar user is  12683 .\n",
            "He/She likes following products\n",
            "23348  and it's rating is :  5\n",
            "--------------------------------------------------------------------\n",
            "The third similar user is  16873 .\n",
            "He/She likes following products\n",
            "85230E  and it's rating is :  4\n",
            "22826  and it's rating is :  1\n",
            "22852  and it's rating is :  3\n",
            "--------------------------------------------------------------------\n",
            "--------------------------------------------------------------------\n",
            "Based on  description, for user is  18043\n",
            "--------------------------------------------------------------------\n",
            "Based on  description, for user is  18044\n",
            "The first similar user is  16293 .\n",
            "He/She likes following products\n",
            "23085  and it's rating is :  2\n",
            "--------------------------------------------------------------------\n",
            "The second similar user is  13077 .\n",
            "He/She likes following products\n",
            "85230G  and it's rating is :  4\n",
            "82095  and it's rating is :  4\n",
            "--------------------------------------------------------------------\n",
            "The third similar user is  17897 .\n",
            "He/She likes following products\n",
            "21621  and it's rating is :  4\n",
            "47563A  and it's rating is :  1\n",
            "84558A  and it's rating is :  2\n",
            "21577  and it's rating is :  3\n",
            "22087  and it's rating is :  1\n",
            "22651  and it's rating is :  1\n",
            "22713  and it's rating is :  5\n",
            "21370  and it's rating is :  4\n",
            "21367  and it's rating is :  1\n",
            "22376  and it's rating is :  2\n",
            "21895  and it's rating is :  3\n",
            "22372  and it's rating is :  1\n",
            "21190  and it's rating is :  4\n",
            "21894  and it's rating is :  3\n",
            "70007  and it's rating is :  5\n",
            "84596J  and it's rating is :  1\n",
            "85170A  and it's rating is :  2\n",
            "85059  and it's rating is :  2\n",
            "84497  and it's rating is :  3\n",
            "--------------------------------------------------------------------\n",
            "--------------------------------------------------------------------\n",
            "Based on  description, for user is  18055\n",
            "The third similar user is  13124 .\n",
            "He/She likes following products\n",
            "84929  and it's rating is :  4\n",
            "17012C  and it's rating is :  2\n",
            "21194  and it's rating is :  3\n",
            "21792  and it's rating is :  4\n",
            "35649  and it's rating is :  5\n",
            "--------------------------------------------------------------------\n",
            "--------------------------------------------------------------------\n",
            "Based on  description, for user is  18065\n",
            "--------------------------------------------------------------------\n",
            "Based on  description, for user is  18069\n",
            "The first similar user is  17613 .\n",
            "He/She likes following products\n",
            "20694  and it's rating is :  1\n",
            "--------------------------------------------------------------------\n",
            "The third similar user is  16327 .\n",
            "He/She likes following products\n",
            "35653  and it's rating is :  5\n",
            "85130D  and it's rating is :  2\n",
            "15039  and it's rating is :  1\n",
            "84978  and it's rating is :  2\n",
            "84569D  and it's rating is :  2\n",
            "72351A  and it's rating is :  1\n",
            "84921  and it's rating is :  2\n",
            "--------------------------------------------------------------------\n",
            "--------------------------------------------------------------------\n",
            "Based on  description, for user is  18075\n",
            "The second similar user is  13782 .\n",
            "He/She likes following products\n",
            "23472  and it's rating is :  4\n",
            "--------------------------------------------------------------------\n",
            "--------------------------------------------------------------------\n",
            "Based on  description, for user is  18077\n",
            "The second similar user is  13870 .\n",
            "He/She likes following products\n",
            "23197  and it's rating is :  3\n",
            "--------------------------------------------------------------------\n",
            "--------------------------------------------------------------------\n",
            "Based on  description, for user is  18079\n",
            "The second similar user is  17864 .\n",
            "He/She likes following products\n",
            "23390  and it's rating is :  5\n",
            "23389  and it's rating is :  3\n",
            "--------------------------------------------------------------------\n",
            "The third similar user is  16607 .\n",
            "He/She likes following products\n",
            "90209C  and it's rating is :  3\n",
            "16156L  and it's rating is :  2\n",
            "16169E  and it's rating is :  1\n",
            "--------------------------------------------------------------------\n",
            "--------------------------------------------------------------------\n",
            "Based on  description, for user is  18096\n",
            "The second similar user is  15862 .\n",
            "He/She likes following products\n",
            "22110  and it's rating is :  1\n",
            "22098  and it's rating is :  1\n",
            "22100  and it's rating is :  2\n",
            "22766  and it's rating is :  4\n",
            "22451  and it's rating is :  4\n",
            "22549  and it's rating is :  3\n",
            "84744  and it's rating is :  5\n",
            "85049E  and it's rating is :  5\n",
            "21328  and it's rating is :  3\n",
            "17091A  and it's rating is :  4\n",
            "22473  and it's rating is :  5\n",
            "84509A  and it's rating is :  2\n",
            "84510A  and it's rating is :  2\n",
            "22767  and it's rating is :  1\n",
            "22768  and it's rating is :  3\n",
            "21463  and it's rating is :  1\n",
            "21464  and it's rating is :  4\n",
            "20820  and it's rating is :  5\n",
            "85150  and it's rating is :  5\n",
            "22117  and it's rating is :  1\n",
            "48129  and it's rating is :  4\n",
            "82580  and it's rating is :  5\n",
            "82578  and it's rating is :  3\n",
            "82581  and it's rating is :  2\n",
            "22413  and it's rating is :  1\n",
            "21907  and it's rating is :  3\n",
            "22441  and it's rating is :  3\n",
            "21122  and it's rating is :  2\n",
            "22851  and it's rating is :  1\n",
            "22810  and it's rating is :  5\n",
            "22809  and it's rating is :  1\n",
            "22435  and it's rating is :  2\n",
            "20966  and it's rating is :  4\n",
            "20963  and it's rating is :  2\n",
            "20961  and it's rating is :  2\n",
            "22068  and it's rating is :  3\n",
            "21743  and it's rating is :  3\n",
            "21744  and it's rating is :  2\n",
            "84709B  and it's rating is :  1\n",
            "21592  and it's rating is :  2\n",
            "21587  and it's rating is :  3\n",
            "20992  and it's rating is :  1\n",
            "22804  and it's rating is :  4\n",
            "20749  and it's rating is :  2\n",
            "22382  and it's rating is :  2\n",
            "20726  and it's rating is :  3\n",
            "22384  and it's rating is :  1\n",
            "22467  and it's rating is :  4\n",
            "84625C  and it's rating is :  1\n",
            "84625A  and it's rating is :  3\n",
            "21108  and it's rating is :  4\n",
            "22848  and it's rating is :  4\n",
            "47570B  and it's rating is :  4\n",
            "--------------------------------------------------------------------\n",
            "The third similar user is  17288 .\n",
            "He/She likes following products\n",
            "23561  and it's rating is :  4\n",
            "--------------------------------------------------------------------\n",
            "--------------------------------------------------------------------\n",
            "Based on  description, for user is  18097\n",
            "The first similar user is  13659 .\n",
            "He/She likes following products\n",
            "71101E  and it's rating is :  1\n",
            "--------------------------------------------------------------------\n",
            "The second similar user is  12556 .\n",
            "He/She likes following products\n",
            "35645  and it's rating is :  3\n",
            "--------------------------------------------------------------------\n",
            "--------------------------------------------------------------------\n",
            "Based on  description, for user is  18102\n",
            "The second similar user is  15044 .\n",
            "He/She likes following products\n",
            "21793  and it's rating is :  3\n",
            "23099  and it's rating is :  5\n",
            "--------------------------------------------------------------------\n",
            "The third similar user is  17790 .\n",
            "He/She likes following products\n",
            "23106  and it's rating is :  1\n",
            "23107  and it's rating is :  1\n",
            "--------------------------------------------------------------------\n",
            "--------------------------------------------------------------------\n",
            "Based on  description, for user is  18109\n",
            "The first similar user is  17576 .\n",
            "He/She likes following products\n",
            "22734  and it's rating is :  4\n",
            "47578A  and it's rating is :  2\n",
            "35095B  and it's rating is :  1\n",
            "35095A  and it's rating is :  1\n",
            "--------------------------------------------------------------------\n",
            "The third similar user is  17813 .\n",
            "He/She likes following products\n",
            "23461  and it's rating is :  4\n",
            "--------------------------------------------------------------------\n",
            "--------------------------------------------------------------------\n",
            "Based on  description, for user is  18116\n",
            "The second similar user is  14701 .\n",
            "He/She likes following products\n",
            "90084  and it's rating is :  2\n",
            "22286  and it's rating is :  2\n",
            "--------------------------------------------------------------------\n",
            "The third similar user is  17372 .\n",
            "He/She likes following products\n",
            "90058B  and it's rating is :  4\n",
            "23255  and it's rating is :  3\n",
            "--------------------------------------------------------------------\n",
            "--------------------------------------------------------------------\n",
            "Based on  description, for user is  18118\n",
            "The first similar user is  17511 .\n",
            "He/She likes following products\n",
            "22962  and it's rating is :  5\n",
            "22963  and it's rating is :  5\n",
            "22968  and it's rating is :  3\n",
            "84970S  and it's rating is :  5\n",
            "22910  and it's rating is :  1\n",
            "20668  and it's rating is :  1\n",
            "22197  and it's rating is :  1\n",
            "22198  and it's rating is :  5\n",
            "21080  and it's rating is :  4\n",
            "21086  and it's rating is :  5\n",
            "21786  and it's rating is :  1\n",
            "22654  and it's rating is :  3\n",
            "21485  and it's rating is :  5\n",
            "84030E  and it's rating is :  1\n",
            "22174  and it's rating is :  3\n",
            "22257  and it's rating is :  4\n",
            "22258  and it's rating is :  3\n",
            "22259  and it's rating is :  5\n",
            "23547  and it's rating is :  3\n",
            "23548  and it's rating is :  1\n",
            "23501  and it's rating is :  3\n",
            "23692  and it's rating is :  1\n",
            "--------------------------------------------------------------------\n",
            "The second similar user is  13081 .\n",
            "He/She likes following products\n",
            "22348  and it's rating is :  5\n",
            "20829  and it's rating is :  4\n",
            "21224  and it's rating is :  2\n",
            "21721  and it's rating is :  1\n",
            "84988  and it's rating is :  2\n",
            "21947  and it's rating is :  2\n",
            "21726  and it's rating is :  3\n",
            "22200  and it's rating is :  5\n",
            "79320  and it's rating is :  4\n",
            "85042  and it's rating is :  3\n",
            "22182  and it's rating is :  2\n",
            "--------------------------------------------------------------------\n",
            "The third similar user is  14156 .\n",
            "He/She likes following products\n",
            "17084R  and it's rating is :  1\n",
            "17091J  and it's rating is :  4\n",
            "22967  and it's rating is :  1\n",
            "22957  and it's rating is :  5\n",
            "22896  and it's rating is :  5\n",
            "22199  and it's rating is :  2\n",
            "20914  and it's rating is :  1\n",
            "20725  and it's rating is :  2\n",
            "23010  and it's rating is :  3\n",
            "23032  and it's rating is :  2\n",
            "23028  and it's rating is :  3\n",
            "23271  and it's rating is :  4\n",
            "23131  and it's rating is :  1\n",
            "23360  and it's rating is :  5\n",
            "23236  and it's rating is :  5\n",
            "23413  and it's rating is :  5\n",
            "23409  and it's rating is :  2\n",
            "--------------------------------------------------------------------\n",
            "--------------------------------------------------------------------\n",
            "Based on  description, for user is  18122\n",
            "The second similar user is  16016 .\n",
            "He/She likes following products\n",
            "20763  and it's rating is :  3\n",
            "23283  and it's rating is :  3\n",
            "90201D  and it's rating is :  1\n",
            "90201C  and it's rating is :  2\n",
            "90201A  and it's rating is :  4\n",
            "--------------------------------------------------------------------\n",
            "The third similar user is  15984 .\n",
            "He/She likes following products\n",
            "21293  and it's rating is :  4\n",
            "--------------------------------------------------------------------\n",
            "--------------------------------------------------------------------\n",
            "Based on  description, for user is  18125\n",
            "The first similar user is  16898 .\n",
            "He/She likes following products\n",
            "21219  and it's rating is :  2\n",
            "84596B  and it's rating is :  4\n",
            "21226  and it's rating is :  5\n",
            "20869  and it's rating is :  3\n",
            "--------------------------------------------------------------------\n",
            "The third similar user is  16871 .\n",
            "He/She likes following products\n",
            "23212  and it's rating is :  1\n",
            "--------------------------------------------------------------------\n",
            "--------------------------------------------------------------------\n",
            "Based on  description, for user is  18139\n",
            "--------------------------------------------------------------------\n",
            "Based on  description, for user is  18145\n",
            "--------------------------------------------------------------------\n",
            "Based on  description, for user is  18156\n",
            "The first similar user is  16725 .\n",
            "He/She likes following products\n",
            "22509  and it's rating is :  4\n",
            "21196  and it's rating is :  2\n",
            "21199  and it's rating is :  2\n",
            "21641  and it's rating is :  5\n",
            "--------------------------------------------------------------------\n",
            "The second similar user is  15373 .\n",
            "He/She likes following products\n",
            "90099  and it's rating is :  2\n",
            "--------------------------------------------------------------------\n",
            "The third similar user is  13982 .\n",
            "He/She likes following products\n",
            "71143  and it's rating is :  2\n",
            "--------------------------------------------------------------------\n",
            "--------------------------------------------------------------------\n",
            "Based on  description, for user is  18168\n",
            "The first similar user is  13952 .\n",
            "He/She likes following products\n",
            "46776A  and it's rating is :  5\n",
            "46776F  and it's rating is :  2\n",
            "46776D  and it's rating is :  2\n",
            "PADS  and it's rating is :  1\n",
            "35599D  and it's rating is :  5\n",
            "--------------------------------------------------------------------\n",
            "The third similar user is  16725 .\n",
            "He/She likes following products\n",
            "22509  and it's rating is :  4\n",
            "21196  and it's rating is :  2\n",
            "21199  and it's rating is :  2\n",
            "21641  and it's rating is :  5\n",
            "--------------------------------------------------------------------\n",
            "--------------------------------------------------------------------\n",
            "Based on  description, for user is  18172\n",
            "The third similar user is  14493 .\n",
            "He/She likes following products\n",
            "90043  and it's rating is :  1\n",
            "90049  and it's rating is :  3\n",
            "90046  and it's rating is :  1\n",
            "90048  and it's rating is :  4\n",
            "--------------------------------------------------------------------\n",
            "--------------------------------------------------------------------\n",
            "Based on  description, for user is  18180\n",
            "--------------------------------------------------------------------\n",
            "Based on  description, for user is  18196\n",
            "The first similar user is  13659 .\n",
            "He/She likes following products\n",
            "71101E  and it's rating is :  1\n",
            "--------------------------------------------------------------------\n",
            "The third similar user is  13782 .\n",
            "He/She likes following products\n",
            "23472  and it's rating is :  4\n",
            "--------------------------------------------------------------------\n",
            "--------------------------------------------------------------------\n",
            "Based on  description, for user is  18198\n",
            "The first similar user is  16818 .\n",
            "He/She likes following products\n",
            "21015  and it's rating is :  1\n",
            "23214  and it's rating is :  2\n",
            "23215  and it's rating is :  4\n",
            "--------------------------------------------------------------------\n",
            "The third similar user is  13782 .\n",
            "He/She likes following products\n",
            "23472  and it's rating is :  4\n",
            "--------------------------------------------------------------------\n",
            "--------------------------------------------------------------------\n",
            "Based on  description, for user is  18204\n",
            "The first similar user is  15012 .\n",
            "He/She likes following products\n",
            "84997D  and it's rating is :  1\n",
            "47599A  and it's rating is :  4\n",
            "47599B  and it's rating is :  1\n",
            "20972  and it's rating is :  2\n",
            "21041  and it's rating is :  3\n",
            "21664  and it's rating is :  5\n",
            "22907  and it's rating is :  3\n",
            "22776  and it's rating is :  1\n",
            "21810  and it's rating is :  3\n",
            "21197  and it's rating is :  4\n",
            "85035B  and it's rating is :  5\n",
            "84968C  and it's rating is :  4\n",
            "21098  and it's rating is :  5\n",
            "21192  and it's rating is :  2\n",
            "72800B  and it's rating is :  3\n",
            "84563A  and it's rating is :  3\n",
            "47504H  and it's rating is :  2\n",
            "21742  and it's rating is :  2\n",
            "22481  and it's rating is :  2\n",
            "--------------------------------------------------------------------\n",
            "The second similar user is  15549 .\n",
            "He/She likes following products\n",
            "85188A  and it's rating is :  2\n",
            "23320  and it's rating is :  2\n",
            "--------------------------------------------------------------------\n",
            "--------------------------------------------------------------------\n",
            "Based on  description, for user is  18210\n",
            "The first similar user is  16284 .\n",
            "He/She likes following products\n",
            "23499  and it's rating is :  5\n",
            "--------------------------------------------------------------------\n",
            "--------------------------------------------------------------------\n",
            "Based on  description, for user is  18219\n",
            "The first similar user is  15038 .\n",
            "He/She likes following products\n",
            "90185D  and it's rating is :  1\n",
            "90175A  and it's rating is :  1\n",
            "22458  and it's rating is :  1\n",
            "22459  and it's rating is :  3\n",
            "22156  and it's rating is :  2\n",
            "90024D  and it's rating is :  4\n",
            "--------------------------------------------------------------------\n",
            "The second similar user is  13659 .\n",
            "He/She likes following products\n",
            "71101E  and it's rating is :  1\n",
            "--------------------------------------------------------------------\n",
            "The third similar user is  16293 .\n",
            "He/She likes following products\n",
            "23085  and it's rating is :  2\n",
            "--------------------------------------------------------------------\n",
            "--------------------------------------------------------------------\n",
            "Based on  description, for user is  18223\n",
            "The first similar user is  15805 .\n",
            "He/She likes following products\n",
            "21562  and it's rating is :  3\n",
            "23134  and it's rating is :  4\n",
            "23133  and it's rating is :  3\n",
            "--------------------------------------------------------------------\n",
            "The third similar user is  15756 .\n",
            "He/She likes following products\n",
            "23084  and it's rating is :  5\n",
            "23281  and it's rating is :  4\n",
            "84706F  and it's rating is :  3\n",
            "--------------------------------------------------------------------\n",
            "--------------------------------------------------------------------\n",
            "Based on  description, for user is  18225\n",
            "The first similar user is  14388 .\n",
            "He/She likes following products\n",
            "22477  and it's rating is :  1\n",
            "21875  and it's rating is :  5\n",
            "22924  and it's rating is :  3\n",
            "21217  and it's rating is :  2\n",
            "--------------------------------------------------------------------\n",
            "The third similar user is  17677 .\n",
            "He/She likes following products\n",
            "23280  and it's rating is :  1\n",
            "23109  and it's rating is :  5\n",
            "23120  and it's rating is :  4\n",
            "23121  and it's rating is :  1\n",
            "23545  and it's rating is :  3\n",
            "23490  and it's rating is :  1\n",
            "23453  and it's rating is :  2\n",
            "--------------------------------------------------------------------\n",
            "--------------------------------------------------------------------\n",
            "Based on  description, for user is  18226\n",
            "--------------------------------------------------------------------\n",
            "Based on  description, for user is  18229\n",
            "--------------------------------------------------------------------\n",
            "Based on  description, for user is  18231\n",
            "The first similar user is  14584 .\n",
            "He/She likes following products\n",
            "23323  and it's rating is :  4\n",
            "--------------------------------------------------------------------\n",
            "The third similar user is  13012 .\n",
            "He/She likes following products\n",
            "23081  and it's rating is :  2\n",
            "--------------------------------------------------------------------\n",
            "--------------------------------------------------------------------\n",
            "Based on  description, for user is  18235\n",
            "--------------------------------------------------------------------\n",
            "Based on  description, for user is  18241\n",
            "--------------------------------------------------------------------\n",
            "Based on  description, for user is  18245\n",
            "The first similar user is  15089 .\n",
            "He/She likes following products\n",
            "90019C  and it's rating is :  3\n",
            "90038A  and it's rating is :  4\n",
            "--------------------------------------------------------------------\n",
            "The third similar user is  16871 .\n",
            "He/She likes following products\n",
            "23212  and it's rating is :  1\n",
            "--------------------------------------------------------------------\n",
            "--------------------------------------------------------------------\n",
            "Based on  description, for user is  18257\n",
            "The first similar user is  15125 .\n",
            "He/She likes following products\n",
            "23229  and it's rating is :  3\n",
            "--------------------------------------------------------------------\n",
            "--------------------------------------------------------------------\n",
            "Based on  description, for user is  18260\n",
            "The second similar user is  13911 .\n",
            "He/She likes following products\n",
            "35909B  and it's rating is :  1\n",
            "78033  and it's rating is :  2\n",
            "--------------------------------------------------------------------\n",
            "The third similar user is  14640 .\n",
            "He/She likes following products\n",
            "23015  and it's rating is :  4\n",
            "23024  and it's rating is :  4\n",
            "--------------------------------------------------------------------\n",
            "--------------------------------------------------------------------\n",
            "Based on  description, for user is  18272\n",
            "The third similar user is  16891 .\n",
            "He/She likes following products\n",
            "22154  and it's rating is :  3\n",
            "84993A  and it's rating is :  2\n",
            "84987  and it's rating is :  3\n",
            "20998  and it's rating is :  4\n",
            "21407  and it's rating is :  5\n",
            "22702  and it's rating is :  4\n",
            "22550  and it's rating is :  3\n",
            "22076  and it's rating is :  2\n",
            "84925D  and it's rating is :  1\n",
            "84520B  and it's rating is :  1\n",
            "21078  and it's rating is :  1\n",
            "--------------------------------------------------------------------\n",
            "--------------------------------------------------------------------\n",
            "Based on  description, for user is  18283\n",
            "The first similar user is  17735 .\n",
            "He/She likes following products\n",
            "84809B  and it's rating is :  1\n",
            "--------------------------------------------------------------------\n",
            "The third similar user is  15005 .\n",
            "He/She likes following products\n",
            "84507B  and it's rating is :  1\n",
            "85023C  and it's rating is :  2\n",
            "23405  and it's rating is :  2\n",
            "--------------------------------------------------------------------\n",
            "--------------------------------------------------------------------\n"
          ],
          "name": "stdout"
        }
      ]
    },
    {
      "cell_type": "markdown",
      "metadata": {
        "id": "f73qk0TSQz90"
      },
      "source": [
        "###***Code for Personalized Product Recommendation***\n",
        "\n",
        "*   Enter Customer Id (eg 17961 , 18041 )\n",
        "\n",
        ">                 Get the best Products with best Ratings\n",
        "\n",
        "\n",
        "\n",
        "\n",
        "\n"
      ]
    },
    {
      "cell_type": "code",
      "metadata": {
        "colab": {
          "base_uri": "https://localhost:8080/"
        },
        "id": "N5EJ7KhsO40P",
        "outputId": "ecde9d0f-8686-4083-83e1-903fe806c2b1"
      },
      "source": [
        "#Final code for personalised recommendation\n",
        "\n",
        "user=int(input(\"enter Customer ID for recommendation : \"))\n",
        "\n",
        "a=df3.loc[df3['CustomerID'] == user]\n",
        "b=df3[df3['CustomerID']==user].index.values\n",
        "b= str(b).strip('[]')\n",
        "b= int(b)\n",
        "c=df5.loc[[b]]\n",
        "\n",
        "X = np.array(c)\n",
        "\n",
        "a = nbrs.kneighbors(c)\n",
        "related_product_list = a[1]\n",
        "\n",
        "first_related_product = [item[0] for item in related_product_list]\n",
        "first_related_product = str(first_related_product).strip('[]')\n",
        "first_related_product = int(first_related_product)\n",
        "second_related_product = [item[1] for item in related_product_list]\n",
        "second_related_product = str(second_related_product).strip('[]')\n",
        "second_related_product = int(second_related_product)\n",
        "third_related_product = [item[2] for item in related_product_list]\n",
        "third_related_product = str(third_related_product).strip('[]')\n",
        "third_related_product = int(third_related_product)\n",
        "\n",
        "print (\"Based on  description, for user is \", user)\n",
        "\n",
        "for i in range(3896):\n",
        "  if (kkk[\"CustomerID\"][i] == df3[\"CustomerID\"][first_related_product]):\n",
        "    print (\"The first similar user is \", df3[\"CustomerID\"][first_related_product], \".\") \n",
        "    print (\"He/She likes following products\")\n",
        "    for i in range(3896):\n",
        "        if (kkk[\"CustomerID\"][i] == df3[\"CustomerID\"][first_related_product]): \n",
        "            aaa= kkk[\"StockCode\"][i]\n",
        "            bbb=kkk[\"Rating\"][i]\n",
        "\n",
        "            print(aaa ,\" and it's rating is : \", bbb)\n",
        "    print (\"--------------------------------------------------------------------\")\n",
        "    break\n",
        "\n",
        "for i in range(3896):\n",
        "  if (kkk[\"CustomerID\"][i] == df3[\"CustomerID\"][second_related_product]):\n",
        "    print (\"The second similar user is \", df3[\"CustomerID\"][second_related_product], \".\") \n",
        "    print (\"He/She likes following products\")\n",
        "    for i in range(3896):\n",
        "        if (kkk[\"CustomerID\"][i] == df3[\"CustomerID\"][second_related_product]): \n",
        "            aaa= kkk[\"StockCode\"][i]\n",
        "            bbb=kkk[\"Rating\"][i]\n",
        "\n",
        "            print(aaa ,\" and it's rating is : \", bbb)\n",
        "    print (\"--------------------------------------------------------------------\")\n",
        "    break\n",
        "\n",
        "for i in range(3896):\n",
        "  if (kkk[\"CustomerID\"][i] == df3[\"CustomerID\"][third_related_product]):\n",
        "    print (\"The third similar user is \", df3[\"CustomerID\"][third_related_product], \".\") \n",
        "    print (\"He/She likes following products\")\n",
        "    for i in range(3896):\n",
        "        if (kkk[\"CustomerID\"][i] == df3[\"CustomerID\"][third_related_product]): \n",
        "            aaa= kkk[\"StockCode\"][i]\n",
        "            bbb=kkk[\"Rating\"][i]\n",
        "\n",
        "            print(aaa ,\" and it's rating is : \", bbb)\n",
        "    print (\"--------------------------------------------------------------------\")\n",
        "    break\n",
        "      \n",
        "      \n",
        "\n",
        "print (\"--------------------------------------------------------------------\")\n",
        "\n",
        "\n"
      ],
      "execution_count": null,
      "outputs": [
        {
          "output_type": "stream",
          "text": [
            "enter Customer ID for recommendation : 18041\n",
            "Based on  description, for user is  18041\n",
            "The first similar user is  12720 .\n",
            "He/She likes following products\n",
            "22346  and it's rating is :  5\n",
            "22344  and it's rating is :  3\n",
            "22345  and it's rating is :  5\n",
            "--------------------------------------------------------------------\n",
            "The second similar user is  12683 .\n",
            "He/She likes following products\n",
            "23348  and it's rating is :  5\n",
            "--------------------------------------------------------------------\n",
            "The third similar user is  16873 .\n",
            "He/She likes following products\n",
            "85230E  and it's rating is :  4\n",
            "22826  and it's rating is :  1\n",
            "22852  and it's rating is :  3\n",
            "--------------------------------------------------------------------\n",
            "--------------------------------------------------------------------\n"
          ],
          "name": "stdout"
        }
      ]
    },
    {
      "cell_type": "markdown",
      "metadata": {
        "id": "R2N9jSBRDcks"
      },
      "source": [
        "###**RFM Analysis**"
      ]
    },
    {
      "cell_type": "markdown",
      "metadata": {
        "id": "FvlJnVx_TyPH"
      },
      "source": [
        "###importing required libraries for clustering"
      ]
    },
    {
      "cell_type": "code",
      "metadata": {
        "id": "gxAZ3dUMZzys"
      },
      "source": [
        "# RFM Analysis\n",
        "\n",
        "# imported required libraries for clustering\n",
        "\n",
        "import numpy as np\n",
        "import pandas as pd\n",
        "import matplotlib.pyplot as plt\n",
        "import seaborn as sns\n",
        "import datetime as dt\n",
        "\n",
        "import sklearn\n",
        "from sklearn.preprocessing import StandardScaler\n",
        "from sklearn.cluster import KMeans\n",
        "from sklearn.metrics import silhouette_score\n",
        "from scipy.cluster.hierarchy import linkage\n",
        "from scipy.cluster.hierarchy import dendrogram\n",
        "from scipy.cluster.hierarchy import cut_tree"
      ],
      "execution_count": null,
      "outputs": []
    },
    {
      "cell_type": "code",
      "metadata": {
        "colab": {
          "base_uri": "https://localhost:8080/"
        },
        "id": "cwqzr1QCjPYU",
        "outputId": "5a6fce6a-f5fd-4773-c37d-bf5f939da5a2"
      },
      "source": [
        "df.shape"
      ],
      "execution_count": null,
      "outputs": [
        {
          "output_type": "execute_result",
          "data": {
            "text/plain": [
              "(406829, 13)"
            ]
          },
          "metadata": {
            "tags": []
          },
          "execution_count": 39
        }
      ]
    },
    {
      "cell_type": "code",
      "metadata": {
        "id": "0nPC9gkhjvRx"
      },
      "source": [
        "df.describe()"
      ],
      "execution_count": null,
      "outputs": []
    },
    {
      "cell_type": "code",
      "metadata": {
        "id": "3qNKPY25jnkx"
      },
      "source": [
        "df['CustomerID'] = df['CustomerID'].astype(str)"
      ],
      "execution_count": null,
      "outputs": []
    },
    {
      "cell_type": "markdown",
      "metadata": {
        "id": "voXoOsbRUAix"
      },
      "source": [
        "###Monetary"
      ]
    },
    {
      "cell_type": "code",
      "metadata": {
        "id": "71QuxINVkQ_H"
      },
      "source": [
        "#  Monetary\n",
        "\n",
        "df['Amount'] = df['Quantity']*df['UnitPrice'] #creating amount column multiplying Quantity to Price"
      ],
      "execution_count": null,
      "outputs": []
    },
    {
      "cell_type": "code",
      "metadata": {
        "id": "zEoE2zIgl1ei"
      },
      "source": [
        "rfm_m = df.groupby('CustomerID')['Amount'].sum() #Summing up the total amount spent by customer\n",
        "rfm_m = rfm_m.reset_index()"
      ],
      "execution_count": null,
      "outputs": []
    },
    {
      "cell_type": "markdown",
      "metadata": {
        "id": "VSDziksfUUXK"
      },
      "source": [
        "###Frequency"
      ]
    },
    {
      "cell_type": "code",
      "metadata": {
        "id": "ju7j-s_2mGS0"
      },
      "source": [
        "#  Frequency\n",
        "rfm_f = df.groupby('CustomerID')['InvoiceNo'].count() #counting no. of purchases made by customers\n",
        "rfm_f = rfm_f.reset_index()\n",
        "rfm_f.columns = ['CustomerID', 'Frequency']\n",
        "rfm_f.head()"
      ],
      "execution_count": null,
      "outputs": []
    },
    {
      "cell_type": "code",
      "metadata": {
        "id": "rHkGD-PQnToR"
      },
      "source": [
        "rfm = pd.merge(rfm_m, rfm_f, on='CustomerID', how='inner')\n",
        "rfm.head()"
      ],
      "execution_count": null,
      "outputs": []
    },
    {
      "cell_type": "markdown",
      "metadata": {
        "id": "HeFXQB3YgseE"
      },
      "source": [
        "###Recency"
      ]
    },
    {
      "cell_type": "code",
      "metadata": {
        "id": "7egi9HjWngVx"
      },
      "source": [
        "#  Recency\n",
        "df['InvoiceDate'] = pd.to_datetime(df['InvoiceDate'],format='%d-%m-%Y %H:%M')\n",
        "df.head()"
      ],
      "execution_count": null,
      "outputs": []
    },
    {
      "cell_type": "code",
      "metadata": {
        "id": "aYH-vnbSn8iJ",
        "colab": {
          "base_uri": "https://localhost:8080/"
        },
        "outputId": "adaea78f-5a4d-406b-fbd1-be6ed6704b55"
      },
      "source": [
        "# we get the latest date\n",
        "max_date = max(df['InvoiceDate'])\n",
        "max_date"
      ],
      "execution_count": null,
      "outputs": [
        {
          "output_type": "execute_result",
          "data": {
            "text/plain": [
              "Timestamp('2011-12-09 12:50:00')"
            ]
          },
          "metadata": {
            "tags": []
          },
          "execution_count": 47
        }
      ]
    },
    {
      "cell_type": "code",
      "metadata": {
        "id": "i-mHlG-6pAnt"
      },
      "source": [
        "#diff between latest date and invoice date in days\n",
        "df['Diff'] = max_date - df['InvoiceDate']\n",
        "df.head()"
      ],
      "execution_count": null,
      "outputs": []
    },
    {
      "cell_type": "code",
      "metadata": {
        "id": "BBXWlFN1pPiP"
      },
      "source": [
        "# last transaction date to get the recency of customers\n",
        "\n",
        "rfm_p = df.groupby('CustomerID')['Diff'].min()\n",
        "rfm_p = rfm_p.reset_index()\n",
        "rfm_p.head()"
      ],
      "execution_count": null,
      "outputs": []
    },
    {
      "cell_type": "code",
      "metadata": {
        "id": "RLeZqO-Yuucv"
      },
      "source": [
        "# taking no. of days only\n",
        "rfm_p['Diff'] = rfm_p['Diff'].dt.days\n",
        "rfm_p.head()"
      ],
      "execution_count": null,
      "outputs": []
    },
    {
      "cell_type": "markdown",
      "metadata": {
        "id": "wV0e1Z7NhH0j"
      },
      "source": [
        "Final RFM Dataset"
      ]
    },
    {
      "cell_type": "code",
      "metadata": {
        "colab": {
          "base_uri": "https://localhost:8080/",
          "height": 204
        },
        "id": "LCONkajGu6D-",
        "outputId": "2c6ae9b0-1bbe-47f8-9c05-1708af9f2db8"
      },
      "source": [
        "# final rfm dataset\n",
        "rfm = pd.merge(rfm, rfm_p, on='CustomerID', how='inner')\n",
        "rfm.columns = ['CustomerID', 'Amount', 'Frequency', 'Recency']\n",
        "rfm.head()"
      ],
      "execution_count": null,
      "outputs": [
        {
          "output_type": "execute_result",
          "data": {
            "text/html": [
              "<div>\n",
              "<style scoped>\n",
              "    .dataframe tbody tr th:only-of-type {\n",
              "        vertical-align: middle;\n",
              "    }\n",
              "\n",
              "    .dataframe tbody tr th {\n",
              "        vertical-align: top;\n",
              "    }\n",
              "\n",
              "    .dataframe thead th {\n",
              "        text-align: right;\n",
              "    }\n",
              "</style>\n",
              "<table border=\"1\" class=\"dataframe\">\n",
              "  <thead>\n",
              "    <tr style=\"text-align: right;\">\n",
              "      <th></th>\n",
              "      <th>CustomerID</th>\n",
              "      <th>Amount</th>\n",
              "      <th>Frequency</th>\n",
              "      <th>Recency</th>\n",
              "    </tr>\n",
              "  </thead>\n",
              "  <tbody>\n",
              "    <tr>\n",
              "      <th>0</th>\n",
              "      <td>12346</td>\n",
              "      <td>0.00</td>\n",
              "      <td>2</td>\n",
              "      <td>325</td>\n",
              "    </tr>\n",
              "    <tr>\n",
              "      <th>1</th>\n",
              "      <td>12347</td>\n",
              "      <td>4310.00</td>\n",
              "      <td>182</td>\n",
              "      <td>1</td>\n",
              "    </tr>\n",
              "    <tr>\n",
              "      <th>2</th>\n",
              "      <td>12348</td>\n",
              "      <td>1797.24</td>\n",
              "      <td>31</td>\n",
              "      <td>74</td>\n",
              "    </tr>\n",
              "    <tr>\n",
              "      <th>3</th>\n",
              "      <td>12349</td>\n",
              "      <td>1757.55</td>\n",
              "      <td>73</td>\n",
              "      <td>18</td>\n",
              "    </tr>\n",
              "    <tr>\n",
              "      <th>4</th>\n",
              "      <td>12350</td>\n",
              "      <td>334.40</td>\n",
              "      <td>17</td>\n",
              "      <td>309</td>\n",
              "    </tr>\n",
              "  </tbody>\n",
              "</table>\n",
              "</div>"
            ],
            "text/plain": [
              "  CustomerID   Amount  Frequency  Recency\n",
              "0      12346     0.00          2      325\n",
              "1      12347  4310.00        182        1\n",
              "2      12348  1797.24         31       74\n",
              "3      12349  1757.55         73       18\n",
              "4      12350   334.40         17      309"
            ]
          },
          "metadata": {
            "tags": []
          },
          "execution_count": 51
        }
      ]
    },
    {
      "cell_type": "code",
      "metadata": {
        "colab": {
          "base_uri": "https://localhost:8080/",
          "height": 531
        },
        "id": "R-_kDXyE7195",
        "outputId": "2accd3f3-cad0-4343-ba8c-8c66d444a22c"
      },
      "source": [
        "#Detecting outlier\n",
        "\n",
        "attributes = ['Amount','Frequency','Recency']\n",
        "plt.rcParams['figure.figsize'] = [10,8]\n",
        "sns.boxplot(data = rfm[attributes], orient=\"v\", palette=\"Set2\" ,whis=1.5,saturation=1, width=0.7)\n",
        "plt.title(\"Outliers Variable Distribution\", fontsize = 14, fontweight = 'bold')\n",
        "plt.ylabel(\"Range\", fontweight = 'bold')\n",
        "plt.xlabel(\"Attributes\", fontweight = 'bold')"
      ],
      "execution_count": null,
      "outputs": [
        {
          "output_type": "execute_result",
          "data": {
            "text/plain": [
              "Text(0.5, 0, 'Attributes')"
            ]
          },
          "metadata": {
            "tags": []
          },
          "execution_count": 52
        },
        {
          "output_type": "display_data",
          "data": {
            "image/png": "[encoded data removed]",
            "text/plain": [
              "<Figure size 720x576 with 1 Axes>"
            ]
          },
          "metadata": {
            "tags": [],
            "needs_background": "light"
          }
        }
      ]
    },
    {
      "cell_type": "code",
      "metadata": {
        "id": "N6A2OvyZ7-xl"
      },
      "source": [
        "# Removing outliers for Amount\n",
        "\n",
        "Q1 = rfm.Amount.quantile(0.05)\n",
        "Q3 = rfm.Amount.quantile(0.95)\n",
        "IQR = Q3 - Q1\n",
        "rfm = rfm[(rfm.Amount >= Q1 - 1.5*IQR) & (rfm.Amount <= Q3 + 1.5*IQR)]\n",
        "rfm"
      ],
      "execution_count": null,
      "outputs": []
    },
    {
      "cell_type": "code",
      "metadata": {
        "id": "0fl0-B0C8NBS"
      },
      "source": [
        "# Removing outliers for Recency\n",
        "\n",
        "Q1 = rfm.Recency.quantile(0.05)\n",
        "Q3 = rfm.Recency.quantile(0.95)\n",
        "IQR = Q3 - Q1\n",
        "rfm = rfm[(rfm.Recency >= Q1 - 1.5*IQR) & (rfm.Recency <= Q3 + 1.5*IQR)]\n",
        "rfm"
      ],
      "execution_count": null,
      "outputs": []
    },
    {
      "cell_type": "code",
      "metadata": {
        "id": "w2n1Purs8eCN"
      },
      "source": [
        "# Removing outliers for Frequency\n",
        "\n",
        "Q1 = rfm.Frequency.quantile(0.05)\n",
        "Q3 = rfm.Frequency.quantile(0.95)\n",
        "IQR = Q3 - Q1\n",
        "rfm = rfm[(rfm.Frequency >= Q1 - 1.5*IQR) & (rfm.Frequency <= Q3 + 1.5*IQR)]\n",
        "rfm"
      ],
      "execution_count": null,
      "outputs": []
    },
    {
      "cell_type": "code",
      "metadata": {
        "colab": {
          "base_uri": "https://localhost:8080/"
        },
        "id": "Y1AiPaYm8iT1",
        "outputId": "902acee6-19e5-464c-eb78-3bbc17e7df4d"
      },
      "source": [
        "# Rescaling \n",
        "#Using standard Scaler to fit Transform\n",
        "\n",
        "rfm_df = rfm[['Amount', 'Frequency', 'Recency']]\n",
        "\n",
        "scaler = StandardScaler()\n",
        "\n",
        "rfm_df_scaled = scaler.fit_transform(rfm_df)\n",
        "rfm_df_scaled.shape"
      ],
      "execution_count": null,
      "outputs": [
        {
          "output_type": "execute_result",
          "data": {
            "text/plain": [
              "(4293, 3)"
            ]
          },
          "metadata": {
            "tags": []
          },
          "execution_count": 56
        }
      ]
    },
    {
      "cell_type": "code",
      "metadata": {
        "id": "UNGFkgxW8-d1"
      },
      "source": [
        "rfm_df_scaled = pd.DataFrame(rfm_df_scaled)\n",
        "rfm_df_scaled.columns = ['Amount', 'Frequency', 'Recency']\n",
        "rfm_df_scaled.head()"
      ],
      "execution_count": null,
      "outputs": []
    },
    {
      "cell_type": "markdown",
      "metadata": {
        "id": "BjlqGiX2hkjb"
      },
      "source": [
        "K-means Clustering to determine optimum number of Clusters"
      ]
    },
    {
      "cell_type": "code",
      "metadata": {
        "colab": {
          "base_uri": "https://localhost:8080/",
          "height": 500
        },
        "id": "pX_3_VO3-8fd",
        "outputId": "dd72f6ec-1883-47cc-a15e-f2f958051c36"
      },
      "source": [
        "# k means clustering\n",
        "# Elbow-curve\n",
        "\n",
        "ssd = []\n",
        "range_n_clusters = [2, 3, 4, 5, 6, 7, 8]\n",
        "for num_clusters in range_n_clusters:\n",
        "    kmeans = KMeans(n_clusters=num_clusters, max_iter=50)\n",
        "    kmeans.fit(rfm_df_scaled)\n",
        "    \n",
        "    ssd.append(kmeans.inertia_)\n",
        "    \n",
        "# plot for each n_clusters\n",
        "plt.plot(ssd)"
      ],
      "execution_count": null,
      "outputs": [
        {
          "output_type": "execute_result",
          "data": {
            "text/plain": [
              "[<matplotlib.lines.Line2D at 0x7f82479273d0>]"
            ]
          },
          "metadata": {
            "tags": []
          },
          "execution_count": 58
        },
        {
          "output_type": "display_data",
          "data": {
            "image/png": "[encoded data removed]",
            "text/plain": [
              "<Figure size 720x576 with 1 Axes>"
            ]
          },
          "metadata": {
            "tags": [],
            "needs_background": "light"
          }
        }
      ]
    },
    {
      "cell_type": "markdown",
      "metadata": {
        "id": "EiMRLm2mhu99"
      },
      "source": [
        "Final Model with K=3"
      ]
    },
    {
      "cell_type": "code",
      "metadata": {
        "colab": {
          "base_uri": "https://localhost:8080/"
        },
        "id": "J-RdarLd_y2r",
        "outputId": "04aae184-cb2e-4e9c-849f-270fff3fa8d6"
      },
      "source": [
        "# Final model with k=3\n",
        "kmeans = KMeans(n_clusters=3, max_iter=50)\n",
        "kmeans.fit(rfm_df_scaled)"
      ],
      "execution_count": null,
      "outputs": [
        {
          "output_type": "execute_result",
          "data": {
            "text/plain": [
              "KMeans(algorithm='auto', copy_x=True, init='k-means++', max_iter=50,\n",
              "       n_clusters=3, n_init=10, n_jobs=None, precompute_distances='auto',\n",
              "       random_state=None, tol=0.0001, verbose=0)"
            ]
          },
          "metadata": {
            "tags": []
          },
          "execution_count": 79
        }
      ]
    },
    {
      "cell_type": "code",
      "metadata": {
        "colab": {
          "base_uri": "https://localhost:8080/"
        },
        "id": "ul54Nf0RARn_",
        "outputId": "126e772d-594d-4a0d-db3f-8c034f0833b7"
      },
      "source": [
        " kmeans.labels_"
      ],
      "execution_count": null,
      "outputs": [
        {
          "output_type": "execute_result",
          "data": {
            "text/plain": [
              "array([0, 1, 2, ..., 0, 2, 2], dtype=int32)"
            ]
          },
          "metadata": {
            "tags": []
          },
          "execution_count": 80
        }
      ]
    },
    {
      "cell_type": "code",
      "metadata": {
        "colab": {
          "base_uri": "https://localhost:8080/",
          "height": 521
        },
        "id": "mj4AUP2zAUnJ",
        "outputId": "eaee5070-4c92-48eb-9a17-0c0719d6bcf6"
      },
      "source": [
        "rfm['Cluster_Id'] = kmeans.labels_\n",
        "rfm"
      ],
      "execution_count": null,
      "outputs": [
        {
          "output_type": "stream",
          "text": [
            "/usr/local/lib/python3.7/dist-packages/ipykernel_launcher.py:1: SettingWithCopyWarning: \n",
            "A value is trying to be set on a copy of a slice from a DataFrame.\n",
            "Try using .loc[row_indexer,col_indexer] = value instead\n",
            "\n",
            "See the caveats in the documentation: https://pandas.pydata.org/pandas-docs/stable/user_guide/indexing.html#returning-a-view-versus-a-copy\n",
            "  \"\"\"Entry point for launching an IPython kernel.\n"
          ],
          "name": "stderr"
        },
        {
          "output_type": "execute_result",
          "data": {
            "text/html": [
              "<div>\n",
              "<style scoped>\n",
              "    .dataframe tbody tr th:only-of-type {\n",
              "        vertical-align: middle;\n",
              "    }\n",
              "\n",
              "    .dataframe tbody tr th {\n",
              "        vertical-align: top;\n",
              "    }\n",
              "\n",
              "    .dataframe thead th {\n",
              "        text-align: right;\n",
              "    }\n",
              "</style>\n",
              "<table border=\"1\" class=\"dataframe\">\n",
              "  <thead>\n",
              "    <tr style=\"text-align: right;\">\n",
              "      <th></th>\n",
              "      <th>CustomerID</th>\n",
              "      <th>Amount</th>\n",
              "      <th>Frequency</th>\n",
              "      <th>Recency</th>\n",
              "      <th>Cluster_Id</th>\n",
              "    </tr>\n",
              "  </thead>\n",
              "  <tbody>\n",
              "    <tr>\n",
              "      <th>0</th>\n",
              "      <td>12346</td>\n",
              "      <td>0.00</td>\n",
              "      <td>2</td>\n",
              "      <td>325</td>\n",
              "      <td>0</td>\n",
              "    </tr>\n",
              "    <tr>\n",
              "      <th>1</th>\n",
              "      <td>12347</td>\n",
              "      <td>4310.00</td>\n",
              "      <td>182</td>\n",
              "      <td>1</td>\n",
              "      <td>1</td>\n",
              "    </tr>\n",
              "    <tr>\n",
              "      <th>2</th>\n",
              "      <td>12348</td>\n",
              "      <td>1797.24</td>\n",
              "      <td>31</td>\n",
              "      <td>74</td>\n",
              "      <td>2</td>\n",
              "    </tr>\n",
              "    <tr>\n",
              "      <th>3</th>\n",
              "      <td>12349</td>\n",
              "      <td>1757.55</td>\n",
              "      <td>73</td>\n",
              "      <td>18</td>\n",
              "      <td>2</td>\n",
              "    </tr>\n",
              "    <tr>\n",
              "      <th>4</th>\n",
              "      <td>12350</td>\n",
              "      <td>334.40</td>\n",
              "      <td>17</td>\n",
              "      <td>309</td>\n",
              "      <td>0</td>\n",
              "    </tr>\n",
              "    <tr>\n",
              "      <th>...</th>\n",
              "      <td>...</td>\n",
              "      <td>...</td>\n",
              "      <td>...</td>\n",
              "      <td>...</td>\n",
              "      <td>...</td>\n",
              "    </tr>\n",
              "    <tr>\n",
              "      <th>4366</th>\n",
              "      <td>18278</td>\n",
              "      <td>173.90</td>\n",
              "      <td>9</td>\n",
              "      <td>73</td>\n",
              "      <td>2</td>\n",
              "    </tr>\n",
              "    <tr>\n",
              "      <th>4367</th>\n",
              "      <td>18280</td>\n",
              "      <td>180.60</td>\n",
              "      <td>10</td>\n",
              "      <td>277</td>\n",
              "      <td>0</td>\n",
              "    </tr>\n",
              "    <tr>\n",
              "      <th>4368</th>\n",
              "      <td>18281</td>\n",
              "      <td>80.82</td>\n",
              "      <td>7</td>\n",
              "      <td>180</td>\n",
              "      <td>0</td>\n",
              "    </tr>\n",
              "    <tr>\n",
              "      <th>4369</th>\n",
              "      <td>18282</td>\n",
              "      <td>176.60</td>\n",
              "      <td>13</td>\n",
              "      <td>7</td>\n",
              "      <td>2</td>\n",
              "    </tr>\n",
              "    <tr>\n",
              "      <th>4371</th>\n",
              "      <td>18287</td>\n",
              "      <td>1837.28</td>\n",
              "      <td>70</td>\n",
              "      <td>42</td>\n",
              "      <td>2</td>\n",
              "    </tr>\n",
              "  </tbody>\n",
              "</table>\n",
              "<p>4293 rows × 5 columns</p>\n",
              "</div>"
            ],
            "text/plain": [
              "     CustomerID   Amount  Frequency  Recency  Cluster_Id\n",
              "0         12346     0.00          2      325           0\n",
              "1         12347  4310.00        182        1           1\n",
              "2         12348  1797.24         31       74           2\n",
              "3         12349  1757.55         73       18           2\n",
              "4         12350   334.40         17      309           0\n",
              "...         ...      ...        ...      ...         ...\n",
              "4366      18278   173.90          9       73           2\n",
              "4367      18280   180.60         10      277           0\n",
              "4368      18281    80.82          7      180           0\n",
              "4369      18282   176.60         13        7           2\n",
              "4371      18287  1837.28         70       42           2\n",
              "\n",
              "[4293 rows x 5 columns]"
            ]
          },
          "metadata": {
            "tags": []
          },
          "execution_count": 81
        }
      ]
    },
    {
      "cell_type": "markdown",
      "metadata": {
        "id": "7XtxiKjqh3UN"
      },
      "source": [
        "Box plot to visualize Cluster Id vs Monetary"
      ]
    },
    {
      "cell_type": "code",
      "metadata": {
        "colab": {
          "base_uri": "https://localhost:8080/",
          "height": 515
        },
        "id": "A84gZvMEAclU",
        "outputId": "878b3fb9-f468-4922-cc9f-bcb1f8afe02e"
      },
      "source": [
        "# Box plot to visualize Cluster Id vs Monetary\n",
        "\n",
        "sns.boxplot(x='Cluster_Id', y='Amount', data=rfm)"
      ],
      "execution_count": null,
      "outputs": [
        {
          "output_type": "execute_result",
          "data": {
            "text/plain": [
              "<matplotlib.axes._subplots.AxesSubplot at 0x7f823e634390>"
            ]
          },
          "metadata": {
            "tags": []
          },
          "execution_count": 82
        },
        {
          "output_type": "display_data",
          "data": {
            "image/png": "[encoded data removed]",
            "text/plain": [
              "<Figure size 720x576 with 1 Axes>"
            ]
          },
          "metadata": {
            "tags": [],
            "needs_background": "light"
          }
        }
      ]
    },
    {
      "cell_type": "markdown",
      "metadata": {
        "id": "HCOgXlt2h9IO"
      },
      "source": [
        "Box plot to visualize Cluster Id vs Recency"
      ]
    },
    {
      "cell_type": "code",
      "metadata": {
        "colab": {
          "base_uri": "https://localhost:8080/",
          "height": 515
        },
        "id": "s_H9pDPTAvYC",
        "outputId": "ad5b650d-cf80-4f85-96a3-df0787535c9e"
      },
      "source": [
        "# Box plot to visualize Cluster Id vs Recency\n",
        "\n",
        "sns.boxplot(x='Cluster_Id', y='Recency', data=rfm)"
      ],
      "execution_count": null,
      "outputs": [
        {
          "output_type": "execute_result",
          "data": {
            "text/plain": [
              "<matplotlib.axes._subplots.AxesSubplot at 0x7f823e96df90>"
            ]
          },
          "metadata": {
            "tags": []
          },
          "execution_count": 83
        },
        {
          "output_type": "display_data",
          "data": {
            "image/png": "[encoded data removed]",
            "text/plain": [
              "<Figure size 720x576 with 1 Axes>"
            ]
          },
          "metadata": {
            "tags": [],
            "needs_background": "light"
          }
        }
      ]
    },
    {
      "cell_type": "markdown",
      "metadata": {
        "id": "aGrlMDJViCU-"
      },
      "source": [
        "Box plot to visualize Cluster Id vs Frequency"
      ]
    },
    {
      "cell_type": "code",
      "metadata": {
        "colab": {
          "base_uri": "https://localhost:8080/",
          "height": 515
        },
        "id": "uz4c42qjA5WR",
        "outputId": "111c8a6d-54b6-4a02-a995-511742df39fe"
      },
      "source": [
        "# Box plot to visualize Cluster Id vs Frequency\n",
        "\n",
        "sns.boxplot(x='Cluster_Id', y='Frequency', data=rfm)"
      ],
      "execution_count": null,
      "outputs": [
        {
          "output_type": "execute_result",
          "data": {
            "text/plain": [
              "<matplotlib.axes._subplots.AxesSubplot at 0x7f823e9daad0>"
            ]
          },
          "metadata": {
            "tags": []
          },
          "execution_count": 84
        },
        {
          "output_type": "display_data",
          "data": {
            "image/png": "[encoded data removed]",
            "text/plain": [
              "<Figure size 720x576 with 1 Axes>"
            ]
          },
          "metadata": {
            "tags": [],
            "needs_background": "light"
          }
        }
      ]
    },
    {
      "cell_type": "markdown",
      "metadata": {
        "id": "KRUOMA-LiHwP"
      },
      "source": [
        "###Result RFM\n",
        "\n",
        "* cluster id 0= Low monetary , High recency , Low frequency\n",
        "\n",
        "  These Customers have not purchased for a long time , they need to be    Provided with some Good Offers and advertisements.\n",
        "\n",
        "* cluster id 1= High monetary , Low recency , High freqency \n",
        "\n",
        "  They are the new Customers who are making Good purchases , keep them engaged with ongoing Offers.\n",
        "\n",
        "* cluster id 2= Moderate monetary , Moderate recency , Moderate frequency \n",
        "\n",
        "  These customers are neither making any major profit or loss to the company .\n",
        "Try to increase their purchases by providing better offers and keep them engaged.\n",
        "\n",
        "\n"
      ]
    },
    {
      "cell_type": "markdown",
      "metadata": {
        "id": "Gv6uCxljlSpa"
      },
      "source": [
        "###***Personalised RFM analysis***"
      ]
    },
    {
      "cell_type": "markdown",
      "metadata": {
        "id": "V6kCAHi0lbOT"
      },
      "source": [
        "###Enter Customer Id ( eg 12347 , 12348 )"
      ]
    },
    {
      "cell_type": "code",
      "metadata": {
        "colab": {
          "base_uri": "https://localhost:8080/"
        },
        "id": "gmrBz0_CUFJR",
        "outputId": "d66ba1b0-6cc3-4a95-d10c-bb4da3a2811f"
      },
      "source": [
        "customer=input(\"enter customer id = \")\n",
        "\n",
        "d=rfm.loc[rfm['CustomerID'] == customer,'Cluster_Id'].iloc[0]\n",
        "d\n",
        "if (d==0):\n",
        "  print(\"This Customer belongs to cluster ID =\",d,\"which has low monetary, high recency , low frequency\")\n",
        "  print(\"*******************************************************************\")\n",
        "  print(\"These Customers have not purchased for a long time , they need to be Provided with some Good Offers and advertisements.\")\n",
        "  print(\"*******************************************************************\")\n",
        "elif (d==1):\n",
        "  print(\"This Customer belongs to Cluster ID =\", d, \"which has High monetary, low recency , High frequency\")\n",
        "  print(\"*******************************************************************\")\n",
        "  print(\"They are the new Customers who are making Good purchases , keep them engaged with ongoing Offers.\")\n",
        "  print(\"*******************************************************************\")\n",
        "\n",
        "else:\n",
        "  print(\"This Customer belongs to Cluster ID =\",d,\"which has Moderate monetary, Moderate recency , Moderate frequency\")\n",
        "  print(\"*******************************************************************\")\n",
        "  print(\"These customers are neither making any major profit or loss to the company . Try to increase their purchases by providing better offers and keep them engaged\")\n",
        "  print(\"*******************************************************************\")\n"
      ],
      "execution_count": null,
      "outputs": [
        {
          "output_type": "stream",
          "text": [
            "enter customer id = 12347\n",
            "This Customer belongs to Cluster ID = 1 which has High monetary, low recency , High frequency\n",
            "*******************************************************************\n",
            "They are the new Customers who are making Good purchases , keep them engaged with ongoing Offers.\n",
            "*******************************************************************\n"
          ],
          "name": "stdout"
        }
      ]
    },
    {
      "cell_type": "markdown",
      "metadata": {
        "id": "Sb7NK_ZXm-eo"
      },
      "source": [
        "###***Offer Prediction***\n",
        "Predicting Next offer on product that is to be displayed so that it get purchased"
      ]
    },
    {
      "cell_type": "code",
      "metadata": {
        "id": "pqBxEHkK4xTi"
      },
      "source": [
        "nums = {\"Offer\": {\"No offer\": 1, \"Buy one get one\": 2, \"10\": 3, \"15\": 4,\n",
        "                                  \"20\": 5, \"25\": 6}}  #encoding offers so that we can train in linear regression\n",
        "df['Offer'] = df['Offer'].astype(str)"
      ],
      "execution_count": null,
      "outputs": []
    },
    {
      "cell_type": "code",
      "metadata": {
        "id": "UzWe8ydO5U6R"
      },
      "source": [
        "df = df.replace(nums)\n",
        "df"
      ],
      "execution_count": null,
      "outputs": []
    },
    {
      "cell_type": "code",
      "metadata": {
        "id": "dbadv0JSO0cv"
      },
      "source": [
        "df6 = df.copy(deep=True)"
      ],
      "execution_count": null,
      "outputs": []
    },
    {
      "cell_type": "code",
      "metadata": {
        "id": "YnyNIJN6UVPT"
      },
      "source": [
        "#label encoding Stock Code\n",
        "from sklearn.preprocessing import LabelEncoder\n",
        "  \n",
        "le = LabelEncoder()\n",
        "  \n",
        "df6[\"StockCode\"]= le.fit_transform(df6['StockCode'])\n",
        "\n",
        "df6\n"
      ],
      "execution_count": null,
      "outputs": []
    },
    {
      "cell_type": "code",
      "metadata": {
        "id": "b79dNa587QS8"
      },
      "source": [
        "#determining X and Y for train and predict\n",
        "\n",
        "x = df6[['StockCode','used_discount', 'used_bogo','UnitPrice']]\n",
        "y=df6['Offer']"
      ],
      "execution_count": null,
      "outputs": []
    },
    {
      "cell_type": "code",
      "metadata": {
        "id": "Orsin_LS4nN2"
      },
      "source": [
        "from sklearn.model_selection import train_test_split"
      ],
      "execution_count": null,
      "outputs": []
    },
    {
      "cell_type": "code",
      "metadata": {
        "id": "YG9FuVu-4oWf"
      },
      "source": [
        "#splitting the size\n",
        "x_train, x_test, y_train, y_test = train_test_split(x, y, test_size = 0.3)"
      ],
      "execution_count": null,
      "outputs": []
    },
    {
      "cell_type": "markdown",
      "metadata": {
        "id": "KrFBNHd-oRWj"
      },
      "source": [
        "Using Linear regression for prediction"
      ]
    },
    {
      "cell_type": "code",
      "metadata": {
        "id": "65fcorWG43Se"
      },
      "source": [
        "from sklearn.linear_model import LinearRegression\n",
        "model = LinearRegression()"
      ],
      "execution_count": null,
      "outputs": []
    },
    {
      "cell_type": "code",
      "metadata": {
        "colab": {
          "base_uri": "https://localhost:8080/"
        },
        "id": "1SSvl-Lb47Lu",
        "outputId": "009d5b39-7b13-42f2-ba81-f8b944046972"
      },
      "source": [
        "#fitting the model\n",
        "model.fit(x_train,y_train)"
      ],
      "execution_count": null,
      "outputs": [
        {
          "output_type": "execute_result",
          "data": {
            "text/plain": [
              "LinearRegression(copy_X=True, fit_intercept=True, n_jobs=None, normalize=False)"
            ]
          },
          "metadata": {
            "tags": []
          },
          "execution_count": 94
        }
      ]
    },
    {
      "cell_type": "code",
      "metadata": {
        "id": "agMaR0AXU73-"
      },
      "source": [
        "predictions = model.predict(x_test)"
      ],
      "execution_count": null,
      "outputs": []
    },
    {
      "cell_type": "markdown",
      "metadata": {
        "id": "kYphl1hvorEy"
      },
      "source": [
        "###**Personalised code for offer prediction of Product**"
      ]
    },
    {
      "cell_type": "markdown",
      "metadata": {
        "id": "lfibtSBuozkF"
      },
      "source": [
        "Enter Stock Code (eg 23225)\n",
        "\n",
        "Enter Unit price of that Product  ( eg 673)\n",
        "\n",
        "Enter whether discount used earlier on this Product ( 1 or 0 )\n",
        "\n",
        "Enter whether BOGO used earlier on this Product ( 1 or 0 )\n"
      ]
    },
    {
      "cell_type": "code",
      "metadata": {
        "colab": {
          "base_uri": "https://localhost:8080/"
        },
        "id": "svlQwL9bqInI",
        "outputId": "99ae9811-789f-4781-ab30-df3fa7648303"
      },
      "source": [
        "# final code for offer\n",
        "\n",
        "StockCode=input(\"enter stock code  \")\n",
        "price=float(input(\"enter unit price of item \"  ))\n",
        "used_discount=int(input(\"enter whether discount used earlier on this item (0 (No) , 1 (Yes) )  \"))\n",
        "used_bogo=int(input(\"enter whether bogo used earlier on this item (0 (No) , 1 (Yes) ))  \"))\n",
        "\n",
        "b=df[df['StockCode']==StockCode].index.values\n",
        "b=b[0]\n",
        "b= str(b).strip('[]')\n",
        "b= int(b)\n",
        "\n",
        "c=df6[df6.index==b]\n",
        "f=(c['StockCode']).to_string(index=False)\n",
        "p= str(f).strip(' ')\n",
        "p= int(p)\n",
        "\n",
        "new_input = np.array([[p,used_discount,used_bogo,price]]) # 2D numpy array\n",
        "\n",
        "new_output = model.predict(new_input)\n",
        "v = [round(num) for num in new_output]\n",
        "#print(new_input,v)\n",
        "v=str(v).strip('[]')\n",
        "v=int(v)\n",
        "#v\n",
        "print(\"************************************\")\n",
        "if (v==1):\n",
        "  print(\"No Offer needed\")\n",
        "elif(v==2):\n",
        "  print(\"Provide Buy 1 Get 1\")\n",
        "elif(v==3):\n",
        "  print(\"Provide 10% Discount\")\n",
        "elif(v==4):\n",
        "  print(\"Provide 15% Discount\")\n",
        "elif(v==5):\n",
        "  print(\"Provide 20% Discount\")\n",
        "else:\n",
        "  print(\"Provide 25% Discount\")\n",
        "print(\"************************************\")\n"
      ],
      "execution_count": null,
      "outputs": [
        {
          "output_type": "stream",
          "text": [
            "enter stock code  23225\n",
            "enter unit price of item 673\n",
            "enter whether discount used earlier on this item (0 (No) , 1 (Yes) )  1\n",
            "enter whether bogo used earlier on this item (0 (No) , 1 (Yes) ))  0\n",
            "************************************\n",
            "Provide 15% Discount\n",
            "************************************\n"
          ],
          "name": "stdout"
        }
      ]
    },
    {
      "cell_type": "markdown",
      "metadata": {
        "id": "BvsfitCZpkiS"
      },
      "source": [
        "###***Customer Lifetime Value***"
      ]
    },
    {
      "cell_type": "code",
      "metadata": {
        "colab": {
          "base_uri": "https://localhost:8080/"
        },
        "id": "4G4gncz4qjmh",
        "outputId": "b2db2f08-35d3-4c02-b330-312522de5598"
      },
      "source": [
        "df.shape"
      ],
      "execution_count": null,
      "outputs": [
        {
          "output_type": "execute_result",
          "data": {
            "text/plain": [
              "(406829, 15)"
            ]
          },
          "metadata": {
            "tags": []
          },
          "execution_count": 137
        }
      ]
    },
    {
      "cell_type": "code",
      "metadata": {
        "colab": {
          "base_uri": "https://localhost:8080/",
          "height": 221
        },
        "id": "XmHVH5WL9jdC",
        "outputId": "97b72b0b-812b-45d9-ba7f-b24db0f35e7f"
      },
      "source": [
        "features = ['CustomerID', 'InvoiceNo', 'InvoiceDate', 'Quantity', 'UnitPrice']\n",
        "data_clv = df[features]\n",
        "\n",
        "#Determining Total Sales\n",
        "data_clv['TotalSales'] = data_clv['Quantity'].multiply(data_clv['UnitPrice'])\n",
        "print(data_clv.shape)\n",
        "data_clv.head()"
      ],
      "execution_count": null,
      "outputs": [
        {
          "output_type": "stream",
          "text": [
            "(406829, 6)\n"
          ],
          "name": "stdout"
        },
        {
          "output_type": "execute_result",
          "data": {
            "text/html": [
              "<div>\n",
              "<style scoped>\n",
              "    .dataframe tbody tr th:only-of-type {\n",
              "        vertical-align: middle;\n",
              "    }\n",
              "\n",
              "    .dataframe tbody tr th {\n",
              "        vertical-align: top;\n",
              "    }\n",
              "\n",
              "    .dataframe thead th {\n",
              "        text-align: right;\n",
              "    }\n",
              "</style>\n",
              "<table border=\"1\" class=\"dataframe\">\n",
              "  <thead>\n",
              "    <tr style=\"text-align: right;\">\n",
              "      <th></th>\n",
              "      <th>CustomerID</th>\n",
              "      <th>InvoiceNo</th>\n",
              "      <th>InvoiceDate</th>\n",
              "      <th>Quantity</th>\n",
              "      <th>UnitPrice</th>\n",
              "      <th>TotalSales</th>\n",
              "    </tr>\n",
              "  </thead>\n",
              "  <tbody>\n",
              "    <tr>\n",
              "      <th>0</th>\n",
              "      <td>17850</td>\n",
              "      <td>536365</td>\n",
              "      <td>2010-12-01 08:26:00</td>\n",
              "      <td>6</td>\n",
              "      <td>2.55</td>\n",
              "      <td>15.30</td>\n",
              "    </tr>\n",
              "    <tr>\n",
              "      <th>1</th>\n",
              "      <td>17850</td>\n",
              "      <td>536365</td>\n",
              "      <td>2010-12-01 08:26:00</td>\n",
              "      <td>6</td>\n",
              "      <td>3.39</td>\n",
              "      <td>20.34</td>\n",
              "    </tr>\n",
              "    <tr>\n",
              "      <th>2</th>\n",
              "      <td>17850</td>\n",
              "      <td>536365</td>\n",
              "      <td>2010-12-01 08:26:00</td>\n",
              "      <td>8</td>\n",
              "      <td>2.75</td>\n",
              "      <td>22.00</td>\n",
              "    </tr>\n",
              "    <tr>\n",
              "      <th>3</th>\n",
              "      <td>17850</td>\n",
              "      <td>536365</td>\n",
              "      <td>2010-12-01 08:26:00</td>\n",
              "      <td>6</td>\n",
              "      <td>3.39</td>\n",
              "      <td>20.34</td>\n",
              "    </tr>\n",
              "    <tr>\n",
              "      <th>4</th>\n",
              "      <td>17850</td>\n",
              "      <td>536365</td>\n",
              "      <td>2010-12-01 08:26:00</td>\n",
              "      <td>6</td>\n",
              "      <td>3.39</td>\n",
              "      <td>20.34</td>\n",
              "    </tr>\n",
              "  </tbody>\n",
              "</table>\n",
              "</div>"
            ],
            "text/plain": [
              "  CustomerID InvoiceNo         InvoiceDate  Quantity  UnitPrice  TotalSales\n",
              "0      17850    536365 2010-12-01 08:26:00         6       2.55       15.30\n",
              "1      17850    536365 2010-12-01 08:26:00         6       3.39       20.34\n",
              "2      17850    536365 2010-12-01 08:26:00         8       2.75       22.00\n",
              "3      17850    536365 2010-12-01 08:26:00         6       3.39       20.34\n",
              "4      17850    536365 2010-12-01 08:26:00         6       3.39       20.34"
            ]
          },
          "metadata": {
            "tags": []
          },
          "execution_count": 138
        }
      ]
    },
    {
      "cell_type": "code",
      "metadata": {
        "id": "qbAp_u_j-w57"
      },
      "source": [
        "data_clv.describe()"
      ],
      "execution_count": null,
      "outputs": []
    },
    {
      "cell_type": "code",
      "metadata": {
        "id": "DSSwM1Qr-7Tg"
      },
      "source": [
        "data_clv = data_clv[data_clv['TotalSales'] > 0]\n",
        "data_clv.describe()"
      ],
      "execution_count": null,
      "outputs": []
    },
    {
      "cell_type": "code",
      "metadata": {
        "id": "evSOupP-_MIf"
      },
      "source": [
        "#Finding null values\n",
        "pd.DataFrame(zip(data_clv.isnull().sum(), data_clv.isnull().sum()/len(data_clv)), columns=['Count', 'Proportion'], index=data_clv.columns)"
      ],
      "execution_count": null,
      "outputs": []
    },
    {
      "cell_type": "code",
      "metadata": {
        "id": "n7m3SJUkUGo5"
      },
      "source": [
        "# Dropping the null values in the CustomerID variable\n",
        "\n",
        "data_clv = data_clv[pd.notnull(data_clv['CustomerID'])]\n",
        "pd.DataFrame(zip(data_clv.isnull().sum(), data_clv.isnull().sum()/len(data_clv)), columns=['Count', 'Proportion'], index=data_clv.columns)"
      ],
      "execution_count": null,
      "outputs": []
    },
    {
      "cell_type": "code",
      "metadata": {
        "colab": {
          "base_uri": "https://localhost:8080/"
        },
        "id": "EHrVF8RQ_T40",
        "outputId": "91adee80-49c0-4d8a-b7dc-da114767edb2"
      },
      "source": [
        "maxdate = data_clv['InvoiceDate'].dt.date.max()\n",
        "mindate = data_clv['InvoiceDate'].dt.date.min()\n",
        "unique_cust = data_clv['CustomerID'].nunique()\n",
        "tot_quantity = data_clv['Quantity'].sum()\n",
        "tot_sales = data_clv['TotalSales'].sum()\n",
        "\n",
        "print(f\"The Time range of transactions is: {mindate} to {maxdate}\")\n",
        "print(f\"Total number of unique customers: {unique_cust}\")\n",
        "print(f\"Total Quantity Sold: {tot_quantity}\")\n",
        "print(f\"Total Sales for the period: {tot_sales}\")"
      ],
      "execution_count": null,
      "outputs": [
        {
          "output_type": "stream",
          "text": [
            "The Time range of transactions is: 2010-12-01 to 2011-12-09\n",
            "Total number of unique customers: 4338\n",
            "Total Quantity Sold: 5167812\n",
            "Total Sales for the period: 8911407.904\n"
          ],
          "name": "stdout"
        }
      ]
    },
    {
      "cell_type": "code",
      "metadata": {
        "id": "46wWoLfn_cR_"
      },
      "source": [
        "Profit_margin = 0.05 \n",
        "\n",
        "# Transforming the data to customer level for the analysis\n",
        "customer = data_clv.groupby('CustomerID').agg({'InvoiceDate':lambda x: x.min().month, \n",
        "                                                   'InvoiceNo': lambda x: len(x),\n",
        "                                                  'TotalSales': lambda x: np.sum(x)})\n",
        "\n",
        "customer.columns = ['Start_Month', 'Frequency', 'TotalSales']\n",
        "customer.head()"
      ],
      "execution_count": null,
      "outputs": []
    },
    {
      "cell_type": "code",
      "metadata": {
        "id": "3AfAP4hC_18w"
      },
      "source": [
        "# Calculating CLV for each cohort\n",
        "\n",
        "months = ['Jan', 'Feb', 'March', 'Apr', 'May', 'Jun', 'Jul', 'Aug', 'Sep', 'Oct', 'Nov', 'Dec']\n",
        "Monthly_CLV = []\n",
        "\n",
        "for i in range(1, 13):\n",
        "    customer_m = customer[customer['Start_Month']==i]\n",
        "    \n",
        "    Average_sales = round(np.mean(customer_m['TotalSales']),2)\n",
        "    \n",
        "    Purchase_freq = round(np.mean(customer_m['Frequency']), 2)\n",
        "    \n",
        "    Retention_rate = customer_m[customer_m['Frequency']>1].shape[0]/customer_m.shape[0]\n",
        "    churn = round(1 - Retention_rate, 2)\n",
        "    \n",
        "    CLV = round(((Average_sales * Purchase_freq/churn)) * Profit_margin, 2)\n",
        "    \n",
        "    Monthly_CLV.append(CLV)"
      ],
      "execution_count": null,
      "outputs": []
    },
    {
      "cell_type": "markdown",
      "metadata": {
        "id": "nPJ9bVjfvwu2"
      },
      "source": [
        "***CLV of Customers Month wise***"
      ]
    },
    {
      "cell_type": "code",
      "metadata": {
        "colab": {
          "base_uri": "https://localhost:8080/",
          "height": 292
        },
        "id": "3_pEHVEGAPc3",
        "outputId": "1b1068b2-5cba-47b0-e6f4-810e85336057"
      },
      "source": [
        "monthly_clv = pd.DataFrame(zip(months, Monthly_CLV), columns=['Months', 'CLV'])\n",
        "display(monthly_clv.style.background_gradient())"
      ],
      "execution_count": null,
      "outputs": [
        {
          "output_type": "display_data",
          "data": {
            "text/html": [
              "<style  type=\"text/css\" >\n",
              "#T_1272c7a4_d26d_11eb_ae17_0242ac1c0002row0_col1{\n",
              "            background-color:  #b3c3de;\n",
              "            color:  #000000;\n",
              "        }#T_1272c7a4_d26d_11eb_ae17_0242ac1c0002row1_col1{\n",
              "            background-color:  #f6eff7;\n",
              "            color:  #000000;\n",
              "        }#T_1272c7a4_d26d_11eb_ae17_0242ac1c0002row2_col1{\n",
              "            background-color:  #eee9f3;\n",
              "            color:  #000000;\n",
              "        }#T_1272c7a4_d26d_11eb_ae17_0242ac1c0002row3_col1{\n",
              "            background-color:  #f5eef6;\n",
              "            color:  #000000;\n",
              "        }#T_1272c7a4_d26d_11eb_ae17_0242ac1c0002row4_col1,#T_1272c7a4_d26d_11eb_ae17_0242ac1c0002row7_col1,#T_1272c7a4_d26d_11eb_ae17_0242ac1c0002row9_col1{\n",
              "            background-color:  #fcf4fa;\n",
              "            color:  #000000;\n",
              "        }#T_1272c7a4_d26d_11eb_ae17_0242ac1c0002row5_col1{\n",
              "            background-color:  #f5eff6;\n",
              "            color:  #000000;\n",
              "        }#T_1272c7a4_d26d_11eb_ae17_0242ac1c0002row6_col1{\n",
              "            background-color:  #fef6fb;\n",
              "            color:  #000000;\n",
              "        }#T_1272c7a4_d26d_11eb_ae17_0242ac1c0002row8_col1{\n",
              "            background-color:  #faf3f9;\n",
              "            color:  #000000;\n",
              "        }#T_1272c7a4_d26d_11eb_ae17_0242ac1c0002row10_col1{\n",
              "            background-color:  #fff7fb;\n",
              "            color:  #000000;\n",
              "        }#T_1272c7a4_d26d_11eb_ae17_0242ac1c0002row11_col1{\n",
              "            background-color:  #023858;\n",
              "            color:  #f1f1f1;\n",
              "        }</style><table id=\"T_1272c7a4_d26d_11eb_ae17_0242ac1c0002\" ><thead>    <tr>        <th class=\"blank level0\" ></th>        <th class=\"col_heading level0 col0\" >Months</th>        <th class=\"col_heading level0 col1\" >CLV</th>    </tr></thead><tbody>\n",
              "                <tr>\n",
              "                        <th id=\"T_1272c7a4_d26d_11eb_ae17_0242ac1c0002level0_row0\" class=\"row_heading level0 row0\" >0</th>\n",
              "                        <td id=\"T_1272c7a4_d26d_11eb_ae17_0242ac1c0002row0_col0\" class=\"data row0 col0\" >Jan</td>\n",
              "                        <td id=\"T_1272c7a4_d26d_11eb_ae17_0242ac1c0002row0_col1\" class=\"data row0 col1\" >1546537.090000</td>\n",
              "            </tr>\n",
              "            <tr>\n",
              "                        <th id=\"T_1272c7a4_d26d_11eb_ae17_0242ac1c0002level0_row1\" class=\"row_heading level0 row1\" >1</th>\n",
              "                        <td id=\"T_1272c7a4_d26d_11eb_ae17_0242ac1c0002row1_col0\" class=\"data row1 col0\" >Feb</td>\n",
              "                        <td id=\"T_1272c7a4_d26d_11eb_ae17_0242ac1c0002row1_col1\" class=\"data row1 col1\" >313073.920000</td>\n",
              "            </tr>\n",
              "            <tr>\n",
              "                        <th id=\"T_1272c7a4_d26d_11eb_ae17_0242ac1c0002level0_row2\" class=\"row_heading level0 row2\" >2</th>\n",
              "                        <td id=\"T_1272c7a4_d26d_11eb_ae17_0242ac1c0002row2_col0\" class=\"data row2 col0\" >March</td>\n",
              "                        <td id=\"T_1272c7a4_d26d_11eb_ae17_0242ac1c0002row2_col1\" class=\"data row2 col1\" >539933.180000</td>\n",
              "            </tr>\n",
              "            <tr>\n",
              "                        <th id=\"T_1272c7a4_d26d_11eb_ae17_0242ac1c0002level0_row3\" class=\"row_heading level0 row3\" >3</th>\n",
              "                        <td id=\"T_1272c7a4_d26d_11eb_ae17_0242ac1c0002row3_col0\" class=\"data row3 col0\" >Apr</td>\n",
              "                        <td id=\"T_1272c7a4_d26d_11eb_ae17_0242ac1c0002row3_col1\" class=\"data row3 col1\" >349213.350000</td>\n",
              "            </tr>\n",
              "            <tr>\n",
              "                        <th id=\"T_1272c7a4_d26d_11eb_ae17_0242ac1c0002level0_row4\" class=\"row_heading level0 row4\" >4</th>\n",
              "                        <td id=\"T_1272c7a4_d26d_11eb_ae17_0242ac1c0002row4_col0\" class=\"data row4 col0\" >May</td>\n",
              "                        <td id=\"T_1272c7a4_d26d_11eb_ae17_0242ac1c0002row4_col1\" class=\"data row4 col1\" >147597.490000</td>\n",
              "            </tr>\n",
              "            <tr>\n",
              "                        <th id=\"T_1272c7a4_d26d_11eb_ae17_0242ac1c0002level0_row5\" class=\"row_heading level0 row5\" >5</th>\n",
              "                        <td id=\"T_1272c7a4_d26d_11eb_ae17_0242ac1c0002row5_col0\" class=\"data row5 col0\" >Jun</td>\n",
              "                        <td id=\"T_1272c7a4_d26d_11eb_ae17_0242ac1c0002row5_col1\" class=\"data row5 col1\" >323795.770000</td>\n",
              "            </tr>\n",
              "            <tr>\n",
              "                        <th id=\"T_1272c7a4_d26d_11eb_ae17_0242ac1c0002level0_row6\" class=\"row_heading level0 row6\" >6</th>\n",
              "                        <td id=\"T_1272c7a4_d26d_11eb_ae17_0242ac1c0002row6_col0\" class=\"data row6 col0\" >Jul</td>\n",
              "                        <td id=\"T_1272c7a4_d26d_11eb_ae17_0242ac1c0002row6_col1\" class=\"data row6 col1\" >71760.420000</td>\n",
              "            </tr>\n",
              "            <tr>\n",
              "                        <th id=\"T_1272c7a4_d26d_11eb_ae17_0242ac1c0002level0_row7\" class=\"row_heading level0 row7\" >7</th>\n",
              "                        <td id=\"T_1272c7a4_d26d_11eb_ae17_0242ac1c0002row7_col0\" class=\"data row7 col0\" >Aug</td>\n",
              "                        <td id=\"T_1272c7a4_d26d_11eb_ae17_0242ac1c0002row7_col1\" class=\"data row7 col1\" >148834.420000</td>\n",
              "            </tr>\n",
              "            <tr>\n",
              "                        <th id=\"T_1272c7a4_d26d_11eb_ae17_0242ac1c0002level0_row8\" class=\"row_heading level0 row8\" >8</th>\n",
              "                        <td id=\"T_1272c7a4_d26d_11eb_ae17_0242ac1c0002row8_col0\" class=\"data row8 col0\" >Sep</td>\n",
              "                        <td id=\"T_1272c7a4_d26d_11eb_ae17_0242ac1c0002row8_col1\" class=\"data row8 col1\" >185155.700000</td>\n",
              "            </tr>\n",
              "            <tr>\n",
              "                        <th id=\"T_1272c7a4_d26d_11eb_ae17_0242ac1c0002level0_row9\" class=\"row_heading level0 row9\" >9</th>\n",
              "                        <td id=\"T_1272c7a4_d26d_11eb_ae17_0242ac1c0002row9_col0\" class=\"data row9 col0\" >Oct</td>\n",
              "                        <td id=\"T_1272c7a4_d26d_11eb_ae17_0242ac1c0002row9_col1\" class=\"data row9 col1\" >144042.950000</td>\n",
              "            </tr>\n",
              "            <tr>\n",
              "                        <th id=\"T_1272c7a4_d26d_11eb_ae17_0242ac1c0002level0_row10\" class=\"row_heading level0 row10\" >10</th>\n",
              "                        <td id=\"T_1272c7a4_d26d_11eb_ae17_0242ac1c0002row10_col0\" class=\"data row10 col0\" >Nov</td>\n",
              "                        <td id=\"T_1272c7a4_d26d_11eb_ae17_0242ac1c0002row10_col1\" class=\"data row10 col1\" >44869.790000</td>\n",
              "            </tr>\n",
              "            <tr>\n",
              "                        <th id=\"T_1272c7a4_d26d_11eb_ae17_0242ac1c0002level0_row11\" class=\"row_heading level0 row11\" >11</th>\n",
              "                        <td id=\"T_1272c7a4_d26d_11eb_ae17_0242ac1c0002row11_col0\" class=\"data row11 col0\" >Dec</td>\n",
              "                        <td id=\"T_1272c7a4_d26d_11eb_ae17_0242ac1c0002row11_col1\" class=\"data row11 col1\" >4507588.120000</td>\n",
              "            </tr>\n",
              "    </tbody></table>"
            ],
            "text/plain": [
              "<pandas.io.formats.style.Styler at 0x7f823b304a10>"
            ]
          },
          "metadata": {
            "tags": []
          }
        }
      ]
    },
    {
      "cell_type": "markdown",
      "metadata": {
        "id": "UlYyQNkXv1sr"
      },
      "source": [
        "###***Personalised individual CLV prediction***"
      ]
    },
    {
      "cell_type": "code",
      "metadata": {
        "colab": {
          "base_uri": "https://localhost:8080/"
        },
        "id": "KEWfwibiMiB2",
        "outputId": "30bc5be0-e326-4fc5-d791-274e93f9669c"
      },
      "source": [
        "#predictive method\n",
        "!pip install lifetimes\n",
        "import lifetimes"
      ],
      "execution_count": null,
      "outputs": [
        {
          "output_type": "stream",
          "text": [
            "Requirement already satisfied: lifetimes in /usr/local/lib/python3.7/dist-packages (0.11.3)\n",
            "Requirement already satisfied: pandas>=0.24.0 in /usr/local/lib/python3.7/dist-packages (from lifetimes) (1.1.5)\n",
            "Requirement already satisfied: autograd>=1.2.0 in /usr/local/lib/python3.7/dist-packages (from lifetimes) (1.3)\n",
            "Requirement already satisfied: scipy>=1.0.0 in /usr/local/lib/python3.7/dist-packages (from lifetimes) (1.4.1)\n",
            "Requirement already satisfied: dill>=0.2.6 in /usr/local/lib/python3.7/dist-packages (from lifetimes) (0.3.4)\n",
            "Requirement already satisfied: numpy>=1.10.0 in /usr/local/lib/python3.7/dist-packages (from lifetimes) (1.19.5)\n",
            "Requirement already satisfied: python-dateutil>=2.7.3 in /usr/local/lib/python3.7/dist-packages (from pandas>=0.24.0->lifetimes) (2.8.1)\n",
            "Requirement already satisfied: pytz>=2017.2 in /usr/local/lib/python3.7/dist-packages (from pandas>=0.24.0->lifetimes) (2018.9)\n",
            "Requirement already satisfied: future>=0.15.2 in /usr/local/lib/python3.7/dist-packages (from autograd>=1.2.0->lifetimes) (0.16.0)\n",
            "Requirement already satisfied: six>=1.5 in /usr/local/lib/python3.7/dist-packages (from python-dateutil>=2.7.3->pandas>=0.24.0->lifetimes) (1.15.0)\n"
          ],
          "name": "stdout"
        }
      ]
    },
    {
      "cell_type": "code",
      "metadata": {
        "id": "CCA2eRy0NseV"
      },
      "source": [
        "import lifetimes"
      ],
      "execution_count": null,
      "outputs": []
    },
    {
      "cell_type": "code",
      "metadata": {
        "id": "YVoB3tMJNuyN"
      },
      "source": [
        "summary = lifetimes.utils.summary_data_from_transaction_data(data_clv, 'CustomerID', 'InvoiceDate', 'TotalSales' )\n",
        "summary = summary.reset_index()\n",
        "summary.head()"
      ],
      "execution_count": null,
      "outputs": []
    },
    {
      "cell_type": "code",
      "metadata": {
        "id": "YfO4nAZ1OWrv"
      },
      "source": [
        "# Create a distribution of frequency to understand the customer frequence level\n",
        "\n",
        "summary['frequency'].plot(kind='hist', bins=50)\n",
        "print(summary['frequency'].describe())\n",
        "print(\"---------------------------------------\")\n",
        "one_time_buyers = round(sum(summary['frequency'] == 0)/float(len(summary))*(100),2)\n",
        "print(\"Percentage of customers purchase the item only once:\", one_time_buyers ,\"%\")"
      ],
      "execution_count": null,
      "outputs": []
    },
    {
      "cell_type": "code",
      "metadata": {
        "colab": {
          "base_uri": "https://localhost:8080/"
        },
        "id": "0Ybg099kOk-f",
        "outputId": "be1d8f92-d15c-45b7-b3c7-bfe79ee16ca8"
      },
      "source": [
        "# Fitting the BG/NBD model\n",
        "\n",
        "bgf = lifetimes.BetaGeoFitter(penalizer_coef=0.0)\n",
        "bgf.fit(summary['frequency'], summary['recency'], summary['T'])"
      ],
      "execution_count": null,
      "outputs": [
        {
          "output_type": "execute_result",
          "data": {
            "text/plain": [
              "<lifetimes.BetaGeoFitter: fitted with 4338 subjects, a: 0.00, alpha: 68.91, b: 6.75, r: 0.83>"
            ]
          },
          "metadata": {
            "tags": []
          },
          "execution_count": 153
        }
      ]
    },
    {
      "cell_type": "code",
      "metadata": {
        "id": "K4OQ6gUwOng9"
      },
      "source": [
        "# Model summary\n",
        "\n",
        "bgf.summary"
      ],
      "execution_count": null,
      "outputs": []
    },
    {
      "cell_type": "code",
      "metadata": {
        "id": "Gs0O4w4tOqVA"
      },
      "source": [
        "summary['probability_alive'] = bgf.conditional_probability_alive(summary['frequency'], summary['recency'], summary['T'])\n",
        "summary.head(10)"
      ],
      "execution_count": null,
      "outputs": []
    },
    {
      "cell_type": "code",
      "metadata": {
        "colab": {
          "base_uri": "https://localhost:8080/",
          "height": 545
        },
        "id": "e9ZRIphLOvx4",
        "outputId": "0718f240-d2e5-46e3-c948-030d4ec9d124"
      },
      "source": [
        "# Visual representation of relationship between recency and frequency\n",
        "\n",
        "from lifetimes.plotting import plot_probability_alive_matrix\n",
        "\n",
        "fig = plt.figure(figsize=(12,8))\n",
        "plot_probability_alive_matrix(bgf)"
      ],
      "execution_count": null,
      "outputs": [
        {
          "output_type": "execute_result",
          "data": {
            "text/plain": [
              "<matplotlib.axes._subplots.AxesSubplot at 0x7f823b4b2210>"
            ]
          },
          "metadata": {
            "tags": []
          },
          "execution_count": 156
        },
        {
          "output_type": "display_data",
          "data": {
            "image/png": "[encoded data removed]",
            "text/plain": [
              "<Figure size 864x576 with 2 Axes>"
            ]
          },
          "metadata": {
            "tags": [],
            "needs_background": "light"
          }
        }
      ]
    },
    {
      "cell_type": "code",
      "metadata": {
        "id": "8Xw0Raj5O1E_"
      },
      "source": [
        "#Predict future transaction for the next 30 days based on historical data\n",
        "\n",
        "t = 30\n",
        "summary['pred_num_txn'] = round(bgf.conditional_expected_number_of_purchases_up_to_time(t, summary['frequency'], summary['recency'], summary['T']),2)\n",
        "summary.sort_values(by='pred_num_txn', ascending=False).head(10).reset_index()"
      ],
      "execution_count": null,
      "outputs": []
    },
    {
      "cell_type": "code",
      "metadata": {
        "colab": {
          "base_uri": "https://localhost:8080/",
          "height": 221
        },
        "id": "f9eL1gaGPITB",
        "outputId": "b17150aa-e531-4119-c5bc-03b270b0c719"
      },
      "source": [
        "# Checking the relationship between frequency and monetary_value\n",
        "\n",
        "return_customers_summary = summary[summary['frequency']>0]\n",
        "print(return_customers_summary.shape)\n",
        "return_customers_summary.head()"
      ],
      "execution_count": null,
      "outputs": [
        {
          "output_type": "stream",
          "text": [
            "(2790, 7)\n"
          ],
          "name": "stdout"
        },
        {
          "output_type": "execute_result",
          "data": {
            "text/html": [
              "<div>\n",
              "<style scoped>\n",
              "    .dataframe tbody tr th:only-of-type {\n",
              "        vertical-align: middle;\n",
              "    }\n",
              "\n",
              "    .dataframe tbody tr th {\n",
              "        vertical-align: top;\n",
              "    }\n",
              "\n",
              "    .dataframe thead th {\n",
              "        text-align: right;\n",
              "    }\n",
              "</style>\n",
              "<table border=\"1\" class=\"dataframe\">\n",
              "  <thead>\n",
              "    <tr style=\"text-align: right;\">\n",
              "      <th></th>\n",
              "      <th>CustomerID</th>\n",
              "      <th>frequency</th>\n",
              "      <th>recency</th>\n",
              "      <th>T</th>\n",
              "      <th>monetary_value</th>\n",
              "      <th>probability_alive</th>\n",
              "      <th>pred_num_txn</th>\n",
              "    </tr>\n",
              "  </thead>\n",
              "  <tbody>\n",
              "    <tr>\n",
              "      <th>1</th>\n",
              "      <td>12347</td>\n",
              "      <td>6.0</td>\n",
              "      <td>365.0</td>\n",
              "      <td>367.0</td>\n",
              "      <td>599.701667</td>\n",
              "      <td>0.999698</td>\n",
              "      <td>0.47</td>\n",
              "    </tr>\n",
              "    <tr>\n",
              "      <th>2</th>\n",
              "      <td>12348</td>\n",
              "      <td>3.0</td>\n",
              "      <td>283.0</td>\n",
              "      <td>358.0</td>\n",
              "      <td>301.480000</td>\n",
              "      <td>0.999177</td>\n",
              "      <td>0.27</td>\n",
              "    </tr>\n",
              "    <tr>\n",
              "      <th>5</th>\n",
              "      <td>12352</td>\n",
              "      <td>6.0</td>\n",
              "      <td>260.0</td>\n",
              "      <td>296.0</td>\n",
              "      <td>368.256667</td>\n",
              "      <td>0.999406</td>\n",
              "      <td>0.56</td>\n",
              "    </tr>\n",
              "    <tr>\n",
              "      <th>9</th>\n",
              "      <td>12356</td>\n",
              "      <td>2.0</td>\n",
              "      <td>303.0</td>\n",
              "      <td>325.0</td>\n",
              "      <td>269.905000</td>\n",
              "      <td>0.999478</td>\n",
              "      <td>0.22</td>\n",
              "    </tr>\n",
              "    <tr>\n",
              "      <th>11</th>\n",
              "      <td>12358</td>\n",
              "      <td>1.0</td>\n",
              "      <td>149.0</td>\n",
              "      <td>150.0</td>\n",
              "      <td>683.200000</td>\n",
              "      <td>0.999486</td>\n",
              "      <td>0.25</td>\n",
              "    </tr>\n",
              "  </tbody>\n",
              "</table>\n",
              "</div>"
            ],
            "text/plain": [
              "   CustomerID  frequency  ...  probability_alive  pred_num_txn\n",
              "1       12347        6.0  ...           0.999698          0.47\n",
              "2       12348        3.0  ...           0.999177          0.27\n",
              "5       12352        6.0  ...           0.999406          0.56\n",
              "9       12356        2.0  ...           0.999478          0.22\n",
              "11      12358        1.0  ...           0.999486          0.25\n",
              "\n",
              "[5 rows x 7 columns]"
            ]
          },
          "metadata": {
            "tags": []
          },
          "execution_count": 158
        }
      ]
    },
    {
      "cell_type": "code",
      "metadata": {
        "colab": {
          "base_uri": "https://localhost:8080/",
          "height": 111
        },
        "id": "r0heNwA2PQAt",
        "outputId": "c1df0d96-4a55-4a9d-9776-1d30f9496b9d"
      },
      "source": [
        "# Checking the relationship between frequency and monetary_value\n",
        "\n",
        "return_customers_summary[['frequency', 'monetary_value']].corr()"
      ],
      "execution_count": null,
      "outputs": [
        {
          "output_type": "execute_result",
          "data": {
            "text/html": [
              "<div>\n",
              "<style scoped>\n",
              "    .dataframe tbody tr th:only-of-type {\n",
              "        vertical-align: middle;\n",
              "    }\n",
              "\n",
              "    .dataframe tbody tr th {\n",
              "        vertical-align: top;\n",
              "    }\n",
              "\n",
              "    .dataframe thead th {\n",
              "        text-align: right;\n",
              "    }\n",
              "</style>\n",
              "<table border=\"1\" class=\"dataframe\">\n",
              "  <thead>\n",
              "    <tr style=\"text-align: right;\">\n",
              "      <th></th>\n",
              "      <th>frequency</th>\n",
              "      <th>monetary_value</th>\n",
              "    </tr>\n",
              "  </thead>\n",
              "  <tbody>\n",
              "    <tr>\n",
              "      <th>frequency</th>\n",
              "      <td>1.000000</td>\n",
              "      <td>0.015906</td>\n",
              "    </tr>\n",
              "    <tr>\n",
              "      <th>monetary_value</th>\n",
              "      <td>0.015906</td>\n",
              "      <td>1.000000</td>\n",
              "    </tr>\n",
              "  </tbody>\n",
              "</table>\n",
              "</div>"
            ],
            "text/plain": [
              "                frequency  monetary_value\n",
              "frequency        1.000000        0.015906\n",
              "monetary_value   0.015906        1.000000"
            ]
          },
          "metadata": {
            "tags": []
          },
          "execution_count": 159
        }
      ]
    },
    {
      "cell_type": "code",
      "metadata": {
        "colab": {
          "base_uri": "https://localhost:8080/"
        },
        "id": "-UvEyLe3PRbX",
        "outputId": "7ba99ddd-b436-46b4-b355-4276e2ec076f"
      },
      "source": [
        "# Modeling the monetary value using Gamma-Gamma Model\n",
        "\n",
        "ggf = lifetimes.GammaGammaFitter(penalizer_coef=0.001)\n",
        "ggf.fit(return_customers_summary['frequency'],\n",
        "       return_customers_summary['monetary_value'])"
      ],
      "execution_count": null,
      "outputs": [
        {
          "output_type": "execute_result",
          "data": {
            "text/plain": [
              "<lifetimes.GammaGammaFitter: fitted with 2790 subjects, p: 11.13, q: 0.84, v: 11.29>"
            ]
          },
          "metadata": {
            "tags": []
          },
          "execution_count": 160
        }
      ]
    },
    {
      "cell_type": "code",
      "metadata": {
        "id": "RYGKkAriXDRZ"
      },
      "source": [
        "ggf.summary"
      ],
      "execution_count": null,
      "outputs": []
    },
    {
      "cell_type": "code",
      "metadata": {
        "colab": {
          "base_uri": "https://localhost:8080/",
          "height": 204
        },
        "id": "ThS23mjxXGAF",
        "outputId": "e617fef2-6da1-4174-9c15-97e8d10e1466"
      },
      "source": [
        "# Calculating the conditional expected average profit for each customer per transaction\n",
        "\n",
        "summary = summary[summary['monetary_value'] >0]\n",
        "summary['exp_avg_sales'] = ggf.conditional_expected_average_profit(summary['frequency'],\n",
        "                                       summary['monetary_value'])\n",
        "summary.head()\n"
      ],
      "execution_count": null,
      "outputs": [
        {
          "output_type": "execute_result",
          "data": {
            "text/html": [
              "<div>\n",
              "<style scoped>\n",
              "    .dataframe tbody tr th:only-of-type {\n",
              "        vertical-align: middle;\n",
              "    }\n",
              "\n",
              "    .dataframe tbody tr th {\n",
              "        vertical-align: top;\n",
              "    }\n",
              "\n",
              "    .dataframe thead th {\n",
              "        text-align: right;\n",
              "    }\n",
              "</style>\n",
              "<table border=\"1\" class=\"dataframe\">\n",
              "  <thead>\n",
              "    <tr style=\"text-align: right;\">\n",
              "      <th></th>\n",
              "      <th>CustomerID</th>\n",
              "      <th>frequency</th>\n",
              "      <th>recency</th>\n",
              "      <th>T</th>\n",
              "      <th>monetary_value</th>\n",
              "      <th>probability_alive</th>\n",
              "      <th>pred_num_txn</th>\n",
              "      <th>exp_avg_sales</th>\n",
              "    </tr>\n",
              "  </thead>\n",
              "  <tbody>\n",
              "    <tr>\n",
              "      <th>1</th>\n",
              "      <td>12347</td>\n",
              "      <td>6.0</td>\n",
              "      <td>365.0</td>\n",
              "      <td>367.0</td>\n",
              "      <td>599.701667</td>\n",
              "      <td>0.999698</td>\n",
              "      <td>0.47</td>\n",
              "      <td>603.040247</td>\n",
              "    </tr>\n",
              "    <tr>\n",
              "      <th>2</th>\n",
              "      <td>12348</td>\n",
              "      <td>3.0</td>\n",
              "      <td>283.0</td>\n",
              "      <td>358.0</td>\n",
              "      <td>301.480000</td>\n",
              "      <td>0.999177</td>\n",
              "      <td>0.27</td>\n",
              "      <td>306.725889</td>\n",
              "    </tr>\n",
              "    <tr>\n",
              "      <th>5</th>\n",
              "      <td>12352</td>\n",
              "      <td>6.0</td>\n",
              "      <td>260.0</td>\n",
              "      <td>296.0</td>\n",
              "      <td>368.256667</td>\n",
              "      <td>0.999406</td>\n",
              "      <td>0.56</td>\n",
              "      <td>371.034926</td>\n",
              "    </tr>\n",
              "    <tr>\n",
              "      <th>9</th>\n",
              "      <td>12356</td>\n",
              "      <td>2.0</td>\n",
              "      <td>303.0</td>\n",
              "      <td>325.0</td>\n",
              "      <td>269.905000</td>\n",
              "      <td>0.999478</td>\n",
              "      <td>0.22</td>\n",
              "      <td>277.562534</td>\n",
              "    </tr>\n",
              "    <tr>\n",
              "      <th>11</th>\n",
              "      <td>12358</td>\n",
              "      <td>1.0</td>\n",
              "      <td>149.0</td>\n",
              "      <td>150.0</td>\n",
              "      <td>683.200000</td>\n",
              "      <td>0.999486</td>\n",
              "      <td>0.25</td>\n",
              "      <td>704.704679</td>\n",
              "    </tr>\n",
              "  </tbody>\n",
              "</table>\n",
              "</div>"
            ],
            "text/plain": [
              "   CustomerID  frequency  ...  pred_num_txn  exp_avg_sales\n",
              "1       12347        6.0  ...          0.47     603.040247\n",
              "2       12348        3.0  ...          0.27     306.725889\n",
              "5       12352        6.0  ...          0.56     371.034926\n",
              "9       12356        2.0  ...          0.22     277.562534\n",
              "11      12358        1.0  ...          0.25     704.704679\n",
              "\n",
              "[5 rows x 8 columns]"
            ]
          },
          "metadata": {
            "tags": []
          },
          "execution_count": 162
        }
      ]
    },
    {
      "cell_type": "code",
      "metadata": {
        "colab": {
          "base_uri": "https://localhost:8080/"
        },
        "id": "X6oCWknmXMgw",
        "outputId": "805cc45c-5486-4bff-c5a6-cf0d297eb286"
      },
      "source": [
        "# Checking the expected average value and the actual average value in the data to make sure the values are good\n",
        "\n",
        "print(f\"Expected Average Sales: {summary['exp_avg_sales'].mean()}\")\n",
        "print(f\"Actual Average Sales: {summary['monetary_value'].mean()}\")"
      ],
      "execution_count": null,
      "outputs": [
        {
          "output_type": "stream",
          "text": [
            "Expected Average Sales: 486.90902215126897\n",
            "Actual Average Sales: 477.3803385139518\n"
          ],
          "name": "stdout"
        }
      ]
    },
    {
      "cell_type": "code",
      "metadata": {
        "id": "QjhTac8oXSeu"
      },
      "source": [
        "summary['predicted_clv'] =      ggf.customer_lifetime_value(bgf,\n",
        "                                                               summary['frequency'],\n",
        "                                                               summary['recency'],\n",
        "                                                               summary['T'],\n",
        "                                                               summary['monetary_value'],\n",
        "                                                               time=1,     # lifetime in months\n",
        "                                                               freq='D',   # frequency in which the data is present(T)      \n",
        "                                                               discount_rate=0.01) # discount rate\n",
        "summary.head()"
      ],
      "execution_count": null,
      "outputs": []
    },
    {
      "cell_type": "code",
      "metadata": {
        "colab": {
          "base_uri": "https://localhost:8080/",
          "height": 204
        },
        "id": "Gha9RiKkXlZD",
        "outputId": "5f6e9009-3b33-472f-b84f-820b688acc2b"
      },
      "source": [
        "# CLV in terms of profit (profit margin is 5%)\n",
        "\n",
        "profit_margin = 0.05\n",
        "summary['CLV'] = summary['predicted_clv'] * profit_margin\n",
        "summary.head()"
      ],
      "execution_count": null,
      "outputs": [
        {
          "output_type": "execute_result",
          "data": {
            "text/html": [
              "<div>\n",
              "<style scoped>\n",
              "    .dataframe tbody tr th:only-of-type {\n",
              "        vertical-align: middle;\n",
              "    }\n",
              "\n",
              "    .dataframe tbody tr th {\n",
              "        vertical-align: top;\n",
              "    }\n",
              "\n",
              "    .dataframe thead th {\n",
              "        text-align: right;\n",
              "    }\n",
              "</style>\n",
              "<table border=\"1\" class=\"dataframe\">\n",
              "  <thead>\n",
              "    <tr style=\"text-align: right;\">\n",
              "      <th></th>\n",
              "      <th>CustomerID</th>\n",
              "      <th>frequency</th>\n",
              "      <th>recency</th>\n",
              "      <th>T</th>\n",
              "      <th>monetary_value</th>\n",
              "      <th>probability_alive</th>\n",
              "      <th>pred_num_txn</th>\n",
              "      <th>exp_avg_sales</th>\n",
              "      <th>predicted_clv</th>\n",
              "      <th>CLV</th>\n",
              "    </tr>\n",
              "  </thead>\n",
              "  <tbody>\n",
              "    <tr>\n",
              "      <th>1</th>\n",
              "      <td>12347</td>\n",
              "      <td>6.0</td>\n",
              "      <td>365.0</td>\n",
              "      <td>367.0</td>\n",
              "      <td>599.701667</td>\n",
              "      <td>0.999698</td>\n",
              "      <td>0.47</td>\n",
              "      <td>603.040247</td>\n",
              "      <td>280.409518</td>\n",
              "      <td>14.020476</td>\n",
              "    </tr>\n",
              "    <tr>\n",
              "      <th>2</th>\n",
              "      <td>12348</td>\n",
              "      <td>3.0</td>\n",
              "      <td>283.0</td>\n",
              "      <td>358.0</td>\n",
              "      <td>301.480000</td>\n",
              "      <td>0.999177</td>\n",
              "      <td>0.27</td>\n",
              "      <td>306.725889</td>\n",
              "      <td>81.591026</td>\n",
              "      <td>4.079551</td>\n",
              "    </tr>\n",
              "    <tr>\n",
              "      <th>5</th>\n",
              "      <td>12352</td>\n",
              "      <td>6.0</td>\n",
              "      <td>260.0</td>\n",
              "      <td>296.0</td>\n",
              "      <td>368.256667</td>\n",
              "      <td>0.999406</td>\n",
              "      <td>0.56</td>\n",
              "      <td>371.034926</td>\n",
              "      <td>206.034640</td>\n",
              "      <td>10.301732</td>\n",
              "    </tr>\n",
              "    <tr>\n",
              "      <th>9</th>\n",
              "      <td>12356</td>\n",
              "      <td>2.0</td>\n",
              "      <td>303.0</td>\n",
              "      <td>325.0</td>\n",
              "      <td>269.905000</td>\n",
              "      <td>0.999478</td>\n",
              "      <td>0.22</td>\n",
              "      <td>277.562534</td>\n",
              "      <td>59.125290</td>\n",
              "      <td>2.956265</td>\n",
              "    </tr>\n",
              "    <tr>\n",
              "      <th>11</th>\n",
              "      <td>12358</td>\n",
              "      <td>1.0</td>\n",
              "      <td>149.0</td>\n",
              "      <td>150.0</td>\n",
              "      <td>683.200000</td>\n",
              "      <td>0.999486</td>\n",
              "      <td>0.25</td>\n",
              "      <td>704.704679</td>\n",
              "      <td>174.550478</td>\n",
              "      <td>8.727524</td>\n",
              "    </tr>\n",
              "  </tbody>\n",
              "</table>\n",
              "</div>"
            ],
            "text/plain": [
              "   CustomerID  frequency  recency  ...  exp_avg_sales  predicted_clv        CLV\n",
              "1       12347        6.0    365.0  ...     603.040247     280.409518  14.020476\n",
              "2       12348        3.0    283.0  ...     306.725889      81.591026   4.079551\n",
              "5       12352        6.0    260.0  ...     371.034926     206.034640  10.301732\n",
              "9       12356        2.0    303.0  ...     277.562534      59.125290   2.956265\n",
              "11      12358        1.0    149.0  ...     704.704679     174.550478   8.727524\n",
              "\n",
              "[5 rows x 10 columns]"
            ]
          },
          "metadata": {
            "tags": []
          },
          "execution_count": 165
        }
      ]
    }
  ]
}