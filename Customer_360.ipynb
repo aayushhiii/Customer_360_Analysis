{
  "nbformat": 4,
  "nbformat_minor": 0,
  "metadata": {
    "colab": {
      "name": "Customer 360.ipynb",
      "provenance": [],
      "collapsed_sections": [],
      "include_colab_link": true
    },
    "kernelspec": {
      "display_name": "Python 3",
      "name": "python3"
    },
    "language_info": {
      "name": "python"
    }
  },
  "cells": [
    {
      "cell_type": "markdown",
      "metadata": {
        "id": "view-in-github",
        "colab_type": "text"
      },
      "source": [
        "<a href=\"https://colab.research.google.com/github/aayushhiii/Customer_360_Analysis/blob/main/Customer_360.ipynb\" target=\"_parent\"><img src=\"https://colab.research.google.com/assets/colab-badge.svg\" alt=\"Open In Colab\"/></a>"
      ]
    },
    {
      "cell_type": "code",
      "metadata": {
        "id": "zuLq_71AKtI_"
      },
      "source": [
        "'''\n",
        "customers 360 degree analysis\n",
        "\n",
        "1) hard data and soft data\n",
        "focus on soft data for prediction\n",
        "\n",
        "2) predicting customers behaviour\n",
        "churn analysis,sentiment, propensity to buy,lifetime value\n",
        "\n",
        "3) predicting strategies to improve sale\n",
        "(focusing on purchase history , offering discounts, demonstrating increased dissatisfaction or any negative reviews(causes of churn))\n",
        "\n",
        "4) Identifying relationship ,connections with company and predicting flags (churn , fraud risk)\n",
        "\n",
        "5)https://www.kaggle.com/olistbr/brazilian-ecommerce?select=olist_order_reviews_dataset.csv\n",
        "\n",
        "6) https://github.com/mapr-demos/customer360\n",
        "\n",
        "7) https://www.kaggle.com/blastchar/telco-customer-churn\n",
        "\n",
        "8) https://www.kaggle.com/vijayuv/onlineretail ( only tracking essential metrics, customer segmentation, and predicting the lifetime value \n",
        "                                                  possible in this dataset)\n",
        "\n",
        "9) https://blog.hootsuite.com/buyer-persona/ (basic approach to create buyers persona)\n",
        "\n",
        "10) if we have the transactional records dataset we can break down to clustering customers and then based on transaction\n",
        "  clusters can be predicted accordingly and recommendations can be provided to win back customers.\n",
        "  ( https://archive.ics.uci.edu/ml/datasets/online+retail#) can be done on this retail dataset.\n",
        "\n",
        "11) Customer Segmentation (k-means)\n",
        "Determine appropriate product pricing.\n",
        "Develop customized marketing campaigns.\n",
        "Design an optimal distribution strategy.\n",
        "Choose specific product features for deployment.\n",
        "Prioritize new product development efforts.\n",
        "\n",
        "12) https://www.kaggle.com/vjchoudhary7/customer-segmentation-tutorial-in-python (demographic data)\n",
        "\n",
        "13) https://www.kaggle.com/carrie1/ecommerce-data ,https://www.kaggle.com/snap/amazon-fine-food-reviews (Combining these two datasets I think \n",
        "I can predict the next item that can be recommended to customers and recommend startegies  to run personalized, high-performing campaigns by \n",
        "segmenting customers based on their past transactions and history)\n",
        "\n",
        "14) dataset columns required\n",
        "\n",
        "    user ID , Product ID , Ratings, invoice date , amount spend by customer, invoice number\n",
        "\n",
        "\n",
        "'''\n"
      ],
      "execution_count": null,
      "outputs": []
    },
    {
      "cell_type": "code",
      "metadata": {
        "colab": {
          "resources": {
            "http://localhost:8080/nbextensions/google.colab/files.js": {
              "data": "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",
              "ok": true,
              "headers": [
                [
                  "content-type",
                  "application/javascript"
                ]
              ],
              "status": 200,
              "status_text": ""
            }
          },
          "base_uri": "https://localhost:8080/",
          "height": 72
        },
        "id": "iCqQEjnnmyP8",
        "outputId": "4b01f2a9-48e2-4c14-e779-bfced4a88f62"
      },
      "source": [
        "from google.colab import files\n",
        "uploaded = files.upload()"
      ],
      "execution_count": null,
      "outputs": [
        {
          "output_type": "display_data",
          "data": {
            "text/html": [
              "\n",
              "     <input type=\"file\" id=\"files-c6258d45-4391-4c1c-a78b-0c883ff75997\" name=\"files[]\" multiple disabled\n",
              "        style=\"border:none\" />\n",
              "     <output id=\"result-c6258d45-4391-4c1c-a78b-0c883ff75997\">\n",
              "      Upload widget is only available when the cell has been executed in the\n",
              "      current browser session. Please rerun this cell to enable.\n",
              "      </output>\n",
              "      <script src=\"/nbextensions/google.colab/files.js\"></script> "
            ],
            "text/plain": [
              "<IPython.core.display.HTML object>"
            ]
          },
          "metadata": {
            "tags": []
          }
        },
        {
          "output_type": "stream",
          "text": [
            "Saving data1.csv to data1 (1).csv\n"
          ],
          "name": "stdout"
        }
      ]
    },
    {
      "cell_type": "code",
      "metadata": {
        "id": "-GnOGrR9sTIN"
      },
      "source": [
        "import numpy as np \n",
        "import pandas as pd"
      ],
      "execution_count": null,
      "outputs": []
    },
    {
      "cell_type": "code",
      "metadata": {
        "id": "tC3_KSqSsXdV"
      },
      "source": [
        "import io\n",
        "df = pd.read_csv(io.BytesIO(uploaded['data1.csv']), header= 0,\n",
        "                        encoding= 'unicode_escape')\n"
      ],
      "execution_count": null,
      "outputs": []
    },
    {
      "cell_type": "code",
      "metadata": {
        "id": "-CZuE0Frsb8V"
      },
      "source": [
        "df['Rating'] = np.random.randint(1, 6, df.shape[0]) \n",
        "#disc=['10','15','20','25','30'] #discount column values\n",
        "#df[\"Discount\"] = np.random.choice(disc, size=len(df))\n",
        "\n",
        "df[\"used_discount\"]=np.random.randint(0,2,df.shape[0])\n",
        "\n",
        "#df[\"used_bogo\"]=np.random.randint(0,2,df.shape[0])\n",
        "\n"
      ],
      "execution_count": null,
      "outputs": []
    },
    {
      "cell_type": "code",
      "metadata": {
        "colab": {
          "base_uri": "https://localhost:8080/",
          "height": 589
        },
        "id": "oVlzzCO5sfYe",
        "outputId": "897c2545-5af6-4687-9d32-2164181366af"
      },
      "source": [
        "df[\"used_bogo\"]=np.where(df[\"used_discount\"]==1,0,1)\n",
        "off=['Buy one get one','No offer','10','15','20','25'] #offer column\n",
        "df[\"Offer\"]=np.random.choice(off,size=len(df))\n",
        "df\n"
      ],
      "execution_count": null,
      "outputs": [
        {
          "output_type": "execute_result",
          "data": {
            "text/html": [
              "<div>\n",
              "<style scoped>\n",
              "    .dataframe tbody tr th:only-of-type {\n",
              "        vertical-align: middle;\n",
              "    }\n",
              "\n",
              "    .dataframe tbody tr th {\n",
              "        vertical-align: top;\n",
              "    }\n",
              "\n",
              "    .dataframe thead th {\n",
              "        text-align: right;\n",
              "    }\n",
              "</style>\n",
              "<table border=\"1\" class=\"dataframe\">\n",
              "  <thead>\n",
              "    <tr style=\"text-align: right;\">\n",
              "      <th></th>\n",
              "      <th>InvoiceNo</th>\n",
              "      <th>StockCode</th>\n",
              "      <th>Description</th>\n",
              "      <th>Quantity</th>\n",
              "      <th>InvoiceDate</th>\n",
              "      <th>UnitPrice</th>\n",
              "      <th>CustomerID</th>\n",
              "      <th>Country</th>\n",
              "      <th>Rating</th>\n",
              "      <th>used_discount</th>\n",
              "      <th>used_bogo</th>\n",
              "      <th>Offer</th>\n",
              "    </tr>\n",
              "  </thead>\n",
              "  <tbody>\n",
              "    <tr>\n",
              "      <th>0</th>\n",
              "      <td>536365</td>\n",
              "      <td>85123A</td>\n",
              "      <td>WHITE HANGING HEART T-LIGHT HOLDER</td>\n",
              "      <td>6</td>\n",
              "      <td>12-01-2010 08:26</td>\n",
              "      <td>2.55</td>\n",
              "      <td>17850.0</td>\n",
              "      <td>United Kingdom</td>\n",
              "      <td>4</td>\n",
              "      <td>1</td>\n",
              "      <td>0</td>\n",
              "      <td>15</td>\n",
              "    </tr>\n",
              "    <tr>\n",
              "      <th>1</th>\n",
              "      <td>536365</td>\n",
              "      <td>71053</td>\n",
              "      <td>WHITE METAL LANTERN</td>\n",
              "      <td>6</td>\n",
              "      <td>12-01-2010 08:26</td>\n",
              "      <td>3.39</td>\n",
              "      <td>17850.0</td>\n",
              "      <td>United Kingdom</td>\n",
              "      <td>1</td>\n",
              "      <td>1</td>\n",
              "      <td>0</td>\n",
              "      <td>25</td>\n",
              "    </tr>\n",
              "    <tr>\n",
              "      <th>2</th>\n",
              "      <td>536365</td>\n",
              "      <td>84406B</td>\n",
              "      <td>CREAM CUPID HEARTS COAT HANGER</td>\n",
              "      <td>8</td>\n",
              "      <td>12-01-2010 08:26</td>\n",
              "      <td>2.75</td>\n",
              "      <td>17850.0</td>\n",
              "      <td>United Kingdom</td>\n",
              "      <td>5</td>\n",
              "      <td>1</td>\n",
              "      <td>0</td>\n",
              "      <td>No offer</td>\n",
              "    </tr>\n",
              "    <tr>\n",
              "      <th>3</th>\n",
              "      <td>536365</td>\n",
              "      <td>84029G</td>\n",
              "      <td>KNITTED UNION FLAG HOT WATER BOTTLE</td>\n",
              "      <td>6</td>\n",
              "      <td>12-01-2010 08:26</td>\n",
              "      <td>3.39</td>\n",
              "      <td>17850.0</td>\n",
              "      <td>United Kingdom</td>\n",
              "      <td>5</td>\n",
              "      <td>0</td>\n",
              "      <td>1</td>\n",
              "      <td>20</td>\n",
              "    </tr>\n",
              "    <tr>\n",
              "      <th>4</th>\n",
              "      <td>536365</td>\n",
              "      <td>84029E</td>\n",
              "      <td>RED WOOLLY HOTTIE WHITE HEART.</td>\n",
              "      <td>6</td>\n",
              "      <td>12-01-2010 08:26</td>\n",
              "      <td>3.39</td>\n",
              "      <td>17850.0</td>\n",
              "      <td>United Kingdom</td>\n",
              "      <td>1</td>\n",
              "      <td>1</td>\n",
              "      <td>0</td>\n",
              "      <td>Buy one get one</td>\n",
              "    </tr>\n",
              "    <tr>\n",
              "      <th>...</th>\n",
              "      <td>...</td>\n",
              "      <td>...</td>\n",
              "      <td>...</td>\n",
              "      <td>...</td>\n",
              "      <td>...</td>\n",
              "      <td>...</td>\n",
              "      <td>...</td>\n",
              "      <td>...</td>\n",
              "      <td>...</td>\n",
              "      <td>...</td>\n",
              "      <td>...</td>\n",
              "      <td>...</td>\n",
              "    </tr>\n",
              "    <tr>\n",
              "      <th>541904</th>\n",
              "      <td>581587</td>\n",
              "      <td>22613</td>\n",
              "      <td>PACK OF 20 SPACEBOY NAPKINS</td>\n",
              "      <td>12</td>\n",
              "      <td>12-09-2011 12:50</td>\n",
              "      <td>0.85</td>\n",
              "      <td>12680.0</td>\n",
              "      <td>France</td>\n",
              "      <td>3</td>\n",
              "      <td>0</td>\n",
              "      <td>1</td>\n",
              "      <td>20</td>\n",
              "    </tr>\n",
              "    <tr>\n",
              "      <th>541905</th>\n",
              "      <td>581587</td>\n",
              "      <td>22899</td>\n",
              "      <td>CHILDREN'S APRON DOLLY GIRL</td>\n",
              "      <td>6</td>\n",
              "      <td>12-09-2011 12:50</td>\n",
              "      <td>2.10</td>\n",
              "      <td>12680.0</td>\n",
              "      <td>France</td>\n",
              "      <td>5</td>\n",
              "      <td>1</td>\n",
              "      <td>0</td>\n",
              "      <td>20</td>\n",
              "    </tr>\n",
              "    <tr>\n",
              "      <th>541906</th>\n",
              "      <td>581587</td>\n",
              "      <td>23254</td>\n",
              "      <td>CHILDRENS CUTLERY DOLLY GIRL</td>\n",
              "      <td>4</td>\n",
              "      <td>12-09-2011 12:50</td>\n",
              "      <td>4.15</td>\n",
              "      <td>12680.0</td>\n",
              "      <td>France</td>\n",
              "      <td>1</td>\n",
              "      <td>0</td>\n",
              "      <td>1</td>\n",
              "      <td>15</td>\n",
              "    </tr>\n",
              "    <tr>\n",
              "      <th>541907</th>\n",
              "      <td>581587</td>\n",
              "      <td>23255</td>\n",
              "      <td>CHILDRENS CUTLERY CIRCUS PARADE</td>\n",
              "      <td>4</td>\n",
              "      <td>12-09-2011 12:50</td>\n",
              "      <td>4.15</td>\n",
              "      <td>12680.0</td>\n",
              "      <td>France</td>\n",
              "      <td>4</td>\n",
              "      <td>1</td>\n",
              "      <td>0</td>\n",
              "      <td>15</td>\n",
              "    </tr>\n",
              "    <tr>\n",
              "      <th>541908</th>\n",
              "      <td>581587</td>\n",
              "      <td>22138</td>\n",
              "      <td>BAKING SET 9 PIECE RETROSPOT</td>\n",
              "      <td>3</td>\n",
              "      <td>12-09-2011 12:50</td>\n",
              "      <td>4.95</td>\n",
              "      <td>12680.0</td>\n",
              "      <td>France</td>\n",
              "      <td>1</td>\n",
              "      <td>0</td>\n",
              "      <td>1</td>\n",
              "      <td>10</td>\n",
              "    </tr>\n",
              "  </tbody>\n",
              "</table>\n",
              "<p>541909 rows × 12 columns</p>\n",
              "</div>"
            ],
            "text/plain": [
              "       InvoiceNo StockCode  ... used_bogo            Offer\n",
              "0         536365    85123A  ...         0               15\n",
              "1         536365     71053  ...         0               25\n",
              "2         536365    84406B  ...         0         No offer\n",
              "3         536365    84029G  ...         1               20\n",
              "4         536365    84029E  ...         0  Buy one get one\n",
              "...          ...       ...  ...       ...              ...\n",
              "541904    581587     22613  ...         1               20\n",
              "541905    581587     22899  ...         0               20\n",
              "541906    581587     23254  ...         1               15\n",
              "541907    581587     23255  ...         0               15\n",
              "541908    581587     22138  ...         1               10\n",
              "\n",
              "[541909 rows x 12 columns]"
            ]
          },
          "metadata": {
            "tags": []
          },
          "execution_count": 6
        }
      ]
    },
    {
      "cell_type": "code",
      "metadata": {
        "id": "6n8IcW0eZU5I",
        "colab": {
          "base_uri": "https://localhost:8080/",
          "height": 306
        },
        "outputId": "777c48bc-6f1c-4fd7-c94e-eb8d2ac6fd86"
      },
      "source": [
        "df['InvoiceDate'] = pd.to_datetime(df['InvoiceDate'])\n",
        "df[\"Day_Name\"] = pd.to_datetime(df[\"InvoiceDate\"]).dt.day_name()\n",
        "df.head()"
      ],
      "execution_count": null,
      "outputs": [
        {
          "output_type": "execute_result",
          "data": {
            "text/html": [
              "<div>\n",
              "<style scoped>\n",
              "    .dataframe tbody tr th:only-of-type {\n",
              "        vertical-align: middle;\n",
              "    }\n",
              "\n",
              "    .dataframe tbody tr th {\n",
              "        vertical-align: top;\n",
              "    }\n",
              "\n",
              "    .dataframe thead th {\n",
              "        text-align: right;\n",
              "    }\n",
              "</style>\n",
              "<table border=\"1\" class=\"dataframe\">\n",
              "  <thead>\n",
              "    <tr style=\"text-align: right;\">\n",
              "      <th></th>\n",
              "      <th>InvoiceNo</th>\n",
              "      <th>StockCode</th>\n",
              "      <th>Description</th>\n",
              "      <th>Quantity</th>\n",
              "      <th>InvoiceDate</th>\n",
              "      <th>UnitPrice</th>\n",
              "      <th>CustomerID</th>\n",
              "      <th>Country</th>\n",
              "      <th>Rating</th>\n",
              "      <th>used_discount</th>\n",
              "      <th>used_bogo</th>\n",
              "      <th>Offer</th>\n",
              "      <th>Day_Name</th>\n",
              "    </tr>\n",
              "  </thead>\n",
              "  <tbody>\n",
              "    <tr>\n",
              "      <th>0</th>\n",
              "      <td>536365</td>\n",
              "      <td>85123A</td>\n",
              "      <td>WHITE HANGING HEART T-LIGHT HOLDER</td>\n",
              "      <td>6</td>\n",
              "      <td>2010-12-01 08:26:00</td>\n",
              "      <td>2.55</td>\n",
              "      <td>17850.0</td>\n",
              "      <td>United Kingdom</td>\n",
              "      <td>4</td>\n",
              "      <td>1</td>\n",
              "      <td>0</td>\n",
              "      <td>15</td>\n",
              "      <td>Wednesday</td>\n",
              "    </tr>\n",
              "    <tr>\n",
              "      <th>1</th>\n",
              "      <td>536365</td>\n",
              "      <td>71053</td>\n",
              "      <td>WHITE METAL LANTERN</td>\n",
              "      <td>6</td>\n",
              "      <td>2010-12-01 08:26:00</td>\n",
              "      <td>3.39</td>\n",
              "      <td>17850.0</td>\n",
              "      <td>United Kingdom</td>\n",
              "      <td>1</td>\n",
              "      <td>1</td>\n",
              "      <td>0</td>\n",
              "      <td>25</td>\n",
              "      <td>Wednesday</td>\n",
              "    </tr>\n",
              "    <tr>\n",
              "      <th>2</th>\n",
              "      <td>536365</td>\n",
              "      <td>84406B</td>\n",
              "      <td>CREAM CUPID HEARTS COAT HANGER</td>\n",
              "      <td>8</td>\n",
              "      <td>2010-12-01 08:26:00</td>\n",
              "      <td>2.75</td>\n",
              "      <td>17850.0</td>\n",
              "      <td>United Kingdom</td>\n",
              "      <td>5</td>\n",
              "      <td>1</td>\n",
              "      <td>0</td>\n",
              "      <td>No offer</td>\n",
              "      <td>Wednesday</td>\n",
              "    </tr>\n",
              "    <tr>\n",
              "      <th>3</th>\n",
              "      <td>536365</td>\n",
              "      <td>84029G</td>\n",
              "      <td>KNITTED UNION FLAG HOT WATER BOTTLE</td>\n",
              "      <td>6</td>\n",
              "      <td>2010-12-01 08:26:00</td>\n",
              "      <td>3.39</td>\n",
              "      <td>17850.0</td>\n",
              "      <td>United Kingdom</td>\n",
              "      <td>5</td>\n",
              "      <td>0</td>\n",
              "      <td>1</td>\n",
              "      <td>20</td>\n",
              "      <td>Wednesday</td>\n",
              "    </tr>\n",
              "    <tr>\n",
              "      <th>4</th>\n",
              "      <td>536365</td>\n",
              "      <td>84029E</td>\n",
              "      <td>RED WOOLLY HOTTIE WHITE HEART.</td>\n",
              "      <td>6</td>\n",
              "      <td>2010-12-01 08:26:00</td>\n",
              "      <td>3.39</td>\n",
              "      <td>17850.0</td>\n",
              "      <td>United Kingdom</td>\n",
              "      <td>1</td>\n",
              "      <td>1</td>\n",
              "      <td>0</td>\n",
              "      <td>Buy one get one</td>\n",
              "      <td>Wednesday</td>\n",
              "    </tr>\n",
              "  </tbody>\n",
              "</table>\n",
              "</div>"
            ],
            "text/plain": [
              "  InvoiceNo StockCode  ...            Offer   Day_Name\n",
              "0    536365    85123A  ...               15  Wednesday\n",
              "1    536365     71053  ...               25  Wednesday\n",
              "2    536365    84406B  ...         No offer  Wednesday\n",
              "3    536365    84029G  ...               20  Wednesday\n",
              "4    536365    84029E  ...  Buy one get one  Wednesday\n",
              "\n",
              "[5 rows x 13 columns]"
            ]
          },
          "metadata": {
            "tags": []
          },
          "execution_count": 7
        }
      ]
    },
    {
      "cell_type": "code",
      "metadata": {
        "id": "MZNnxy49fxyP"
      },
      "source": [
        "df.dtypes"
      ],
      "execution_count": null,
      "outputs": []
    },
    {
      "cell_type": "code",
      "metadata": {
        "colab": {
          "base_uri": "https://localhost:8080/"
        },
        "id": "f6fkiCIv5U9c",
        "outputId": "f6989828-301e-40fb-e3e9-d0ff4850e592"
      },
      "source": [
        "df.shape"
      ],
      "execution_count": null,
      "outputs": [
        {
          "output_type": "execute_result",
          "data": {
            "text/plain": [
              "(541909, 13)"
            ]
          },
          "metadata": {
            "tags": []
          },
          "execution_count": 8
        }
      ]
    },
    {
      "cell_type": "code",
      "metadata": {
        "id": "W4CaFuxc5bHt",
        "colab": {
          "base_uri": "https://localhost:8080/"
        },
        "outputId": "b450fcf1-c656-4857-e23f-98e2992eecda"
      },
      "source": [
        "df.info()"
      ],
      "execution_count": null,
      "outputs": [
        {
          "output_type": "stream",
          "text": [
            "<class 'pandas.core.frame.DataFrame'>\n",
            "RangeIndex: 541909 entries, 0 to 541908\n",
            "Data columns (total 13 columns):\n",
            " #   Column         Non-Null Count   Dtype         \n",
            "---  ------         --------------   -----         \n",
            " 0   InvoiceNo      541909 non-null  object        \n",
            " 1   StockCode      541909 non-null  object        \n",
            " 2   Description    540455 non-null  object        \n",
            " 3   Quantity       541909 non-null  int64         \n",
            " 4   InvoiceDate    541909 non-null  datetime64[ns]\n",
            " 5   UnitPrice      541909 non-null  float64       \n",
            " 6   CustomerID     406829 non-null  float64       \n",
            " 7   Country        541909 non-null  object        \n",
            " 8   Rating         541909 non-null  int64         \n",
            " 9   used_discount  541909 non-null  int64         \n",
            " 10  used_bogo      541909 non-null  int64         \n",
            " 11  Offer          541909 non-null  object        \n",
            " 12  Day_Name       541909 non-null  object        \n",
            "dtypes: datetime64[ns](1), float64(2), int64(4), object(6)\n",
            "memory usage: 53.7+ MB\n"
          ],
          "name": "stdout"
        }
      ]
    },
    {
      "cell_type": "code",
      "metadata": {
        "colab": {
          "base_uri": "https://localhost:8080/"
        },
        "id": "h4I_zvNQ5jPp",
        "outputId": "6e73f8a9-3938-429a-9979-6499e835220f"
      },
      "source": [
        "round(100*(df.isnull().sum())/len(df), 2)"
      ],
      "execution_count": null,
      "outputs": [
        {
          "output_type": "execute_result",
          "data": {
            "text/plain": [
              "InvoiceNo         0.00\n",
              "StockCode         0.00\n",
              "Description       0.27\n",
              "Quantity          0.00\n",
              "InvoiceDate       0.00\n",
              "UnitPrice         0.00\n",
              "CustomerID       24.93\n",
              "Country           0.00\n",
              "Rating            0.00\n",
              "used_discount     0.00\n",
              "used_bogo         0.00\n",
              "Offer             0.00\n",
              "Day_Name          0.00\n",
              "dtype: float64"
            ]
          },
          "metadata": {
            "tags": []
          },
          "execution_count": 10
        }
      ]
    },
    {
      "cell_type": "code",
      "metadata": {
        "id": "a-BJk4kr5nYS"
      },
      "source": [
        "df.dropna(inplace=True)"
      ],
      "execution_count": null,
      "outputs": []
    },
    {
      "cell_type": "code",
      "metadata": {
        "colab": {
          "base_uri": "https://localhost:8080/"
        },
        "id": "hyBONXfN5rj1",
        "outputId": "fe1f4497-83b9-4234-dfa1-e9a6ac7f1b83"
      },
      "source": [
        "round(100*(df.isnull().sum())/len(df), 2)"
      ],
      "execution_count": null,
      "outputs": [
        {
          "output_type": "execute_result",
          "data": {
            "text/plain": [
              "InvoiceNo        0.0\n",
              "StockCode        0.0\n",
              "Description      0.0\n",
              "Quantity         0.0\n",
              "InvoiceDate      0.0\n",
              "UnitPrice        0.0\n",
              "CustomerID       0.0\n",
              "Country          0.0\n",
              "Rating           0.0\n",
              "used_discount    0.0\n",
              "used_bogo        0.0\n",
              "Offer            0.0\n",
              "Day_Name         0.0\n",
              "dtype: float64"
            ]
          },
          "metadata": {
            "tags": []
          },
          "execution_count": 12
        }
      ]
    },
    {
      "cell_type": "code",
      "metadata": {
        "colab": {
          "base_uri": "https://localhost:8080/"
        },
        "id": "gE_tW_Pd5vX9",
        "outputId": "64900007-2683-4bc1-a356-bc6da5a0d57a"
      },
      "source": [
        "df.shape"
      ],
      "execution_count": null,
      "outputs": [
        {
          "output_type": "execute_result",
          "data": {
            "text/plain": [
              "(406829, 13)"
            ]
          },
          "metadata": {
            "tags": []
          },
          "execution_count": 13
        }
      ]
    },
    {
      "cell_type": "code",
      "metadata": {
        "id": "P5FIF9Pta3Xh",
        "colab": {
          "base_uri": "https://localhost:8080/"
        },
        "outputId": "9590aa49-e867-4985-91f9-514221071e1c"
      },
      "source": [
        "df['CustomerID'] = df['CustomerID'].astype('int')\n",
        "df['Rating'] = df['Rating'].astype('int')\n",
        "df['Quantity'] = df['Quantity'].astype('int')\n",
        "df['UnitPrice'] = df['UnitPrice'].astype('float')\n",
        "df.info()"
      ],
      "execution_count": null,
      "outputs": [
        {
          "output_type": "stream",
          "text": [
            "<class 'pandas.core.frame.DataFrame'>\n",
            "Int64Index: 406829 entries, 0 to 541908\n",
            "Data columns (total 13 columns):\n",
            " #   Column         Non-Null Count   Dtype         \n",
            "---  ------         --------------   -----         \n",
            " 0   InvoiceNo      406829 non-null  object        \n",
            " 1   StockCode      406829 non-null  object        \n",
            " 2   Description    406829 non-null  object        \n",
            " 3   Quantity       406829 non-null  int64         \n",
            " 4   InvoiceDate    406829 non-null  datetime64[ns]\n",
            " 5   UnitPrice      406829 non-null  float64       \n",
            " 6   CustomerID     406829 non-null  int64         \n",
            " 7   Country        406829 non-null  object        \n",
            " 8   Rating         406829 non-null  int64         \n",
            " 9   used_discount  406829 non-null  int64         \n",
            " 10  used_bogo      406829 non-null  int64         \n",
            " 11  Offer          406829 non-null  object        \n",
            " 12  Day_Name       406829 non-null  object        \n",
            "dtypes: datetime64[ns](1), float64(1), int64(5), object(6)\n",
            "memory usage: 43.5+ MB\n"
          ],
          "name": "stdout"
        }
      ]
    },
    {
      "cell_type": "code",
      "metadata": {
        "id": "qFfeSSv6gDY2"
      },
      "source": [
        "import matplotlib.pyplot as plt\n",
        "%matplotlib inline\n",
        "import nltk\n",
        "\n",
        "from sklearn.neighbors import NearestNeighbors\n",
        "from sklearn import neighbors\n",
        "from scipy.spatial.distance import cosine\n",
        "from sklearn.metrics import classification_report\n",
        "from sklearn.metrics import accuracy_score\n",
        "\n",
        "\n",
        "from sklearn.feature_selection import SelectKBest\n",
        "from sklearn.feature_extraction.text import CountVectorizer, TfidfTransformer\n",
        "\n",
        "import re\n",
        "import string\n",
        "from wordcloud import WordCloud, STOPWORDS"
      ],
      "execution_count": null,
      "outputs": []
    },
    {
      "cell_type": "code",
      "metadata": {
        "colab": {
          "base_uri": "https://localhost:8080/"
        },
        "id": "BfAuUj52Gdt0",
        "outputId": "0e4754a5-8dbe-45f2-9fb0-e04c4227535a"
      },
      "source": [
        "df.shape"
      ],
      "execution_count": null,
      "outputs": [
        {
          "output_type": "execute_result",
          "data": {
            "text/plain": [
              "(406829, 13)"
            ]
          },
          "metadata": {
            "tags": []
          },
          "execution_count": 16
        }
      ]
    },
    {
      "cell_type": "code",
      "metadata": {
        "id": "F8vBzasujxNM"
      },
      "source": [
        "count = df.groupby(\"CustomerID\", as_index=False).count()\n",
        "mean = df.groupby(\"CustomerID\", as_index=False).mean()\n",
        "count"
      ],
      "execution_count": null,
      "outputs": []
    },
    {
      "cell_type": "code",
      "metadata": {
        "id": "EADMWJZCi-dG"
      },
      "source": [
        "df1 = pd.merge(df, count, how='right', on=[\"CustomerID\"])\n",
        "df1\n"
      ],
      "execution_count": null,
      "outputs": []
    },
    {
      "cell_type": "code",
      "metadata": {
        "id": "Q_hoN6tGj5eM"
      },
      "source": [
        "df1[\"Count\"] = df1[\"StockCode_y\"]\n",
        "df1[\"Rating\"] = df1[\"Rating_x\"]\n",
        "df1[\"Description\"] = df1[\"Description_x\"]\n",
        "\n",
        "\n",
        "df1 = df1[[\"CustomerID\",'Description','Rating',\"Count\"]]\n",
        "df1"
      ],
      "execution_count": null,
      "outputs": []
    },
    {
      "cell_type": "code",
      "metadata": {
        "id": "4VDQP2rNh_fH"
      },
      "source": [
        "df1 = df1.sort_values('Count', ascending=False)\n",
        "df2 = df1[df1.Count >= 100]\n",
        "df2"
      ],
      "execution_count": null,
      "outputs": []
    },
    {
      "cell_type": "code",
      "metadata": {
        "id": "y0cBLdwRjzbK"
      },
      "source": [
        "df4 = df.groupby(\"CustomerID\", as_index=False).mean()\n",
        "df4"
      ],
      "execution_count": null,
      "outputs": []
    },
    {
      "cell_type": "code",
      "metadata": {
        "id": "GTIm4AuOkq3W"
      },
      "source": [
        "combine_summary = df2.groupby(\"CustomerID\")[\"Description\"].apply(list)\n",
        "combine_summary = pd.DataFrame(combine_summary)\n",
        "combine_summary.to_csv(\"combine_summary.csv\")\n",
        "combine_summary"
      ],
      "execution_count": null,
      "outputs": []
    },
    {
      "cell_type": "code",
      "metadata": {
        "id": "HkMGqwcNkerc"
      },
      "source": [
        "df3 = pd.read_csv(\"combine_summary.csv\")\n",
        "df3 = pd.merge(df3, df4, on=\"CustomerID\", how='inner')\n",
        "df3 = df3[['CustomerID','Description','Rating']]\n",
        "df3"
      ],
      "execution_count": null,
      "outputs": []
    },
    {
      "cell_type": "code",
      "metadata": {
        "id": "OxgCfiBEoOXv"
      },
      "source": [
        "cleanup_re = re.compile('[^a-z]+')\n",
        "def cleanup(sentence):\n",
        "    sentence = sentence.lower()\n",
        "    sentence = cleanup_re.sub(' ', sentence).strip()\n",
        "    sentence = \" \".join(nltk.word_tokenize(sentence))\n",
        "    return sentence"
      ],
      "execution_count": null,
      "outputs": []
    },
    {
      "cell_type": "code",
      "metadata": {
        "colab": {
          "base_uri": "https://localhost:8080/"
        },
        "id": "4I7qkAtAo6ap",
        "outputId": "28cb640f-756e-4c18-fd0c-c8dc5d0d979f"
      },
      "source": [
        "import nltk\n",
        "nltk.download('punkt')"
      ],
      "execution_count": null,
      "outputs": [
        {
          "output_type": "stream",
          "text": [
            "[nltk_data] Downloading package punkt to /root/nltk_data...\n",
            "[nltk_data]   Unzipping tokenizers/punkt.zip.\n"
          ],
          "name": "stdout"
        },
        {
          "output_type": "execute_result",
          "data": {
            "text/plain": [
              "True"
            ]
          },
          "metadata": {
            "tags": []
          },
          "execution_count": 27
        }
      ]
    },
    {
      "cell_type": "code",
      "metadata": {
        "id": "zONl-ROglwM9"
      },
      "source": [
        "df3[\"Description_clean\"] = df3[\"Description\"].apply(cleanup)\n",
        "df3"
      ],
      "execution_count": null,
      "outputs": []
    },
    {
      "cell_type": "markdown",
      "metadata": {
        "id": "VipuL679Ahup"
      },
      "source": [
        "Final Dataset is below"
      ]
    },
    {
      "cell_type": "code",
      "metadata": {
        "id": "_5c1P7-Go_Lu"
      },
      "source": [
        "df3 = df3.drop_duplicates(['Rating'], keep='last')\n",
        "df3 = df3.reset_index()\n",
        "df3"
      ],
      "execution_count": null,
      "outputs": []
    },
    {
      "cell_type": "code",
      "metadata": {
        "id": "_ttvOwq_pLEG"
      },
      "source": [
        "from pandas import DataFrame \n",
        "from sklearn.feature_extraction.text import CountVectorizer \n",
        "docs = df3[\"Description_clean\"] \n",
        "vect = CountVectorizer(max_features = 100, stop_words='english') \n",
        "X = vect.fit_transform(docs) \n",
        "#print(DataFrame(X.A, columns=vect.get_feature_names()).to_string()) \n",
        "df5 = DataFrame(X.A, columns=vect.get_feature_names())\n",
        "df5 = df5.astype(int)\n",
        "df5"
      ],
      "execution_count": null,
      "outputs": []
    },
    {
      "cell_type": "code",
      "metadata": {
        "id": "aUq7vHUcpch2"
      },
      "source": [
        "df5.to_csv(\"df5.csv\")\n",
        "kkk=df.sort_values(by='Rating', ascending=False)\n",
        "kkk  = df.drop_duplicates(['Description'], keep='first')\n",
        "kkk = kkk.reset_index()\n",
        "kkk"
      ],
      "execution_count": null,
      "outputs": []
    },
    {
      "cell_type": "code",
      "metadata": {
        "colab": {
          "base_uri": "https://localhost:8080/"
        },
        "id": "Qnb8yWXtpiZA",
        "outputId": "c4888794-3ed6-4741-fc59-d2c626dcc7df"
      },
      "source": [
        "X = np.array(df5)\n",
        "#print(X)\n",
        "\n",
        "tpercent = 0.95\n",
        "tsize = int(np.floor(tpercent * len(df5)))\n",
        "df5_train = X[:tsize]\n",
        "#print(df5_train)\n",
        "df5_test = X[tsize:]\n",
        "print(df5_test)\n",
        "lentrain = len(df5_train)\n",
        "lentest = len(df5_test)\n",
        "\n",
        "#lentrain\n",
        "#lentest\n"
      ],
      "execution_count": null,
      "outputs": [
        {
          "output_type": "stream",
          "text": [
            "[[ 1  3  3 ...  0  0  1]\n",
            " [ 1  1  1 ...  1 10  0]\n",
            " [ 0  0  2 ...  2  4  2]\n",
            " ...\n",
            " [ 0  0  4 ...  0  0  2]\n",
            " [ 0  0  3 ...  3  0  0]\n",
            " [ 0  1  0 ... 47  7  1]]\n"
          ],
          "name": "stdout"
        }
      ]
    },
    {
      "cell_type": "code",
      "metadata": {
        "colab": {
          "base_uri": "https://localhost:8080/"
        },
        "id": "b_i-iuNecyDx",
        "outputId": "bad827dc-af2a-4158-cf5b-bc6d1b732f16"
      },
      "source": [
        "nbrs = NearestNeighbors(n_neighbors=3, algorithm='ball_tree').fit(df5_train)\n",
        "\n",
        "\n",
        "distances, indices = nbrs.kneighbors(df5_train)\n",
        "nbrs"
      ],
      "execution_count": null,
      "outputs": [
        {
          "output_type": "execute_result",
          "data": {
            "text/plain": [
              "NearestNeighbors(algorithm='ball_tree', leaf_size=30, metric='minkowski',\n",
              "                 metric_params=None, n_jobs=None, n_neighbors=3, p=2,\n",
              "                 radius=1.0)"
            ]
          },
          "metadata": {
            "tags": []
          },
          "execution_count": 33
        }
      ]
    },
    {
      "cell_type": "code",
      "metadata": {
        "id": "Fh2A-Y01pod-",
        "colab": {
          "base_uri": "https://localhost:8080/"
        },
        "outputId": "ca1bd79e-6b4a-448a-f46d-194b06faea8b"
      },
      "source": [
        "\n",
        "for i in range(lentest):\n",
        "    a = nbrs.kneighbors([df5_test[i]])\n",
        "    #print(a)\n",
        "    related_product_list = a[1]\n",
        "    print(related_product_list)\n"
      ],
      "execution_count": null,
      "outputs": [
        {
          "output_type": "stream",
          "text": [
            "[[  6 478 765]]\n",
            "[[ 98 827 549]]\n",
            "[[846  28 325]]\n",
            "[[345 389 447]]\n",
            "[[634 136 930]]\n",
            "[[594 361 406]]\n",
            "[[731 539 365]]\n",
            "[[942 316 219]]\n",
            "[[833 577 821]]\n",
            "[[345 656 549]]\n",
            "[[744  54  71]]\n",
            "[[816 286 101]]\n",
            "[[643 942 135]]\n",
            "[[693 712 128]]\n",
            "[[160 801 105]]\n",
            "[[883 648 880]]\n",
            "[[142 218  95]]\n",
            "[[851 223 787]]\n",
            "[[187 818 694]]\n",
            "[[425 850 575]]\n",
            "[[197  42 646]]\n",
            "[[256 207 442]]\n",
            "[[871 115 928]]\n",
            "[[664 222 593]]\n",
            "[[863 270 118]]\n",
            "[[ 91 605 256]]\n",
            "[[752 274 743]]\n",
            "[[650 720 715]]\n",
            "[[ 72  73 556]]\n",
            "[[257 488 237]]\n",
            "[[ 37 257 237]]\n",
            "[[723 699 640]]\n",
            "[[527 614 606]]\n",
            "[[197 586 646]]\n",
            "[[739 718 698]]\n",
            "[[520 366 656]]\n",
            "[[219 455 406]]\n",
            "[[281 440 197]]\n",
            "[[563 619 555]]\n",
            "[[308 282 896]]\n",
            "[[637 266  87]]\n",
            "[[903  60 143]]\n",
            "[[356 801 634]]\n",
            "[[379 267 868]]\n",
            "[[654 607 285]]\n",
            "[[452 645 295]]\n",
            "[[658 173 157]]\n",
            "[[646 368 176]]\n",
            "[[449  31 750]]\n",
            "[[911 548 429]]\n"
          ],
          "name": "stdout"
        }
      ]
    },
    {
      "cell_type": "code",
      "metadata": {
        "id": "MIAphzPXt-kq"
      },
      "source": [
        "df"
      ],
      "execution_count": null,
      "outputs": []
    },
    {
      "cell_type": "code",
      "metadata": {
        "id": "kjInfPWewip9"
      },
      "source": [
        "kkk"
      ],
      "execution_count": null,
      "outputs": []
    },
    {
      "cell_type": "code",
      "metadata": {
        "id": "ksCTTUyudKQS"
      },
      "source": [
        "kkk\n",
        "kkk.info()"
      ],
      "execution_count": null,
      "outputs": []
    },
    {
      "cell_type": "code",
      "metadata": {
        "id": "4aFW75m5v5ct"
      },
      "source": [
        "a=kkk.loc[kkk['CustomerID'] == 15860]\n",
        "a\n",
        "#preprocessing df "
      ],
      "execution_count": null,
      "outputs": []
    },
    {
      "cell_type": "code",
      "metadata": {
        "id": "EIpr8QWycUaC",
        "colab": {
          "base_uri": "https://localhost:8080/"
        },
        "outputId": "c1ba3e76-036c-4963-d350-fe4d5390c85a"
      },
      "source": [
        "a=df3[\"CustomerID\"][5]\n",
        "print(a)"
      ],
      "execution_count": null,
      "outputs": [
        {
          "output_type": "stream",
          "text": [
            "12370\n"
          ],
          "name": "stdout"
        }
      ]
    },
    {
      "cell_type": "code",
      "metadata": {
        "colab": {
          "base_uri": "https://localhost:8080/"
        },
        "id": "SzINvhNXe_hZ",
        "outputId": "2b7dd510-62af-48f0-91c7-96ecd4929405"
      },
      "source": [
        "for i in range(lentest):\n",
        "    a = nbrs.kneighbors([df5_test[i]])\n",
        "    related_product_list = a[1]\n",
        "    \n",
        "    first_related_product = [item[0] for item in related_product_list]\n",
        "    first_related_product = str(first_related_product).strip('[]')\n",
        "    first_related_product = int(first_related_product)\n",
        "    second_related_product = [item[1] for item in related_product_list]\n",
        "    second_related_product = str(second_related_product).strip('[]')\n",
        "    second_related_product = int(second_related_product)\n",
        "    third_related_product = [item[2] for item in related_product_list]\n",
        "    third_related_product = str(third_related_product).strip('[]')\n",
        "    third_related_product = int(third_related_product)\n",
        "    \n",
        "    print (\"Based on  description, for user is \", df3[\"CustomerID\"][lentrain + i])\n",
        "\n",
        "    for i in range(3896):\n",
        "      if (kkk[\"CustomerID\"][i] == df3[\"CustomerID\"][first_related_product]):\n",
        "        print (\"The first similar user is \", df3[\"CustomerID\"][first_related_product], \".\") \n",
        "        print (\"He/She likes following products\")\n",
        "        for i in range(3896):\n",
        "            if (kkk[\"CustomerID\"][i] == df3[\"CustomerID\"][first_related_product]): \n",
        "                aaa= kkk[\"StockCode\"][i]\n",
        "                bbb= kkk[\"Rating\"][i]\n",
        "\n",
        "                print(aaa ,\" and it's rating is : \", bbb)\n",
        "        print (\"--------------------------------------------------------------------\")\n",
        "        break\n",
        "      \n",
        "        #print(\"_________\")\n",
        "    for i in range(3896):\n",
        "      if (kkk[\"CustomerID\"][i] == df3[\"CustomerID\"][second_related_product]):\n",
        "        print (\"The second similar user is \", df3[\"CustomerID\"][second_related_product], \".\") \n",
        "        print (\"He/She likes following products\")\n",
        "        for i in range(3896):\n",
        "            if (kkk[\"CustomerID\"][i] == df3[\"CustomerID\"][second_related_product]): \n",
        "                aaa= kkk[\"StockCode\"][i]\n",
        "                bbb=kkk[\"Rating\"][i]\n",
        "\n",
        "                print(aaa ,\" and it's rating is : \", bbb)\n",
        "        print (\"--------------------------------------------------------------------\")\n",
        "        break\n",
        "\n",
        "    for i in range(3896):\n",
        "      if (kkk[\"CustomerID\"][i] == df3[\"CustomerID\"][third_related_product]):\n",
        "        print (\"The third similar user is \", df3[\"CustomerID\"][third_related_product], \".\") \n",
        "        print (\"He/She likes following products\")\n",
        "        for i in range(3896):\n",
        "            if (kkk[\"CustomerID\"][i] == df3[\"CustomerID\"][third_related_product]): \n",
        "                aaa= kkk[\"StockCode\"][i]\n",
        "                bbb=kkk[\"Rating\"][i]\n",
        "\n",
        "                print(aaa ,\" and it's rating is : \", bbb)\n",
        "        print (\"--------------------------------------------------------------------\")\n",
        "        break\n",
        "      \n",
        "      \n",
        "\n",
        "    print (\"--------------------------------------------------------------------\")"
      ],
      "execution_count": null,
      "outputs": [
        {
          "output_type": "stream",
          "text": [
            "Based on  description, for user is  17961\n",
            "The second similar user is  15281 .\n",
            "He/She likes following products\n",
            "21280  and it's rating is :  5\n",
            "--------------------------------------------------------------------\n",
            "The third similar user is  16938 .\n",
            "He/She likes following products\n",
            "23338  and it's rating is :  4\n",
            "23285  and it's rating is :  5\n",
            "23288  and it's rating is :  4\n",
            "--------------------------------------------------------------------\n",
            "--------------------------------------------------------------------\n",
            "Based on  description, for user is  17964\n",
            "--------------------------------------------------------------------\n",
            "Based on  description, for user is  17965\n",
            "The first similar user is  17419 .\n",
            "He/She likes following products\n",
            "21773  and it's rating is :  5\n",
            "--------------------------------------------------------------------\n",
            "The third similar user is  14461 .\n",
            "He/She likes following products\n",
            "90036F  and it's rating is :  3\n",
            "90030B  and it's rating is :  3\n",
            "90131  and it's rating is :  4\n",
            "84551  and it's rating is :  5\n",
            "--------------------------------------------------------------------\n",
            "--------------------------------------------------------------------\n",
            "Based on  description, for user is  17974\n",
            "--------------------------------------------------------------------\n",
            "Based on  description, for user is  17975\n",
            "The second similar user is  13168 .\n",
            "He/She likes following products\n",
            "35638A  and it's rating is :  5\n",
            "--------------------------------------------------------------------\n",
            "The third similar user is  17837 .\n",
            "He/She likes following products\n",
            "90205C  and it's rating is :  4\n",
            "90205A  and it's rating is :  4\n",
            "--------------------------------------------------------------------\n",
            "--------------------------------------------------------------------\n",
            "Based on  description, for user is  17979\n",
            "The first similar user is  15987 .\n",
            "He/She likes following products\n",
            "22811  and it's rating is :  1\n",
            "21713  and it's rating is :  3\n",
            "20802  and it's rating is :  3\n",
            "22052  and it's rating is :  2\n",
            "20781  and it's rating is :  5\n",
            "22389  and it's rating is :  1\n",
            "90014C  and it's rating is :  2\n",
            "--------------------------------------------------------------------\n",
            "The third similar user is  14837 .\n",
            "He/She likes following products\n",
            "23435  and it's rating is :  5\n",
            "23434  and it's rating is :  1\n",
            "--------------------------------------------------------------------\n",
            "--------------------------------------------------------------------\n",
            "Based on  description, for user is  17997\n",
            "The third similar user is  14626 .\n",
            "He/She likes following products\n",
            "23484  and it's rating is :  4\n",
            "--------------------------------------------------------------------\n",
            "--------------------------------------------------------------------\n",
            "Based on  description, for user is  18016\n",
            "The first similar user is  17897 .\n",
            "He/She likes following products\n",
            "21621  and it's rating is :  1\n",
            "47563A  and it's rating is :  2\n",
            "84558A  and it's rating is :  5\n",
            "21577  and it's rating is :  5\n",
            "22087  and it's rating is :  5\n",
            "22651  and it's rating is :  1\n",
            "22713  and it's rating is :  1\n",
            "21370  and it's rating is :  5\n",
            "21367  and it's rating is :  5\n",
            "22376  and it's rating is :  2\n",
            "21895  and it's rating is :  4\n",
            "22372  and it's rating is :  2\n",
            "21190  and it's rating is :  5\n",
            "21894  and it's rating is :  4\n",
            "70007  and it's rating is :  2\n",
            "84596J  and it's rating is :  3\n",
            "85170A  and it's rating is :  3\n",
            "85059  and it's rating is :  5\n",
            "84497  and it's rating is :  3\n",
            "--------------------------------------------------------------------\n",
            "--------------------------------------------------------------------\n",
            "Based on  description, for user is  18022\n",
            "The third similar user is  17288 .\n",
            "He/She likes following products\n",
            "23561  and it's rating is :  4\n",
            "--------------------------------------------------------------------\n",
            "--------------------------------------------------------------------\n",
            "Based on  description, for user is  18034\n",
            "--------------------------------------------------------------------\n",
            "Based on  description, for user is  18041\n",
            "The first similar user is  16873 .\n",
            "He/She likes following products\n",
            "85230E  and it's rating is :  5\n",
            "22826  and it's rating is :  5\n",
            "22852  and it's rating is :  1\n",
            "--------------------------------------------------------------------\n",
            "The second similar user is  12626 .\n",
            "He/She likes following products\n",
            "22447  and it's rating is :  3\n",
            "--------------------------------------------------------------------\n",
            "The third similar user is  12709 .\n",
            "He/She likes following products\n",
            "22596  and it's rating is :  1\n",
            "23210  and it's rating is :  5\n",
            "23213  and it's rating is :  2\n",
            "23212  and it's rating is :  2\n",
            "23219  and it's rating is :  5\n",
            "23224  and it's rating is :  1\n",
            "23221  and it's rating is :  4\n",
            "--------------------------------------------------------------------\n",
            "--------------------------------------------------------------------\n",
            "Based on  description, for user is  18043\n",
            "The third similar user is  12947 .\n",
            "He/She likes following products\n",
            "21374  and it's rating is :  5\n",
            "21365  and it's rating is :  3\n",
            "84032A  and it's rating is :  2\n",
            "84031A  and it's rating is :  1\n",
            "21509  and it's rating is :  2\n",
            "22025  and it's rating is :  2\n",
            "16156L  and it's rating is :  3\n",
            "--------------------------------------------------------------------\n",
            "--------------------------------------------------------------------\n",
            "Based on  description, for user is  18044\n",
            "The first similar user is  16293 .\n",
            "He/She likes following products\n",
            "23085  and it's rating is :  2\n",
            "--------------------------------------------------------------------\n",
            "The second similar user is  17897 .\n",
            "He/She likes following products\n",
            "21621  and it's rating is :  1\n",
            "47563A  and it's rating is :  2\n",
            "84558A  and it's rating is :  5\n",
            "21577  and it's rating is :  5\n",
            "22087  and it's rating is :  5\n",
            "22651  and it's rating is :  1\n",
            "22713  and it's rating is :  1\n",
            "21370  and it's rating is :  5\n",
            "21367  and it's rating is :  5\n",
            "22376  and it's rating is :  2\n",
            "21895  and it's rating is :  4\n",
            "22372  and it's rating is :  2\n",
            "21190  and it's rating is :  5\n",
            "21894  and it's rating is :  4\n",
            "70007  and it's rating is :  2\n",
            "84596J  and it's rating is :  3\n",
            "85170A  and it's rating is :  3\n",
            "85059  and it's rating is :  5\n",
            "84497  and it's rating is :  3\n",
            "--------------------------------------------------------------------\n",
            "--------------------------------------------------------------------\n",
            "Based on  description, for user is  18055\n",
            "The third similar user is  13124 .\n",
            "He/She likes following products\n",
            "84929  and it's rating is :  3\n",
            "17012C  and it's rating is :  1\n",
            "21194  and it's rating is :  5\n",
            "21792  and it's rating is :  3\n",
            "35649  and it's rating is :  1\n",
            "--------------------------------------------------------------------\n",
            "--------------------------------------------------------------------\n",
            "Based on  description, for user is  18065\n",
            "--------------------------------------------------------------------\n",
            "Based on  description, for user is  18069\n",
            "The first similar user is  17613 .\n",
            "He/She likes following products\n",
            "20694  and it's rating is :  4\n",
            "--------------------------------------------------------------------\n",
            "The second similar user is  16327 .\n",
            "He/She likes following products\n",
            "35653  and it's rating is :  3\n",
            "85130D  and it's rating is :  4\n",
            "15039  and it's rating is :  3\n",
            "84978  and it's rating is :  2\n",
            "84569D  and it's rating is :  4\n",
            "72351A  and it's rating is :  1\n",
            "84921  and it's rating is :  2\n",
            "--------------------------------------------------------------------\n",
            "The third similar user is  17609 .\n",
            "He/She likes following products\n",
            "85200  and it's rating is :  3\n",
            "84231  and it's rating is :  5\n",
            "21461  and it's rating is :  2\n",
            "84462  and it's rating is :  5\n",
            "84461  and it's rating is :  4\n",
            "35922  and it's rating is :  4\n",
            "--------------------------------------------------------------------\n",
            "--------------------------------------------------------------------\n",
            "Based on  description, for user is  18075\n",
            "--------------------------------------------------------------------\n",
            "Based on  description, for user is  18077\n",
            "The second similar user is  13870 .\n",
            "He/She likes following products\n",
            "23197  and it's rating is :  1\n",
            "--------------------------------------------------------------------\n",
            "--------------------------------------------------------------------\n",
            "Based on  description, for user is  18079\n",
            "The third similar user is  16607 .\n",
            "He/She likes following products\n",
            "90209C  and it's rating is :  1\n",
            "16156L  and it's rating is :  5\n",
            "16169E  and it's rating is :  4\n",
            "--------------------------------------------------------------------\n",
            "--------------------------------------------------------------------\n",
            "Based on  description, for user is  18096\n",
            "The third similar user is  15862 .\n",
            "He/She likes following products\n",
            "22110  and it's rating is :  3\n",
            "22098  and it's rating is :  3\n",
            "22100  and it's rating is :  1\n",
            "22766  and it's rating is :  4\n",
            "22451  and it's rating is :  3\n",
            "22549  and it's rating is :  1\n",
            "84744  and it's rating is :  4\n",
            "85049E  and it's rating is :  3\n",
            "21328  and it's rating is :  3\n",
            "17091A  and it's rating is :  5\n",
            "22473  and it's rating is :  1\n",
            "84509A  and it's rating is :  4\n",
            "84510A  and it's rating is :  2\n",
            "22767  and it's rating is :  5\n",
            "22768  and it's rating is :  4\n",
            "21463  and it's rating is :  2\n",
            "21464  and it's rating is :  1\n",
            "20820  and it's rating is :  5\n",
            "85150  and it's rating is :  5\n",
            "22117  and it's rating is :  2\n",
            "48129  and it's rating is :  3\n",
            "82580  and it's rating is :  3\n",
            "82578  and it's rating is :  5\n",
            "82581  and it's rating is :  3\n",
            "22413  and it's rating is :  3\n",
            "21907  and it's rating is :  2\n",
            "22441  and it's rating is :  5\n",
            "21122  and it's rating is :  3\n",
            "22851  and it's rating is :  3\n",
            "22810  and it's rating is :  1\n",
            "22809  and it's rating is :  1\n",
            "22435  and it's rating is :  4\n",
            "20966  and it's rating is :  1\n",
            "20963  and it's rating is :  1\n",
            "20961  and it's rating is :  5\n",
            "22068  and it's rating is :  5\n",
            "21743  and it's rating is :  2\n",
            "21744  and it's rating is :  4\n",
            "84709B  and it's rating is :  3\n",
            "21592  and it's rating is :  2\n",
            "21587  and it's rating is :  5\n",
            "20992  and it's rating is :  2\n",
            "22804  and it's rating is :  1\n",
            "20749  and it's rating is :  3\n",
            "22382  and it's rating is :  1\n",
            "20726  and it's rating is :  3\n",
            "22384  and it's rating is :  2\n",
            "22467  and it's rating is :  3\n",
            "84625C  and it's rating is :  3\n",
            "84625A  and it's rating is :  1\n",
            "21108  and it's rating is :  4\n",
            "22848  and it's rating is :  4\n",
            "47570B  and it's rating is :  3\n",
            "--------------------------------------------------------------------\n",
            "--------------------------------------------------------------------\n",
            "Based on  description, for user is  18097\n",
            "The first similar user is  13659 .\n",
            "He/She likes following products\n",
            "71101E  and it's rating is :  3\n",
            "--------------------------------------------------------------------\n",
            "The second similar user is  12556 .\n",
            "He/She likes following products\n",
            "35645  and it's rating is :  1\n",
            "--------------------------------------------------------------------\n",
            "--------------------------------------------------------------------\n",
            "Based on  description, for user is  18102\n",
            "The second similar user is  13742 .\n",
            "He/She likes following products\n",
            "21317  and it's rating is :  2\n",
            "22785  and it's rating is :  1\n",
            "23247  and it's rating is :  1\n",
            "--------------------------------------------------------------------\n",
            "The third similar user is  15044 .\n",
            "He/She likes following products\n",
            "21793  and it's rating is :  3\n",
            "23099  and it's rating is :  3\n",
            "--------------------------------------------------------------------\n",
            "--------------------------------------------------------------------\n",
            "Based on  description, for user is  18109\n",
            "The first similar user is  17576 .\n",
            "He/She likes following products\n",
            "22734  and it's rating is :  1\n",
            "47578A  and it's rating is :  1\n",
            "35095B  and it's rating is :  2\n",
            "35095A  and it's rating is :  3\n",
            "--------------------------------------------------------------------\n",
            "The third similar user is  17813 .\n",
            "He/She likes following products\n",
            "23461  and it's rating is :  2\n",
            "--------------------------------------------------------------------\n",
            "--------------------------------------------------------------------\n",
            "Based on  description, for user is  18116\n",
            "The second similar user is  13869 .\n",
            "He/She likes following products\n",
            "85232A  and it's rating is :  2\n",
            "23330  and it's rating is :  2\n",
            "--------------------------------------------------------------------\n",
            "The third similar user is  15984 .\n",
            "He/She likes following products\n",
            "21293  and it's rating is :  3\n",
            "--------------------------------------------------------------------\n",
            "--------------------------------------------------------------------\n",
            "Based on  description, for user is  18118\n",
            "The first similar user is  17511 .\n",
            "He/She likes following products\n",
            "22962  and it's rating is :  2\n",
            "22963  and it's rating is :  4\n",
            "22968  and it's rating is :  2\n",
            "84970S  and it's rating is :  1\n",
            "22910  and it's rating is :  5\n",
            "20668  and it's rating is :  3\n",
            "22197  and it's rating is :  1\n",
            "22198  and it's rating is :  1\n",
            "21080  and it's rating is :  4\n",
            "21086  and it's rating is :  4\n",
            "21786  and it's rating is :  3\n",
            "22654  and it's rating is :  1\n",
            "21485  and it's rating is :  2\n",
            "84030E  and it's rating is :  1\n",
            "22174  and it's rating is :  1\n",
            "22257  and it's rating is :  2\n",
            "22258  and it's rating is :  1\n",
            "22259  and it's rating is :  5\n",
            "23547  and it's rating is :  5\n",
            "23548  and it's rating is :  4\n",
            "23501  and it's rating is :  2\n",
            "23692  and it's rating is :  3\n",
            "--------------------------------------------------------------------\n",
            "The second similar user is  14156 .\n",
            "He/She likes following products\n",
            "17084R  and it's rating is :  1\n",
            "17091J  and it's rating is :  4\n",
            "22967  and it's rating is :  2\n",
            "22957  and it's rating is :  2\n",
            "22896  and it's rating is :  2\n",
            "22199  and it's rating is :  4\n",
            "20914  and it's rating is :  1\n",
            "20725  and it's rating is :  4\n",
            "23010  and it's rating is :  2\n",
            "23032  and it's rating is :  2\n",
            "23028  and it's rating is :  2\n",
            "23271  and it's rating is :  4\n",
            "23131  and it's rating is :  1\n",
            "23360  and it's rating is :  4\n",
            "23236  and it's rating is :  1\n",
            "23413  and it's rating is :  2\n",
            "23409  and it's rating is :  5\n",
            "--------------------------------------------------------------------\n",
            "The third similar user is  13081 .\n",
            "He/She likes following products\n",
            "22348  and it's rating is :  3\n",
            "20829  and it's rating is :  3\n",
            "21224  and it's rating is :  2\n",
            "21721  and it's rating is :  2\n",
            "84988  and it's rating is :  1\n",
            "21947  and it's rating is :  2\n",
            "21726  and it's rating is :  1\n",
            "22200  and it's rating is :  3\n",
            "79320  and it's rating is :  1\n",
            "85042  and it's rating is :  5\n",
            "22182  and it's rating is :  5\n",
            "--------------------------------------------------------------------\n",
            "--------------------------------------------------------------------\n",
            "Based on  description, for user is  18122\n",
            "The second similar user is  16016 .\n",
            "He/She likes following products\n",
            "20763  and it's rating is :  5\n",
            "23283  and it's rating is :  4\n",
            "90201D  and it's rating is :  5\n",
            "90201C  and it's rating is :  4\n",
            "90201A  and it's rating is :  2\n",
            "--------------------------------------------------------------------\n",
            "--------------------------------------------------------------------\n",
            "Based on  description, for user is  18125\n",
            "The first similar user is  16898 .\n",
            "He/She likes following products\n",
            "21219  and it's rating is :  4\n",
            "84596B  and it's rating is :  2\n",
            "21226  and it's rating is :  4\n",
            "20869  and it's rating is :  2\n",
            "--------------------------------------------------------------------\n",
            "The third similar user is  16871 .\n",
            "He/She likes following products\n",
            "23212  and it's rating is :  3\n",
            "--------------------------------------------------------------------\n",
            "--------------------------------------------------------------------\n",
            "Based on  description, for user is  18139\n",
            "--------------------------------------------------------------------\n",
            "Based on  description, for user is  18145\n",
            "The third similar user is  15764 .\n",
            "He/She likes following products\n",
            "23181  and it's rating is :  4\n",
            "--------------------------------------------------------------------\n",
            "--------------------------------------------------------------------\n",
            "Based on  description, for user is  18156\n",
            "The first similar user is  14081 .\n",
            "He/She likes following products\n",
            "22134  and it's rating is :  1\n",
            "22949  and it's rating is :  3\n",
            "85036C  and it's rating is :  1\n",
            "85170D  and it's rating is :  4\n",
            "--------------------------------------------------------------------\n",
            "The second similar user is  15373 .\n",
            "He/She likes following products\n",
            "90099  and it's rating is :  2\n",
            "--------------------------------------------------------------------\n",
            "The third similar user is  13982 .\n",
            "He/She likes following products\n",
            "71143  and it's rating is :  2\n",
            "--------------------------------------------------------------------\n",
            "--------------------------------------------------------------------\n",
            "Based on  description, for user is  18168\n",
            "The first similar user is  12523 .\n",
            "He/She likes following products\n",
            "23468  and it's rating is :  4\n",
            "--------------------------------------------------------------------\n",
            "The second similar user is  14081 .\n",
            "He/She likes following products\n",
            "22134  and it's rating is :  1\n",
            "22949  and it's rating is :  3\n",
            "85036C  and it's rating is :  1\n",
            "85170D  and it's rating is :  4\n",
            "--------------------------------------------------------------------\n",
            "The third similar user is  13982 .\n",
            "He/She likes following products\n",
            "71143  and it's rating is :  2\n",
            "--------------------------------------------------------------------\n",
            "--------------------------------------------------------------------\n",
            "Based on  description, for user is  18172\n",
            "--------------------------------------------------------------------\n",
            "Based on  description, for user is  18180\n",
            "--------------------------------------------------------------------\n",
            "Based on  description, for user is  18196\n",
            "The first similar user is  13659 .\n",
            "He/She likes following products\n",
            "71101E  and it's rating is :  3\n",
            "--------------------------------------------------------------------\n",
            "--------------------------------------------------------------------\n",
            "Based on  description, for user is  18198\n",
            "The first similar user is  16818 .\n",
            "He/She likes following products\n",
            "21015  and it's rating is :  2\n",
            "23214  and it's rating is :  1\n",
            "23215  and it's rating is :  4\n",
            "--------------------------------------------------------------------\n",
            "--------------------------------------------------------------------\n",
            "Based on  description, for user is  18204\n",
            "The first similar user is  15549 .\n",
            "He/She likes following products\n",
            "85188A  and it's rating is :  5\n",
            "23320  and it's rating is :  5\n",
            "--------------------------------------------------------------------\n",
            "--------------------------------------------------------------------\n",
            "Based on  description, for user is  18210\n",
            "The third similar user is  14837 .\n",
            "He/She likes following products\n",
            "23435  and it's rating is :  5\n",
            "23434  and it's rating is :  1\n",
            "--------------------------------------------------------------------\n",
            "--------------------------------------------------------------------\n",
            "Based on  description, for user is  18219\n",
            "The first similar user is  14217 .\n",
            "He/She likes following products\n",
            "23086  and it's rating is :  4\n",
            "--------------------------------------------------------------------\n",
            "The second similar user is  15038 .\n",
            "He/She likes following products\n",
            "90185D  and it's rating is :  3\n",
            "90175A  and it's rating is :  2\n",
            "22458  and it's rating is :  3\n",
            "22459  and it's rating is :  1\n",
            "22156  and it's rating is :  4\n",
            "90024D  and it's rating is :  4\n",
            "--------------------------------------------------------------------\n",
            "The third similar user is  13659 .\n",
            "He/She likes following products\n",
            "71101E  and it's rating is :  3\n",
            "--------------------------------------------------------------------\n",
            "--------------------------------------------------------------------\n",
            "Based on  description, for user is  18223\n",
            "The first similar user is  15805 .\n",
            "He/She likes following products\n",
            "21562  and it's rating is :  5\n",
            "23134  and it's rating is :  4\n",
            "23133  and it's rating is :  4\n",
            "--------------------------------------------------------------------\n",
            "The third similar user is  15756 .\n",
            "He/She likes following products\n",
            "23084  and it's rating is :  2\n",
            "23281  and it's rating is :  5\n",
            "84706F  and it's rating is :  5\n",
            "--------------------------------------------------------------------\n",
            "--------------------------------------------------------------------\n",
            "Based on  description, for user is  18225\n",
            "The first similar user is  14388 .\n",
            "He/She likes following products\n",
            "22477  and it's rating is :  2\n",
            "21875  and it's rating is :  4\n",
            "22924  and it's rating is :  4\n",
            "21217  and it's rating is :  5\n",
            "--------------------------------------------------------------------\n",
            "The third similar user is  17677 .\n",
            "He/She likes following products\n",
            "23280  and it's rating is :  4\n",
            "23109  and it's rating is :  1\n",
            "23120  and it's rating is :  5\n",
            "23121  and it's rating is :  2\n",
            "23545  and it's rating is :  1\n",
            "23490  and it's rating is :  5\n",
            "23453  and it's rating is :  4\n",
            "--------------------------------------------------------------------\n",
            "--------------------------------------------------------------------\n",
            "Based on  description, for user is  18226\n",
            "--------------------------------------------------------------------\n",
            "Based on  description, for user is  18229\n",
            "--------------------------------------------------------------------\n",
            "Based on  description, for user is  18231\n",
            "The first similar user is  14584 .\n",
            "He/She likes following products\n",
            "23323  and it's rating is :  4\n",
            "--------------------------------------------------------------------\n",
            "--------------------------------------------------------------------\n",
            "Based on  description, for user is  18235\n",
            "--------------------------------------------------------------------\n",
            "Based on  description, for user is  18241\n",
            "--------------------------------------------------------------------\n",
            "Based on  description, for user is  18245\n",
            "The first similar user is  15089 .\n",
            "He/She likes following products\n",
            "90019C  and it's rating is :  2\n",
            "90038A  and it's rating is :  2\n",
            "--------------------------------------------------------------------\n",
            "--------------------------------------------------------------------\n",
            "Based on  description, for user is  18257\n",
            "The second similar user is  13481 .\n",
            "He/She likes following products\n",
            "23582  and it's rating is :  4\n",
            "--------------------------------------------------------------------\n",
            "--------------------------------------------------------------------\n",
            "Based on  description, for user is  18260\n",
            "The second similar user is  14640 .\n",
            "He/She likes following products\n",
            "23015  and it's rating is :  4\n",
            "23024  and it's rating is :  2\n",
            "--------------------------------------------------------------------\n",
            "--------------------------------------------------------------------\n",
            "Based on  description, for user is  18272\n",
            "The third similar user is  16891 .\n",
            "He/She likes following products\n",
            "22154  and it's rating is :  1\n",
            "84993A  and it's rating is :  2\n",
            "84987  and it's rating is :  1\n",
            "20998  and it's rating is :  5\n",
            "21407  and it's rating is :  2\n",
            "22702  and it's rating is :  5\n",
            "22550  and it's rating is :  5\n",
            "22076  and it's rating is :  5\n",
            "84925D  and it's rating is :  3\n",
            "84520B  and it's rating is :  4\n",
            "21078  and it's rating is :  4\n",
            "--------------------------------------------------------------------\n",
            "--------------------------------------------------------------------\n",
            "Based on  description, for user is  18283\n",
            "The first similar user is  17735 .\n",
            "He/She likes following products\n",
            "84809B  and it's rating is :  2\n",
            "--------------------------------------------------------------------\n",
            "The third similar user is  15005 .\n",
            "He/She likes following products\n",
            "84507B  and it's rating is :  5\n",
            "85023C  and it's rating is :  1\n",
            "23405  and it's rating is :  2\n",
            "--------------------------------------------------------------------\n",
            "--------------------------------------------------------------------\n"
          ],
          "name": "stdout"
        }
      ]
    },
    {
      "cell_type": "code",
      "metadata": {
        "colab": {
          "base_uri": "https://localhost:8080/",
          "height": 97
        },
        "id": "N41QkbHz3FyQ",
        "outputId": "0b0bd293-d2e4-4f60-f9d4-584615541f7c"
      },
      "source": [
        "user=int(input(\"enter Customer ID for recommendation : \"))\n",
        "a=df3.loc[df3['CustomerID'] == user]\n",
        "a\n",
        "#b=df3[df3['CustomerID']==user].index.values)\n",
        "#b"
      ],
      "execution_count": null,
      "outputs": [
        {
          "output_type": "stream",
          "text": [
            "enter Customer ID for recommendation : 15005\n"
          ],
          "name": "stdout"
        },
        {
          "output_type": "execute_result",
          "data": {
            "text/html": [
              "<div>\n",
              "<style scoped>\n",
              "    .dataframe tbody tr th:only-of-type {\n",
              "        vertical-align: middle;\n",
              "    }\n",
              "\n",
              "    .dataframe tbody tr th {\n",
              "        vertical-align: top;\n",
              "    }\n",
              "\n",
              "    .dataframe thead th {\n",
              "        text-align: right;\n",
              "    }\n",
              "</style>\n",
              "<table border=\"1\" class=\"dataframe\">\n",
              "  <thead>\n",
              "    <tr style=\"text-align: right;\">\n",
              "      <th></th>\n",
              "      <th>index</th>\n",
              "      <th>CustomerID</th>\n",
              "      <th>Description</th>\n",
              "      <th>Rating</th>\n",
              "      <th>Description_clean</th>\n",
              "    </tr>\n",
              "  </thead>\n",
              "  <tbody>\n",
              "    <tr>\n",
              "      <th>429</th>\n",
              "      <td>506</td>\n",
              "      <td>15005</td>\n",
              "      <td>['PINK CREAM FELT CRAFT TRINKET BOX ', 'LUNCH ...</td>\n",
              "      <td>2.978448</td>\n",
              "      <td>pink cream felt craft trinket box lunch box i ...</td>\n",
              "    </tr>\n",
              "  </tbody>\n",
              "</table>\n",
              "</div>"
            ],
            "text/plain": [
              "     index  ...                                  Description_clean\n",
              "429    506  ...  pink cream felt craft trinket box lunch box i ...\n",
              "\n",
              "[1 rows x 5 columns]"
            ]
          },
          "metadata": {
            "tags": []
          },
          "execution_count": 41
        }
      ]
    },
    {
      "cell_type": "code",
      "metadata": {
        "colab": {
          "base_uri": "https://localhost:8080/"
        },
        "id": "5zeh_NlI6Dci",
        "outputId": "89c140bb-3484-485d-df86-9bb6bb5e1e8b"
      },
      "source": [
        "b=df3[df3['CustomerID']==user].index.values\n",
        "b\n",
        "b= str(b).strip('[]')\n",
        "b= int(b)\n",
        "b"
      ],
      "execution_count": null,
      "outputs": [
        {
          "output_type": "execute_result",
          "data": {
            "text/plain": [
              "429"
            ]
          },
          "metadata": {
            "tags": []
          },
          "execution_count": 42
        }
      ]
    },
    {
      "cell_type": "code",
      "metadata": {
        "colab": {
          "base_uri": "https://localhost:8080/",
          "height": 129
        },
        "id": "7ZZPtyim74ei",
        "outputId": "e02829e9-1041-4ec4-802f-4635b4f86754"
      },
      "source": [
        "c=df5.loc[[b]]\n",
        "c"
      ],
      "execution_count": null,
      "outputs": [
        {
          "output_type": "execute_result",
          "data": {
            "text/html": [
              "<div>\n",
              "<style scoped>\n",
              "    .dataframe tbody tr th:only-of-type {\n",
              "        vertical-align: middle;\n",
              "    }\n",
              "\n",
              "    .dataframe tbody tr th {\n",
              "        vertical-align: top;\n",
              "    }\n",
              "\n",
              "    .dataframe thead th {\n",
              "        text-align: right;\n",
              "    }\n",
              "</style>\n",
              "<table border=\"1\" class=\"dataframe\">\n",
              "  <thead>\n",
              "    <tr style=\"text-align: right;\">\n",
              "      <th></th>\n",
              "      <th>alarm</th>\n",
              "      <th>antique</th>\n",
              "      <th>assorted</th>\n",
              "      <th>bag</th>\n",
              "      <th>bakelike</th>\n",
              "      <th>bird</th>\n",
              "      <th>birthday</th>\n",
              "      <th>black</th>\n",
              "      <th>blue</th>\n",
              "      <th>bottle</th>\n",
              "      <th>bowl</th>\n",
              "      <th>box</th>\n",
              "      <th>bunting</th>\n",
              "      <th>cake</th>\n",
              "      <th>candles</th>\n",
              "      <th>card</th>\n",
              "      <th>cases</th>\n",
              "      <th>ceramic</th>\n",
              "      <th>charlotte</th>\n",
              "      <th>childrens</th>\n",
              "      <th>christmas</th>\n",
              "      <th>clock</th>\n",
              "      <th>colour</th>\n",
              "      <th>cream</th>\n",
              "      <th>cup</th>\n",
              "      <th>cutlery</th>\n",
              "      <th>decoration</th>\n",
              "      <th>design</th>\n",
              "      <th>doily</th>\n",
              "      <th>dolly</th>\n",
              "      <th>doormat</th>\n",
              "      <th>drawer</th>\n",
              "      <th>egg</th>\n",
              "      <th>fairy</th>\n",
              "      <th>feltcraft</th>\n",
              "      <th>frame</th>\n",
              "      <th>garden</th>\n",
              "      <th>girl</th>\n",
              "      <th>glass</th>\n",
              "      <th>green</th>\n",
              "      <th>...</th>\n",
              "      <th>mini</th>\n",
              "      <th>mug</th>\n",
              "      <th>pack</th>\n",
              "      <th>paisley</th>\n",
              "      <th>pantry</th>\n",
              "      <th>paper</th>\n",
              "      <th>party</th>\n",
              "      <th>pencils</th>\n",
              "      <th>pink</th>\n",
              "      <th>polkadot</th>\n",
              "      <th>red</th>\n",
              "      <th>regency</th>\n",
              "      <th>retrospot</th>\n",
              "      <th>rose</th>\n",
              "      <th>set</th>\n",
              "      <th>sign</th>\n",
              "      <th>silver</th>\n",
              "      <th>skull</th>\n",
              "      <th>small</th>\n",
              "      <th>spaceboy</th>\n",
              "      <th>star</th>\n",
              "      <th>storage</th>\n",
              "      <th>strawberry</th>\n",
              "      <th>suki</th>\n",
              "      <th>tea</th>\n",
              "      <th>tin</th>\n",
              "      <th>tins</th>\n",
              "      <th>travel</th>\n",
              "      <th>union</th>\n",
              "      <th>vintage</th>\n",
              "      <th>wall</th>\n",
              "      <th>warmer</th>\n",
              "      <th>water</th>\n",
              "      <th>white</th>\n",
              "      <th>wicker</th>\n",
              "      <th>wood</th>\n",
              "      <th>wooden</th>\n",
              "      <th>woodland</th>\n",
              "      <th>wrap</th>\n",
              "      <th>zinc</th>\n",
              "    </tr>\n",
              "  </thead>\n",
              "  <tbody>\n",
              "    <tr>\n",
              "      <th>429</th>\n",
              "      <td>0</td>\n",
              "      <td>11</td>\n",
              "      <td>7</td>\n",
              "      <td>365</td>\n",
              "      <td>0</td>\n",
              "      <td>3</td>\n",
              "      <td>0</td>\n",
              "      <td>30</td>\n",
              "      <td>41</td>\n",
              "      <td>8</td>\n",
              "      <td>31</td>\n",
              "      <td>60</td>\n",
              "      <td>26</td>\n",
              "      <td>67</td>\n",
              "      <td>3</td>\n",
              "      <td>45</td>\n",
              "      <td>1</td>\n",
              "      <td>68</td>\n",
              "      <td>111</td>\n",
              "      <td>13</td>\n",
              "      <td>22</td>\n",
              "      <td>0</td>\n",
              "      <td>7</td>\n",
              "      <td>8</td>\n",
              "      <td>14</td>\n",
              "      <td>8</td>\n",
              "      <td>5</td>\n",
              "      <td>193</td>\n",
              "      <td>11</td>\n",
              "      <td>64</td>\n",
              "      <td>11</td>\n",
              "      <td>15</td>\n",
              "      <td>1</td>\n",
              "      <td>27</td>\n",
              "      <td>8</td>\n",
              "      <td>30</td>\n",
              "      <td>2</td>\n",
              "      <td>62</td>\n",
              "      <td>9</td>\n",
              "      <td>3</td>\n",
              "      <td>...</td>\n",
              "      <td>14</td>\n",
              "      <td>25</td>\n",
              "      <td>4</td>\n",
              "      <td>21</td>\n",
              "      <td>19</td>\n",
              "      <td>2</td>\n",
              "      <td>18</td>\n",
              "      <td>11</td>\n",
              "      <td>121</td>\n",
              "      <td>55</td>\n",
              "      <td>68</td>\n",
              "      <td>1</td>\n",
              "      <td>73</td>\n",
              "      <td>11</td>\n",
              "      <td>71</td>\n",
              "      <td>47</td>\n",
              "      <td>4</td>\n",
              "      <td>16</td>\n",
              "      <td>43</td>\n",
              "      <td>52</td>\n",
              "      <td>2</td>\n",
              "      <td>21</td>\n",
              "      <td>47</td>\n",
              "      <td>37</td>\n",
              "      <td>27</td>\n",
              "      <td>3</td>\n",
              "      <td>18</td>\n",
              "      <td>37</td>\n",
              "      <td>9</td>\n",
              "      <td>79</td>\n",
              "      <td>18</td>\n",
              "      <td>4</td>\n",
              "      <td>8</td>\n",
              "      <td>87</td>\n",
              "      <td>18</td>\n",
              "      <td>28</td>\n",
              "      <td>19</td>\n",
              "      <td>25</td>\n",
              "      <td>3</td>\n",
              "      <td>1</td>\n",
              "    </tr>\n",
              "  </tbody>\n",
              "</table>\n",
              "<p>1 rows × 100 columns</p>\n",
              "</div>"
            ],
            "text/plain": [
              "     alarm  antique  assorted  bag  ...  wooden  woodland  wrap  zinc\n",
              "429      0       11         7  365  ...      19        25     3     1\n",
              "\n",
              "[1 rows x 100 columns]"
            ]
          },
          "metadata": {
            "tags": []
          },
          "execution_count": 43
        }
      ]
    },
    {
      "cell_type": "code",
      "metadata": {
        "colab": {
          "base_uri": "https://localhost:8080/"
        },
        "id": "eeyOHLR64wQs",
        "outputId": "fe8939df-127c-40bf-84f1-da0205b2e965"
      },
      "source": [
        "X = np.array(c)\n",
        "print(X)\n"
      ],
      "execution_count": null,
      "outputs": [
        {
          "output_type": "stream",
          "text": [
            "[[  0  11   7 365   0   3   0  30  41   8  31  60  26  67   3  45   1  68\n",
            "  111  13  22   0   7   8  14   8   5 193  11  64  11  15   1  27   8  30\n",
            "    2  62   9   3   9  47  92  10  28  11  17   2   2   1 142   3   0  15\n",
            "   24   1  17  30 133  40  14  25   4  21  19   2  18  11 121  55  68   1\n",
            "   73  11  71  47   4  16  43  52   2  21  47  37  27   3  18  37   9  79\n",
            "   18   4   8  87  18  28  19  25   3   1]]\n"
          ],
          "name": "stdout"
        }
      ]
    },
    {
      "cell_type": "code",
      "metadata": {
        "colab": {
          "base_uri": "https://localhost:8080/"
        },
        "id": "QNUlpxZr9K_9",
        "outputId": "7e2be795-6636-41d0-9bb2-4e32c694a0c4"
      },
      "source": [
        "a = nbrs.kneighbors(c)\n",
        "related_product_list = a[1]\n",
        "related_product_list"
      ],
      "execution_count": null,
      "outputs": [
        {
          "output_type": "execute_result",
          "data": {
            "text/plain": [
              "array([[429, 548, 271]])"
            ]
          },
          "metadata": {
            "tags": []
          },
          "execution_count": 45
        }
      ]
    },
    {
      "cell_type": "code",
      "metadata": {
        "colab": {
          "base_uri": "https://localhost:8080/"
        },
        "id": "atqu10pN-63X",
        "outputId": "c2b5ef6c-b505-4613-b7aa-e6be1a15fb4f"
      },
      "source": [
        "first_related_product = [item[0] for item in related_product_list]\n",
        "first_related_product = str(first_related_product).strip('[]')\n",
        "first_related_product = int(first_related_product)\n",
        "\n",
        "print (\"Based on  description, for user is \", user)\n",
        "\n",
        "for i in range(3896):\n",
        "  if (kkk[\"CustomerID\"][i] == df3[\"CustomerID\"][first_related_product]):\n",
        "    print (\"The first similar user is \", df3[\"CustomerID\"][first_related_product], \".\") \n",
        "    print (\"He/She likes following products\")\n",
        "    for i in range(3896):\n",
        "        if (kkk[\"CustomerID\"][i] == df3[\"CustomerID\"][first_related_product]): \n",
        "            aaa= kkk[\"StockCode\"][i]\n",
        "            bbb=kkk[\"Rating\"][i]\n",
        "\n",
        "            print(aaa ,\" and it's rating is : \", bbb)\n",
        "    print (\"--------------------------------------------------------------------\")\n",
        "    break"
      ],
      "execution_count": null,
      "outputs": [
        {
          "output_type": "stream",
          "text": [
            "Based on  description, for user is  15005\n",
            "The first similar user is  15005 .\n",
            "He/She likes following products\n",
            "84507B  and it's rating is :  5\n",
            "85023C  and it's rating is :  1\n",
            "23405  and it's rating is :  2\n",
            "--------------------------------------------------------------------\n"
          ],
          "name": "stdout"
        }
      ]
    },
    {
      "cell_type": "code",
      "metadata": {
        "colab": {
          "base_uri": "https://localhost:8080/"
        },
        "id": "N5EJ7KhsO40P",
        "outputId": "89c69ac3-0577-4d42-c79b-ce8baed7c5a0"
      },
      "source": [
        "#Final code for personalised recommendation\n",
        "\n",
        "user=int(input(\"enter Customer ID for recommendation : \"))\n",
        "a=df3.loc[df3['CustomerID'] == user]\n",
        "b=df3[df3['CustomerID']==user].index.values\n",
        "b= str(b).strip('[]')\n",
        "b= int(b)\n",
        "c=df5.loc[[b]]\n",
        "\n",
        "X = np.array(c)\n",
        "\n",
        "a = nbrs.kneighbors(c)\n",
        "related_product_list = a[1]\n",
        "\n",
        "first_related_product = [item[0] for item in related_product_list]\n",
        "first_related_product = str(first_related_product).strip('[]')\n",
        "first_related_product = int(first_related_product)\n",
        "second_related_product = [item[1] for item in related_product_list]\n",
        "second_related_product = str(second_related_product).strip('[]')\n",
        "second_related_product = int(second_related_product)\n",
        "third_related_product = [item[2] for item in related_product_list]\n",
        "third_related_product = str(third_related_product).strip('[]')\n",
        "third_related_product = int(third_related_product)\n",
        "\n",
        "print (\"Based on  description, for user is \", user)\n",
        "\n",
        "for i in range(3896):\n",
        "  if (kkk[\"CustomerID\"][i] == df3[\"CustomerID\"][first_related_product]):\n",
        "    print (\"The first similar user is \", df3[\"CustomerID\"][first_related_product], \".\") \n",
        "    print (\"He/She likes following products\")\n",
        "    for i in range(3896):\n",
        "        if (kkk[\"CustomerID\"][i] == df3[\"CustomerID\"][first_related_product]): \n",
        "            aaa= kkk[\"StockCode\"][i]\n",
        "            bbb=kkk[\"Rating\"][i]\n",
        "\n",
        "            print(aaa ,\" and it's rating is : \", bbb)\n",
        "    print (\"--------------------------------------------------------------------\")\n",
        "    break\n",
        "\n",
        "for i in range(3896):\n",
        "  if (kkk[\"CustomerID\"][i] == df3[\"CustomerID\"][second_related_product]):\n",
        "    print (\"The second similar user is \", df3[\"CustomerID\"][second_related_product], \".\") \n",
        "    print (\"He/She likes following products\")\n",
        "    for i in range(3896):\n",
        "        if (kkk[\"CustomerID\"][i] == df3[\"CustomerID\"][second_related_product]): \n",
        "            aaa= kkk[\"StockCode\"][i]\n",
        "            bbb=kkk[\"Rating\"][i]\n",
        "\n",
        "            print(aaa ,\" and it's rating is : \", bbb)\n",
        "    print (\"--------------------------------------------------------------------\")\n",
        "    break\n",
        "\n",
        "for i in range(3896):\n",
        "  if (kkk[\"CustomerID\"][i] == df3[\"CustomerID\"][third_related_product]):\n",
        "    print (\"The third similar user is \", df3[\"CustomerID\"][third_related_product], \".\") \n",
        "    print (\"He/She likes following products\")\n",
        "    for i in range(3896):\n",
        "        if (kkk[\"CustomerID\"][i] == df3[\"CustomerID\"][third_related_product]): \n",
        "            aaa= kkk[\"StockCode\"][i]\n",
        "            bbb=kkk[\"Rating\"][i]\n",
        "\n",
        "            print(aaa ,\" and it's rating is : \", bbb)\n",
        "    print (\"--------------------------------------------------------------------\")\n",
        "    break\n",
        "      \n",
        "      \n",
        "\n",
        "print (\"--------------------------------------------------------------------\")\n",
        "\n",
        "\n"
      ],
      "execution_count": null,
      "outputs": [
        {
          "output_type": "stream",
          "text": [
            "enter Customer ID for recommendation : 15005\n",
            "Based on  description, for user is  15005\n",
            "The first similar user is  15005 .\n",
            "He/She likes following products\n",
            "84507B  and it's rating is :  5\n",
            "85023C  and it's rating is :  1\n",
            "23405  and it's rating is :  2\n",
            "--------------------------------------------------------------------\n",
            "The third similar user is  14159 .\n",
            "He/She likes following products\n",
            "23308  and it's rating is :  2\n",
            "23273  and it's rating is :  1\n",
            "23274  and it's rating is :  2\n",
            "23197  and it's rating is :  2\n",
            "23196  and it's rating is :  4\n",
            "81953P  and it's rating is :  5\n",
            "23379  and it's rating is :  4\n",
            "23381  and it's rating is :  3\n",
            "23380  and it's rating is :  3\n",
            "23402  and it's rating is :  2\n",
            "23403  and it's rating is :  1\n",
            "23495  and it's rating is :  3\n",
            "23496  and it's rating is :  1\n",
            "--------------------------------------------------------------------\n",
            "--------------------------------------------------------------------\n"
          ],
          "name": "stdout"
        }
      ]
    },
    {
      "cell_type": "markdown",
      "metadata": {
        "id": "R2N9jSBRDcks"
      },
      "source": [
        "**RFM Analysis**"
      ]
    },
    {
      "cell_type": "code",
      "metadata": {
        "id": "gxAZ3dUMZzys"
      },
      "source": [
        "# RFM Analysis\n",
        "\n",
        "# imported required libraries for clustering\n",
        "\n",
        "import numpy as np\n",
        "import pandas as pd\n",
        "import matplotlib.pyplot as plt\n",
        "import seaborn as sns\n",
        "import datetime as dt\n",
        "\n",
        "import sklearn\n",
        "from sklearn.preprocessing import StandardScaler\n",
        "from sklearn.cluster import KMeans\n",
        "from sklearn.metrics import silhouette_score\n",
        "from scipy.cluster.hierarchy import linkage\n",
        "from scipy.cluster.hierarchy import dendrogram\n",
        "from scipy.cluster.hierarchy import cut_tree"
      ],
      "execution_count": null,
      "outputs": []
    },
    {
      "cell_type": "code",
      "metadata": {
        "id": "yyHHGh5LjBws"
      },
      "source": [
        "df.head()"
      ],
      "execution_count": null,
      "outputs": []
    },
    {
      "cell_type": "code",
      "metadata": {
        "colab": {
          "base_uri": "https://localhost:8080/"
        },
        "id": "cwqzr1QCjPYU",
        "outputId": "e551170a-efbf-488d-c23a-8bf58af86de4"
      },
      "source": [
        "df.shape"
      ],
      "execution_count": null,
      "outputs": [
        {
          "output_type": "execute_result",
          "data": {
            "text/plain": [
              "(406829, 13)"
            ]
          },
          "metadata": {
            "tags": []
          },
          "execution_count": 50
        }
      ]
    },
    {
      "cell_type": "code",
      "metadata": {
        "colab": {
          "base_uri": "https://localhost:8080/"
        },
        "id": "CP3fhluPjVBg",
        "outputId": "32379635-7bea-43e1-fddb-fc2bf0e79665"
      },
      "source": [
        "df.info()"
      ],
      "execution_count": null,
      "outputs": [
        {
          "output_type": "stream",
          "text": [
            "<class 'pandas.core.frame.DataFrame'>\n",
            "Int64Index: 406829 entries, 0 to 541908\n",
            "Data columns (total 13 columns):\n",
            " #   Column         Non-Null Count   Dtype         \n",
            "---  ------         --------------   -----         \n",
            " 0   InvoiceNo      406829 non-null  object        \n",
            " 1   StockCode      406829 non-null  object        \n",
            " 2   Description    406829 non-null  object        \n",
            " 3   Quantity       406829 non-null  int64         \n",
            " 4   InvoiceDate    406829 non-null  datetime64[ns]\n",
            " 5   UnitPrice      406829 non-null  float64       \n",
            " 6   CustomerID     406829 non-null  int64         \n",
            " 7   Country        406829 non-null  object        \n",
            " 8   Rating         406829 non-null  int64         \n",
            " 9   used_discount  406829 non-null  int64         \n",
            " 10  used_bogo      406829 non-null  int64         \n",
            " 11  Offer          406829 non-null  object        \n",
            " 12  Day_Name       406829 non-null  object        \n",
            "dtypes: datetime64[ns](1), float64(1), int64(5), object(6)\n",
            "memory usage: 43.5+ MB\n"
          ],
          "name": "stdout"
        }
      ]
    },
    {
      "cell_type": "code",
      "metadata": {
        "colab": {
          "base_uri": "https://localhost:8080/",
          "height": 297
        },
        "id": "0nPC9gkhjvRx",
        "outputId": "fbebc7dd-e85f-454e-8a8c-4a0dac882e87"
      },
      "source": [
        "df.describe()"
      ],
      "execution_count": null,
      "outputs": [
        {
          "output_type": "execute_result",
          "data": {
            "text/html": [
              "<div>\n",
              "<style scoped>\n",
              "    .dataframe tbody tr th:only-of-type {\n",
              "        vertical-align: middle;\n",
              "    }\n",
              "\n",
              "    .dataframe tbody tr th {\n",
              "        vertical-align: top;\n",
              "    }\n",
              "\n",
              "    .dataframe thead th {\n",
              "        text-align: right;\n",
              "    }\n",
              "</style>\n",
              "<table border=\"1\" class=\"dataframe\">\n",
              "  <thead>\n",
              "    <tr style=\"text-align: right;\">\n",
              "      <th></th>\n",
              "      <th>Quantity</th>\n",
              "      <th>UnitPrice</th>\n",
              "      <th>CustomerID</th>\n",
              "      <th>Rating</th>\n",
              "      <th>used_discount</th>\n",
              "      <th>used_bogo</th>\n",
              "    </tr>\n",
              "  </thead>\n",
              "  <tbody>\n",
              "    <tr>\n",
              "      <th>count</th>\n",
              "      <td>406829.000000</td>\n",
              "      <td>406829.000000</td>\n",
              "      <td>406829.000000</td>\n",
              "      <td>406829.000000</td>\n",
              "      <td>406829.000000</td>\n",
              "      <td>406829.000000</td>\n",
              "    </tr>\n",
              "    <tr>\n",
              "      <th>mean</th>\n",
              "      <td>12.061303</td>\n",
              "      <td>3.460471</td>\n",
              "      <td>15287.690570</td>\n",
              "      <td>2.997893</td>\n",
              "      <td>0.500466</td>\n",
              "      <td>0.499534</td>\n",
              "    </tr>\n",
              "    <tr>\n",
              "      <th>std</th>\n",
              "      <td>248.693370</td>\n",
              "      <td>69.315162</td>\n",
              "      <td>1713.600303</td>\n",
              "      <td>1.412745</td>\n",
              "      <td>0.500000</td>\n",
              "      <td>0.500000</td>\n",
              "    </tr>\n",
              "    <tr>\n",
              "      <th>min</th>\n",
              "      <td>-80995.000000</td>\n",
              "      <td>0.000000</td>\n",
              "      <td>12346.000000</td>\n",
              "      <td>1.000000</td>\n",
              "      <td>0.000000</td>\n",
              "      <td>0.000000</td>\n",
              "    </tr>\n",
              "    <tr>\n",
              "      <th>25%</th>\n",
              "      <td>2.000000</td>\n",
              "      <td>1.250000</td>\n",
              "      <td>13953.000000</td>\n",
              "      <td>2.000000</td>\n",
              "      <td>0.000000</td>\n",
              "      <td>0.000000</td>\n",
              "    </tr>\n",
              "    <tr>\n",
              "      <th>50%</th>\n",
              "      <td>5.000000</td>\n",
              "      <td>1.950000</td>\n",
              "      <td>15152.000000</td>\n",
              "      <td>3.000000</td>\n",
              "      <td>1.000000</td>\n",
              "      <td>0.000000</td>\n",
              "    </tr>\n",
              "    <tr>\n",
              "      <th>75%</th>\n",
              "      <td>12.000000</td>\n",
              "      <td>3.750000</td>\n",
              "      <td>16791.000000</td>\n",
              "      <td>4.000000</td>\n",
              "      <td>1.000000</td>\n",
              "      <td>1.000000</td>\n",
              "    </tr>\n",
              "    <tr>\n",
              "      <th>max</th>\n",
              "      <td>80995.000000</td>\n",
              "      <td>38970.000000</td>\n",
              "      <td>18287.000000</td>\n",
              "      <td>5.000000</td>\n",
              "      <td>1.000000</td>\n",
              "      <td>1.000000</td>\n",
              "    </tr>\n",
              "  </tbody>\n",
              "</table>\n",
              "</div>"
            ],
            "text/plain": [
              "            Quantity      UnitPrice  ...  used_discount      used_bogo\n",
              "count  406829.000000  406829.000000  ...  406829.000000  406829.000000\n",
              "mean       12.061303       3.460471  ...       0.500466       0.499534\n",
              "std       248.693370      69.315162  ...       0.500000       0.500000\n",
              "min    -80995.000000       0.000000  ...       0.000000       0.000000\n",
              "25%         2.000000       1.250000  ...       0.000000       0.000000\n",
              "50%         5.000000       1.950000  ...       1.000000       0.000000\n",
              "75%        12.000000       3.750000  ...       1.000000       1.000000\n",
              "max     80995.000000   38970.000000  ...       1.000000       1.000000\n",
              "\n",
              "[8 rows x 6 columns]"
            ]
          },
          "metadata": {
            "tags": []
          },
          "execution_count": 52
        }
      ]
    },
    {
      "cell_type": "code",
      "metadata": {
        "id": "3qNKPY25jnkx"
      },
      "source": [
        "df['CustomerID'] = df['CustomerID'].astype(str)"
      ],
      "execution_count": null,
      "outputs": []
    },
    {
      "cell_type": "code",
      "metadata": {
        "id": "b79ufmLUkLnp",
        "colab": {
          "base_uri": "https://localhost:8080/"
        },
        "outputId": "247f3fc1-5803-4fe1-c0cc-0daac46f5a2e"
      },
      "source": [
        "df.info()"
      ],
      "execution_count": null,
      "outputs": [
        {
          "output_type": "stream",
          "text": [
            "<class 'pandas.core.frame.DataFrame'>\n",
            "Int64Index: 406829 entries, 0 to 541908\n",
            "Data columns (total 13 columns):\n",
            " #   Column         Non-Null Count   Dtype         \n",
            "---  ------         --------------   -----         \n",
            " 0   InvoiceNo      406829 non-null  object        \n",
            " 1   StockCode      406829 non-null  object        \n",
            " 2   Description    406829 non-null  object        \n",
            " 3   Quantity       406829 non-null  int64         \n",
            " 4   InvoiceDate    406829 non-null  datetime64[ns]\n",
            " 5   UnitPrice      406829 non-null  float64       \n",
            " 6   CustomerID     406829 non-null  object        \n",
            " 7   Country        406829 non-null  object        \n",
            " 8   Rating         406829 non-null  int64         \n",
            " 9   used_discount  406829 non-null  int64         \n",
            " 10  used_bogo      406829 non-null  int64         \n",
            " 11  Offer          406829 non-null  object        \n",
            " 12  Day_Name       406829 non-null  object        \n",
            "dtypes: datetime64[ns](1), float64(1), int64(4), object(7)\n",
            "memory usage: 43.5+ MB\n"
          ],
          "name": "stdout"
        }
      ]
    },
    {
      "cell_type": "code",
      "metadata": {
        "id": "71QuxINVkQ_H"
      },
      "source": [
        "#  Monetary\n",
        "\n",
        "df['Amount'] = df['Quantity']*df['UnitPrice']\n",
        "df.head()"
      ],
      "execution_count": null,
      "outputs": []
    },
    {
      "cell_type": "code",
      "metadata": {
        "id": "zEoE2zIgl1ei"
      },
      "source": [
        "rfm_m = df.groupby('CustomerID')['Amount'].sum()\n",
        "rfm_m = rfm_m.reset_index()\n",
        "rfm_m.head()"
      ],
      "execution_count": null,
      "outputs": []
    },
    {
      "cell_type": "code",
      "metadata": {
        "id": "ju7j-s_2mGS0"
      },
      "source": [
        "#  Frequency\n",
        "rfm_f = df.groupby('CustomerID')['InvoiceNo'].count()\n",
        "rfm_f = rfm_f.reset_index()\n",
        "rfm_f.columns = ['CustomerID', 'Frequency']\n",
        "rfm_f.head()"
      ],
      "execution_count": null,
      "outputs": []
    },
    {
      "cell_type": "code",
      "metadata": {
        "id": "rHkGD-PQnToR"
      },
      "source": [
        "rfm = pd.merge(rfm_m, rfm_f, on='CustomerID', how='inner')\n",
        "rfm.head()"
      ],
      "execution_count": null,
      "outputs": []
    },
    {
      "cell_type": "code",
      "metadata": {
        "id": "7egi9HjWngVx"
      },
      "source": [
        "#  Recency\n",
        "df['InvoiceDate'] = pd.to_datetime(df['InvoiceDate'],format='%d-%m-%Y %H:%M')\n",
        "df.head()"
      ],
      "execution_count": null,
      "outputs": []
    },
    {
      "cell_type": "code",
      "metadata": {
        "id": "aYH-vnbSn8iJ",
        "colab": {
          "base_uri": "https://localhost:8080/"
        },
        "outputId": "2fecadc9-9674-4673-c6c3-d4ce66a87379"
      },
      "source": [
        "# we get the latest date\n",
        "max_date = max(df['InvoiceDate'])\n",
        "max_date"
      ],
      "execution_count": null,
      "outputs": [
        {
          "output_type": "execute_result",
          "data": {
            "text/plain": [
              "Timestamp('2011-12-09 12:50:00')"
            ]
          },
          "metadata": {
            "tags": []
          },
          "execution_count": 60
        }
      ]
    },
    {
      "cell_type": "code",
      "metadata": {
        "id": "i-mHlG-6pAnt"
      },
      "source": [
        "#diff between latest date and invoice date\n",
        "df['Diff'] = max_date - df['InvoiceDate']\n",
        "df.head()"
      ],
      "execution_count": null,
      "outputs": []
    },
    {
      "cell_type": "code",
      "metadata": {
        "colab": {
          "base_uri": "https://localhost:8080/",
          "height": 204
        },
        "id": "BBXWlFN1pPiP",
        "outputId": "840734d0-63fd-47ed-80fa-0aaf0db76607"
      },
      "source": [
        "# last transaction date to get the recency of customers\n",
        "\n",
        "rfm_p = df.groupby('CustomerID')['Diff'].min()\n",
        "rfm_p = rfm_p.reset_index()\n",
        "rfm_p.head()"
      ],
      "execution_count": null,
      "outputs": [
        {
          "output_type": "execute_result",
          "data": {
            "text/html": [
              "<div>\n",
              "<style scoped>\n",
              "    .dataframe tbody tr th:only-of-type {\n",
              "        vertical-align: middle;\n",
              "    }\n",
              "\n",
              "    .dataframe tbody tr th {\n",
              "        vertical-align: top;\n",
              "    }\n",
              "\n",
              "    .dataframe thead th {\n",
              "        text-align: right;\n",
              "    }\n",
              "</style>\n",
              "<table border=\"1\" class=\"dataframe\">\n",
              "  <thead>\n",
              "    <tr style=\"text-align: right;\">\n",
              "      <th></th>\n",
              "      <th>CustomerID</th>\n",
              "      <th>Diff</th>\n",
              "    </tr>\n",
              "  </thead>\n",
              "  <tbody>\n",
              "    <tr>\n",
              "      <th>0</th>\n",
              "      <td>12346</td>\n",
              "      <td>325 days 02:33:00</td>\n",
              "    </tr>\n",
              "    <tr>\n",
              "      <th>1</th>\n",
              "      <td>12347</td>\n",
              "      <td>1 days 20:58:00</td>\n",
              "    </tr>\n",
              "    <tr>\n",
              "      <th>2</th>\n",
              "      <td>12348</td>\n",
              "      <td>74 days 23:37:00</td>\n",
              "    </tr>\n",
              "    <tr>\n",
              "      <th>3</th>\n",
              "      <td>12349</td>\n",
              "      <td>18 days 02:59:00</td>\n",
              "    </tr>\n",
              "    <tr>\n",
              "      <th>4</th>\n",
              "      <td>12350</td>\n",
              "      <td>309 days 20:49:00</td>\n",
              "    </tr>\n",
              "  </tbody>\n",
              "</table>\n",
              "</div>"
            ],
            "text/plain": [
              "  CustomerID              Diff\n",
              "0      12346 325 days 02:33:00\n",
              "1      12347   1 days 20:58:00\n",
              "2      12348  74 days 23:37:00\n",
              "3      12349  18 days 02:59:00\n",
              "4      12350 309 days 20:49:00"
            ]
          },
          "metadata": {
            "tags": []
          },
          "execution_count": 62
        }
      ]
    },
    {
      "cell_type": "code",
      "metadata": {
        "colab": {
          "base_uri": "https://localhost:8080/",
          "height": 204
        },
        "id": "RLeZqO-Yuucv",
        "outputId": "07c7acd1-81c8-4f88-9634-2f5ff0789a1b"
      },
      "source": [
        "# taking no. of days only\n",
        "rfm_p['Diff'] = rfm_p['Diff'].dt.days\n",
        "rfm_p.head()"
      ],
      "execution_count": null,
      "outputs": [
        {
          "output_type": "execute_result",
          "data": {
            "text/html": [
              "<div>\n",
              "<style scoped>\n",
              "    .dataframe tbody tr th:only-of-type {\n",
              "        vertical-align: middle;\n",
              "    }\n",
              "\n",
              "    .dataframe tbody tr th {\n",
              "        vertical-align: top;\n",
              "    }\n",
              "\n",
              "    .dataframe thead th {\n",
              "        text-align: right;\n",
              "    }\n",
              "</style>\n",
              "<table border=\"1\" class=\"dataframe\">\n",
              "  <thead>\n",
              "    <tr style=\"text-align: right;\">\n",
              "      <th></th>\n",
              "      <th>CustomerID</th>\n",
              "      <th>Diff</th>\n",
              "    </tr>\n",
              "  </thead>\n",
              "  <tbody>\n",
              "    <tr>\n",
              "      <th>0</th>\n",
              "      <td>12346</td>\n",
              "      <td>325</td>\n",
              "    </tr>\n",
              "    <tr>\n",
              "      <th>1</th>\n",
              "      <td>12347</td>\n",
              "      <td>1</td>\n",
              "    </tr>\n",
              "    <tr>\n",
              "      <th>2</th>\n",
              "      <td>12348</td>\n",
              "      <td>74</td>\n",
              "    </tr>\n",
              "    <tr>\n",
              "      <th>3</th>\n",
              "      <td>12349</td>\n",
              "      <td>18</td>\n",
              "    </tr>\n",
              "    <tr>\n",
              "      <th>4</th>\n",
              "      <td>12350</td>\n",
              "      <td>309</td>\n",
              "    </tr>\n",
              "  </tbody>\n",
              "</table>\n",
              "</div>"
            ],
            "text/plain": [
              "  CustomerID  Diff\n",
              "0      12346   325\n",
              "1      12347     1\n",
              "2      12348    74\n",
              "3      12349    18\n",
              "4      12350   309"
            ]
          },
          "metadata": {
            "tags": []
          },
          "execution_count": 63
        }
      ]
    },
    {
      "cell_type": "code",
      "metadata": {
        "colab": {
          "base_uri": "https://localhost:8080/",
          "height": 204
        },
        "id": "LCONkajGu6D-",
        "outputId": "8cbc28c7-1dc8-463e-f203-db644894bb78"
      },
      "source": [
        "# final rfm dataset\n",
        "rfm = pd.merge(rfm, rfm_p, on='CustomerID', how='inner')\n",
        "rfm.columns = ['CustomerID', 'Amount', 'Frequency', 'Recency']\n",
        "rfm.head()"
      ],
      "execution_count": null,
      "outputs": [
        {
          "output_type": "execute_result",
          "data": {
            "text/html": [
              "<div>\n",
              "<style scoped>\n",
              "    .dataframe tbody tr th:only-of-type {\n",
              "        vertical-align: middle;\n",
              "    }\n",
              "\n",
              "    .dataframe tbody tr th {\n",
              "        vertical-align: top;\n",
              "    }\n",
              "\n",
              "    .dataframe thead th {\n",
              "        text-align: right;\n",
              "    }\n",
              "</style>\n",
              "<table border=\"1\" class=\"dataframe\">\n",
              "  <thead>\n",
              "    <tr style=\"text-align: right;\">\n",
              "      <th></th>\n",
              "      <th>CustomerID</th>\n",
              "      <th>Amount</th>\n",
              "      <th>Frequency</th>\n",
              "      <th>Recency</th>\n",
              "    </tr>\n",
              "  </thead>\n",
              "  <tbody>\n",
              "    <tr>\n",
              "      <th>0</th>\n",
              "      <td>12346</td>\n",
              "      <td>0.00</td>\n",
              "      <td>2</td>\n",
              "      <td>325</td>\n",
              "    </tr>\n",
              "    <tr>\n",
              "      <th>1</th>\n",
              "      <td>12347</td>\n",
              "      <td>4310.00</td>\n",
              "      <td>182</td>\n",
              "      <td>1</td>\n",
              "    </tr>\n",
              "    <tr>\n",
              "      <th>2</th>\n",
              "      <td>12348</td>\n",
              "      <td>1797.24</td>\n",
              "      <td>31</td>\n",
              "      <td>74</td>\n",
              "    </tr>\n",
              "    <tr>\n",
              "      <th>3</th>\n",
              "      <td>12349</td>\n",
              "      <td>1757.55</td>\n",
              "      <td>73</td>\n",
              "      <td>18</td>\n",
              "    </tr>\n",
              "    <tr>\n",
              "      <th>4</th>\n",
              "      <td>12350</td>\n",
              "      <td>334.40</td>\n",
              "      <td>17</td>\n",
              "      <td>309</td>\n",
              "    </tr>\n",
              "  </tbody>\n",
              "</table>\n",
              "</div>"
            ],
            "text/plain": [
              "  CustomerID   Amount  Frequency  Recency\n",
              "0      12346     0.00          2      325\n",
              "1      12347  4310.00        182        1\n",
              "2      12348  1797.24         31       74\n",
              "3      12349  1757.55         73       18\n",
              "4      12350   334.40         17      309"
            ]
          },
          "metadata": {
            "tags": []
          },
          "execution_count": 64
        }
      ]
    },
    {
      "cell_type": "code",
      "metadata": {
        "colab": {
          "base_uri": "https://localhost:8080/",
          "height": 531
        },
        "id": "R-_kDXyE7195",
        "outputId": "d8a6628c-ecde-4a78-96b6-cbe4ac9a3ecc"
      },
      "source": [
        "#outlier\n",
        "\n",
        "attributes = ['Amount','Frequency','Recency']\n",
        "plt.rcParams['figure.figsize'] = [10,8]\n",
        "sns.boxplot(data = rfm[attributes], orient=\"v\", palette=\"Set2\" ,whis=1.5,saturation=1, width=0.7)\n",
        "plt.title(\"Outliers Variable Distribution\", fontsize = 14, fontweight = 'bold')\n",
        "plt.ylabel(\"Range\", fontweight = 'bold')\n",
        "plt.xlabel(\"Attributes\", fontweight = 'bold')"
      ],
      "execution_count": null,
      "outputs": [
        {
          "output_type": "execute_result",
          "data": {
            "text/plain": [
              "Text(0.5, 0, 'Attributes')"
            ]
          },
          "metadata": {
            "tags": []
          },
          "execution_count": 65
        },
        {
          "output_type": "display_data",
          "data": {
            "image/png": "[encoded data removed]",
            "text/plain": [
              "<Figure size 720x576 with 1 Axes>"
            ]
          },
          "metadata": {
            "tags": [],
            "needs_background": "light"
          }
        }
      ]
    },
    {
      "cell_type": "code",
      "metadata": {
        "colab": {
          "base_uri": "https://localhost:8080/",
          "height": 419
        },
        "id": "N6A2OvyZ7-xl",
        "outputId": "928e4c73-23e4-4cf2-bd5c-e8220c775482"
      },
      "source": [
        "# Removing outliers for Amount\n",
        "\n",
        "Q1 = rfm.Amount.quantile(0.05)\n",
        "Q3 = rfm.Amount.quantile(0.95)\n",
        "IQR = Q3 - Q1\n",
        "rfm = rfm[(rfm.Amount >= Q1 - 1.5*IQR) & (rfm.Amount <= Q3 + 1.5*IQR)]\n",
        "rfm"
      ],
      "execution_count": null,
      "outputs": [
        {
          "output_type": "execute_result",
          "data": {
            "text/html": [
              "<div>\n",
              "<style scoped>\n",
              "    .dataframe tbody tr th:only-of-type {\n",
              "        vertical-align: middle;\n",
              "    }\n",
              "\n",
              "    .dataframe tbody tr th {\n",
              "        vertical-align: top;\n",
              "    }\n",
              "\n",
              "    .dataframe thead th {\n",
              "        text-align: right;\n",
              "    }\n",
              "</style>\n",
              "<table border=\"1\" class=\"dataframe\">\n",
              "  <thead>\n",
              "    <tr style=\"text-align: right;\">\n",
              "      <th></th>\n",
              "      <th>CustomerID</th>\n",
              "      <th>Amount</th>\n",
              "      <th>Frequency</th>\n",
              "      <th>Recency</th>\n",
              "    </tr>\n",
              "  </thead>\n",
              "  <tbody>\n",
              "    <tr>\n",
              "      <th>0</th>\n",
              "      <td>12346</td>\n",
              "      <td>0.00</td>\n",
              "      <td>2</td>\n",
              "      <td>325</td>\n",
              "    </tr>\n",
              "    <tr>\n",
              "      <th>1</th>\n",
              "      <td>12347</td>\n",
              "      <td>4310.00</td>\n",
              "      <td>182</td>\n",
              "      <td>1</td>\n",
              "    </tr>\n",
              "    <tr>\n",
              "      <th>2</th>\n",
              "      <td>12348</td>\n",
              "      <td>1797.24</td>\n",
              "      <td>31</td>\n",
              "      <td>74</td>\n",
              "    </tr>\n",
              "    <tr>\n",
              "      <th>3</th>\n",
              "      <td>12349</td>\n",
              "      <td>1757.55</td>\n",
              "      <td>73</td>\n",
              "      <td>18</td>\n",
              "    </tr>\n",
              "    <tr>\n",
              "      <th>4</th>\n",
              "      <td>12350</td>\n",
              "      <td>334.40</td>\n",
              "      <td>17</td>\n",
              "      <td>309</td>\n",
              "    </tr>\n",
              "    <tr>\n",
              "      <th>...</th>\n",
              "      <td>...</td>\n",
              "      <td>...</td>\n",
              "      <td>...</td>\n",
              "      <td>...</td>\n",
              "    </tr>\n",
              "    <tr>\n",
              "      <th>4367</th>\n",
              "      <td>18280</td>\n",
              "      <td>180.60</td>\n",
              "      <td>10</td>\n",
              "      <td>277</td>\n",
              "    </tr>\n",
              "    <tr>\n",
              "      <th>4368</th>\n",
              "      <td>18281</td>\n",
              "      <td>80.82</td>\n",
              "      <td>7</td>\n",
              "      <td>180</td>\n",
              "    </tr>\n",
              "    <tr>\n",
              "      <th>4369</th>\n",
              "      <td>18282</td>\n",
              "      <td>176.60</td>\n",
              "      <td>13</td>\n",
              "      <td>7</td>\n",
              "    </tr>\n",
              "    <tr>\n",
              "      <th>4370</th>\n",
              "      <td>18283</td>\n",
              "      <td>2094.88</td>\n",
              "      <td>756</td>\n",
              "      <td>3</td>\n",
              "    </tr>\n",
              "    <tr>\n",
              "      <th>4371</th>\n",
              "      <td>18287</td>\n",
              "      <td>1837.28</td>\n",
              "      <td>70</td>\n",
              "      <td>42</td>\n",
              "    </tr>\n",
              "  </tbody>\n",
              "</table>\n",
              "<p>4300 rows × 4 columns</p>\n",
              "</div>"
            ],
            "text/plain": [
              "     CustomerID   Amount  Frequency  Recency\n",
              "0         12346     0.00          2      325\n",
              "1         12347  4310.00        182        1\n",
              "2         12348  1797.24         31       74\n",
              "3         12349  1757.55         73       18\n",
              "4         12350   334.40         17      309\n",
              "...         ...      ...        ...      ...\n",
              "4367      18280   180.60         10      277\n",
              "4368      18281    80.82          7      180\n",
              "4369      18282   176.60         13        7\n",
              "4370      18283  2094.88        756        3\n",
              "4371      18287  1837.28         70       42\n",
              "\n",
              "[4300 rows x 4 columns]"
            ]
          },
          "metadata": {
            "tags": []
          },
          "execution_count": 67
        }
      ]
    },
    {
      "cell_type": "code",
      "metadata": {
        "colab": {
          "base_uri": "https://localhost:8080/",
          "height": 419
        },
        "id": "0fl0-B0C8NBS",
        "outputId": "238fde7b-2cf2-4d7a-ca89-ab687dc6560b"
      },
      "source": [
        "# Removing outliers for Recency\n",
        "Q1 = rfm.Recency.quantile(0.05)\n",
        "Q3 = rfm.Recency.quantile(0.95)\n",
        "IQR = Q3 - Q1\n",
        "rfm = rfm[(rfm.Recency >= Q1 - 1.5*IQR) & (rfm.Recency <= Q3 + 1.5*IQR)]\n",
        "rfm"
      ],
      "execution_count": null,
      "outputs": [
        {
          "output_type": "execute_result",
          "data": {
            "text/html": [
              "<div>\n",
              "<style scoped>\n",
              "    .dataframe tbody tr th:only-of-type {\n",
              "        vertical-align: middle;\n",
              "    }\n",
              "\n",
              "    .dataframe tbody tr th {\n",
              "        vertical-align: top;\n",
              "    }\n",
              "\n",
              "    .dataframe thead th {\n",
              "        text-align: right;\n",
              "    }\n",
              "</style>\n",
              "<table border=\"1\" class=\"dataframe\">\n",
              "  <thead>\n",
              "    <tr style=\"text-align: right;\">\n",
              "      <th></th>\n",
              "      <th>CustomerID</th>\n",
              "      <th>Amount</th>\n",
              "      <th>Frequency</th>\n",
              "      <th>Recency</th>\n",
              "    </tr>\n",
              "  </thead>\n",
              "  <tbody>\n",
              "    <tr>\n",
              "      <th>0</th>\n",
              "      <td>12346</td>\n",
              "      <td>0.00</td>\n",
              "      <td>2</td>\n",
              "      <td>325</td>\n",
              "    </tr>\n",
              "    <tr>\n",
              "      <th>1</th>\n",
              "      <td>12347</td>\n",
              "      <td>4310.00</td>\n",
              "      <td>182</td>\n",
              "      <td>1</td>\n",
              "    </tr>\n",
              "    <tr>\n",
              "      <th>2</th>\n",
              "      <td>12348</td>\n",
              "      <td>1797.24</td>\n",
              "      <td>31</td>\n",
              "      <td>74</td>\n",
              "    </tr>\n",
              "    <tr>\n",
              "      <th>3</th>\n",
              "      <td>12349</td>\n",
              "      <td>1757.55</td>\n",
              "      <td>73</td>\n",
              "      <td>18</td>\n",
              "    </tr>\n",
              "    <tr>\n",
              "      <th>4</th>\n",
              "      <td>12350</td>\n",
              "      <td>334.40</td>\n",
              "      <td>17</td>\n",
              "      <td>309</td>\n",
              "    </tr>\n",
              "    <tr>\n",
              "      <th>...</th>\n",
              "      <td>...</td>\n",
              "      <td>...</td>\n",
              "      <td>...</td>\n",
              "      <td>...</td>\n",
              "    </tr>\n",
              "    <tr>\n",
              "      <th>4367</th>\n",
              "      <td>18280</td>\n",
              "      <td>180.60</td>\n",
              "      <td>10</td>\n",
              "      <td>277</td>\n",
              "    </tr>\n",
              "    <tr>\n",
              "      <th>4368</th>\n",
              "      <td>18281</td>\n",
              "      <td>80.82</td>\n",
              "      <td>7</td>\n",
              "      <td>180</td>\n",
              "    </tr>\n",
              "    <tr>\n",
              "      <th>4369</th>\n",
              "      <td>18282</td>\n",
              "      <td>176.60</td>\n",
              "      <td>13</td>\n",
              "      <td>7</td>\n",
              "    </tr>\n",
              "    <tr>\n",
              "      <th>4370</th>\n",
              "      <td>18283</td>\n",
              "      <td>2094.88</td>\n",
              "      <td>756</td>\n",
              "      <td>3</td>\n",
              "    </tr>\n",
              "    <tr>\n",
              "      <th>4371</th>\n",
              "      <td>18287</td>\n",
              "      <td>1837.28</td>\n",
              "      <td>70</td>\n",
              "      <td>42</td>\n",
              "    </tr>\n",
              "  </tbody>\n",
              "</table>\n",
              "<p>4300 rows × 4 columns</p>\n",
              "</div>"
            ],
            "text/plain": [
              "     CustomerID   Amount  Frequency  Recency\n",
              "0         12346     0.00          2      325\n",
              "1         12347  4310.00        182        1\n",
              "2         12348  1797.24         31       74\n",
              "3         12349  1757.55         73       18\n",
              "4         12350   334.40         17      309\n",
              "...         ...      ...        ...      ...\n",
              "4367      18280   180.60         10      277\n",
              "4368      18281    80.82          7      180\n",
              "4369      18282   176.60         13        7\n",
              "4370      18283  2094.88        756        3\n",
              "4371      18287  1837.28         70       42\n",
              "\n",
              "[4300 rows x 4 columns]"
            ]
          },
          "metadata": {
            "tags": []
          },
          "execution_count": 68
        }
      ]
    },
    {
      "cell_type": "code",
      "metadata": {
        "colab": {
          "base_uri": "https://localhost:8080/",
          "height": 419
        },
        "id": "w2n1Purs8eCN",
        "outputId": "422ef96f-d9c4-4e9e-c14e-1b1b7e7fb3f6"
      },
      "source": [
        "# Removing outliers for Frequency\n",
        "Q1 = rfm.Frequency.quantile(0.05)\n",
        "Q3 = rfm.Frequency.quantile(0.95)\n",
        "IQR = Q3 - Q1\n",
        "rfm = rfm[(rfm.Frequency >= Q1 - 1.5*IQR) & (rfm.Frequency <= Q3 + 1.5*IQR)]\n",
        "rfm"
      ],
      "execution_count": null,
      "outputs": [
        {
          "output_type": "execute_result",
          "data": {
            "text/html": [
              "<div>\n",
              "<style scoped>\n",
              "    .dataframe tbody tr th:only-of-type {\n",
              "        vertical-align: middle;\n",
              "    }\n",
              "\n",
              "    .dataframe tbody tr th {\n",
              "        vertical-align: top;\n",
              "    }\n",
              "\n",
              "    .dataframe thead th {\n",
              "        text-align: right;\n",
              "    }\n",
              "</style>\n",
              "<table border=\"1\" class=\"dataframe\">\n",
              "  <thead>\n",
              "    <tr style=\"text-align: right;\">\n",
              "      <th></th>\n",
              "      <th>CustomerID</th>\n",
              "      <th>Amount</th>\n",
              "      <th>Frequency</th>\n",
              "      <th>Recency</th>\n",
              "    </tr>\n",
              "  </thead>\n",
              "  <tbody>\n",
              "    <tr>\n",
              "      <th>0</th>\n",
              "      <td>12346</td>\n",
              "      <td>0.00</td>\n",
              "      <td>2</td>\n",
              "      <td>325</td>\n",
              "    </tr>\n",
              "    <tr>\n",
              "      <th>1</th>\n",
              "      <td>12347</td>\n",
              "      <td>4310.00</td>\n",
              "      <td>182</td>\n",
              "      <td>1</td>\n",
              "    </tr>\n",
              "    <tr>\n",
              "      <th>2</th>\n",
              "      <td>12348</td>\n",
              "      <td>1797.24</td>\n",
              "      <td>31</td>\n",
              "      <td>74</td>\n",
              "    </tr>\n",
              "    <tr>\n",
              "      <th>3</th>\n",
              "      <td>12349</td>\n",
              "      <td>1757.55</td>\n",
              "      <td>73</td>\n",
              "      <td>18</td>\n",
              "    </tr>\n",
              "    <tr>\n",
              "      <th>4</th>\n",
              "      <td>12350</td>\n",
              "      <td>334.40</td>\n",
              "      <td>17</td>\n",
              "      <td>309</td>\n",
              "    </tr>\n",
              "    <tr>\n",
              "      <th>...</th>\n",
              "      <td>...</td>\n",
              "      <td>...</td>\n",
              "      <td>...</td>\n",
              "      <td>...</td>\n",
              "    </tr>\n",
              "    <tr>\n",
              "      <th>4366</th>\n",
              "      <td>18278</td>\n",
              "      <td>173.90</td>\n",
              "      <td>9</td>\n",
              "      <td>73</td>\n",
              "    </tr>\n",
              "    <tr>\n",
              "      <th>4367</th>\n",
              "      <td>18280</td>\n",
              "      <td>180.60</td>\n",
              "      <td>10</td>\n",
              "      <td>277</td>\n",
              "    </tr>\n",
              "    <tr>\n",
              "      <th>4368</th>\n",
              "      <td>18281</td>\n",
              "      <td>80.82</td>\n",
              "      <td>7</td>\n",
              "      <td>180</td>\n",
              "    </tr>\n",
              "    <tr>\n",
              "      <th>4369</th>\n",
              "      <td>18282</td>\n",
              "      <td>176.60</td>\n",
              "      <td>13</td>\n",
              "      <td>7</td>\n",
              "    </tr>\n",
              "    <tr>\n",
              "      <th>4371</th>\n",
              "      <td>18287</td>\n",
              "      <td>1837.28</td>\n",
              "      <td>70</td>\n",
              "      <td>42</td>\n",
              "    </tr>\n",
              "  </tbody>\n",
              "</table>\n",
              "<p>4280 rows × 4 columns</p>\n",
              "</div>"
            ],
            "text/plain": [
              "     CustomerID   Amount  Frequency  Recency\n",
              "0         12346     0.00          2      325\n",
              "1         12347  4310.00        182        1\n",
              "2         12348  1797.24         31       74\n",
              "3         12349  1757.55         73       18\n",
              "4         12350   334.40         17      309\n",
              "...         ...      ...        ...      ...\n",
              "4366      18278   173.90          9       73\n",
              "4367      18280   180.60         10      277\n",
              "4368      18281    80.82          7      180\n",
              "4369      18282   176.60         13        7\n",
              "4371      18287  1837.28         70       42\n",
              "\n",
              "[4280 rows x 4 columns]"
            ]
          },
          "metadata": {
            "tags": []
          },
          "execution_count": 69
        }
      ]
    },
    {
      "cell_type": "code",
      "metadata": {
        "colab": {
          "base_uri": "https://localhost:8080/"
        },
        "id": "Y1AiPaYm8iT1",
        "outputId": "2c84d698-6950-4b91-901a-6ff0240849be"
      },
      "source": [
        "# Rescaling \n",
        "\n",
        "rfm_df = rfm[['Amount', 'Frequency', 'Recency']]\n",
        "\n",
        "scaler = StandardScaler()\n",
        "\n",
        "rfm_df_scaled = scaler.fit_transform(rfm_df)\n",
        "rfm_df_scaled.shape"
      ],
      "execution_count": null,
      "outputs": [
        {
          "output_type": "execute_result",
          "data": {
            "text/plain": [
              "(4280, 3)"
            ]
          },
          "metadata": {
            "tags": []
          },
          "execution_count": 70
        }
      ]
    },
    {
      "cell_type": "code",
      "metadata": {
        "colab": {
          "base_uri": "https://localhost:8080/",
          "height": 204
        },
        "id": "UNGFkgxW8-d1",
        "outputId": "c962198a-c942-4b22-f867-36912d0c5b9e"
      },
      "source": [
        "rfm_df_scaled = pd.DataFrame(rfm_df_scaled)\n",
        "rfm_df_scaled.columns = ['Amount', 'Frequency', 'Recency']\n",
        "rfm_df_scaled.head()"
      ],
      "execution_count": null,
      "outputs": [
        {
          "output_type": "execute_result",
          "data": {
            "text/html": [
              "<div>\n",
              "<style scoped>\n",
              "    .dataframe tbody tr th:only-of-type {\n",
              "        vertical-align: middle;\n",
              "    }\n",
              "\n",
              "    .dataframe tbody tr th {\n",
              "        vertical-align: top;\n",
              "    }\n",
              "\n",
              "    .dataframe thead th {\n",
              "        text-align: right;\n",
              "    }\n",
              "</style>\n",
              "<table border=\"1\" class=\"dataframe\">\n",
              "  <thead>\n",
              "    <tr style=\"text-align: right;\">\n",
              "      <th></th>\n",
              "      <th>Amount</th>\n",
              "      <th>Frequency</th>\n",
              "      <th>Recency</th>\n",
              "    </tr>\n",
              "  </thead>\n",
              "  <tbody>\n",
              "    <tr>\n",
              "      <th>0</th>\n",
              "      <td>-0.754208</td>\n",
              "      <td>-0.758814</td>\n",
              "      <td>2.298087</td>\n",
              "    </tr>\n",
              "    <tr>\n",
              "      <th>1</th>\n",
              "      <td>1.877245</td>\n",
              "      <td>1.073866</td>\n",
              "      <td>-0.908672</td>\n",
              "    </tr>\n",
              "    <tr>\n",
              "      <th>2</th>\n",
              "      <td>0.343089</td>\n",
              "      <td>-0.463549</td>\n",
              "      <td>-0.186161</td>\n",
              "    </tr>\n",
              "    <tr>\n",
              "      <th>3</th>\n",
              "      <td>0.318857</td>\n",
              "      <td>-0.035923</td>\n",
              "      <td>-0.740416</td>\n",
              "    </tr>\n",
              "    <tr>\n",
              "      <th>4</th>\n",
              "      <td>-0.550042</td>\n",
              "      <td>-0.606090</td>\n",
              "      <td>2.139729</td>\n",
              "    </tr>\n",
              "  </tbody>\n",
              "</table>\n",
              "</div>"
            ],
            "text/plain": [
              "     Amount  Frequency   Recency\n",
              "0 -0.754208  -0.758814  2.298087\n",
              "1  1.877245   1.073866 -0.908672\n",
              "2  0.343089  -0.463549 -0.186161\n",
              "3  0.318857  -0.035923 -0.740416\n",
              "4 -0.550042  -0.606090  2.139729"
            ]
          },
          "metadata": {
            "tags": []
          },
          "execution_count": 71
        }
      ]
    },
    {
      "cell_type": "code",
      "metadata": {
        "colab": {
          "base_uri": "https://localhost:8080/",
          "height": 500
        },
        "id": "pX_3_VO3-8fd",
        "outputId": "674dace7-a4ba-4022-f4b8-c7a4445cec6f"
      },
      "source": [
        "# k means clustering\n",
        "# Elbow-curve\n",
        "\n",
        "ssd = []\n",
        "range_n_clusters = [2, 3, 4, 5, 6, 7, 8]\n",
        "for num_clusters in range_n_clusters:\n",
        "    kmeans = KMeans(n_clusters=num_clusters, max_iter=50)\n",
        "    kmeans.fit(rfm_df_scaled)\n",
        "    \n",
        "    ssd.append(kmeans.inertia_)\n",
        "    \n",
        "# plot for each n_clusters\n",
        "plt.plot(ssd)"
      ],
      "execution_count": null,
      "outputs": [
        {
          "output_type": "execute_result",
          "data": {
            "text/plain": [
              "[<matplotlib.lines.Line2D at 0x7f16e59f1e50>]"
            ]
          },
          "metadata": {
            "tags": []
          },
          "execution_count": 72
        },
        {
          "output_type": "display_data",
          "data": {
            "image/png": "[encoded data removed]",
            "text/plain": [
              "<Figure size 720x576 with 1 Axes>"
            ]
          },
          "metadata": {
            "tags": [],
            "needs_background": "light"
          }
        }
      ]
    },
    {
      "cell_type": "code",
      "metadata": {
        "colab": {
          "base_uri": "https://localhost:8080/"
        },
        "id": "J-RdarLd_y2r",
        "outputId": "95badd56-ba09-4dc4-be69-0aeaddc7d002"
      },
      "source": [
        "# Final model with k=3\n",
        "kmeans = KMeans(n_clusters=3, max_iter=50)\n",
        "kmeans.fit(rfm_df_scaled)"
      ],
      "execution_count": null,
      "outputs": [
        {
          "output_type": "execute_result",
          "data": {
            "text/plain": [
              "KMeans(algorithm='auto', copy_x=True, init='k-means++', max_iter=50,\n",
              "       n_clusters=3, n_init=10, n_jobs=None, precompute_distances='auto',\n",
              "       random_state=None, tol=0.0001, verbose=0)"
            ]
          },
          "metadata": {
            "tags": []
          },
          "execution_count": 73
        }
      ]
    },
    {
      "cell_type": "code",
      "metadata": {
        "colab": {
          "base_uri": "https://localhost:8080/"
        },
        "id": "ul54Nf0RARn_",
        "outputId": "9de058b2-888a-4f89-a885-339ce4a8d8fc"
      },
      "source": [
        " kmeans.labels_"
      ],
      "execution_count": null,
      "outputs": [
        {
          "output_type": "execute_result",
          "data": {
            "text/plain": [
              "array([2, 1, 0, ..., 2, 0, 0], dtype=int32)"
            ]
          },
          "metadata": {
            "tags": []
          },
          "execution_count": 74
        }
      ]
    },
    {
      "cell_type": "code",
      "metadata": {
        "colab": {
          "base_uri": "https://localhost:8080/",
          "height": 521
        },
        "id": "mj4AUP2zAUnJ",
        "outputId": "cc6bf4a1-832b-460f-b38c-2f425b6cfab0"
      },
      "source": [
        "rfm['Cluster_Id'] = kmeans.labels_\n",
        "rfm"
      ],
      "execution_count": null,
      "outputs": [
        {
          "output_type": "stream",
          "text": [
            "/usr/local/lib/python3.7/dist-packages/ipykernel_launcher.py:1: SettingWithCopyWarning: \n",
            "A value is trying to be set on a copy of a slice from a DataFrame.\n",
            "Try using .loc[row_indexer,col_indexer] = value instead\n",
            "\n",
            "See the caveats in the documentation: https://pandas.pydata.org/pandas-docs/stable/user_guide/indexing.html#returning-a-view-versus-a-copy\n",
            "  \"\"\"Entry point for launching an IPython kernel.\n"
          ],
          "name": "stderr"
        },
        {
          "output_type": "execute_result",
          "data": {
            "text/html": [
              "<div>\n",
              "<style scoped>\n",
              "    .dataframe tbody tr th:only-of-type {\n",
              "        vertical-align: middle;\n",
              "    }\n",
              "\n",
              "    .dataframe tbody tr th {\n",
              "        vertical-align: top;\n",
              "    }\n",
              "\n",
              "    .dataframe thead th {\n",
              "        text-align: right;\n",
              "    }\n",
              "</style>\n",
              "<table border=\"1\" class=\"dataframe\">\n",
              "  <thead>\n",
              "    <tr style=\"text-align: right;\">\n",
              "      <th></th>\n",
              "      <th>CustomerID</th>\n",
              "      <th>Amount</th>\n",
              "      <th>Frequency</th>\n",
              "      <th>Recency</th>\n",
              "      <th>Cluster_Id</th>\n",
              "    </tr>\n",
              "  </thead>\n",
              "  <tbody>\n",
              "    <tr>\n",
              "      <th>0</th>\n",
              "      <td>12346</td>\n",
              "      <td>0.00</td>\n",
              "      <td>2</td>\n",
              "      <td>325</td>\n",
              "      <td>2</td>\n",
              "    </tr>\n",
              "    <tr>\n",
              "      <th>1</th>\n",
              "      <td>12347</td>\n",
              "      <td>4310.00</td>\n",
              "      <td>182</td>\n",
              "      <td>1</td>\n",
              "      <td>1</td>\n",
              "    </tr>\n",
              "    <tr>\n",
              "      <th>2</th>\n",
              "      <td>12348</td>\n",
              "      <td>1797.24</td>\n",
              "      <td>31</td>\n",
              "      <td>74</td>\n",
              "      <td>0</td>\n",
              "    </tr>\n",
              "    <tr>\n",
              "      <th>3</th>\n",
              "      <td>12349</td>\n",
              "      <td>1757.55</td>\n",
              "      <td>73</td>\n",
              "      <td>18</td>\n",
              "      <td>0</td>\n",
              "    </tr>\n",
              "    <tr>\n",
              "      <th>4</th>\n",
              "      <td>12350</td>\n",
              "      <td>334.40</td>\n",
              "      <td>17</td>\n",
              "      <td>309</td>\n",
              "      <td>2</td>\n",
              "    </tr>\n",
              "    <tr>\n",
              "      <th>...</th>\n",
              "      <td>...</td>\n",
              "      <td>...</td>\n",
              "      <td>...</td>\n",
              "      <td>...</td>\n",
              "      <td>...</td>\n",
              "    </tr>\n",
              "    <tr>\n",
              "      <th>4366</th>\n",
              "      <td>18278</td>\n",
              "      <td>173.90</td>\n",
              "      <td>9</td>\n",
              "      <td>73</td>\n",
              "      <td>0</td>\n",
              "    </tr>\n",
              "    <tr>\n",
              "      <th>4367</th>\n",
              "      <td>18280</td>\n",
              "      <td>180.60</td>\n",
              "      <td>10</td>\n",
              "      <td>277</td>\n",
              "      <td>2</td>\n",
              "    </tr>\n",
              "    <tr>\n",
              "      <th>4368</th>\n",
              "      <td>18281</td>\n",
              "      <td>80.82</td>\n",
              "      <td>7</td>\n",
              "      <td>180</td>\n",
              "      <td>2</td>\n",
              "    </tr>\n",
              "    <tr>\n",
              "      <th>4369</th>\n",
              "      <td>18282</td>\n",
              "      <td>176.60</td>\n",
              "      <td>13</td>\n",
              "      <td>7</td>\n",
              "      <td>0</td>\n",
              "    </tr>\n",
              "    <tr>\n",
              "      <th>4371</th>\n",
              "      <td>18287</td>\n",
              "      <td>1837.28</td>\n",
              "      <td>70</td>\n",
              "      <td>42</td>\n",
              "      <td>0</td>\n",
              "    </tr>\n",
              "  </tbody>\n",
              "</table>\n",
              "<p>4280 rows × 5 columns</p>\n",
              "</div>"
            ],
            "text/plain": [
              "     CustomerID   Amount  Frequency  Recency  Cluster_Id\n",
              "0         12346     0.00          2      325           2\n",
              "1         12347  4310.00        182        1           1\n",
              "2         12348  1797.24         31       74           0\n",
              "3         12349  1757.55         73       18           0\n",
              "4         12350   334.40         17      309           2\n",
              "...         ...      ...        ...      ...         ...\n",
              "4366      18278   173.90          9       73           0\n",
              "4367      18280   180.60         10      277           2\n",
              "4368      18281    80.82          7      180           2\n",
              "4369      18282   176.60         13        7           0\n",
              "4371      18287  1837.28         70       42           0\n",
              "\n",
              "[4280 rows x 5 columns]"
            ]
          },
          "metadata": {
            "tags": []
          },
          "execution_count": 75
        }
      ]
    },
    {
      "cell_type": "code",
      "metadata": {
        "colab": {
          "base_uri": "https://localhost:8080/",
          "height": 515
        },
        "id": "A84gZvMEAclU",
        "outputId": "9a4c1493-7db4-4061-e4fa-4e9ea9f05d36"
      },
      "source": [
        "# Box plot to visualize Cluster Id vs Monetary\n",
        "\n",
        "sns.boxplot(x='Cluster_Id', y='Amount', data=rfm)"
      ],
      "execution_count": null,
      "outputs": [
        {
          "output_type": "execute_result",
          "data": {
            "text/plain": [
              "<matplotlib.axes._subplots.AxesSubplot at 0x7f16dd1b0ad0>"
            ]
          },
          "metadata": {
            "tags": []
          },
          "execution_count": 76
        },
        {
          "output_type": "display_data",
          "data": {
            "image/png": "[encoded data removed]",
            "text/plain": [
              "<Figure size 720x576 with 1 Axes>"
            ]
          },
          "metadata": {
            "tags": [],
            "needs_background": "light"
          }
        }
      ]
    },
    {
      "cell_type": "code",
      "metadata": {
        "colab": {
          "base_uri": "https://localhost:8080/",
          "height": 515
        },
        "id": "s_H9pDPTAvYC",
        "outputId": "59996630-fee7-45f3-8345-cd72e3da7455"
      },
      "source": [
        "# Box plot to visualize Cluster Id vs Recency\n",
        "\n",
        "sns.boxplot(x='Cluster_Id', y='Recency', data=rfm)"
      ],
      "execution_count": null,
      "outputs": [
        {
          "output_type": "execute_result",
          "data": {
            "text/plain": [
              "<matplotlib.axes._subplots.AxesSubplot at 0x7f16dd0d6410>"
            ]
          },
          "metadata": {
            "tags": []
          },
          "execution_count": 77
        },
        {
          "output_type": "display_data",
          "data": {
            "image/png": "[encoded data removed]",
            "text/plain": [
              "<Figure size 720x576 with 1 Axes>"
            ]
          },
          "metadata": {
            "tags": [],
            "needs_background": "light"
          }
        }
      ]
    },
    {
      "cell_type": "code",
      "metadata": {
        "colab": {
          "base_uri": "https://localhost:8080/",
          "height": 515
        },
        "id": "uz4c42qjA5WR",
        "outputId": "86ee34f8-6f4a-4ef3-a97f-40db15caf501"
      },
      "source": [
        "# Box plot to visualize Cluster Id vs Frequency\n",
        "\n",
        "sns.boxplot(x='Cluster_Id', y='Frequency', data=rfm)"
      ],
      "execution_count": null,
      "outputs": [
        {
          "output_type": "execute_result",
          "data": {
            "text/plain": [
              "<matplotlib.axes._subplots.AxesSubplot at 0x7f16dd088ad0>"
            ]
          },
          "metadata": {
            "tags": []
          },
          "execution_count": 78
        },
        {
          "output_type": "display_data",
          "data": {
            "image/png": "[encoded data removed]",
            "text/plain": [
              "<Figure size 720x576 with 1 Axes>"
            ]
          },
          "metadata": {
            "tags": [],
            "needs_background": "light"
          }
        }
      ]
    },
    {
      "cell_type": "code",
      "metadata": {
        "id": "LExX1B31HX3n"
      },
      "source": [
        "#cluster id 1= low monetary , low recency , low frequency\n",
        "#cluster id 2= large monetary , low recency , large freqency \n",
        "#cluster id 3= low monetary , large recency , low frequency "
      ],
      "execution_count": null,
      "outputs": []
    },
    {
      "cell_type": "code",
      "metadata": {
        "colab": {
          "base_uri": "https://localhost:8080/",
          "height": 419
        },
        "id": "x6A65qB8U7pI",
        "outputId": "dda9c233-6f5a-4153-dd23-24bcaa278877"
      },
      "source": [
        "rfm"
      ],
      "execution_count": null,
      "outputs": [
        {
          "output_type": "execute_result",
          "data": {
            "text/html": [
              "<div>\n",
              "<style scoped>\n",
              "    .dataframe tbody tr th:only-of-type {\n",
              "        vertical-align: middle;\n",
              "    }\n",
              "\n",
              "    .dataframe tbody tr th {\n",
              "        vertical-align: top;\n",
              "    }\n",
              "\n",
              "    .dataframe thead th {\n",
              "        text-align: right;\n",
              "    }\n",
              "</style>\n",
              "<table border=\"1\" class=\"dataframe\">\n",
              "  <thead>\n",
              "    <tr style=\"text-align: right;\">\n",
              "      <th></th>\n",
              "      <th>CustomerID</th>\n",
              "      <th>Amount</th>\n",
              "      <th>Frequency</th>\n",
              "      <th>Recency</th>\n",
              "      <th>Cluster_Id</th>\n",
              "    </tr>\n",
              "  </thead>\n",
              "  <tbody>\n",
              "    <tr>\n",
              "      <th>0</th>\n",
              "      <td>12346</td>\n",
              "      <td>0.00</td>\n",
              "      <td>2</td>\n",
              "      <td>325</td>\n",
              "      <td>2</td>\n",
              "    </tr>\n",
              "    <tr>\n",
              "      <th>1</th>\n",
              "      <td>12347</td>\n",
              "      <td>4310.00</td>\n",
              "      <td>182</td>\n",
              "      <td>1</td>\n",
              "      <td>1</td>\n",
              "    </tr>\n",
              "    <tr>\n",
              "      <th>2</th>\n",
              "      <td>12348</td>\n",
              "      <td>1797.24</td>\n",
              "      <td>31</td>\n",
              "      <td>74</td>\n",
              "      <td>0</td>\n",
              "    </tr>\n",
              "    <tr>\n",
              "      <th>3</th>\n",
              "      <td>12349</td>\n",
              "      <td>1757.55</td>\n",
              "      <td>73</td>\n",
              "      <td>18</td>\n",
              "      <td>0</td>\n",
              "    </tr>\n",
              "    <tr>\n",
              "      <th>4</th>\n",
              "      <td>12350</td>\n",
              "      <td>334.40</td>\n",
              "      <td>17</td>\n",
              "      <td>309</td>\n",
              "      <td>2</td>\n",
              "    </tr>\n",
              "    <tr>\n",
              "      <th>...</th>\n",
              "      <td>...</td>\n",
              "      <td>...</td>\n",
              "      <td>...</td>\n",
              "      <td>...</td>\n",
              "      <td>...</td>\n",
              "    </tr>\n",
              "    <tr>\n",
              "      <th>4366</th>\n",
              "      <td>18278</td>\n",
              "      <td>173.90</td>\n",
              "      <td>9</td>\n",
              "      <td>73</td>\n",
              "      <td>0</td>\n",
              "    </tr>\n",
              "    <tr>\n",
              "      <th>4367</th>\n",
              "      <td>18280</td>\n",
              "      <td>180.60</td>\n",
              "      <td>10</td>\n",
              "      <td>277</td>\n",
              "      <td>2</td>\n",
              "    </tr>\n",
              "    <tr>\n",
              "      <th>4368</th>\n",
              "      <td>18281</td>\n",
              "      <td>80.82</td>\n",
              "      <td>7</td>\n",
              "      <td>180</td>\n",
              "      <td>2</td>\n",
              "    </tr>\n",
              "    <tr>\n",
              "      <th>4369</th>\n",
              "      <td>18282</td>\n",
              "      <td>176.60</td>\n",
              "      <td>13</td>\n",
              "      <td>7</td>\n",
              "      <td>0</td>\n",
              "    </tr>\n",
              "    <tr>\n",
              "      <th>4371</th>\n",
              "      <td>18287</td>\n",
              "      <td>1837.28</td>\n",
              "      <td>70</td>\n",
              "      <td>42</td>\n",
              "      <td>0</td>\n",
              "    </tr>\n",
              "  </tbody>\n",
              "</table>\n",
              "<p>4280 rows × 5 columns</p>\n",
              "</div>"
            ],
            "text/plain": [
              "     CustomerID   Amount  Frequency  Recency  Cluster_Id\n",
              "0         12346     0.00          2      325           2\n",
              "1         12347  4310.00        182        1           1\n",
              "2         12348  1797.24         31       74           0\n",
              "3         12349  1757.55         73       18           0\n",
              "4         12350   334.40         17      309           2\n",
              "...         ...      ...        ...      ...         ...\n",
              "4366      18278   173.90          9       73           0\n",
              "4367      18280   180.60         10      277           2\n",
              "4368      18281    80.82          7      180           2\n",
              "4369      18282   176.60         13        7           0\n",
              "4371      18287  1837.28         70       42           0\n",
              "\n",
              "[4280 rows x 5 columns]"
            ]
          },
          "metadata": {
            "tags": []
          },
          "execution_count": 79
        }
      ]
    },
    {
      "cell_type": "code",
      "metadata": {
        "colab": {
          "base_uri": "https://localhost:8080/"
        },
        "id": "nPn6PUEPQ_7v",
        "outputId": "57e435c7-5d20-4ee8-cfb5-a05d56dbfc5a"
      },
      "source": [
        "customer=input(\"enter customer id = \")"
      ],
      "execution_count": null,
      "outputs": [
        {
          "output_type": "stream",
          "text": [
            "enter customer id = 12347\n"
          ],
          "name": "stdout"
        }
      ]
    },
    {
      "cell_type": "code",
      "metadata": {
        "colab": {
          "base_uri": "https://localhost:8080/"
        },
        "id": "gmrBz0_CUFJR",
        "outputId": "03e95d93-5b13-4fef-ea1c-753ba7d422a7"
      },
      "source": [
        "d=rfm.loc[rfm['CustomerID'] == customer,'Cluster_Id'].iloc[0]\n",
        "d\n",
        "if (d==1):\n",
        "  print(\"Belongs to cluster ID =\",d,\"which has low monetary, low recency , low frequency\")\n",
        "elif (d==2):\n",
        "  print(\"Belongs to Cluster ID =\", d, \"which has large monetary, low recency , large frequency\")\n",
        "else:\n",
        "  print(\"Belongs to Cluster ID =\",d,\"which has low monetary, large recency , low frequency\")"
      ],
      "execution_count": null,
      "outputs": [
        {
          "output_type": "stream",
          "text": [
            "Belongs to cluster ID = 1 which has low monetary, low recency , low frequency\n"
          ],
          "name": "stdout"
        }
      ]
    },
    {
      "cell_type": "code",
      "metadata": {
        "id": "JEO3RG9Z2Zv_"
      },
      "source": [
        "df.head()"
      ],
      "execution_count": null,
      "outputs": []
    },
    {
      "cell_type": "code",
      "metadata": {
        "colab": {
          "base_uri": "https://localhost:8080/"
        },
        "id": "BhiJ5je75o5K",
        "outputId": "0851127f-54d5-4ec0-a16e-b681b60191c0"
      },
      "source": [
        "df.shape"
      ],
      "execution_count": null,
      "outputs": [
        {
          "output_type": "execute_result",
          "data": {
            "text/plain": [
              "(406829, 15)"
            ]
          },
          "metadata": {
            "tags": []
          },
          "execution_count": 97
        }
      ]
    },
    {
      "cell_type": "code",
      "metadata": {
        "id": "flWoaHQ55trI"
      },
      "source": [
        "df.info()"
      ],
      "execution_count": null,
      "outputs": []
    },
    {
      "cell_type": "code",
      "metadata": {
        "id": "WjJRvDhH7rmT"
      },
      "source": [
        "#OFFER PREDICTION"
      ],
      "execution_count": null,
      "outputs": []
    },
    {
      "cell_type": "code",
      "metadata": {
        "id": "pqBxEHkK4xTi"
      },
      "source": [
        "nums = {\"Offer\": {\"No offer\": 1, \"Buy one get one\": 2, \"10\": 3, \"15\": 4,\n",
        "                                  \"20\": 5, \"25\": 6}}\n",
        "df['Offer'] = df['Offer'].astype(str)\n",
        "#'Buy one get one','No offer','10','15','20','25'"
      ],
      "execution_count": null,
      "outputs": []
    },
    {
      "cell_type": "code",
      "metadata": {
        "colab": {
          "base_uri": "https://localhost:8080/",
          "height": 589
        },
        "id": "UzWe8ydO5U6R",
        "outputId": "d87f8ba6-eb05-4757-b398-ac7c6c27691f"
      },
      "source": [
        "df = df.replace(nums)\n",
        "df"
      ],
      "execution_count": null,
      "outputs": [
        {
          "output_type": "execute_result",
          "data": {
            "text/html": [
              "<div>\n",
              "<style scoped>\n",
              "    .dataframe tbody tr th:only-of-type {\n",
              "        vertical-align: middle;\n",
              "    }\n",
              "\n",
              "    .dataframe tbody tr th {\n",
              "        vertical-align: top;\n",
              "    }\n",
              "\n",
              "    .dataframe thead th {\n",
              "        text-align: right;\n",
              "    }\n",
              "</style>\n",
              "<table border=\"1\" class=\"dataframe\">\n",
              "  <thead>\n",
              "    <tr style=\"text-align: right;\">\n",
              "      <th></th>\n",
              "      <th>InvoiceNo</th>\n",
              "      <th>StockCode</th>\n",
              "      <th>Description</th>\n",
              "      <th>Quantity</th>\n",
              "      <th>InvoiceDate</th>\n",
              "      <th>UnitPrice</th>\n",
              "      <th>CustomerID</th>\n",
              "      <th>Country</th>\n",
              "      <th>Rating</th>\n",
              "      <th>used_discount</th>\n",
              "      <th>used_bogo</th>\n",
              "      <th>Offer</th>\n",
              "      <th>Day_Name</th>\n",
              "    </tr>\n",
              "  </thead>\n",
              "  <tbody>\n",
              "    <tr>\n",
              "      <th>0</th>\n",
              "      <td>536365</td>\n",
              "      <td>85123A</td>\n",
              "      <td>WHITE HANGING HEART T-LIGHT HOLDER</td>\n",
              "      <td>6</td>\n",
              "      <td>2010-12-01 08:26:00</td>\n",
              "      <td>2.55</td>\n",
              "      <td>17850</td>\n",
              "      <td>United Kingdom</td>\n",
              "      <td>1</td>\n",
              "      <td>0</td>\n",
              "      <td>1</td>\n",
              "      <td>3</td>\n",
              "      <td>Wednesday</td>\n",
              "    </tr>\n",
              "    <tr>\n",
              "      <th>1</th>\n",
              "      <td>536365</td>\n",
              "      <td>71053</td>\n",
              "      <td>WHITE METAL LANTERN</td>\n",
              "      <td>6</td>\n",
              "      <td>2010-12-01 08:26:00</td>\n",
              "      <td>3.39</td>\n",
              "      <td>17850</td>\n",
              "      <td>United Kingdom</td>\n",
              "      <td>4</td>\n",
              "      <td>0</td>\n",
              "      <td>1</td>\n",
              "      <td>6</td>\n",
              "      <td>Wednesday</td>\n",
              "    </tr>\n",
              "    <tr>\n",
              "      <th>2</th>\n",
              "      <td>536365</td>\n",
              "      <td>84406B</td>\n",
              "      <td>CREAM CUPID HEARTS COAT HANGER</td>\n",
              "      <td>8</td>\n",
              "      <td>2010-12-01 08:26:00</td>\n",
              "      <td>2.75</td>\n",
              "      <td>17850</td>\n",
              "      <td>United Kingdom</td>\n",
              "      <td>2</td>\n",
              "      <td>1</td>\n",
              "      <td>0</td>\n",
              "      <td>3</td>\n",
              "      <td>Wednesday</td>\n",
              "    </tr>\n",
              "    <tr>\n",
              "      <th>3</th>\n",
              "      <td>536365</td>\n",
              "      <td>84029G</td>\n",
              "      <td>KNITTED UNION FLAG HOT WATER BOTTLE</td>\n",
              "      <td>6</td>\n",
              "      <td>2010-12-01 08:26:00</td>\n",
              "      <td>3.39</td>\n",
              "      <td>17850</td>\n",
              "      <td>United Kingdom</td>\n",
              "      <td>5</td>\n",
              "      <td>0</td>\n",
              "      <td>1</td>\n",
              "      <td>2</td>\n",
              "      <td>Wednesday</td>\n",
              "    </tr>\n",
              "    <tr>\n",
              "      <th>4</th>\n",
              "      <td>536365</td>\n",
              "      <td>84029E</td>\n",
              "      <td>RED WOOLLY HOTTIE WHITE HEART.</td>\n",
              "      <td>6</td>\n",
              "      <td>2010-12-01 08:26:00</td>\n",
              "      <td>3.39</td>\n",
              "      <td>17850</td>\n",
              "      <td>United Kingdom</td>\n",
              "      <td>4</td>\n",
              "      <td>1</td>\n",
              "      <td>0</td>\n",
              "      <td>6</td>\n",
              "      <td>Wednesday</td>\n",
              "    </tr>\n",
              "    <tr>\n",
              "      <th>...</th>\n",
              "      <td>...</td>\n",
              "      <td>...</td>\n",
              "      <td>...</td>\n",
              "      <td>...</td>\n",
              "      <td>...</td>\n",
              "      <td>...</td>\n",
              "      <td>...</td>\n",
              "      <td>...</td>\n",
              "      <td>...</td>\n",
              "      <td>...</td>\n",
              "      <td>...</td>\n",
              "      <td>...</td>\n",
              "      <td>...</td>\n",
              "    </tr>\n",
              "    <tr>\n",
              "      <th>541904</th>\n",
              "      <td>581587</td>\n",
              "      <td>22613</td>\n",
              "      <td>PACK OF 20 SPACEBOY NAPKINS</td>\n",
              "      <td>12</td>\n",
              "      <td>2011-12-09 12:50:00</td>\n",
              "      <td>0.85</td>\n",
              "      <td>12680</td>\n",
              "      <td>France</td>\n",
              "      <td>1</td>\n",
              "      <td>0</td>\n",
              "      <td>1</td>\n",
              "      <td>5</td>\n",
              "      <td>Friday</td>\n",
              "    </tr>\n",
              "    <tr>\n",
              "      <th>541905</th>\n",
              "      <td>581587</td>\n",
              "      <td>22899</td>\n",
              "      <td>CHILDREN'S APRON DOLLY GIRL</td>\n",
              "      <td>6</td>\n",
              "      <td>2011-12-09 12:50:00</td>\n",
              "      <td>2.10</td>\n",
              "      <td>12680</td>\n",
              "      <td>France</td>\n",
              "      <td>2</td>\n",
              "      <td>0</td>\n",
              "      <td>1</td>\n",
              "      <td>2</td>\n",
              "      <td>Friday</td>\n",
              "    </tr>\n",
              "    <tr>\n",
              "      <th>541906</th>\n",
              "      <td>581587</td>\n",
              "      <td>23254</td>\n",
              "      <td>CHILDRENS CUTLERY DOLLY GIRL</td>\n",
              "      <td>4</td>\n",
              "      <td>2011-12-09 12:50:00</td>\n",
              "      <td>4.15</td>\n",
              "      <td>12680</td>\n",
              "      <td>France</td>\n",
              "      <td>3</td>\n",
              "      <td>0</td>\n",
              "      <td>1</td>\n",
              "      <td>2</td>\n",
              "      <td>Friday</td>\n",
              "    </tr>\n",
              "    <tr>\n",
              "      <th>541907</th>\n",
              "      <td>581587</td>\n",
              "      <td>23255</td>\n",
              "      <td>CHILDRENS CUTLERY CIRCUS PARADE</td>\n",
              "      <td>4</td>\n",
              "      <td>2011-12-09 12:50:00</td>\n",
              "      <td>4.15</td>\n",
              "      <td>12680</td>\n",
              "      <td>France</td>\n",
              "      <td>4</td>\n",
              "      <td>1</td>\n",
              "      <td>0</td>\n",
              "      <td>6</td>\n",
              "      <td>Friday</td>\n",
              "    </tr>\n",
              "    <tr>\n",
              "      <th>541908</th>\n",
              "      <td>581587</td>\n",
              "      <td>22138</td>\n",
              "      <td>BAKING SET 9 PIECE RETROSPOT</td>\n",
              "      <td>3</td>\n",
              "      <td>2011-12-09 12:50:00</td>\n",
              "      <td>4.95</td>\n",
              "      <td>12680</td>\n",
              "      <td>France</td>\n",
              "      <td>4</td>\n",
              "      <td>1</td>\n",
              "      <td>0</td>\n",
              "      <td>5</td>\n",
              "      <td>Friday</td>\n",
              "    </tr>\n",
              "  </tbody>\n",
              "</table>\n",
              "<p>406829 rows × 13 columns</p>\n",
              "</div>"
            ],
            "text/plain": [
              "       InvoiceNo StockCode  ... Offer   Day_Name\n",
              "0         536365    85123A  ...     3  Wednesday\n",
              "1         536365     71053  ...     6  Wednesday\n",
              "2         536365    84406B  ...     3  Wednesday\n",
              "3         536365    84029G  ...     2  Wednesday\n",
              "4         536365    84029E  ...     6  Wednesday\n",
              "...          ...       ...  ...   ...        ...\n",
              "541904    581587     22613  ...     5     Friday\n",
              "541905    581587     22899  ...     2     Friday\n",
              "541906    581587     23254  ...     2     Friday\n",
              "541907    581587     23255  ...     6     Friday\n",
              "541908    581587     22138  ...     5     Friday\n",
              "\n",
              "[406829 rows x 13 columns]"
            ]
          },
          "metadata": {
            "tags": []
          },
          "execution_count": 178
        }
      ]
    },
    {
      "cell_type": "code",
      "metadata": {
        "colab": {
          "base_uri": "https://localhost:8080/"
        },
        "id": "dbadv0JSO0cv",
        "outputId": "1c6657d9-61be-4023-f857-6c9ad1e25142"
      },
      "source": [
        "#df6=df\n",
        "#df6\n",
        "df6 = df.copy(deep=True)\n",
        "print(df6)"
      ],
      "execution_count": null,
      "outputs": [
        {
          "output_type": "stream",
          "text": [
            "       InvoiceNo StockCode  ... Offer   Day_Name\n",
            "0         536365    85123A  ...     3  Wednesday\n",
            "1         536365     71053  ...     6  Wednesday\n",
            "2         536365    84406B  ...     3  Wednesday\n",
            "3         536365    84029G  ...     2  Wednesday\n",
            "4         536365    84029E  ...     6  Wednesday\n",
            "...          ...       ...  ...   ...        ...\n",
            "541904    581587     22613  ...     5     Friday\n",
            "541905    581587     22899  ...     2     Friday\n",
            "541906    581587     23254  ...     2     Friday\n",
            "541907    581587     23255  ...     6     Friday\n",
            "541908    581587     22138  ...     5     Friday\n",
            "\n",
            "[406829 rows x 13 columns]\n"
          ],
          "name": "stdout"
        }
      ]
    },
    {
      "cell_type": "code",
      "metadata": {
        "id": "Fn1R9pomPjjn"
      },
      "source": [
        "#df6.info()"
      ],
      "execution_count": null,
      "outputs": []
    },
    {
      "cell_type": "code",
      "metadata": {
        "colab": {
          "base_uri": "https://localhost:8080/",
          "height": 589
        },
        "id": "cXwOYXWVQ0iw",
        "outputId": "cc5066fb-ea7d-4cdc-938d-41ae1d48ca73"
      },
      "source": [
        "df"
      ],
      "execution_count": null,
      "outputs": [
        {
          "output_type": "execute_result",
          "data": {
            "text/html": [
              "<div>\n",
              "<style scoped>\n",
              "    .dataframe tbody tr th:only-of-type {\n",
              "        vertical-align: middle;\n",
              "    }\n",
              "\n",
              "    .dataframe tbody tr th {\n",
              "        vertical-align: top;\n",
              "    }\n",
              "\n",
              "    .dataframe thead th {\n",
              "        text-align: right;\n",
              "    }\n",
              "</style>\n",
              "<table border=\"1\" class=\"dataframe\">\n",
              "  <thead>\n",
              "    <tr style=\"text-align: right;\">\n",
              "      <th></th>\n",
              "      <th>InvoiceNo</th>\n",
              "      <th>StockCode</th>\n",
              "      <th>Description</th>\n",
              "      <th>Quantity</th>\n",
              "      <th>InvoiceDate</th>\n",
              "      <th>UnitPrice</th>\n",
              "      <th>CustomerID</th>\n",
              "      <th>Country</th>\n",
              "      <th>Rating</th>\n",
              "      <th>used_discount</th>\n",
              "      <th>used_bogo</th>\n",
              "      <th>Offer</th>\n",
              "      <th>Day_Name</th>\n",
              "    </tr>\n",
              "  </thead>\n",
              "  <tbody>\n",
              "    <tr>\n",
              "      <th>0</th>\n",
              "      <td>536365</td>\n",
              "      <td>85123A</td>\n",
              "      <td>WHITE HANGING HEART T-LIGHT HOLDER</td>\n",
              "      <td>6</td>\n",
              "      <td>2010-12-01 08:26:00</td>\n",
              "      <td>2.55</td>\n",
              "      <td>17850</td>\n",
              "      <td>United Kingdom</td>\n",
              "      <td>1</td>\n",
              "      <td>0</td>\n",
              "      <td>1</td>\n",
              "      <td>3</td>\n",
              "      <td>Wednesday</td>\n",
              "    </tr>\n",
              "    <tr>\n",
              "      <th>1</th>\n",
              "      <td>536365</td>\n",
              "      <td>71053</td>\n",
              "      <td>WHITE METAL LANTERN</td>\n",
              "      <td>6</td>\n",
              "      <td>2010-12-01 08:26:00</td>\n",
              "      <td>3.39</td>\n",
              "      <td>17850</td>\n",
              "      <td>United Kingdom</td>\n",
              "      <td>4</td>\n",
              "      <td>0</td>\n",
              "      <td>1</td>\n",
              "      <td>6</td>\n",
              "      <td>Wednesday</td>\n",
              "    </tr>\n",
              "    <tr>\n",
              "      <th>2</th>\n",
              "      <td>536365</td>\n",
              "      <td>84406B</td>\n",
              "      <td>CREAM CUPID HEARTS COAT HANGER</td>\n",
              "      <td>8</td>\n",
              "      <td>2010-12-01 08:26:00</td>\n",
              "      <td>2.75</td>\n",
              "      <td>17850</td>\n",
              "      <td>United Kingdom</td>\n",
              "      <td>2</td>\n",
              "      <td>1</td>\n",
              "      <td>0</td>\n",
              "      <td>3</td>\n",
              "      <td>Wednesday</td>\n",
              "    </tr>\n",
              "    <tr>\n",
              "      <th>3</th>\n",
              "      <td>536365</td>\n",
              "      <td>84029G</td>\n",
              "      <td>KNITTED UNION FLAG HOT WATER BOTTLE</td>\n",
              "      <td>6</td>\n",
              "      <td>2010-12-01 08:26:00</td>\n",
              "      <td>3.39</td>\n",
              "      <td>17850</td>\n",
              "      <td>United Kingdom</td>\n",
              "      <td>5</td>\n",
              "      <td>0</td>\n",
              "      <td>1</td>\n",
              "      <td>2</td>\n",
              "      <td>Wednesday</td>\n",
              "    </tr>\n",
              "    <tr>\n",
              "      <th>4</th>\n",
              "      <td>536365</td>\n",
              "      <td>84029E</td>\n",
              "      <td>RED WOOLLY HOTTIE WHITE HEART.</td>\n",
              "      <td>6</td>\n",
              "      <td>2010-12-01 08:26:00</td>\n",
              "      <td>3.39</td>\n",
              "      <td>17850</td>\n",
              "      <td>United Kingdom</td>\n",
              "      <td>4</td>\n",
              "      <td>1</td>\n",
              "      <td>0</td>\n",
              "      <td>6</td>\n",
              "      <td>Wednesday</td>\n",
              "    </tr>\n",
              "    <tr>\n",
              "      <th>...</th>\n",
              "      <td>...</td>\n",
              "      <td>...</td>\n",
              "      <td>...</td>\n",
              "      <td>...</td>\n",
              "      <td>...</td>\n",
              "      <td>...</td>\n",
              "      <td>...</td>\n",
              "      <td>...</td>\n",
              "      <td>...</td>\n",
              "      <td>...</td>\n",
              "      <td>...</td>\n",
              "      <td>...</td>\n",
              "      <td>...</td>\n",
              "    </tr>\n",
              "    <tr>\n",
              "      <th>541904</th>\n",
              "      <td>581587</td>\n",
              "      <td>22613</td>\n",
              "      <td>PACK OF 20 SPACEBOY NAPKINS</td>\n",
              "      <td>12</td>\n",
              "      <td>2011-12-09 12:50:00</td>\n",
              "      <td>0.85</td>\n",
              "      <td>12680</td>\n",
              "      <td>France</td>\n",
              "      <td>1</td>\n",
              "      <td>0</td>\n",
              "      <td>1</td>\n",
              "      <td>5</td>\n",
              "      <td>Friday</td>\n",
              "    </tr>\n",
              "    <tr>\n",
              "      <th>541905</th>\n",
              "      <td>581587</td>\n",
              "      <td>22899</td>\n",
              "      <td>CHILDREN'S APRON DOLLY GIRL</td>\n",
              "      <td>6</td>\n",
              "      <td>2011-12-09 12:50:00</td>\n",
              "      <td>2.10</td>\n",
              "      <td>12680</td>\n",
              "      <td>France</td>\n",
              "      <td>2</td>\n",
              "      <td>0</td>\n",
              "      <td>1</td>\n",
              "      <td>2</td>\n",
              "      <td>Friday</td>\n",
              "    </tr>\n",
              "    <tr>\n",
              "      <th>541906</th>\n",
              "      <td>581587</td>\n",
              "      <td>23254</td>\n",
              "      <td>CHILDRENS CUTLERY DOLLY GIRL</td>\n",
              "      <td>4</td>\n",
              "      <td>2011-12-09 12:50:00</td>\n",
              "      <td>4.15</td>\n",
              "      <td>12680</td>\n",
              "      <td>France</td>\n",
              "      <td>3</td>\n",
              "      <td>0</td>\n",
              "      <td>1</td>\n",
              "      <td>2</td>\n",
              "      <td>Friday</td>\n",
              "    </tr>\n",
              "    <tr>\n",
              "      <th>541907</th>\n",
              "      <td>581587</td>\n",
              "      <td>23255</td>\n",
              "      <td>CHILDRENS CUTLERY CIRCUS PARADE</td>\n",
              "      <td>4</td>\n",
              "      <td>2011-12-09 12:50:00</td>\n",
              "      <td>4.15</td>\n",
              "      <td>12680</td>\n",
              "      <td>France</td>\n",
              "      <td>4</td>\n",
              "      <td>1</td>\n",
              "      <td>0</td>\n",
              "      <td>6</td>\n",
              "      <td>Friday</td>\n",
              "    </tr>\n",
              "    <tr>\n",
              "      <th>541908</th>\n",
              "      <td>581587</td>\n",
              "      <td>22138</td>\n",
              "      <td>BAKING SET 9 PIECE RETROSPOT</td>\n",
              "      <td>3</td>\n",
              "      <td>2011-12-09 12:50:00</td>\n",
              "      <td>4.95</td>\n",
              "      <td>12680</td>\n",
              "      <td>France</td>\n",
              "      <td>4</td>\n",
              "      <td>1</td>\n",
              "      <td>0</td>\n",
              "      <td>5</td>\n",
              "      <td>Friday</td>\n",
              "    </tr>\n",
              "  </tbody>\n",
              "</table>\n",
              "<p>406829 rows × 13 columns</p>\n",
              "</div>"
            ],
            "text/plain": [
              "       InvoiceNo StockCode  ... Offer   Day_Name\n",
              "0         536365    85123A  ...     3  Wednesday\n",
              "1         536365     71053  ...     6  Wednesday\n",
              "2         536365    84406B  ...     3  Wednesday\n",
              "3         536365    84029G  ...     2  Wednesday\n",
              "4         536365    84029E  ...     6  Wednesday\n",
              "...          ...       ...  ...   ...        ...\n",
              "541904    581587     22613  ...     5     Friday\n",
              "541905    581587     22899  ...     2     Friday\n",
              "541906    581587     23254  ...     2     Friday\n",
              "541907    581587     23255  ...     6     Friday\n",
              "541908    581587     22138  ...     5     Friday\n",
              "\n",
              "[406829 rows x 13 columns]"
            ]
          },
          "metadata": {
            "tags": []
          },
          "execution_count": 187
        }
      ]
    },
    {
      "cell_type": "code",
      "metadata": {
        "id": "YnyNIJN6UVPT",
        "colab": {
          "base_uri": "https://localhost:8080/",
          "height": 589
        },
        "outputId": "40da2700-3051-4122-ae95-9e0496b5a3a4"
      },
      "source": [
        "\n",
        "from sklearn.preprocessing import LabelEncoder\n",
        "  \n",
        "le = LabelEncoder()\n",
        "  \n",
        "df6[\"StockCode\"]= le.fit_transform(df6['StockCode'])\n",
        "\n",
        "#df6\n",
        "\n",
        "#le = preprocessing.LabelEncoder()\n",
        "#df6 = df[['StockCode']].apply(le.fit_transform)\n",
        "df6\n"
      ],
      "execution_count": null,
      "outputs": [
        {
          "output_type": "execute_result",
          "data": {
            "text/html": [
              "<div>\n",
              "<style scoped>\n",
              "    .dataframe tbody tr th:only-of-type {\n",
              "        vertical-align: middle;\n",
              "    }\n",
              "\n",
              "    .dataframe tbody tr th {\n",
              "        vertical-align: top;\n",
              "    }\n",
              "\n",
              "    .dataframe thead th {\n",
              "        text-align: right;\n",
              "    }\n",
              "</style>\n",
              "<table border=\"1\" class=\"dataframe\">\n",
              "  <thead>\n",
              "    <tr style=\"text-align: right;\">\n",
              "      <th></th>\n",
              "      <th>InvoiceNo</th>\n",
              "      <th>StockCode</th>\n",
              "      <th>Description</th>\n",
              "      <th>Quantity</th>\n",
              "      <th>InvoiceDate</th>\n",
              "      <th>UnitPrice</th>\n",
              "      <th>CustomerID</th>\n",
              "      <th>Country</th>\n",
              "      <th>Rating</th>\n",
              "      <th>used_discount</th>\n",
              "      <th>used_bogo</th>\n",
              "      <th>Offer</th>\n",
              "      <th>Day_Name</th>\n",
              "    </tr>\n",
              "  </thead>\n",
              "  <tbody>\n",
              "    <tr>\n",
              "      <th>0</th>\n",
              "      <td>536365</td>\n",
              "      <td>3249</td>\n",
              "      <td>WHITE HANGING HEART T-LIGHT HOLDER</td>\n",
              "      <td>6</td>\n",
              "      <td>2010-12-01 08:26:00</td>\n",
              "      <td>2.55</td>\n",
              "      <td>17850</td>\n",
              "      <td>United Kingdom</td>\n",
              "      <td>1</td>\n",
              "      <td>0</td>\n",
              "      <td>1</td>\n",
              "      <td>3</td>\n",
              "      <td>Wednesday</td>\n",
              "    </tr>\n",
              "    <tr>\n",
              "      <th>1</th>\n",
              "      <td>536365</td>\n",
              "      <td>2649</td>\n",
              "      <td>WHITE METAL LANTERN</td>\n",
              "      <td>6</td>\n",
              "      <td>2010-12-01 08:26:00</td>\n",
              "      <td>3.39</td>\n",
              "      <td>17850</td>\n",
              "      <td>United Kingdom</td>\n",
              "      <td>4</td>\n",
              "      <td>0</td>\n",
              "      <td>1</td>\n",
              "      <td>6</td>\n",
              "      <td>Wednesday</td>\n",
              "    </tr>\n",
              "    <tr>\n",
              "      <th>2</th>\n",
              "      <td>536365</td>\n",
              "      <td>2855</td>\n",
              "      <td>CREAM CUPID HEARTS COAT HANGER</td>\n",
              "      <td>8</td>\n",
              "      <td>2010-12-01 08:26:00</td>\n",
              "      <td>2.75</td>\n",
              "      <td>17850</td>\n",
              "      <td>United Kingdom</td>\n",
              "      <td>2</td>\n",
              "      <td>1</td>\n",
              "      <td>0</td>\n",
              "      <td>3</td>\n",
              "      <td>Wednesday</td>\n",
              "    </tr>\n",
              "    <tr>\n",
              "      <th>3</th>\n",
              "      <td>536365</td>\n",
              "      <td>2803</td>\n",
              "      <td>KNITTED UNION FLAG HOT WATER BOTTLE</td>\n",
              "      <td>6</td>\n",
              "      <td>2010-12-01 08:26:00</td>\n",
              "      <td>3.39</td>\n",
              "      <td>17850</td>\n",
              "      <td>United Kingdom</td>\n",
              "      <td>5</td>\n",
              "      <td>0</td>\n",
              "      <td>1</td>\n",
              "      <td>2</td>\n",
              "      <td>Wednesday</td>\n",
              "    </tr>\n",
              "    <tr>\n",
              "      <th>4</th>\n",
              "      <td>536365</td>\n",
              "      <td>2802</td>\n",
              "      <td>RED WOOLLY HOTTIE WHITE HEART.</td>\n",
              "      <td>6</td>\n",
              "      <td>2010-12-01 08:26:00</td>\n",
              "      <td>3.39</td>\n",
              "      <td>17850</td>\n",
              "      <td>United Kingdom</td>\n",
              "      <td>4</td>\n",
              "      <td>1</td>\n",
              "      <td>0</td>\n",
              "      <td>6</td>\n",
              "      <td>Wednesday</td>\n",
              "    </tr>\n",
              "    <tr>\n",
              "      <th>...</th>\n",
              "      <td>...</td>\n",
              "      <td>...</td>\n",
              "      <td>...</td>\n",
              "      <td>...</td>\n",
              "      <td>...</td>\n",
              "      <td>...</td>\n",
              "      <td>...</td>\n",
              "      <td>...</td>\n",
              "      <td>...</td>\n",
              "      <td>...</td>\n",
              "      <td>...</td>\n",
              "      <td>...</td>\n",
              "      <td>...</td>\n",
              "    </tr>\n",
              "    <tr>\n",
              "      <th>541904</th>\n",
              "      <td>581587</td>\n",
              "      <td>1470</td>\n",
              "      <td>PACK OF 20 SPACEBOY NAPKINS</td>\n",
              "      <td>12</td>\n",
              "      <td>2011-12-09 12:50:00</td>\n",
              "      <td>0.85</td>\n",
              "      <td>12680</td>\n",
              "      <td>France</td>\n",
              "      <td>1</td>\n",
              "      <td>0</td>\n",
              "      <td>1</td>\n",
              "      <td>5</td>\n",
              "      <td>Friday</td>\n",
              "    </tr>\n",
              "    <tr>\n",
              "      <th>541905</th>\n",
              "      <td>581587</td>\n",
              "      <td>1746</td>\n",
              "      <td>CHILDREN'S APRON DOLLY GIRL</td>\n",
              "      <td>6</td>\n",
              "      <td>2011-12-09 12:50:00</td>\n",
              "      <td>2.10</td>\n",
              "      <td>12680</td>\n",
              "      <td>France</td>\n",
              "      <td>2</td>\n",
              "      <td>0</td>\n",
              "      <td>1</td>\n",
              "      <td>2</td>\n",
              "      <td>Friday</td>\n",
              "    </tr>\n",
              "    <tr>\n",
              "      <th>541906</th>\n",
              "      <td>581587</td>\n",
              "      <td>2086</td>\n",
              "      <td>CHILDRENS CUTLERY DOLLY GIRL</td>\n",
              "      <td>4</td>\n",
              "      <td>2011-12-09 12:50:00</td>\n",
              "      <td>4.15</td>\n",
              "      <td>12680</td>\n",
              "      <td>France</td>\n",
              "      <td>3</td>\n",
              "      <td>0</td>\n",
              "      <td>1</td>\n",
              "      <td>2</td>\n",
              "      <td>Friday</td>\n",
              "    </tr>\n",
              "    <tr>\n",
              "      <th>541907</th>\n",
              "      <td>581587</td>\n",
              "      <td>2087</td>\n",
              "      <td>CHILDRENS CUTLERY CIRCUS PARADE</td>\n",
              "      <td>4</td>\n",
              "      <td>2011-12-09 12:50:00</td>\n",
              "      <td>4.15</td>\n",
              "      <td>12680</td>\n",
              "      <td>France</td>\n",
              "      <td>4</td>\n",
              "      <td>1</td>\n",
              "      <td>0</td>\n",
              "      <td>6</td>\n",
              "      <td>Friday</td>\n",
              "    </tr>\n",
              "    <tr>\n",
              "      <th>541908</th>\n",
              "      <td>581587</td>\n",
              "      <td>1039</td>\n",
              "      <td>BAKING SET 9 PIECE RETROSPOT</td>\n",
              "      <td>3</td>\n",
              "      <td>2011-12-09 12:50:00</td>\n",
              "      <td>4.95</td>\n",
              "      <td>12680</td>\n",
              "      <td>France</td>\n",
              "      <td>4</td>\n",
              "      <td>1</td>\n",
              "      <td>0</td>\n",
              "      <td>5</td>\n",
              "      <td>Friday</td>\n",
              "    </tr>\n",
              "  </tbody>\n",
              "</table>\n",
              "<p>406829 rows × 13 columns</p>\n",
              "</div>"
            ],
            "text/plain": [
              "       InvoiceNo  StockCode  ... Offer   Day_Name\n",
              "0         536365       3249  ...     3  Wednesday\n",
              "1         536365       2649  ...     6  Wednesday\n",
              "2         536365       2855  ...     3  Wednesday\n",
              "3         536365       2803  ...     2  Wednesday\n",
              "4         536365       2802  ...     6  Wednesday\n",
              "...          ...        ...  ...   ...        ...\n",
              "541904    581587       1470  ...     5     Friday\n",
              "541905    581587       1746  ...     2     Friday\n",
              "541906    581587       2086  ...     2     Friday\n",
              "541907    581587       2087  ...     6     Friday\n",
              "541908    581587       1039  ...     5     Friday\n",
              "\n",
              "[406829 rows x 13 columns]"
            ]
          },
          "metadata": {
            "tags": []
          },
          "execution_count": 188
        }
      ]
    },
    {
      "cell_type": "code",
      "metadata": {
        "colab": {
          "base_uri": "https://localhost:8080/",
          "height": 589
        },
        "id": "PKnAUq7wUpaw",
        "outputId": "124ba7fe-7cb7-4b71-88da-7b8987d6de72"
      },
      "source": [
        "df"
      ],
      "execution_count": null,
      "outputs": [
        {
          "output_type": "execute_result",
          "data": {
            "text/html": [
              "<div>\n",
              "<style scoped>\n",
              "    .dataframe tbody tr th:only-of-type {\n",
              "        vertical-align: middle;\n",
              "    }\n",
              "\n",
              "    .dataframe tbody tr th {\n",
              "        vertical-align: top;\n",
              "    }\n",
              "\n",
              "    .dataframe thead th {\n",
              "        text-align: right;\n",
              "    }\n",
              "</style>\n",
              "<table border=\"1\" class=\"dataframe\">\n",
              "  <thead>\n",
              "    <tr style=\"text-align: right;\">\n",
              "      <th></th>\n",
              "      <th>InvoiceNo</th>\n",
              "      <th>StockCode</th>\n",
              "      <th>Description</th>\n",
              "      <th>Quantity</th>\n",
              "      <th>InvoiceDate</th>\n",
              "      <th>UnitPrice</th>\n",
              "      <th>CustomerID</th>\n",
              "      <th>Country</th>\n",
              "      <th>Rating</th>\n",
              "      <th>used_discount</th>\n",
              "      <th>used_bogo</th>\n",
              "      <th>Offer</th>\n",
              "      <th>Day_Name</th>\n",
              "    </tr>\n",
              "  </thead>\n",
              "  <tbody>\n",
              "    <tr>\n",
              "      <th>0</th>\n",
              "      <td>536365</td>\n",
              "      <td>85123A</td>\n",
              "      <td>WHITE HANGING HEART T-LIGHT HOLDER</td>\n",
              "      <td>6</td>\n",
              "      <td>2010-12-01 08:26:00</td>\n",
              "      <td>2.55</td>\n",
              "      <td>17850</td>\n",
              "      <td>United Kingdom</td>\n",
              "      <td>1</td>\n",
              "      <td>0</td>\n",
              "      <td>1</td>\n",
              "      <td>3</td>\n",
              "      <td>Wednesday</td>\n",
              "    </tr>\n",
              "    <tr>\n",
              "      <th>1</th>\n",
              "      <td>536365</td>\n",
              "      <td>71053</td>\n",
              "      <td>WHITE METAL LANTERN</td>\n",
              "      <td>6</td>\n",
              "      <td>2010-12-01 08:26:00</td>\n",
              "      <td>3.39</td>\n",
              "      <td>17850</td>\n",
              "      <td>United Kingdom</td>\n",
              "      <td>4</td>\n",
              "      <td>0</td>\n",
              "      <td>1</td>\n",
              "      <td>6</td>\n",
              "      <td>Wednesday</td>\n",
              "    </tr>\n",
              "    <tr>\n",
              "      <th>2</th>\n",
              "      <td>536365</td>\n",
              "      <td>84406B</td>\n",
              "      <td>CREAM CUPID HEARTS COAT HANGER</td>\n",
              "      <td>8</td>\n",
              "      <td>2010-12-01 08:26:00</td>\n",
              "      <td>2.75</td>\n",
              "      <td>17850</td>\n",
              "      <td>United Kingdom</td>\n",
              "      <td>2</td>\n",
              "      <td>1</td>\n",
              "      <td>0</td>\n",
              "      <td>3</td>\n",
              "      <td>Wednesday</td>\n",
              "    </tr>\n",
              "    <tr>\n",
              "      <th>3</th>\n",
              "      <td>536365</td>\n",
              "      <td>84029G</td>\n",
              "      <td>KNITTED UNION FLAG HOT WATER BOTTLE</td>\n",
              "      <td>6</td>\n",
              "      <td>2010-12-01 08:26:00</td>\n",
              "      <td>3.39</td>\n",
              "      <td>17850</td>\n",
              "      <td>United Kingdom</td>\n",
              "      <td>5</td>\n",
              "      <td>0</td>\n",
              "      <td>1</td>\n",
              "      <td>2</td>\n",
              "      <td>Wednesday</td>\n",
              "    </tr>\n",
              "    <tr>\n",
              "      <th>4</th>\n",
              "      <td>536365</td>\n",
              "      <td>84029E</td>\n",
              "      <td>RED WOOLLY HOTTIE WHITE HEART.</td>\n",
              "      <td>6</td>\n",
              "      <td>2010-12-01 08:26:00</td>\n",
              "      <td>3.39</td>\n",
              "      <td>17850</td>\n",
              "      <td>United Kingdom</td>\n",
              "      <td>4</td>\n",
              "      <td>1</td>\n",
              "      <td>0</td>\n",
              "      <td>6</td>\n",
              "      <td>Wednesday</td>\n",
              "    </tr>\n",
              "    <tr>\n",
              "      <th>...</th>\n",
              "      <td>...</td>\n",
              "      <td>...</td>\n",
              "      <td>...</td>\n",
              "      <td>...</td>\n",
              "      <td>...</td>\n",
              "      <td>...</td>\n",
              "      <td>...</td>\n",
              "      <td>...</td>\n",
              "      <td>...</td>\n",
              "      <td>...</td>\n",
              "      <td>...</td>\n",
              "      <td>...</td>\n",
              "      <td>...</td>\n",
              "    </tr>\n",
              "    <tr>\n",
              "      <th>541904</th>\n",
              "      <td>581587</td>\n",
              "      <td>22613</td>\n",
              "      <td>PACK OF 20 SPACEBOY NAPKINS</td>\n",
              "      <td>12</td>\n",
              "      <td>2011-12-09 12:50:00</td>\n",
              "      <td>0.85</td>\n",
              "      <td>12680</td>\n",
              "      <td>France</td>\n",
              "      <td>1</td>\n",
              "      <td>0</td>\n",
              "      <td>1</td>\n",
              "      <td>5</td>\n",
              "      <td>Friday</td>\n",
              "    </tr>\n",
              "    <tr>\n",
              "      <th>541905</th>\n",
              "      <td>581587</td>\n",
              "      <td>22899</td>\n",
              "      <td>CHILDREN'S APRON DOLLY GIRL</td>\n",
              "      <td>6</td>\n",
              "      <td>2011-12-09 12:50:00</td>\n",
              "      <td>2.10</td>\n",
              "      <td>12680</td>\n",
              "      <td>France</td>\n",
              "      <td>2</td>\n",
              "      <td>0</td>\n",
              "      <td>1</td>\n",
              "      <td>2</td>\n",
              "      <td>Friday</td>\n",
              "    </tr>\n",
              "    <tr>\n",
              "      <th>541906</th>\n",
              "      <td>581587</td>\n",
              "      <td>23254</td>\n",
              "      <td>CHILDRENS CUTLERY DOLLY GIRL</td>\n",
              "      <td>4</td>\n",
              "      <td>2011-12-09 12:50:00</td>\n",
              "      <td>4.15</td>\n",
              "      <td>12680</td>\n",
              "      <td>France</td>\n",
              "      <td>3</td>\n",
              "      <td>0</td>\n",
              "      <td>1</td>\n",
              "      <td>2</td>\n",
              "      <td>Friday</td>\n",
              "    </tr>\n",
              "    <tr>\n",
              "      <th>541907</th>\n",
              "      <td>581587</td>\n",
              "      <td>23255</td>\n",
              "      <td>CHILDRENS CUTLERY CIRCUS PARADE</td>\n",
              "      <td>4</td>\n",
              "      <td>2011-12-09 12:50:00</td>\n",
              "      <td>4.15</td>\n",
              "      <td>12680</td>\n",
              "      <td>France</td>\n",
              "      <td>4</td>\n",
              "      <td>1</td>\n",
              "      <td>0</td>\n",
              "      <td>6</td>\n",
              "      <td>Friday</td>\n",
              "    </tr>\n",
              "    <tr>\n",
              "      <th>541908</th>\n",
              "      <td>581587</td>\n",
              "      <td>22138</td>\n",
              "      <td>BAKING SET 9 PIECE RETROSPOT</td>\n",
              "      <td>3</td>\n",
              "      <td>2011-12-09 12:50:00</td>\n",
              "      <td>4.95</td>\n",
              "      <td>12680</td>\n",
              "      <td>France</td>\n",
              "      <td>4</td>\n",
              "      <td>1</td>\n",
              "      <td>0</td>\n",
              "      <td>5</td>\n",
              "      <td>Friday</td>\n",
              "    </tr>\n",
              "  </tbody>\n",
              "</table>\n",
              "<p>406829 rows × 13 columns</p>\n",
              "</div>"
            ],
            "text/plain": [
              "       InvoiceNo StockCode  ... Offer   Day_Name\n",
              "0         536365    85123A  ...     3  Wednesday\n",
              "1         536365     71053  ...     6  Wednesday\n",
              "2         536365    84406B  ...     3  Wednesday\n",
              "3         536365    84029G  ...     2  Wednesday\n",
              "4         536365    84029E  ...     6  Wednesday\n",
              "...          ...       ...  ...   ...        ...\n",
              "541904    581587     22613  ...     5     Friday\n",
              "541905    581587     22899  ...     2     Friday\n",
              "541906    581587     23254  ...     2     Friday\n",
              "541907    581587     23255  ...     6     Friday\n",
              "541908    581587     22138  ...     5     Friday\n",
              "\n",
              "[406829 rows x 13 columns]"
            ]
          },
          "metadata": {
            "tags": []
          },
          "execution_count": 189
        }
      ]
    },
    {
      "cell_type": "code",
      "metadata": {
        "id": "b79dNa587QS8"
      },
      "source": [
        "x = df6[['StockCode','used_discount', 'used_bogo','UnitPrice']]\n",
        "#df.head()\n",
        "y=df6['Offer']"
      ],
      "execution_count": null,
      "outputs": []
    },
    {
      "cell_type": "code",
      "metadata": {
        "id": "Orsin_LS4nN2"
      },
      "source": [
        "from sklearn.model_selection import train_test_split"
      ],
      "execution_count": null,
      "outputs": []
    },
    {
      "cell_type": "code",
      "metadata": {
        "id": "YG9FuVu-4oWf"
      },
      "source": [
        "x_train, x_test, y_train, y_test = train_test_split(x, y, test_size = 0.3)"
      ],
      "execution_count": null,
      "outputs": []
    },
    {
      "cell_type": "code",
      "metadata": {
        "id": "65fcorWG43Se"
      },
      "source": [
        "from sklearn.linear_model import LinearRegression\n",
        "model = LinearRegression()"
      ],
      "execution_count": null,
      "outputs": []
    },
    {
      "cell_type": "code",
      "metadata": {
        "colab": {
          "base_uri": "https://localhost:8080/"
        },
        "id": "1SSvl-Lb47Lu",
        "outputId": "c68fbf38-ca8e-44ce-d58e-23eb5b99bb81"
      },
      "source": [
        "model.fit(x_train,y_train)"
      ],
      "execution_count": null,
      "outputs": [
        {
          "output_type": "execute_result",
          "data": {
            "text/plain": [
              "LinearRegression(copy_X=True, fit_intercept=True, n_jobs=None, normalize=False)"
            ]
          },
          "metadata": {
            "tags": []
          },
          "execution_count": 194
        }
      ]
    },
    {
      "cell_type": "code",
      "metadata": {
        "colab": {
          "base_uri": "https://localhost:8080/"
        },
        "id": "agMaR0AXU73-",
        "outputId": "608f8cd2-8c71-484f-eb41-f56a0ec04127"
      },
      "source": [
        "predictions = model.predict(x_test)\n",
        "predictions"
      ],
      "execution_count": null,
      "outputs": [
        {
          "output_type": "execute_result",
          "data": {
            "text/plain": [
              "array([3.50700066, 3.51710912, 3.50094294, ..., 3.50213438, 3.51540233,\n",
              "       3.51957442])"
            ]
          },
          "metadata": {
            "tags": []
          },
          "execution_count": 195
        }
      ]
    },
    {
      "cell_type": "code",
      "metadata": {
        "colab": {
          "base_uri": "https://localhost:8080/"
        },
        "id": "cONQFwHTMpHB",
        "outputId": "ac2d1c55-94f1-4be1-eafa-f80eede55de0"
      },
      "source": [
        "StockCode=input(\"enter stock code  \")\n",
        "price=float(input(\"enter unit price of item \"  ))\n",
        "used_discount=int(input(\"enter whether discount used earlier on this item (0 (No) , 1 (Yes) )  \"))\n",
        "used_bogo=int(input(\"enter whether bogo used earlier on this item (0 (No) , 1 (Yes) ))  \"))\n",
        "\n"
      ],
      "execution_count": null,
      "outputs": [
        {
          "output_type": "stream",
          "text": [
            "enter stock code  84406B\n",
            "enter unit price of item 1.23\n",
            "enter whether discount used earlier on this item (0 (No) , 1 (Yes) )  1\n",
            "enter whether bogo used earlier on this item (0 (No) , 1 (Yes) ))  0\n"
          ],
          "name": "stdout"
        }
      ]
    },
    {
      "cell_type": "code",
      "metadata": {
        "id": "BoUyaZvgQY8h"
      },
      "source": [
        "df"
      ],
      "execution_count": null,
      "outputs": []
    },
    {
      "cell_type": "code",
      "metadata": {
        "colab": {
          "base_uri": "https://localhost:8080/"
        },
        "id": "6TSQ5OBhM1Iy",
        "outputId": "2ed7494a-dc54-4fe9-8950-e7e9a22dfdee"
      },
      "source": [
        "b=df[df['StockCode']==StockCode].index.values\n",
        "b\n",
        "b=b[0]\n",
        "b\n",
        "b= str(b).strip('[]')\n",
        "b= int(b)\n",
        "b"
      ],
      "execution_count": null,
      "outputs": [
        {
          "output_type": "execute_result",
          "data": {
            "text/plain": [
              "2"
            ]
          },
          "metadata": {
            "tags": []
          },
          "execution_count": 203
        }
      ]
    },
    {
      "cell_type": "code",
      "metadata": {
        "colab": {
          "base_uri": "https://localhost:8080/"
        },
        "id": "_3hYXsNummbr",
        "outputId": "c93e4b12-e0a5-4e0f-ab26-3e7943c825cb"
      },
      "source": [
        "c=df6[df6.index==b]\n",
        "#c\n",
        "#e=c[\"StockCode\"]\n",
        "#e\n",
        "#f=str(e).strip('[]')\n",
        "#e\n",
        "f=(c['StockCode']).to_string(index=False)\n",
        "f\n",
        "b= str(f).strip(' ')\n",
        "b= int(b)\n",
        "b"
      ],
      "execution_count": null,
      "outputs": [
        {
          "output_type": "execute_result",
          "data": {
            "text/plain": [
              "2855"
            ]
          },
          "metadata": {
            "tags": []
          },
          "execution_count": 216
        }
      ]
    },
    {
      "cell_type": "code",
      "metadata": {
        "colab": {
          "base_uri": "https://localhost:8080/"
        },
        "id": "HjsQO4G2pvp_",
        "outputId": "2082bf03-3c8a-4615-ac26-9118767a1863"
      },
      "source": [
        "new_input = np.array([[b,used_discount,used_bogo,price]]) # 2D numpy array\n",
        "\n",
        "new_output = model.predict(new_input)\n",
        "v = [round(num) for num in new_output]\n",
        "print(new_input,v)"
      ],
      "execution_count": null,
      "outputs": [
        {
          "output_type": "stream",
          "text": [
            "[[2.855e+03 1.000e+00 0.000e+00 1.230e+00]] [4]\n"
          ],
          "name": "stdout"
        }
      ]
    },
    {
      "cell_type": "code",
      "metadata": {
        "colab": {
          "base_uri": "https://localhost:8080/"
        },
        "id": "svlQwL9bqInI",
        "outputId": "350c9bd1-3e11-4d88-f1a1-98b3fad85d9e"
      },
      "source": [
        "# final code for offer\n",
        "\n",
        "StockCode=input(\"enter stock code  \")\n",
        "price=float(input(\"enter unit price of item \"  ))\n",
        "used_discount=int(input(\"enter whether discount used earlier on this item (0 (No) , 1 (Yes) )  \"))\n",
        "used_bogo=int(input(\"enter whether bogo used earlier on this item (0 (No) , 1 (Yes) ))  \"))\n",
        "\n",
        "b=df[df['StockCode']==StockCode].index.values\n",
        "b=b[0]\n",
        "b= str(b).strip('[]')\n",
        "b= int(b)\n",
        "\n",
        "c=df6[df6.index==b]\n",
        "f=(c['StockCode']).to_string(index=False)\n",
        "p= str(f).strip(' ')\n",
        "p= int(p)\n",
        "\n",
        "new_input = np.array([[p,used_discount,used_bogo,price]]) # 2D numpy array\n",
        "\n",
        "new_output = model.predict(new_input)\n",
        "v = [round(num) for num in new_output]\n",
        "#print(new_input,v)\n",
        "v=str(v).strip('[]')\n",
        "v=int(v)\n",
        "#v\n",
        "print(\"************************************\")\n",
        "if (v==1):\n",
        "  print(\"No Offer needed\")\n",
        "elif(v==2):\n",
        "  print(\"Provide Buy 1 Get 1\")\n",
        "elif(v==3):\n",
        "  print(\"Provide 10% Discount\")\n",
        "elif(v==4):\n",
        "  print(\"Provide 15% Discount\")\n",
        "elif(v==5):\n",
        "  print(\"Provide 20% Discount\")\n",
        "else:\n",
        "  print(\"Provide 25% Discount\")\n",
        "print(\"************************************\")\n"
      ],
      "execution_count": null,
      "outputs": [
        {
          "output_type": "stream",
          "text": [
            "enter stock code  23225\n",
            "enter unit price of item 673\n",
            "enter whether discount used earlier on this item (0 (No) , 1 (Yes) )  0\n",
            "enter whether bogo used earlier on this item (0 (No) , 1 (Yes) ))  0\n",
            "************************************\n",
            "Provide 10% Discount\n",
            "************************************\n"
          ],
          "name": "stdout"
        }
      ]
    },
    {
      "cell_type": "code",
      "metadata": {
        "colab": {
          "base_uri": "https://localhost:8080/"
        },
        "id": "a3jX1yvoVWgn",
        "outputId": "4a337a00-bb9a-44e6-dd98-97a5a055d591"
      },
      "source": [
        "'''\n",
        "StockCode=input(\"enter stock code  \")\n",
        "price=float(input(\"enter unit price of item \"  ))\n",
        "used_discount=int(\n",
        "input(\"enter whether discount used earlier on this item (0 (No) , 1 (Yes) )  \"))\n",
        "used_bogo=int(input(\"enter whether bogo used earlier on this item (0 (No) , 1 (Yes) ))  \"))\n",
        "\n",
        "new_input = np.array([[StockCode,used_discount,used_bogo,price]]) # 2D numpy array\n",
        "\n",
        "new_output = model.predict(new_input)\n",
        "c = [round(num) for num in new_output]\n",
        "print(new_input,c)\n",
        "'''"
      ],
      "execution_count": null,
      "outputs": [
        {
          "output_type": "stream",
          "text": [
            "enter unit price of item 41.26\n",
            "enter whether discount used earlier on this item (0 (No) , 1 (Yes) )  1\n",
            "enter whether bogo used earlier on this item (0 (No) , 1 (Yes) ))  1\n",
            "[[ 1.    1.   41.26]] [4]\n"
          ],
          "name": "stdout"
        }
      ]
    },
    {
      "cell_type": "code",
      "metadata": {
        "id": "VrBWXIBM9g95"
      },
      "source": [
        "# Customer Lifetime Value"
      ],
      "execution_count": null,
      "outputs": []
    },
    {
      "cell_type": "code",
      "metadata": {
        "colab": {
          "base_uri": "https://localhost:8080/",
          "height": 323
        },
        "id": "XmHVH5WL9jdC",
        "outputId": "abd2cd4f-79de-4154-cc38-000cecb485b9"
      },
      "source": [
        "features = ['CustomerID', 'InvoiceNo', 'InvoiceDate', 'Quantity', 'UnitPrice']\n",
        "data_clv = df[features]\n",
        "data_clv['TotalSales'] = data_clv['Quantity'].multiply(data_clv['UnitPrice'])\n",
        "print(data_clv.shape)\n",
        "data_clv.head()"
      ],
      "execution_count": null,
      "outputs": [
        {
          "output_type": "stream",
          "text": [
            "(406829, 6)\n"
          ],
          "name": "stdout"
        },
        {
          "output_type": "stream",
          "text": [
            "/usr/local/lib/python3.7/dist-packages/ipykernel_launcher.py:3: SettingWithCopyWarning: \n",
            "A value is trying to be set on a copy of a slice from a DataFrame.\n",
            "Try using .loc[row_indexer,col_indexer] = value instead\n",
            "\n",
            "See the caveats in the documentation: https://pandas.pydata.org/pandas-docs/stable/user_guide/indexing.html#returning-a-view-versus-a-copy\n",
            "  This is separate from the ipykernel package so we can avoid doing imports until\n"
          ],
          "name": "stderr"
        },
        {
          "output_type": "execute_result",
          "data": {
            "text/html": [
              "<div>\n",
              "<style scoped>\n",
              "    .dataframe tbody tr th:only-of-type {\n",
              "        vertical-align: middle;\n",
              "    }\n",
              "\n",
              "    .dataframe tbody tr th {\n",
              "        vertical-align: top;\n",
              "    }\n",
              "\n",
              "    .dataframe thead th {\n",
              "        text-align: right;\n",
              "    }\n",
              "</style>\n",
              "<table border=\"1\" class=\"dataframe\">\n",
              "  <thead>\n",
              "    <tr style=\"text-align: right;\">\n",
              "      <th></th>\n",
              "      <th>CustomerID</th>\n",
              "      <th>InvoiceNo</th>\n",
              "      <th>InvoiceDate</th>\n",
              "      <th>Quantity</th>\n",
              "      <th>UnitPrice</th>\n",
              "      <th>TotalSales</th>\n",
              "    </tr>\n",
              "  </thead>\n",
              "  <tbody>\n",
              "    <tr>\n",
              "      <th>0</th>\n",
              "      <td>17850</td>\n",
              "      <td>536365</td>\n",
              "      <td>2010-12-01 08:26:00</td>\n",
              "      <td>6</td>\n",
              "      <td>2.55</td>\n",
              "      <td>15.30</td>\n",
              "    </tr>\n",
              "    <tr>\n",
              "      <th>1</th>\n",
              "      <td>17850</td>\n",
              "      <td>536365</td>\n",
              "      <td>2010-12-01 08:26:00</td>\n",
              "      <td>6</td>\n",
              "      <td>3.39</td>\n",
              "      <td>20.34</td>\n",
              "    </tr>\n",
              "    <tr>\n",
              "      <th>2</th>\n",
              "      <td>17850</td>\n",
              "      <td>536365</td>\n",
              "      <td>2010-12-01 08:26:00</td>\n",
              "      <td>8</td>\n",
              "      <td>2.75</td>\n",
              "      <td>22.00</td>\n",
              "    </tr>\n",
              "    <tr>\n",
              "      <th>3</th>\n",
              "      <td>17850</td>\n",
              "      <td>536365</td>\n",
              "      <td>2010-12-01 08:26:00</td>\n",
              "      <td>6</td>\n",
              "      <td>3.39</td>\n",
              "      <td>20.34</td>\n",
              "    </tr>\n",
              "    <tr>\n",
              "      <th>4</th>\n",
              "      <td>17850</td>\n",
              "      <td>536365</td>\n",
              "      <td>2010-12-01 08:26:00</td>\n",
              "      <td>6</td>\n",
              "      <td>3.39</td>\n",
              "      <td>20.34</td>\n",
              "    </tr>\n",
              "  </tbody>\n",
              "</table>\n",
              "</div>"
            ],
            "text/plain": [
              "   CustomerID InvoiceNo         InvoiceDate  Quantity  UnitPrice  TotalSales\n",
              "0       17850    536365 2010-12-01 08:26:00         6       2.55       15.30\n",
              "1       17850    536365 2010-12-01 08:26:00         6       3.39       20.34\n",
              "2       17850    536365 2010-12-01 08:26:00         8       2.75       22.00\n",
              "3       17850    536365 2010-12-01 08:26:00         6       3.39       20.34\n",
              "4       17850    536365 2010-12-01 08:26:00         6       3.39       20.34"
            ]
          },
          "metadata": {
            "tags": []
          },
          "execution_count": 17
        }
      ]
    },
    {
      "cell_type": "code",
      "metadata": {
        "colab": {
          "base_uri": "https://localhost:8080/",
          "height": 297
        },
        "id": "qbAp_u_j-w57",
        "outputId": "6240015a-a707-4382-b1bf-4d8cc62f1395"
      },
      "source": [
        "data_clv.describe()"
      ],
      "execution_count": null,
      "outputs": [
        {
          "output_type": "execute_result",
          "data": {
            "text/html": [
              "<div>\n",
              "<style scoped>\n",
              "    .dataframe tbody tr th:only-of-type {\n",
              "        vertical-align: middle;\n",
              "    }\n",
              "\n",
              "    .dataframe tbody tr th {\n",
              "        vertical-align: top;\n",
              "    }\n",
              "\n",
              "    .dataframe thead th {\n",
              "        text-align: right;\n",
              "    }\n",
              "</style>\n",
              "<table border=\"1\" class=\"dataframe\">\n",
              "  <thead>\n",
              "    <tr style=\"text-align: right;\">\n",
              "      <th></th>\n",
              "      <th>CustomerID</th>\n",
              "      <th>Quantity</th>\n",
              "      <th>UnitPrice</th>\n",
              "      <th>TotalSales</th>\n",
              "    </tr>\n",
              "  </thead>\n",
              "  <tbody>\n",
              "    <tr>\n",
              "      <th>count</th>\n",
              "      <td>406829.000000</td>\n",
              "      <td>406829.000000</td>\n",
              "      <td>406829.000000</td>\n",
              "      <td>406829.000000</td>\n",
              "    </tr>\n",
              "    <tr>\n",
              "      <th>mean</th>\n",
              "      <td>15287.690570</td>\n",
              "      <td>12.061303</td>\n",
              "      <td>3.460471</td>\n",
              "      <td>20.401854</td>\n",
              "    </tr>\n",
              "    <tr>\n",
              "      <th>std</th>\n",
              "      <td>1713.600303</td>\n",
              "      <td>248.693370</td>\n",
              "      <td>69.315162</td>\n",
              "      <td>427.591718</td>\n",
              "    </tr>\n",
              "    <tr>\n",
              "      <th>min</th>\n",
              "      <td>12346.000000</td>\n",
              "      <td>-80995.000000</td>\n",
              "      <td>0.000000</td>\n",
              "      <td>-168469.600000</td>\n",
              "    </tr>\n",
              "    <tr>\n",
              "      <th>25%</th>\n",
              "      <td>13953.000000</td>\n",
              "      <td>2.000000</td>\n",
              "      <td>1.250000</td>\n",
              "      <td>4.200000</td>\n",
              "    </tr>\n",
              "    <tr>\n",
              "      <th>50%</th>\n",
              "      <td>15152.000000</td>\n",
              "      <td>5.000000</td>\n",
              "      <td>1.950000</td>\n",
              "      <td>11.100000</td>\n",
              "    </tr>\n",
              "    <tr>\n",
              "      <th>75%</th>\n",
              "      <td>16791.000000</td>\n",
              "      <td>12.000000</td>\n",
              "      <td>3.750000</td>\n",
              "      <td>19.500000</td>\n",
              "    </tr>\n",
              "    <tr>\n",
              "      <th>max</th>\n",
              "      <td>18287.000000</td>\n",
              "      <td>80995.000000</td>\n",
              "      <td>38970.000000</td>\n",
              "      <td>168469.600000</td>\n",
              "    </tr>\n",
              "  </tbody>\n",
              "</table>\n",
              "</div>"
            ],
            "text/plain": [
              "          CustomerID       Quantity      UnitPrice     TotalSales\n",
              "count  406829.000000  406829.000000  406829.000000  406829.000000\n",
              "mean    15287.690570      12.061303       3.460471      20.401854\n",
              "std      1713.600303     248.693370      69.315162     427.591718\n",
              "min     12346.000000  -80995.000000       0.000000 -168469.600000\n",
              "25%     13953.000000       2.000000       1.250000       4.200000\n",
              "50%     15152.000000       5.000000       1.950000      11.100000\n",
              "75%     16791.000000      12.000000       3.750000      19.500000\n",
              "max     18287.000000   80995.000000   38970.000000  168469.600000"
            ]
          },
          "metadata": {
            "tags": []
          },
          "execution_count": 18
        }
      ]
    },
    {
      "cell_type": "code",
      "metadata": {
        "colab": {
          "base_uri": "https://localhost:8080/",
          "height": 297
        },
        "id": "DSSwM1Qr-7Tg",
        "outputId": "99c04955-e0e9-4afb-c674-37163c2a45df"
      },
      "source": [
        "data_clv = data_clv[data_clv['TotalSales'] > 0]\n",
        "data_clv.describe()"
      ],
      "execution_count": null,
      "outputs": [
        {
          "output_type": "execute_result",
          "data": {
            "text/html": [
              "<div>\n",
              "<style scoped>\n",
              "    .dataframe tbody tr th:only-of-type {\n",
              "        vertical-align: middle;\n",
              "    }\n",
              "\n",
              "    .dataframe tbody tr th {\n",
              "        vertical-align: top;\n",
              "    }\n",
              "\n",
              "    .dataframe thead th {\n",
              "        text-align: right;\n",
              "    }\n",
              "</style>\n",
              "<table border=\"1\" class=\"dataframe\">\n",
              "  <thead>\n",
              "    <tr style=\"text-align: right;\">\n",
              "      <th></th>\n",
              "      <th>CustomerID</th>\n",
              "      <th>Quantity</th>\n",
              "      <th>UnitPrice</th>\n",
              "      <th>TotalSales</th>\n",
              "    </tr>\n",
              "  </thead>\n",
              "  <tbody>\n",
              "    <tr>\n",
              "      <th>count</th>\n",
              "      <td>397884.000000</td>\n",
              "      <td>397884.000000</td>\n",
              "      <td>397884.000000</td>\n",
              "      <td>397884.000000</td>\n",
              "    </tr>\n",
              "    <tr>\n",
              "      <th>mean</th>\n",
              "      <td>15294.423453</td>\n",
              "      <td>12.988238</td>\n",
              "      <td>3.116488</td>\n",
              "      <td>22.397000</td>\n",
              "    </tr>\n",
              "    <tr>\n",
              "      <th>std</th>\n",
              "      <td>1713.141560</td>\n",
              "      <td>179.331775</td>\n",
              "      <td>22.097877</td>\n",
              "      <td>309.071041</td>\n",
              "    </tr>\n",
              "    <tr>\n",
              "      <th>min</th>\n",
              "      <td>12346.000000</td>\n",
              "      <td>1.000000</td>\n",
              "      <td>0.001000</td>\n",
              "      <td>0.001000</td>\n",
              "    </tr>\n",
              "    <tr>\n",
              "      <th>25%</th>\n",
              "      <td>13969.000000</td>\n",
              "      <td>2.000000</td>\n",
              "      <td>1.250000</td>\n",
              "      <td>4.680000</td>\n",
              "    </tr>\n",
              "    <tr>\n",
              "      <th>50%</th>\n",
              "      <td>15159.000000</td>\n",
              "      <td>6.000000</td>\n",
              "      <td>1.950000</td>\n",
              "      <td>11.800000</td>\n",
              "    </tr>\n",
              "    <tr>\n",
              "      <th>75%</th>\n",
              "      <td>16795.000000</td>\n",
              "      <td>12.000000</td>\n",
              "      <td>3.750000</td>\n",
              "      <td>19.800000</td>\n",
              "    </tr>\n",
              "    <tr>\n",
              "      <th>max</th>\n",
              "      <td>18287.000000</td>\n",
              "      <td>80995.000000</td>\n",
              "      <td>8142.750000</td>\n",
              "      <td>168469.600000</td>\n",
              "    </tr>\n",
              "  </tbody>\n",
              "</table>\n",
              "</div>"
            ],
            "text/plain": [
              "          CustomerID       Quantity      UnitPrice     TotalSales\n",
              "count  397884.000000  397884.000000  397884.000000  397884.000000\n",
              "mean    15294.423453      12.988238       3.116488      22.397000\n",
              "std      1713.141560     179.331775      22.097877     309.071041\n",
              "min     12346.000000       1.000000       0.001000       0.001000\n",
              "25%     13969.000000       2.000000       1.250000       4.680000\n",
              "50%     15159.000000       6.000000       1.950000      11.800000\n",
              "75%     16795.000000      12.000000       3.750000      19.800000\n",
              "max     18287.000000   80995.000000    8142.750000  168469.600000"
            ]
          },
          "metadata": {
            "tags": []
          },
          "execution_count": 19
        }
      ]
    },
    {
      "cell_type": "code",
      "metadata": {
        "colab": {
          "base_uri": "https://localhost:8080/",
          "height": 235
        },
        "id": "evSOupP-_MIf",
        "outputId": "af14778d-a5f4-4714-aff6-5f5e16c467d4"
      },
      "source": [
        "pd.DataFrame(zip(data_clv.isnull().sum(), data_clv.isnull().sum()/len(data_clv)), columns=['Count', 'Proportion'], index=data_clv.columns)"
      ],
      "execution_count": null,
      "outputs": [
        {
          "output_type": "execute_result",
          "data": {
            "text/html": [
              "<div>\n",
              "<style scoped>\n",
              "    .dataframe tbody tr th:only-of-type {\n",
              "        vertical-align: middle;\n",
              "    }\n",
              "\n",
              "    .dataframe tbody tr th {\n",
              "        vertical-align: top;\n",
              "    }\n",
              "\n",
              "    .dataframe thead th {\n",
              "        text-align: right;\n",
              "    }\n",
              "</style>\n",
              "<table border=\"1\" class=\"dataframe\">\n",
              "  <thead>\n",
              "    <tr style=\"text-align: right;\">\n",
              "      <th></th>\n",
              "      <th>Count</th>\n",
              "      <th>Proportion</th>\n",
              "    </tr>\n",
              "  </thead>\n",
              "  <tbody>\n",
              "    <tr>\n",
              "      <th>CustomerID</th>\n",
              "      <td>0</td>\n",
              "      <td>0.0</td>\n",
              "    </tr>\n",
              "    <tr>\n",
              "      <th>InvoiceNo</th>\n",
              "      <td>0</td>\n",
              "      <td>0.0</td>\n",
              "    </tr>\n",
              "    <tr>\n",
              "      <th>InvoiceDate</th>\n",
              "      <td>0</td>\n",
              "      <td>0.0</td>\n",
              "    </tr>\n",
              "    <tr>\n",
              "      <th>Quantity</th>\n",
              "      <td>0</td>\n",
              "      <td>0.0</td>\n",
              "    </tr>\n",
              "    <tr>\n",
              "      <th>UnitPrice</th>\n",
              "      <td>0</td>\n",
              "      <td>0.0</td>\n",
              "    </tr>\n",
              "    <tr>\n",
              "      <th>TotalSales</th>\n",
              "      <td>0</td>\n",
              "      <td>0.0</td>\n",
              "    </tr>\n",
              "  </tbody>\n",
              "</table>\n",
              "</div>"
            ],
            "text/plain": [
              "             Count  Proportion\n",
              "CustomerID       0         0.0\n",
              "InvoiceNo        0         0.0\n",
              "InvoiceDate      0         0.0\n",
              "Quantity         0         0.0\n",
              "UnitPrice        0         0.0\n",
              "TotalSales       0         0.0"
            ]
          },
          "metadata": {
            "tags": []
          },
          "execution_count": 20
        }
      ]
    },
    {
      "cell_type": "code",
      "metadata": {
        "colab": {
          "base_uri": "https://localhost:8080/",
          "height": 235
        },
        "id": "n7m3SJUkUGo5",
        "outputId": "c7c69d15-0890-453b-dbd3-947723283f5e"
      },
      "source": [
        "\n",
        "# Dropping the null values in the CustomerID variable\n",
        "data_clv = data_clv[pd.notnull(data_clv['CustomerID'])]\n",
        "pd.DataFrame(zip(data_clv.isnull().sum(), data_clv.isnull().sum()/len(data_clv)), columns=['Count', 'Proportion'], index=data_clv.columns)"
      ],
      "execution_count": null,
      "outputs": [
        {
          "output_type": "execute_result",
          "data": {
            "text/html": [
              "<div>\n",
              "<style scoped>\n",
              "    .dataframe tbody tr th:only-of-type {\n",
              "        vertical-align: middle;\n",
              "    }\n",
              "\n",
              "    .dataframe tbody tr th {\n",
              "        vertical-align: top;\n",
              "    }\n",
              "\n",
              "    .dataframe thead th {\n",
              "        text-align: right;\n",
              "    }\n",
              "</style>\n",
              "<table border=\"1\" class=\"dataframe\">\n",
              "  <thead>\n",
              "    <tr style=\"text-align: right;\">\n",
              "      <th></th>\n",
              "      <th>Count</th>\n",
              "      <th>Proportion</th>\n",
              "    </tr>\n",
              "  </thead>\n",
              "  <tbody>\n",
              "    <tr>\n",
              "      <th>CustomerID</th>\n",
              "      <td>0</td>\n",
              "      <td>0.0</td>\n",
              "    </tr>\n",
              "    <tr>\n",
              "      <th>InvoiceNo</th>\n",
              "      <td>0</td>\n",
              "      <td>0.0</td>\n",
              "    </tr>\n",
              "    <tr>\n",
              "      <th>InvoiceDate</th>\n",
              "      <td>0</td>\n",
              "      <td>0.0</td>\n",
              "    </tr>\n",
              "    <tr>\n",
              "      <th>Quantity</th>\n",
              "      <td>0</td>\n",
              "      <td>0.0</td>\n",
              "    </tr>\n",
              "    <tr>\n",
              "      <th>UnitPrice</th>\n",
              "      <td>0</td>\n",
              "      <td>0.0</td>\n",
              "    </tr>\n",
              "    <tr>\n",
              "      <th>TotalSales</th>\n",
              "      <td>0</td>\n",
              "      <td>0.0</td>\n",
              "    </tr>\n",
              "  </tbody>\n",
              "</table>\n",
              "</div>"
            ],
            "text/plain": [
              "             Count  Proportion\n",
              "CustomerID       0         0.0\n",
              "InvoiceNo        0         0.0\n",
              "InvoiceDate      0         0.0\n",
              "Quantity         0         0.0\n",
              "UnitPrice        0         0.0\n",
              "TotalSales       0         0.0"
            ]
          },
          "metadata": {
            "tags": []
          },
          "execution_count": 21
        }
      ]
    },
    {
      "cell_type": "code",
      "metadata": {
        "colab": {
          "base_uri": "https://localhost:8080/"
        },
        "id": "EHrVF8RQ_T40",
        "outputId": "a48970a7-60d4-4630-b92b-fb14bd5dcc52"
      },
      "source": [
        "maxdate = data_clv['InvoiceDate'].dt.date.max()\n",
        "mindate = data_clv['InvoiceDate'].dt.date.min()\n",
        "unique_cust = data_clv['CustomerID'].nunique()\n",
        "tot_quantity = data_clv['Quantity'].sum()\n",
        "tot_sales = data_clv['TotalSales'].sum()\n",
        "\n",
        "print(f\"The Time range of transactions is: {mindate} to {maxdate}\")\n",
        "print(f\"Total number of unique customers: {unique_cust}\")\n",
        "print(f\"Total Quantity Sold: {tot_quantity}\")\n",
        "print(f\"Total Sales for the period: {tot_sales}\")"
      ],
      "execution_count": null,
      "outputs": [
        {
          "output_type": "stream",
          "text": [
            "The Time range of transactions is: 2010-12-01 to 2011-12-09\n",
            "Total number of unique customers: 4338\n",
            "Total Quantity Sold: 5167812\n",
            "Total Sales for the period: 8911407.904\n"
          ],
          "name": "stdout"
        }
      ]
    },
    {
      "cell_type": "code",
      "metadata": {
        "colab": {
          "base_uri": "https://localhost:8080/",
          "height": 235
        },
        "id": "46wWoLfn_cR_",
        "outputId": "2d41b657-9235-4158-c70f-45921fd7645d"
      },
      "source": [
        "Profit_margin = 0.05 \n",
        "# Transforming the data to customer level for the analysis\n",
        "customer = data_clv.groupby('CustomerID').agg({'InvoiceDate':lambda x: x.min().month, \n",
        "                                                   'InvoiceNo': lambda x: len(x),\n",
        "                                                  'TotalSales': lambda x: np.sum(x)})\n",
        "\n",
        "customer.columns = ['Start_Month', 'Frequency', 'TotalSales']\n",
        "customer.head()"
      ],
      "execution_count": null,
      "outputs": [
        {
          "output_type": "execute_result",
          "data": {
            "text/html": [
              "<div>\n",
              "<style scoped>\n",
              "    .dataframe tbody tr th:only-of-type {\n",
              "        vertical-align: middle;\n",
              "    }\n",
              "\n",
              "    .dataframe tbody tr th {\n",
              "        vertical-align: top;\n",
              "    }\n",
              "\n",
              "    .dataframe thead th {\n",
              "        text-align: right;\n",
              "    }\n",
              "</style>\n",
              "<table border=\"1\" class=\"dataframe\">\n",
              "  <thead>\n",
              "    <tr style=\"text-align: right;\">\n",
              "      <th></th>\n",
              "      <th>Start_Month</th>\n",
              "      <th>Frequency</th>\n",
              "      <th>TotalSales</th>\n",
              "    </tr>\n",
              "    <tr>\n",
              "      <th>CustomerID</th>\n",
              "      <th></th>\n",
              "      <th></th>\n",
              "      <th></th>\n",
              "    </tr>\n",
              "  </thead>\n",
              "  <tbody>\n",
              "    <tr>\n",
              "      <th>12346</th>\n",
              "      <td>1</td>\n",
              "      <td>1</td>\n",
              "      <td>77183.60</td>\n",
              "    </tr>\n",
              "    <tr>\n",
              "      <th>12347</th>\n",
              "      <td>12</td>\n",
              "      <td>182</td>\n",
              "      <td>4310.00</td>\n",
              "    </tr>\n",
              "    <tr>\n",
              "      <th>12348</th>\n",
              "      <td>12</td>\n",
              "      <td>31</td>\n",
              "      <td>1797.24</td>\n",
              "    </tr>\n",
              "    <tr>\n",
              "      <th>12349</th>\n",
              "      <td>11</td>\n",
              "      <td>73</td>\n",
              "      <td>1757.55</td>\n",
              "    </tr>\n",
              "    <tr>\n",
              "      <th>12350</th>\n",
              "      <td>2</td>\n",
              "      <td>17</td>\n",
              "      <td>334.40</td>\n",
              "    </tr>\n",
              "  </tbody>\n",
              "</table>\n",
              "</div>"
            ],
            "text/plain": [
              "            Start_Month  Frequency  TotalSales\n",
              "CustomerID                                    \n",
              "12346                 1          1    77183.60\n",
              "12347                12        182     4310.00\n",
              "12348                12         31     1797.24\n",
              "12349                11         73     1757.55\n",
              "12350                 2         17      334.40"
            ]
          },
          "metadata": {
            "tags": []
          },
          "execution_count": 23
        }
      ]
    },
    {
      "cell_type": "code",
      "metadata": {
        "id": "3AfAP4hC_18w"
      },
      "source": [
        "# Calculating CLV for each cohort\n",
        "months = ['Jan', 'Feb', 'March', 'Apr', 'May', 'Jun', 'Jul', 'Aug', 'Sep', 'Oct', 'Nov', 'Dec']\n",
        "Monthly_CLV = []\n",
        "\n",
        "for i in range(1, 13):\n",
        "    customer_m = customer[customer['Start_Month']==i]\n",
        "    \n",
        "    Average_sales = round(np.mean(customer_m['TotalSales']),2)\n",
        "    \n",
        "    Purchase_freq = round(np.mean(customer_m['Frequency']), 2)\n",
        "    \n",
        "    Retention_rate = customer_m[customer_m['Frequency']>1].shape[0]/customer_m.shape[0]\n",
        "    churn = round(1 - Retention_rate, 2)\n",
        "    \n",
        "    CLV = round(((Average_sales * Purchase_freq/churn)) * Profit_margin, 2)\n",
        "    \n",
        "    Monthly_CLV.append(CLV)"
      ],
      "execution_count": null,
      "outputs": []
    },
    {
      "cell_type": "code",
      "metadata": {
        "colab": {
          "base_uri": "https://localhost:8080/",
          "height": 292
        },
        "id": "3_pEHVEGAPc3",
        "outputId": "5cee35b9-4450-4c74-86db-f7de4617519e"
      },
      "source": [
        "monthly_clv = pd.DataFrame(zip(months, Monthly_CLV), columns=['Months', 'CLV'])\n",
        "display(monthly_clv.style.background_gradient())"
      ],
      "execution_count": null,
      "outputs": [
        {
          "output_type": "display_data",
          "data": {
            "text/html": [
              "<style  type=\"text/css\" >\n",
              "#T_6bca87b8_cdc9_11eb_9837_0242ac1c0002row0_col1{\n",
              "            background-color:  #b3c3de;\n",
              "            color:  #000000;\n",
              "        }#T_6bca87b8_cdc9_11eb_9837_0242ac1c0002row1_col1{\n",
              "            background-color:  #f6eff7;\n",
              "            color:  #000000;\n",
              "        }#T_6bca87b8_cdc9_11eb_9837_0242ac1c0002row2_col1{\n",
              "            background-color:  #eee9f3;\n",
              "            color:  #000000;\n",
              "        }#T_6bca87b8_cdc9_11eb_9837_0242ac1c0002row3_col1{\n",
              "            background-color:  #f5eef6;\n",
              "            color:  #000000;\n",
              "        }#T_6bca87b8_cdc9_11eb_9837_0242ac1c0002row4_col1,#T_6bca87b8_cdc9_11eb_9837_0242ac1c0002row7_col1,#T_6bca87b8_cdc9_11eb_9837_0242ac1c0002row9_col1{\n",
              "            background-color:  #fcf4fa;\n",
              "            color:  #000000;\n",
              "        }#T_6bca87b8_cdc9_11eb_9837_0242ac1c0002row5_col1{\n",
              "            background-color:  #f5eff6;\n",
              "            color:  #000000;\n",
              "        }#T_6bca87b8_cdc9_11eb_9837_0242ac1c0002row6_col1{\n",
              "            background-color:  #fef6fb;\n",
              "            color:  #000000;\n",
              "        }#T_6bca87b8_cdc9_11eb_9837_0242ac1c0002row8_col1{\n",
              "            background-color:  #faf3f9;\n",
              "            color:  #000000;\n",
              "        }#T_6bca87b8_cdc9_11eb_9837_0242ac1c0002row10_col1{\n",
              "            background-color:  #fff7fb;\n",
              "            color:  #000000;\n",
              "        }#T_6bca87b8_cdc9_11eb_9837_0242ac1c0002row11_col1{\n",
              "            background-color:  #023858;\n",
              "            color:  #f1f1f1;\n",
              "        }</style><table id=\"T_6bca87b8_cdc9_11eb_9837_0242ac1c0002\" ><thead>    <tr>        <th class=\"blank level0\" ></th>        <th class=\"col_heading level0 col0\" >Months</th>        <th class=\"col_heading level0 col1\" >CLV</th>    </tr></thead><tbody>\n",
              "                <tr>\n",
              "                        <th id=\"T_6bca87b8_cdc9_11eb_9837_0242ac1c0002level0_row0\" class=\"row_heading level0 row0\" >0</th>\n",
              "                        <td id=\"T_6bca87b8_cdc9_11eb_9837_0242ac1c0002row0_col0\" class=\"data row0 col0\" >Jan</td>\n",
              "                        <td id=\"T_6bca87b8_cdc9_11eb_9837_0242ac1c0002row0_col1\" class=\"data row0 col1\" >1546537.090000</td>\n",
              "            </tr>\n",
              "            <tr>\n",
              "                        <th id=\"T_6bca87b8_cdc9_11eb_9837_0242ac1c0002level0_row1\" class=\"row_heading level0 row1\" >1</th>\n",
              "                        <td id=\"T_6bca87b8_cdc9_11eb_9837_0242ac1c0002row1_col0\" class=\"data row1 col0\" >Feb</td>\n",
              "                        <td id=\"T_6bca87b8_cdc9_11eb_9837_0242ac1c0002row1_col1\" class=\"data row1 col1\" >313073.920000</td>\n",
              "            </tr>\n",
              "            <tr>\n",
              "                        <th id=\"T_6bca87b8_cdc9_11eb_9837_0242ac1c0002level0_row2\" class=\"row_heading level0 row2\" >2</th>\n",
              "                        <td id=\"T_6bca87b8_cdc9_11eb_9837_0242ac1c0002row2_col0\" class=\"data row2 col0\" >March</td>\n",
              "                        <td id=\"T_6bca87b8_cdc9_11eb_9837_0242ac1c0002row2_col1\" class=\"data row2 col1\" >539933.180000</td>\n",
              "            </tr>\n",
              "            <tr>\n",
              "                        <th id=\"T_6bca87b8_cdc9_11eb_9837_0242ac1c0002level0_row3\" class=\"row_heading level0 row3\" >3</th>\n",
              "                        <td id=\"T_6bca87b8_cdc9_11eb_9837_0242ac1c0002row3_col0\" class=\"data row3 col0\" >Apr</td>\n",
              "                        <td id=\"T_6bca87b8_cdc9_11eb_9837_0242ac1c0002row3_col1\" class=\"data row3 col1\" >349213.350000</td>\n",
              "            </tr>\n",
              "            <tr>\n",
              "                        <th id=\"T_6bca87b8_cdc9_11eb_9837_0242ac1c0002level0_row4\" class=\"row_heading level0 row4\" >4</th>\n",
              "                        <td id=\"T_6bca87b8_cdc9_11eb_9837_0242ac1c0002row4_col0\" class=\"data row4 col0\" >May</td>\n",
              "                        <td id=\"T_6bca87b8_cdc9_11eb_9837_0242ac1c0002row4_col1\" class=\"data row4 col1\" >147597.490000</td>\n",
              "            </tr>\n",
              "            <tr>\n",
              "                        <th id=\"T_6bca87b8_cdc9_11eb_9837_0242ac1c0002level0_row5\" class=\"row_heading level0 row5\" >5</th>\n",
              "                        <td id=\"T_6bca87b8_cdc9_11eb_9837_0242ac1c0002row5_col0\" class=\"data row5 col0\" >Jun</td>\n",
              "                        <td id=\"T_6bca87b8_cdc9_11eb_9837_0242ac1c0002row5_col1\" class=\"data row5 col1\" >323795.770000</td>\n",
              "            </tr>\n",
              "            <tr>\n",
              "                        <th id=\"T_6bca87b8_cdc9_11eb_9837_0242ac1c0002level0_row6\" class=\"row_heading level0 row6\" >6</th>\n",
              "                        <td id=\"T_6bca87b8_cdc9_11eb_9837_0242ac1c0002row6_col0\" class=\"data row6 col0\" >Jul</td>\n",
              "                        <td id=\"T_6bca87b8_cdc9_11eb_9837_0242ac1c0002row6_col1\" class=\"data row6 col1\" >71760.420000</td>\n",
              "            </tr>\n",
              "            <tr>\n",
              "                        <th id=\"T_6bca87b8_cdc9_11eb_9837_0242ac1c0002level0_row7\" class=\"row_heading level0 row7\" >7</th>\n",
              "                        <td id=\"T_6bca87b8_cdc9_11eb_9837_0242ac1c0002row7_col0\" class=\"data row7 col0\" >Aug</td>\n",
              "                        <td id=\"T_6bca87b8_cdc9_11eb_9837_0242ac1c0002row7_col1\" class=\"data row7 col1\" >148834.420000</td>\n",
              "            </tr>\n",
              "            <tr>\n",
              "                        <th id=\"T_6bca87b8_cdc9_11eb_9837_0242ac1c0002level0_row8\" class=\"row_heading level0 row8\" >8</th>\n",
              "                        <td id=\"T_6bca87b8_cdc9_11eb_9837_0242ac1c0002row8_col0\" class=\"data row8 col0\" >Sep</td>\n",
              "                        <td id=\"T_6bca87b8_cdc9_11eb_9837_0242ac1c0002row8_col1\" class=\"data row8 col1\" >185155.700000</td>\n",
              "            </tr>\n",
              "            <tr>\n",
              "                        <th id=\"T_6bca87b8_cdc9_11eb_9837_0242ac1c0002level0_row9\" class=\"row_heading level0 row9\" >9</th>\n",
              "                        <td id=\"T_6bca87b8_cdc9_11eb_9837_0242ac1c0002row9_col0\" class=\"data row9 col0\" >Oct</td>\n",
              "                        <td id=\"T_6bca87b8_cdc9_11eb_9837_0242ac1c0002row9_col1\" class=\"data row9 col1\" >144042.950000</td>\n",
              "            </tr>\n",
              "            <tr>\n",
              "                        <th id=\"T_6bca87b8_cdc9_11eb_9837_0242ac1c0002level0_row10\" class=\"row_heading level0 row10\" >10</th>\n",
              "                        <td id=\"T_6bca87b8_cdc9_11eb_9837_0242ac1c0002row10_col0\" class=\"data row10 col0\" >Nov</td>\n",
              "                        <td id=\"T_6bca87b8_cdc9_11eb_9837_0242ac1c0002row10_col1\" class=\"data row10 col1\" >44869.790000</td>\n",
              "            </tr>\n",
              "            <tr>\n",
              "                        <th id=\"T_6bca87b8_cdc9_11eb_9837_0242ac1c0002level0_row11\" class=\"row_heading level0 row11\" >11</th>\n",
              "                        <td id=\"T_6bca87b8_cdc9_11eb_9837_0242ac1c0002row11_col0\" class=\"data row11 col0\" >Dec</td>\n",
              "                        <td id=\"T_6bca87b8_cdc9_11eb_9837_0242ac1c0002row11_col1\" class=\"data row11 col1\" >4507588.120000</td>\n",
              "            </tr>\n",
              "    </tbody></table>"
            ],
            "text/plain": [
              "<pandas.io.formats.style.Styler at 0x7f5f18f13fd0>"
            ]
          },
          "metadata": {
            "tags": []
          }
        }
      ]
    },
    {
      "cell_type": "code",
      "metadata": {
        "colab": {
          "base_uri": "https://localhost:8080/"
        },
        "id": "KEWfwibiMiB2",
        "outputId": "2a8fdad8-8619-4e3e-ad81-3626453610d8"
      },
      "source": [
        "#predictive method\n",
        "!pip install lifetimes\n",
        "import lifetimes"
      ],
      "execution_count": null,
      "outputs": [
        {
          "output_type": "stream",
          "text": [
            "Collecting lifetimes\n",
            "\u001b[?25l  Downloading https://files.pythonhosted.org/packages/c5/1f/ee6a471dcb5cb2f4dbc219023e07991f3b917875f9c8a5f5d77c00ddabca/Lifetimes-0.11.3-py3-none-any.whl (584kB)\n",
            "\r\u001b[K     |▋                               | 10kB 8.0MB/s eta 0:00:01\r\u001b[K     |█▏                              | 20kB 9.9MB/s eta 0:00:01\r\u001b[K     |█▊                              | 30kB 9.9MB/s eta 0:00:01\r\u001b[K     |██▎                             | 40kB 8.5MB/s eta 0:00:01\r\u001b[K     |██▉                             | 51kB 9.8MB/s eta 0:00:01\r\u001b[K     |███▍                            | 61kB 10.9MB/s eta 0:00:01\r\u001b[K     |████                            | 71kB 9.3MB/s eta 0:00:01\r\u001b[K     |████▌                           | 81kB 9.8MB/s eta 0:00:01\r\u001b[K     |█████                           | 92kB 10.5MB/s eta 0:00:01\r\u001b[K     |█████▋                          | 102kB 10.6MB/s eta 0:00:01\r\u001b[K     |██████▏                         | 112kB 10.6MB/s eta 0:00:01\r\u001b[K     |██████▊                         | 122kB 10.6MB/s eta 0:00:01\r\u001b[K     |███████▎                        | 133kB 10.6MB/s eta 0:00:01\r\u001b[K     |███████▉                        | 143kB 10.6MB/s eta 0:00:01\r\u001b[K     |████████▍                       | 153kB 10.6MB/s eta 0:00:01\r\u001b[K     |█████████                       | 163kB 10.6MB/s eta 0:00:01\r\u001b[K     |█████████▌                      | 174kB 10.6MB/s eta 0:00:01\r\u001b[K     |██████████                      | 184kB 10.6MB/s eta 0:00:01\r\u001b[K     |██████████▋                     | 194kB 10.6MB/s eta 0:00:01\r\u001b[K     |███████████▏                    | 204kB 10.6MB/s eta 0:00:01\r\u001b[K     |███████████▉                    | 215kB 10.6MB/s eta 0:00:01\r\u001b[K     |████████████▍                   | 225kB 10.6MB/s eta 0:00:01\r\u001b[K     |█████████████                   | 235kB 10.6MB/s eta 0:00:01\r\u001b[K     |█████████████▌                  | 245kB 10.6MB/s eta 0:00:01\r\u001b[K     |██████████████                  | 256kB 10.6MB/s eta 0:00:01\r\u001b[K     |██████████████▋                 | 266kB 10.6MB/s eta 0:00:01\r\u001b[K     |███████████████▏                | 276kB 10.6MB/s eta 0:00:01\r\u001b[K     |███████████████▊                | 286kB 10.6MB/s eta 0:00:01\r\u001b[K     |████████████████▎               | 296kB 10.6MB/s eta 0:00:01\r\u001b[K     |████████████████▉               | 307kB 10.6MB/s eta 0:00:01\r\u001b[K     |█████████████████▍              | 317kB 10.6MB/s eta 0:00:01\r\u001b[K     |██████████████████              | 327kB 10.6MB/s eta 0:00:01\r\u001b[K     |██████████████████▌             | 337kB 10.6MB/s eta 0:00:01\r\u001b[K     |███████████████████             | 348kB 10.6MB/s eta 0:00:01\r\u001b[K     |███████████████████▋            | 358kB 10.6MB/s eta 0:00:01\r\u001b[K     |████████████████████▏           | 368kB 10.6MB/s eta 0:00:01\r\u001b[K     |████████████████████▊           | 378kB 10.6MB/s eta 0:00:01\r\u001b[K     |█████████████████████▎          | 389kB 10.6MB/s eta 0:00:01\r\u001b[K     |█████████████████████▉          | 399kB 10.6MB/s eta 0:00:01\r\u001b[K     |██████████████████████▍         | 409kB 10.6MB/s eta 0:00:01\r\u001b[K     |███████████████████████         | 419kB 10.6MB/s eta 0:00:01\r\u001b[K     |███████████████████████▋        | 430kB 10.6MB/s eta 0:00:01\r\u001b[K     |████████████████████████▏       | 440kB 10.6MB/s eta 0:00:01\r\u001b[K     |████████████████████████▊       | 450kB 10.6MB/s eta 0:00:01\r\u001b[K     |█████████████████████████▎      | 460kB 10.6MB/s eta 0:00:01\r\u001b[K     |█████████████████████████▉      | 471kB 10.6MB/s eta 0:00:01\r\u001b[K     |██████████████████████████▍     | 481kB 10.6MB/s eta 0:00:01\r\u001b[K     |███████████████████████████     | 491kB 10.6MB/s eta 0:00:01\r\u001b[K     |███████████████████████████▌    | 501kB 10.6MB/s eta 0:00:01\r\u001b[K     |████████████████████████████    | 512kB 10.6MB/s eta 0:00:01\r\u001b[K     |████████████████████████████▋   | 522kB 10.6MB/s eta 0:00:01\r\u001b[K     |█████████████████████████████▏  | 532kB 10.6MB/s eta 0:00:01\r\u001b[K     |█████████████████████████████▊  | 542kB 10.6MB/s eta 0:00:01\r\u001b[K     |██████████████████████████████▎ | 552kB 10.6MB/s eta 0:00:01\r\u001b[K     |██████████████████████████████▉ | 563kB 10.6MB/s eta 0:00:01\r\u001b[K     |███████████████████████████████▍| 573kB 10.6MB/s eta 0:00:01\r\u001b[K     |████████████████████████████████| 583kB 10.6MB/s eta 0:00:01\r\u001b[K     |████████████████████████████████| 593kB 10.6MB/s \n",
            "\u001b[?25hRequirement already satisfied: autograd>=1.2.0 in /usr/local/lib/python3.7/dist-packages (from lifetimes) (1.3)\n",
            "Requirement already satisfied: numpy>=1.10.0 in /usr/local/lib/python3.7/dist-packages (from lifetimes) (1.19.5)\n",
            "Requirement already satisfied: pandas>=0.24.0 in /usr/local/lib/python3.7/dist-packages (from lifetimes) (1.1.5)\n",
            "Requirement already satisfied: dill>=0.2.6 in /usr/local/lib/python3.7/dist-packages (from lifetimes) (0.3.3)\n",
            "Requirement already satisfied: scipy>=1.0.0 in /usr/local/lib/python3.7/dist-packages (from lifetimes) (1.4.1)\n",
            "Requirement already satisfied: future>=0.15.2 in /usr/local/lib/python3.7/dist-packages (from autograd>=1.2.0->lifetimes) (0.16.0)\n",
            "Requirement already satisfied: python-dateutil>=2.7.3 in /usr/local/lib/python3.7/dist-packages (from pandas>=0.24.0->lifetimes) (2.8.1)\n",
            "Requirement already satisfied: pytz>=2017.2 in /usr/local/lib/python3.7/dist-packages (from pandas>=0.24.0->lifetimes) (2018.9)\n",
            "Requirement already satisfied: six>=1.5 in /usr/local/lib/python3.7/dist-packages (from python-dateutil>=2.7.3->pandas>=0.24.0->lifetimes) (1.15.0)\n",
            "Installing collected packages: lifetimes\n",
            "Successfully installed lifetimes-0.11.3\n"
          ],
          "name": "stdout"
        }
      ]
    },
    {
      "cell_type": "code",
      "metadata": {
        "id": "CCA2eRy0NseV"
      },
      "source": [
        "import lifetimes"
      ],
      "execution_count": null,
      "outputs": []
    },
    {
      "cell_type": "code",
      "metadata": {
        "colab": {
          "base_uri": "https://localhost:8080/",
          "height": 221
        },
        "id": "iwybmwfKN8RH",
        "outputId": "93af3e9e-48a7-4a77-8845-f5e40e4e49e7"
      },
      "source": [
        "'''\n",
        "features = ['CustomerID', 'InvoiceNo', 'InvoiceDate', 'Quantity', 'UnitPrice']\n",
        "data_clv = df[features]\n",
        "data_clv['TotalSales'] = data_clv['Quantity'].multiply(data_clv['UnitPrice'])\n",
        "print(data_clv.shape)\n",
        "data_clv.head()\n",
        "'''"
      ],
      "execution_count": null,
      "outputs": [
        {
          "output_type": "stream",
          "text": [
            "(406829, 6)\n"
          ],
          "name": "stdout"
        },
        {
          "output_type": "execute_result",
          "data": {
            "text/html": [
              "<div>\n",
              "<style scoped>\n",
              "    .dataframe tbody tr th:only-of-type {\n",
              "        vertical-align: middle;\n",
              "    }\n",
              "\n",
              "    .dataframe tbody tr th {\n",
              "        vertical-align: top;\n",
              "    }\n",
              "\n",
              "    .dataframe thead th {\n",
              "        text-align: right;\n",
              "    }\n",
              "</style>\n",
              "<table border=\"1\" class=\"dataframe\">\n",
              "  <thead>\n",
              "    <tr style=\"text-align: right;\">\n",
              "      <th></th>\n",
              "      <th>CustomerID</th>\n",
              "      <th>InvoiceNo</th>\n",
              "      <th>InvoiceDate</th>\n",
              "      <th>Quantity</th>\n",
              "      <th>UnitPrice</th>\n",
              "      <th>TotalSales</th>\n",
              "    </tr>\n",
              "  </thead>\n",
              "  <tbody>\n",
              "    <tr>\n",
              "      <th>0</th>\n",
              "      <td>17850</td>\n",
              "      <td>536365</td>\n",
              "      <td>2010-12-01 08:26:00</td>\n",
              "      <td>6</td>\n",
              "      <td>2.55</td>\n",
              "      <td>15.30</td>\n",
              "    </tr>\n",
              "    <tr>\n",
              "      <th>1</th>\n",
              "      <td>17850</td>\n",
              "      <td>536365</td>\n",
              "      <td>2010-12-01 08:26:00</td>\n",
              "      <td>6</td>\n",
              "      <td>3.39</td>\n",
              "      <td>20.34</td>\n",
              "    </tr>\n",
              "    <tr>\n",
              "      <th>2</th>\n",
              "      <td>17850</td>\n",
              "      <td>536365</td>\n",
              "      <td>2010-12-01 08:26:00</td>\n",
              "      <td>8</td>\n",
              "      <td>2.75</td>\n",
              "      <td>22.00</td>\n",
              "    </tr>\n",
              "    <tr>\n",
              "      <th>3</th>\n",
              "      <td>17850</td>\n",
              "      <td>536365</td>\n",
              "      <td>2010-12-01 08:26:00</td>\n",
              "      <td>6</td>\n",
              "      <td>3.39</td>\n",
              "      <td>20.34</td>\n",
              "    </tr>\n",
              "    <tr>\n",
              "      <th>4</th>\n",
              "      <td>17850</td>\n",
              "      <td>536365</td>\n",
              "      <td>2010-12-01 08:26:00</td>\n",
              "      <td>6</td>\n",
              "      <td>3.39</td>\n",
              "      <td>20.34</td>\n",
              "    </tr>\n",
              "  </tbody>\n",
              "</table>\n",
              "</div>"
            ],
            "text/plain": [
              "   CustomerID InvoiceNo         InvoiceDate  Quantity  UnitPrice  TotalSales\n",
              "0       17850    536365 2010-12-01 08:26:00         6       2.55       15.30\n",
              "1       17850    536365 2010-12-01 08:26:00         6       3.39       20.34\n",
              "2       17850    536365 2010-12-01 08:26:00         8       2.75       22.00\n",
              "3       17850    536365 2010-12-01 08:26:00         6       3.39       20.34\n",
              "4       17850    536365 2010-12-01 08:26:00         6       3.39       20.34"
            ]
          },
          "metadata": {
            "tags": []
          },
          "execution_count": 31
        }
      ]
    },
    {
      "cell_type": "code",
      "metadata": {
        "colab": {
          "base_uri": "https://localhost:8080/",
          "height": 204
        },
        "id": "YVoB3tMJNuyN",
        "outputId": "2d089305-ba99-4982-820c-8a27ab35c90c"
      },
      "source": [
        "summary = lifetimes.utils.summary_data_from_transaction_data(data_clv, 'CustomerID', 'InvoiceDate', 'TotalSales' )\n",
        "summary = summary.reset_index()\n",
        "summary.head()"
      ],
      "execution_count": null,
      "outputs": [
        {
          "output_type": "execute_result",
          "data": {
            "text/html": [
              "<div>\n",
              "<style scoped>\n",
              "    .dataframe tbody tr th:only-of-type {\n",
              "        vertical-align: middle;\n",
              "    }\n",
              "\n",
              "    .dataframe tbody tr th {\n",
              "        vertical-align: top;\n",
              "    }\n",
              "\n",
              "    .dataframe thead th {\n",
              "        text-align: right;\n",
              "    }\n",
              "</style>\n",
              "<table border=\"1\" class=\"dataframe\">\n",
              "  <thead>\n",
              "    <tr style=\"text-align: right;\">\n",
              "      <th></th>\n",
              "      <th>CustomerID</th>\n",
              "      <th>frequency</th>\n",
              "      <th>recency</th>\n",
              "      <th>T</th>\n",
              "      <th>monetary_value</th>\n",
              "    </tr>\n",
              "  </thead>\n",
              "  <tbody>\n",
              "    <tr>\n",
              "      <th>0</th>\n",
              "      <td>12346</td>\n",
              "      <td>0.0</td>\n",
              "      <td>0.0</td>\n",
              "      <td>325.0</td>\n",
              "      <td>0.000000</td>\n",
              "    </tr>\n",
              "    <tr>\n",
              "      <th>1</th>\n",
              "      <td>12347</td>\n",
              "      <td>6.0</td>\n",
              "      <td>365.0</td>\n",
              "      <td>367.0</td>\n",
              "      <td>599.701667</td>\n",
              "    </tr>\n",
              "    <tr>\n",
              "      <th>2</th>\n",
              "      <td>12348</td>\n",
              "      <td>3.0</td>\n",
              "      <td>283.0</td>\n",
              "      <td>358.0</td>\n",
              "      <td>301.480000</td>\n",
              "    </tr>\n",
              "    <tr>\n",
              "      <th>3</th>\n",
              "      <td>12349</td>\n",
              "      <td>0.0</td>\n",
              "      <td>0.0</td>\n",
              "      <td>18.0</td>\n",
              "      <td>0.000000</td>\n",
              "    </tr>\n",
              "    <tr>\n",
              "      <th>4</th>\n",
              "      <td>12350</td>\n",
              "      <td>0.0</td>\n",
              "      <td>0.0</td>\n",
              "      <td>310.0</td>\n",
              "      <td>0.000000</td>\n",
              "    </tr>\n",
              "  </tbody>\n",
              "</table>\n",
              "</div>"
            ],
            "text/plain": [
              "   CustomerID  frequency  recency      T  monetary_value\n",
              "0       12346        0.0      0.0  325.0        0.000000\n",
              "1       12347        6.0    365.0  367.0      599.701667\n",
              "2       12348        3.0    283.0  358.0      301.480000\n",
              "3       12349        0.0      0.0   18.0        0.000000\n",
              "4       12350        0.0      0.0  310.0        0.000000"
            ]
          },
          "metadata": {
            "tags": []
          },
          "execution_count": 28
        }
      ]
    },
    {
      "cell_type": "code",
      "metadata": {
        "colab": {
          "base_uri": "https://localhost:8080/",
          "height": 452
        },
        "id": "YfO4nAZ1OWrv",
        "outputId": "50a7703d-f667-451a-f0ef-283f291557cb"
      },
      "source": [
        "# Create a distribution of frequency to understand the customer frequence level\n",
        "summary['frequency'].plot(kind='hist', bins=50)\n",
        "print(summary['frequency'].describe())\n",
        "print(\"---------------------------------------\")\n",
        "one_time_buyers = round(sum(summary['frequency'] == 0)/float(len(summary))*(100),2)\n",
        "print(\"Percentage of customers purchase the item only once:\", one_time_buyers ,\"%\")"
      ],
      "execution_count": null,
      "outputs": [
        {
          "output_type": "stream",
          "text": [
            "count    4338.000000\n",
            "mean        2.864223\n",
            "std         5.949000\n",
            "min         0.000000\n",
            "25%         0.000000\n",
            "50%         1.000000\n",
            "75%         3.000000\n",
            "max       131.000000\n",
            "Name: frequency, dtype: float64\n",
            "---------------------------------------\n",
            "Percentage of customers purchase the item only once: 35.68 %\n"
          ],
          "name": "stdout"
        },
        {
          "output_type": "display_data",
          "data": {
            "image/png": "[encoded data removed]",
            "text/plain": [
              "<Figure size 432x288 with 1 Axes>"
            ]
          },
          "metadata": {
            "tags": [],
            "needs_background": "light"
          }
        }
      ]
    },
    {
      "cell_type": "code",
      "metadata": {
        "colab": {
          "base_uri": "https://localhost:8080/"
        },
        "id": "0Ybg099kOk-f",
        "outputId": "ae871440-b620-4434-9cd4-d4cf51f4bba7"
      },
      "source": [
        "# Fitting the BG/NBD model\n",
        "bgf = lifetimes.BetaGeoFitter(penalizer_coef=0.0)\n",
        "bgf.fit(summary['frequency'], summary['recency'], summary['T'])"
      ],
      "execution_count": null,
      "outputs": [
        {
          "output_type": "execute_result",
          "data": {
            "text/plain": [
              "<lifetimes.BetaGeoFitter: fitted with 4338 subjects, a: 0.00, alpha: 68.91, b: 6.75, r: 0.83>"
            ]
          },
          "metadata": {
            "tags": []
          },
          "execution_count": 30
        }
      ]
    },
    {
      "cell_type": "code",
      "metadata": {
        "colab": {
          "base_uri": "https://localhost:8080/",
          "height": 173
        },
        "id": "K4OQ6gUwOng9",
        "outputId": "42cc7e8a-49da-4d32-8295-917346ff70d3"
      },
      "source": [
        "# Model summary\n",
        "bgf.summary"
      ],
      "execution_count": null,
      "outputs": [
        {
          "output_type": "execute_result",
          "data": {
            "text/html": [
              "<div>\n",
              "<style scoped>\n",
              "    .dataframe tbody tr th:only-of-type {\n",
              "        vertical-align: middle;\n",
              "    }\n",
              "\n",
              "    .dataframe tbody tr th {\n",
              "        vertical-align: top;\n",
              "    }\n",
              "\n",
              "    .dataframe thead th {\n",
              "        text-align: right;\n",
              "    }\n",
              "</style>\n",
              "<table border=\"1\" class=\"dataframe\">\n",
              "  <thead>\n",
              "    <tr style=\"text-align: right;\">\n",
              "      <th></th>\n",
              "      <th>coef</th>\n",
              "      <th>se(coef)</th>\n",
              "      <th>lower 95% bound</th>\n",
              "      <th>upper 95% bound</th>\n",
              "    </tr>\n",
              "  </thead>\n",
              "  <tbody>\n",
              "    <tr>\n",
              "      <th>r</th>\n",
              "      <td>0.826542</td>\n",
              "      <td>0.026785</td>\n",
              "      <td>0.774044</td>\n",
              "      <td>0.879040</td>\n",
              "    </tr>\n",
              "    <tr>\n",
              "      <th>alpha</th>\n",
              "      <td>68.905121</td>\n",
              "      <td>2.611786</td>\n",
              "      <td>63.786020</td>\n",
              "      <td>74.024221</td>\n",
              "    </tr>\n",
              "    <tr>\n",
              "      <th>a</th>\n",
              "      <td>0.003437</td>\n",
              "      <td>0.010339</td>\n",
              "      <td>-0.016828</td>\n",
              "      <td>0.023702</td>\n",
              "    </tr>\n",
              "    <tr>\n",
              "      <th>b</th>\n",
              "      <td>6.745116</td>\n",
              "      <td>22.414725</td>\n",
              "      <td>-37.187745</td>\n",
              "      <td>50.677978</td>\n",
              "    </tr>\n",
              "  </tbody>\n",
              "</table>\n",
              "</div>"
            ],
            "text/plain": [
              "            coef   se(coef)  lower 95% bound  upper 95% bound\n",
              "r       0.826542   0.026785         0.774044         0.879040\n",
              "alpha  68.905121   2.611786        63.786020        74.024221\n",
              "a       0.003437   0.010339        -0.016828         0.023702\n",
              "b       6.745116  22.414725       -37.187745        50.677978"
            ]
          },
          "metadata": {
            "tags": []
          },
          "execution_count": 31
        }
      ]
    },
    {
      "cell_type": "code",
      "metadata": {
        "colab": {
          "base_uri": "https://localhost:8080/",
          "height": 359
        },
        "id": "Gs0O4w4tOqVA",
        "outputId": "c0bfc9fb-3c92-4e4c-caf1-6f959737f46d"
      },
      "source": [
        "summary['probability_alive'] = bgf.conditional_probability_alive(summary['frequency'], summary['recency'], summary['T'])\n",
        "summary.head(10)"
      ],
      "execution_count": null,
      "outputs": [
        {
          "output_type": "execute_result",
          "data": {
            "text/html": [
              "<div>\n",
              "<style scoped>\n",
              "    .dataframe tbody tr th:only-of-type {\n",
              "        vertical-align: middle;\n",
              "    }\n",
              "\n",
              "    .dataframe tbody tr th {\n",
              "        vertical-align: top;\n",
              "    }\n",
              "\n",
              "    .dataframe thead th {\n",
              "        text-align: right;\n",
              "    }\n",
              "</style>\n",
              "<table border=\"1\" class=\"dataframe\">\n",
              "  <thead>\n",
              "    <tr style=\"text-align: right;\">\n",
              "      <th></th>\n",
              "      <th>CustomerID</th>\n",
              "      <th>frequency</th>\n",
              "      <th>recency</th>\n",
              "      <th>T</th>\n",
              "      <th>monetary_value</th>\n",
              "      <th>probability_alive</th>\n",
              "    </tr>\n",
              "  </thead>\n",
              "  <tbody>\n",
              "    <tr>\n",
              "      <th>0</th>\n",
              "      <td>12346</td>\n",
              "      <td>0.0</td>\n",
              "      <td>0.0</td>\n",
              "      <td>325.0</td>\n",
              "      <td>0.000000</td>\n",
              "      <td>1.000000</td>\n",
              "    </tr>\n",
              "    <tr>\n",
              "      <th>1</th>\n",
              "      <td>12347</td>\n",
              "      <td>6.0</td>\n",
              "      <td>365.0</td>\n",
              "      <td>367.0</td>\n",
              "      <td>599.701667</td>\n",
              "      <td>0.999698</td>\n",
              "    </tr>\n",
              "    <tr>\n",
              "      <th>2</th>\n",
              "      <td>12348</td>\n",
              "      <td>3.0</td>\n",
              "      <td>283.0</td>\n",
              "      <td>358.0</td>\n",
              "      <td>301.480000</td>\n",
              "      <td>0.999177</td>\n",
              "    </tr>\n",
              "    <tr>\n",
              "      <th>3</th>\n",
              "      <td>12349</td>\n",
              "      <td>0.0</td>\n",
              "      <td>0.0</td>\n",
              "      <td>18.0</td>\n",
              "      <td>0.000000</td>\n",
              "      <td>1.000000</td>\n",
              "    </tr>\n",
              "    <tr>\n",
              "      <th>4</th>\n",
              "      <td>12350</td>\n",
              "      <td>0.0</td>\n",
              "      <td>0.0</td>\n",
              "      <td>310.0</td>\n",
              "      <td>0.000000</td>\n",
              "      <td>1.000000</td>\n",
              "    </tr>\n",
              "    <tr>\n",
              "      <th>5</th>\n",
              "      <td>12352</td>\n",
              "      <td>6.0</td>\n",
              "      <td>260.0</td>\n",
              "      <td>296.0</td>\n",
              "      <td>368.256667</td>\n",
              "      <td>0.999406</td>\n",
              "    </tr>\n",
              "    <tr>\n",
              "      <th>6</th>\n",
              "      <td>12353</td>\n",
              "      <td>0.0</td>\n",
              "      <td>0.0</td>\n",
              "      <td>204.0</td>\n",
              "      <td>0.000000</td>\n",
              "      <td>1.000000</td>\n",
              "    </tr>\n",
              "    <tr>\n",
              "      <th>7</th>\n",
              "      <td>12354</td>\n",
              "      <td>0.0</td>\n",
              "      <td>0.0</td>\n",
              "      <td>232.0</td>\n",
              "      <td>0.000000</td>\n",
              "      <td>1.000000</td>\n",
              "    </tr>\n",
              "    <tr>\n",
              "      <th>8</th>\n",
              "      <td>12355</td>\n",
              "      <td>0.0</td>\n",
              "      <td>0.0</td>\n",
              "      <td>214.0</td>\n",
              "      <td>0.000000</td>\n",
              "      <td>1.000000</td>\n",
              "    </tr>\n",
              "    <tr>\n",
              "      <th>9</th>\n",
              "      <td>12356</td>\n",
              "      <td>2.0</td>\n",
              "      <td>303.0</td>\n",
              "      <td>325.0</td>\n",
              "      <td>269.905000</td>\n",
              "      <td>0.999478</td>\n",
              "    </tr>\n",
              "  </tbody>\n",
              "</table>\n",
              "</div>"
            ],
            "text/plain": [
              "   CustomerID  frequency  recency      T  monetary_value  probability_alive\n",
              "0       12346        0.0      0.0  325.0        0.000000           1.000000\n",
              "1       12347        6.0    365.0  367.0      599.701667           0.999698\n",
              "2       12348        3.0    283.0  358.0      301.480000           0.999177\n",
              "3       12349        0.0      0.0   18.0        0.000000           1.000000\n",
              "4       12350        0.0      0.0  310.0        0.000000           1.000000\n",
              "5       12352        6.0    260.0  296.0      368.256667           0.999406\n",
              "6       12353        0.0      0.0  204.0        0.000000           1.000000\n",
              "7       12354        0.0      0.0  232.0        0.000000           1.000000\n",
              "8       12355        0.0      0.0  214.0        0.000000           1.000000\n",
              "9       12356        2.0    303.0  325.0      269.905000           0.999478"
            ]
          },
          "metadata": {
            "tags": []
          },
          "execution_count": 32
        }
      ]
    },
    {
      "cell_type": "code",
      "metadata": {
        "colab": {
          "base_uri": "https://localhost:8080/",
          "height": 545
        },
        "id": "e9ZRIphLOvx4",
        "outputId": "ea4d9968-8185-4cf3-d819-fa6bdbfbf2ba"
      },
      "source": [
        "# Visual representation of relationship between recency and frequency\n",
        "from lifetimes.plotting import plot_probability_alive_matrix\n",
        "\n",
        "fig = plt.figure(figsize=(12,8))\n",
        "plot_probability_alive_matrix(bgf)"
      ],
      "execution_count": null,
      "outputs": [
        {
          "output_type": "execute_result",
          "data": {
            "text/plain": [
              "<matplotlib.axes._subplots.AxesSubplot at 0x7f5f18c39c50>"
            ]
          },
          "metadata": {
            "tags": []
          },
          "execution_count": 33
        },
        {
          "output_type": "display_data",
          "data": {
            "image/png": "[encoded data removed]",
            "text/plain": [
              "<Figure size 864x576 with 2 Axes>"
            ]
          },
          "metadata": {
            "tags": [],
            "needs_background": "light"
          }
        }
      ]
    },
    {
      "cell_type": "code",
      "metadata": {
        "colab": {
          "base_uri": "https://localhost:8080/",
          "height": 359
        },
        "id": "8Xw0Raj5O1E_",
        "outputId": "d2b88634-3630-40d1-96c9-ce8fe68de83f"
      },
      "source": [
        "#Predict future transaction for the next 30 days based on historical data\n",
        "t = 30\n",
        "summary['pred_num_txn'] = round(bgf.conditional_expected_number_of_purchases_up_to_time(t, summary['frequency'], summary['recency'], summary['T']),2)\n",
        "summary.sort_values(by='pred_num_txn', ascending=False).head(10).reset_index()"
      ],
      "execution_count": null,
      "outputs": [
        {
          "output_type": "execute_result",
          "data": {
            "text/html": [
              "<div>\n",
              "<style scoped>\n",
              "    .dataframe tbody tr th:only-of-type {\n",
              "        vertical-align: middle;\n",
              "    }\n",
              "\n",
              "    .dataframe tbody tr th {\n",
              "        vertical-align: top;\n",
              "    }\n",
              "\n",
              "    .dataframe thead th {\n",
              "        text-align: right;\n",
              "    }\n",
              "</style>\n",
              "<table border=\"1\" class=\"dataframe\">\n",
              "  <thead>\n",
              "    <tr style=\"text-align: right;\">\n",
              "      <th></th>\n",
              "      <th>index</th>\n",
              "      <th>CustomerID</th>\n",
              "      <th>frequency</th>\n",
              "      <th>recency</th>\n",
              "      <th>T</th>\n",
              "      <th>monetary_value</th>\n",
              "      <th>probability_alive</th>\n",
              "      <th>pred_num_txn</th>\n",
              "    </tr>\n",
              "  </thead>\n",
              "  <tbody>\n",
              "    <tr>\n",
              "      <th>0</th>\n",
              "      <td>1879</td>\n",
              "      <td>14911</td>\n",
              "      <td>131.0</td>\n",
              "      <td>372.0</td>\n",
              "      <td>373.0</td>\n",
              "      <td>1093.661679</td>\n",
              "      <td>0.999966</td>\n",
              "      <td>8.95</td>\n",
              "    </tr>\n",
              "    <tr>\n",
              "      <th>1</th>\n",
              "      <td>326</td>\n",
              "      <td>12748</td>\n",
              "      <td>112.0</td>\n",
              "      <td>373.0</td>\n",
              "      <td>373.0</td>\n",
              "      <td>301.024821</td>\n",
              "      <td>0.999971</td>\n",
              "      <td>7.66</td>\n",
              "    </tr>\n",
              "    <tr>\n",
              "      <th>2</th>\n",
              "      <td>4010</td>\n",
              "      <td>17841</td>\n",
              "      <td>111.0</td>\n",
              "      <td>372.0</td>\n",
              "      <td>373.0</td>\n",
              "      <td>364.452162</td>\n",
              "      <td>0.999962</td>\n",
              "      <td>7.59</td>\n",
              "    </tr>\n",
              "    <tr>\n",
              "      <th>3</th>\n",
              "      <td>2176</td>\n",
              "      <td>15311</td>\n",
              "      <td>89.0</td>\n",
              "      <td>373.0</td>\n",
              "      <td>373.0</td>\n",
              "      <td>677.729438</td>\n",
              "      <td>0.999964</td>\n",
              "      <td>6.10</td>\n",
              "    </tr>\n",
              "    <tr>\n",
              "      <th>4</th>\n",
              "      <td>1661</td>\n",
              "      <td>14606</td>\n",
              "      <td>88.0</td>\n",
              "      <td>372.0</td>\n",
              "      <td>373.0</td>\n",
              "      <td>135.890114</td>\n",
              "      <td>0.999955</td>\n",
              "      <td>6.03</td>\n",
              "    </tr>\n",
              "    <tr>\n",
              "      <th>5</th>\n",
              "      <td>481</td>\n",
              "      <td>12971</td>\n",
              "      <td>70.0</td>\n",
              "      <td>369.0</td>\n",
              "      <td>372.0</td>\n",
              "      <td>159.211286</td>\n",
              "      <td>0.999926</td>\n",
              "      <td>4.82</td>\n",
              "    </tr>\n",
              "    <tr>\n",
              "      <th>6</th>\n",
              "      <td>562</td>\n",
              "      <td>13089</td>\n",
              "      <td>65.0</td>\n",
              "      <td>367.0</td>\n",
              "      <td>369.0</td>\n",
              "      <td>893.714308</td>\n",
              "      <td>0.999934</td>\n",
              "      <td>4.51</td>\n",
              "    </tr>\n",
              "    <tr>\n",
              "      <th>7</th>\n",
              "      <td>1602</td>\n",
              "      <td>14527</td>\n",
              "      <td>53.0</td>\n",
              "      <td>367.0</td>\n",
              "      <td>369.0</td>\n",
              "      <td>155.016415</td>\n",
              "      <td>0.999925</td>\n",
              "      <td>3.69</td>\n",
              "    </tr>\n",
              "    <tr>\n",
              "      <th>8</th>\n",
              "      <td>1069</td>\n",
              "      <td>13798</td>\n",
              "      <td>52.0</td>\n",
              "      <td>371.0</td>\n",
              "      <td>372.0</td>\n",
              "      <td>706.650962</td>\n",
              "      <td>0.999933</td>\n",
              "      <td>3.59</td>\n",
              "    </tr>\n",
              "    <tr>\n",
              "      <th>9</th>\n",
              "      <td>2990</td>\n",
              "      <td>16422</td>\n",
              "      <td>47.0</td>\n",
              "      <td>352.0</td>\n",
              "      <td>369.0</td>\n",
              "      <td>702.472340</td>\n",
              "      <td>0.999567</td>\n",
              "      <td>3.27</td>\n",
              "    </tr>\n",
              "  </tbody>\n",
              "</table>\n",
              "</div>"
            ],
            "text/plain": [
              "   index  CustomerID  ...  probability_alive  pred_num_txn\n",
              "0   1879       14911  ...           0.999966          8.95\n",
              "1    326       12748  ...           0.999971          7.66\n",
              "2   4010       17841  ...           0.999962          7.59\n",
              "3   2176       15311  ...           0.999964          6.10\n",
              "4   1661       14606  ...           0.999955          6.03\n",
              "5    481       12971  ...           0.999926          4.82\n",
              "6    562       13089  ...           0.999934          4.51\n",
              "7   1602       14527  ...           0.999925          3.69\n",
              "8   1069       13798  ...           0.999933          3.59\n",
              "9   2990       16422  ...           0.999567          3.27\n",
              "\n",
              "[10 rows x 8 columns]"
            ]
          },
          "metadata": {
            "tags": []
          },
          "execution_count": 34
        }
      ]
    },
    {
      "cell_type": "code",
      "metadata": {
        "colab": {
          "base_uri": "https://localhost:8080/",
          "height": 221
        },
        "id": "f9eL1gaGPITB",
        "outputId": "4b226c91-c9c7-4a7e-a7e2-7587e2703a74"
      },
      "source": [
        "# Checking the relationship between frequency and monetary_value\n",
        "return_customers_summary = summary[summary['frequency']>0]\n",
        "print(return_customers_summary.shape)\n",
        "return_customers_summary.head()"
      ],
      "execution_count": null,
      "outputs": [
        {
          "output_type": "stream",
          "text": [
            "(2790, 7)\n"
          ],
          "name": "stdout"
        },
        {
          "output_type": "execute_result",
          "data": {
            "text/html": [
              "<div>\n",
              "<style scoped>\n",
              "    .dataframe tbody tr th:only-of-type {\n",
              "        vertical-align: middle;\n",
              "    }\n",
              "\n",
              "    .dataframe tbody tr th {\n",
              "        vertical-align: top;\n",
              "    }\n",
              "\n",
              "    .dataframe thead th {\n",
              "        text-align: right;\n",
              "    }\n",
              "</style>\n",
              "<table border=\"1\" class=\"dataframe\">\n",
              "  <thead>\n",
              "    <tr style=\"text-align: right;\">\n",
              "      <th></th>\n",
              "      <th>CustomerID</th>\n",
              "      <th>frequency</th>\n",
              "      <th>recency</th>\n",
              "      <th>T</th>\n",
              "      <th>monetary_value</th>\n",
              "      <th>probability_alive</th>\n",
              "      <th>pred_num_txn</th>\n",
              "    </tr>\n",
              "  </thead>\n",
              "  <tbody>\n",
              "    <tr>\n",
              "      <th>1</th>\n",
              "      <td>12347</td>\n",
              "      <td>6.0</td>\n",
              "      <td>365.0</td>\n",
              "      <td>367.0</td>\n",
              "      <td>599.701667</td>\n",
              "      <td>0.999698</td>\n",
              "      <td>0.47</td>\n",
              "    </tr>\n",
              "    <tr>\n",
              "      <th>2</th>\n",
              "      <td>12348</td>\n",
              "      <td>3.0</td>\n",
              "      <td>283.0</td>\n",
              "      <td>358.0</td>\n",
              "      <td>301.480000</td>\n",
              "      <td>0.999177</td>\n",
              "      <td>0.27</td>\n",
              "    </tr>\n",
              "    <tr>\n",
              "      <th>5</th>\n",
              "      <td>12352</td>\n",
              "      <td>6.0</td>\n",
              "      <td>260.0</td>\n",
              "      <td>296.0</td>\n",
              "      <td>368.256667</td>\n",
              "      <td>0.999406</td>\n",
              "      <td>0.56</td>\n",
              "    </tr>\n",
              "    <tr>\n",
              "      <th>9</th>\n",
              "      <td>12356</td>\n",
              "      <td>2.0</td>\n",
              "      <td>303.0</td>\n",
              "      <td>325.0</td>\n",
              "      <td>269.905000</td>\n",
              "      <td>0.999478</td>\n",
              "      <td>0.22</td>\n",
              "    </tr>\n",
              "    <tr>\n",
              "      <th>11</th>\n",
              "      <td>12358</td>\n",
              "      <td>1.0</td>\n",
              "      <td>149.0</td>\n",
              "      <td>150.0</td>\n",
              "      <td>683.200000</td>\n",
              "      <td>0.999486</td>\n",
              "      <td>0.25</td>\n",
              "    </tr>\n",
              "  </tbody>\n",
              "</table>\n",
              "</div>"
            ],
            "text/plain": [
              "    CustomerID  frequency  ...  probability_alive  pred_num_txn\n",
              "1        12347        6.0  ...           0.999698          0.47\n",
              "2        12348        3.0  ...           0.999177          0.27\n",
              "5        12352        6.0  ...           0.999406          0.56\n",
              "9        12356        2.0  ...           0.999478          0.22\n",
              "11       12358        1.0  ...           0.999486          0.25\n",
              "\n",
              "[5 rows x 7 columns]"
            ]
          },
          "metadata": {
            "tags": []
          },
          "execution_count": 35
        }
      ]
    },
    {
      "cell_type": "code",
      "metadata": {
        "colab": {
          "base_uri": "https://localhost:8080/",
          "height": 111
        },
        "id": "r0heNwA2PQAt",
        "outputId": "4e519499-b82a-47ff-c665-5caeae377cec"
      },
      "source": [
        "\n",
        "# Checking the relationship between frequency and monetary_value\n",
        "return_customers_summary[['frequency', 'monetary_value']].corr()"
      ],
      "execution_count": null,
      "outputs": [
        {
          "output_type": "execute_result",
          "data": {
            "text/html": [
              "<div>\n",
              "<style scoped>\n",
              "    .dataframe tbody tr th:only-of-type {\n",
              "        vertical-align: middle;\n",
              "    }\n",
              "\n",
              "    .dataframe tbody tr th {\n",
              "        vertical-align: top;\n",
              "    }\n",
              "\n",
              "    .dataframe thead th {\n",
              "        text-align: right;\n",
              "    }\n",
              "</style>\n",
              "<table border=\"1\" class=\"dataframe\">\n",
              "  <thead>\n",
              "    <tr style=\"text-align: right;\">\n",
              "      <th></th>\n",
              "      <th>frequency</th>\n",
              "      <th>monetary_value</th>\n",
              "    </tr>\n",
              "  </thead>\n",
              "  <tbody>\n",
              "    <tr>\n",
              "      <th>frequency</th>\n",
              "      <td>1.000000</td>\n",
              "      <td>0.015906</td>\n",
              "    </tr>\n",
              "    <tr>\n",
              "      <th>monetary_value</th>\n",
              "      <td>0.015906</td>\n",
              "      <td>1.000000</td>\n",
              "    </tr>\n",
              "  </tbody>\n",
              "</table>\n",
              "</div>"
            ],
            "text/plain": [
              "                frequency  monetary_value\n",
              "frequency        1.000000        0.015906\n",
              "monetary_value   0.015906        1.000000"
            ]
          },
          "metadata": {
            "tags": []
          },
          "execution_count": 36
        }
      ]
    },
    {
      "cell_type": "code",
      "metadata": {
        "colab": {
          "base_uri": "https://localhost:8080/"
        },
        "id": "-UvEyLe3PRbX",
        "outputId": "94000164-97fd-41eb-de32-96eae609cda3"
      },
      "source": [
        "\n",
        "# Modeling the monetary value using Gamma-Gamma Model\n",
        "ggf = lifetimes.GammaGammaFitter(penalizer_coef=0.001)\n",
        "ggf.fit(return_customers_summary['frequency'],\n",
        "       return_customers_summary['monetary_value'])"
      ],
      "execution_count": null,
      "outputs": [
        {
          "output_type": "execute_result",
          "data": {
            "text/plain": [
              "<lifetimes.GammaGammaFitter: fitted with 2790 subjects, p: 11.13, q: 0.84, v: 11.29>"
            ]
          },
          "metadata": {
            "tags": []
          },
          "execution_count": 37
        }
      ]
    },
    {
      "cell_type": "code",
      "metadata": {
        "colab": {
          "base_uri": "https://localhost:8080/",
          "height": 142
        },
        "id": "RYGKkAriXDRZ",
        "outputId": "a1f7cc66-3167-47dd-838f-5d65a0e2f3df"
      },
      "source": [
        "ggf.summary"
      ],
      "execution_count": null,
      "outputs": [
        {
          "output_type": "execute_result",
          "data": {
            "text/html": [
              "<div>\n",
              "<style scoped>\n",
              "    .dataframe tbody tr th:only-of-type {\n",
              "        vertical-align: middle;\n",
              "    }\n",
              "\n",
              "    .dataframe tbody tr th {\n",
              "        vertical-align: top;\n",
              "    }\n",
              "\n",
              "    .dataframe thead th {\n",
              "        text-align: right;\n",
              "    }\n",
              "</style>\n",
              "<table border=\"1\" class=\"dataframe\">\n",
              "  <thead>\n",
              "    <tr style=\"text-align: right;\">\n",
              "      <th></th>\n",
              "      <th>coef</th>\n",
              "      <th>se(coef)</th>\n",
              "      <th>lower 95% bound</th>\n",
              "      <th>upper 95% bound</th>\n",
              "    </tr>\n",
              "  </thead>\n",
              "  <tbody>\n",
              "    <tr>\n",
              "      <th>p</th>\n",
              "      <td>11.125568</td>\n",
              "      <td>0.269274</td>\n",
              "      <td>10.597792</td>\n",
              "      <td>11.653344</td>\n",
              "    </tr>\n",
              "    <tr>\n",
              "      <th>q</th>\n",
              "      <td>0.838782</td>\n",
              "      <td>0.019731</td>\n",
              "      <td>0.800110</td>\n",
              "      <td>0.877455</td>\n",
              "    </tr>\n",
              "    <tr>\n",
              "      <th>v</th>\n",
              "      <td>11.292978</td>\n",
              "      <td>0.281539</td>\n",
              "      <td>10.741162</td>\n",
              "      <td>11.844795</td>\n",
              "    </tr>\n",
              "  </tbody>\n",
              "</table>\n",
              "</div>"
            ],
            "text/plain": [
              "        coef  se(coef)  lower 95% bound  upper 95% bound\n",
              "p  11.125568  0.269274        10.597792        11.653344\n",
              "q   0.838782  0.019731         0.800110         0.877455\n",
              "v  11.292978  0.281539        10.741162        11.844795"
            ]
          },
          "metadata": {
            "tags": []
          },
          "execution_count": 38
        }
      ]
    },
    {
      "cell_type": "code",
      "metadata": {
        "colab": {
          "base_uri": "https://localhost:8080/",
          "height": 204
        },
        "id": "ThS23mjxXGAF",
        "outputId": "5d69a614-b352-47ef-9dc6-ac5a20dfa66a"
      },
      "source": [
        "# Calculating the conditional expected average profit for each customer per transaction\n",
        "summary = summary[summary['monetary_value'] >0]\n",
        "summary['exp_avg_sales'] = ggf.conditional_expected_average_profit(summary['frequency'],\n",
        "                                       summary['monetary_value'])\n",
        "summary.head()\n"
      ],
      "execution_count": null,
      "outputs": [
        {
          "output_type": "execute_result",
          "data": {
            "text/html": [
              "<div>\n",
              "<style scoped>\n",
              "    .dataframe tbody tr th:only-of-type {\n",
              "        vertical-align: middle;\n",
              "    }\n",
              "\n",
              "    .dataframe tbody tr th {\n",
              "        vertical-align: top;\n",
              "    }\n",
              "\n",
              "    .dataframe thead th {\n",
              "        text-align: right;\n",
              "    }\n",
              "</style>\n",
              "<table border=\"1\" class=\"dataframe\">\n",
              "  <thead>\n",
              "    <tr style=\"text-align: right;\">\n",
              "      <th></th>\n",
              "      <th>CustomerID</th>\n",
              "      <th>frequency</th>\n",
              "      <th>recency</th>\n",
              "      <th>T</th>\n",
              "      <th>monetary_value</th>\n",
              "      <th>probability_alive</th>\n",
              "      <th>pred_num_txn</th>\n",
              "      <th>exp_avg_sales</th>\n",
              "    </tr>\n",
              "  </thead>\n",
              "  <tbody>\n",
              "    <tr>\n",
              "      <th>1</th>\n",
              "      <td>12347</td>\n",
              "      <td>6.0</td>\n",
              "      <td>365.0</td>\n",
              "      <td>367.0</td>\n",
              "      <td>599.701667</td>\n",
              "      <td>0.999698</td>\n",
              "      <td>0.47</td>\n",
              "      <td>603.040247</td>\n",
              "    </tr>\n",
              "    <tr>\n",
              "      <th>2</th>\n",
              "      <td>12348</td>\n",
              "      <td>3.0</td>\n",
              "      <td>283.0</td>\n",
              "      <td>358.0</td>\n",
              "      <td>301.480000</td>\n",
              "      <td>0.999177</td>\n",
              "      <td>0.27</td>\n",
              "      <td>306.725889</td>\n",
              "    </tr>\n",
              "    <tr>\n",
              "      <th>5</th>\n",
              "      <td>12352</td>\n",
              "      <td>6.0</td>\n",
              "      <td>260.0</td>\n",
              "      <td>296.0</td>\n",
              "      <td>368.256667</td>\n",
              "      <td>0.999406</td>\n",
              "      <td>0.56</td>\n",
              "      <td>371.034926</td>\n",
              "    </tr>\n",
              "    <tr>\n",
              "      <th>9</th>\n",
              "      <td>12356</td>\n",
              "      <td>2.0</td>\n",
              "      <td>303.0</td>\n",
              "      <td>325.0</td>\n",
              "      <td>269.905000</td>\n",
              "      <td>0.999478</td>\n",
              "      <td>0.22</td>\n",
              "      <td>277.562534</td>\n",
              "    </tr>\n",
              "    <tr>\n",
              "      <th>11</th>\n",
              "      <td>12358</td>\n",
              "      <td>1.0</td>\n",
              "      <td>149.0</td>\n",
              "      <td>150.0</td>\n",
              "      <td>683.200000</td>\n",
              "      <td>0.999486</td>\n",
              "      <td>0.25</td>\n",
              "      <td>704.704679</td>\n",
              "    </tr>\n",
              "  </tbody>\n",
              "</table>\n",
              "</div>"
            ],
            "text/plain": [
              "    CustomerID  frequency  ...  pred_num_txn  exp_avg_sales\n",
              "1        12347        6.0  ...          0.47     603.040247\n",
              "2        12348        3.0  ...          0.27     306.725889\n",
              "5        12352        6.0  ...          0.56     371.034926\n",
              "9        12356        2.0  ...          0.22     277.562534\n",
              "11       12358        1.0  ...          0.25     704.704679\n",
              "\n",
              "[5 rows x 8 columns]"
            ]
          },
          "metadata": {
            "tags": []
          },
          "execution_count": 39
        }
      ]
    },
    {
      "cell_type": "code",
      "metadata": {
        "colab": {
          "base_uri": "https://localhost:8080/"
        },
        "id": "X6oCWknmXMgw",
        "outputId": "e6163a29-2e30-478a-9a18-cb16c7e74ca4"
      },
      "source": [
        "# Checking the expected average value and the actual average value in the data to make sure the values are good\n",
        "print(f\"Expected Average Sales: {summary['exp_avg_sales'].mean()}\")\n",
        "print(f\"Actual Average Sales: {summary['monetary_value'].mean()}\")"
      ],
      "execution_count": null,
      "outputs": [
        {
          "output_type": "stream",
          "text": [
            "Expected Average Sales: 486.90902215126897\n",
            "Actual Average Sales: 477.3803385139518\n"
          ],
          "name": "stdout"
        }
      ]
    },
    {
      "cell_type": "code",
      "metadata": {
        "colab": {
          "base_uri": "https://localhost:8080/",
          "height": 204
        },
        "id": "QjhTac8oXSeu",
        "outputId": "ebe0c49b-cc7c-405f-ecb4-e1a9d5112a05"
      },
      "source": [
        "summary['predicted_clv'] =      ggf.customer_lifetime_value(bgf,\n",
        "                                                               summary['frequency'],\n",
        "                                                               summary['recency'],\n",
        "                                                               summary['T'],\n",
        "                                                               summary['monetary_value'],\n",
        "                                                               time=1,     # lifetime in months\n",
        "                                                               freq='D',   # frequency in which the data is present(T)      \n",
        "                                                               discount_rate=0.01) # discount rate\n",
        "summary.head()"
      ],
      "execution_count": null,
      "outputs": [
        {
          "output_type": "execute_result",
          "data": {
            "text/html": [
              "<div>\n",
              "<style scoped>\n",
              "    .dataframe tbody tr th:only-of-type {\n",
              "        vertical-align: middle;\n",
              "    }\n",
              "\n",
              "    .dataframe tbody tr th {\n",
              "        vertical-align: top;\n",
              "    }\n",
              "\n",
              "    .dataframe thead th {\n",
              "        text-align: right;\n",
              "    }\n",
              "</style>\n",
              "<table border=\"1\" class=\"dataframe\">\n",
              "  <thead>\n",
              "    <tr style=\"text-align: right;\">\n",
              "      <th></th>\n",
              "      <th>CustomerID</th>\n",
              "      <th>frequency</th>\n",
              "      <th>recency</th>\n",
              "      <th>T</th>\n",
              "      <th>monetary_value</th>\n",
              "      <th>probability_alive</th>\n",
              "      <th>pred_num_txn</th>\n",
              "      <th>exp_avg_sales</th>\n",
              "      <th>predicted_clv</th>\n",
              "    </tr>\n",
              "  </thead>\n",
              "  <tbody>\n",
              "    <tr>\n",
              "      <th>1</th>\n",
              "      <td>12347</td>\n",
              "      <td>6.0</td>\n",
              "      <td>365.0</td>\n",
              "      <td>367.0</td>\n",
              "      <td>599.701667</td>\n",
              "      <td>0.999698</td>\n",
              "      <td>0.47</td>\n",
              "      <td>603.040247</td>\n",
              "      <td>280.409518</td>\n",
              "    </tr>\n",
              "    <tr>\n",
              "      <th>2</th>\n",
              "      <td>12348</td>\n",
              "      <td>3.0</td>\n",
              "      <td>283.0</td>\n",
              "      <td>358.0</td>\n",
              "      <td>301.480000</td>\n",
              "      <td>0.999177</td>\n",
              "      <td>0.27</td>\n",
              "      <td>306.725889</td>\n",
              "      <td>81.591026</td>\n",
              "    </tr>\n",
              "    <tr>\n",
              "      <th>5</th>\n",
              "      <td>12352</td>\n",
              "      <td>6.0</td>\n",
              "      <td>260.0</td>\n",
              "      <td>296.0</td>\n",
              "      <td>368.256667</td>\n",
              "      <td>0.999406</td>\n",
              "      <td>0.56</td>\n",
              "      <td>371.034926</td>\n",
              "      <td>206.034640</td>\n",
              "    </tr>\n",
              "    <tr>\n",
              "      <th>9</th>\n",
              "      <td>12356</td>\n",
              "      <td>2.0</td>\n",
              "      <td>303.0</td>\n",
              "      <td>325.0</td>\n",
              "      <td>269.905000</td>\n",
              "      <td>0.999478</td>\n",
              "      <td>0.22</td>\n",
              "      <td>277.562534</td>\n",
              "      <td>59.125290</td>\n",
              "    </tr>\n",
              "    <tr>\n",
              "      <th>11</th>\n",
              "      <td>12358</td>\n",
              "      <td>1.0</td>\n",
              "      <td>149.0</td>\n",
              "      <td>150.0</td>\n",
              "      <td>683.200000</td>\n",
              "      <td>0.999486</td>\n",
              "      <td>0.25</td>\n",
              "      <td>704.704679</td>\n",
              "      <td>174.550478</td>\n",
              "    </tr>\n",
              "  </tbody>\n",
              "</table>\n",
              "</div>"
            ],
            "text/plain": [
              "    CustomerID  frequency  recency  ...  pred_num_txn  exp_avg_sales  predicted_clv\n",
              "1        12347        6.0    365.0  ...          0.47     603.040247     280.409518\n",
              "2        12348        3.0    283.0  ...          0.27     306.725889      81.591026\n",
              "5        12352        6.0    260.0  ...          0.56     371.034926     206.034640\n",
              "9        12356        2.0    303.0  ...          0.22     277.562534      59.125290\n",
              "11       12358        1.0    149.0  ...          0.25     704.704679     174.550478\n",
              "\n",
              "[5 rows x 9 columns]"
            ]
          },
          "metadata": {
            "tags": []
          },
          "execution_count": 41
        }
      ]
    },
    {
      "cell_type": "code",
      "metadata": {
        "colab": {
          "base_uri": "https://localhost:8080/",
          "height": 204
        },
        "id": "Gha9RiKkXlZD",
        "outputId": "abccb6d2-7058-4d73-cd39-35b97e4d46bd"
      },
      "source": [
        "# CLV in terms of profit (profit margin is 5%)\n",
        "profit_margin = 0.05\n",
        "summary['CLV'] = summary['predicted_clv'] * profit_margin\n",
        "summary.head()"
      ],
      "execution_count": null,
      "outputs": [
        {
          "output_type": "execute_result",
          "data": {
            "text/html": [
              "<div>\n",
              "<style scoped>\n",
              "    .dataframe tbody tr th:only-of-type {\n",
              "        vertical-align: middle;\n",
              "    }\n",
              "\n",
              "    .dataframe tbody tr th {\n",
              "        vertical-align: top;\n",
              "    }\n",
              "\n",
              "    .dataframe thead th {\n",
              "        text-align: right;\n",
              "    }\n",
              "</style>\n",
              "<table border=\"1\" class=\"dataframe\">\n",
              "  <thead>\n",
              "    <tr style=\"text-align: right;\">\n",
              "      <th></th>\n",
              "      <th>CustomerID</th>\n",
              "      <th>frequency</th>\n",
              "      <th>recency</th>\n",
              "      <th>T</th>\n",
              "      <th>monetary_value</th>\n",
              "      <th>probability_alive</th>\n",
              "      <th>pred_num_txn</th>\n",
              "      <th>exp_avg_sales</th>\n",
              "      <th>predicted_clv</th>\n",
              "      <th>CLV</th>\n",
              "    </tr>\n",
              "  </thead>\n",
              "  <tbody>\n",
              "    <tr>\n",
              "      <th>1</th>\n",
              "      <td>12347</td>\n",
              "      <td>6.0</td>\n",
              "      <td>365.0</td>\n",
              "      <td>367.0</td>\n",
              "      <td>599.701667</td>\n",
              "      <td>0.999698</td>\n",
              "      <td>0.47</td>\n",
              "      <td>603.040247</td>\n",
              "      <td>280.409518</td>\n",
              "      <td>14.020476</td>\n",
              "    </tr>\n",
              "    <tr>\n",
              "      <th>2</th>\n",
              "      <td>12348</td>\n",
              "      <td>3.0</td>\n",
              "      <td>283.0</td>\n",
              "      <td>358.0</td>\n",
              "      <td>301.480000</td>\n",
              "      <td>0.999177</td>\n",
              "      <td>0.27</td>\n",
              "      <td>306.725889</td>\n",
              "      <td>81.591026</td>\n",
              "      <td>4.079551</td>\n",
              "    </tr>\n",
              "    <tr>\n",
              "      <th>5</th>\n",
              "      <td>12352</td>\n",
              "      <td>6.0</td>\n",
              "      <td>260.0</td>\n",
              "      <td>296.0</td>\n",
              "      <td>368.256667</td>\n",
              "      <td>0.999406</td>\n",
              "      <td>0.56</td>\n",
              "      <td>371.034926</td>\n",
              "      <td>206.034640</td>\n",
              "      <td>10.301732</td>\n",
              "    </tr>\n",
              "    <tr>\n",
              "      <th>9</th>\n",
              "      <td>12356</td>\n",
              "      <td>2.0</td>\n",
              "      <td>303.0</td>\n",
              "      <td>325.0</td>\n",
              "      <td>269.905000</td>\n",
              "      <td>0.999478</td>\n",
              "      <td>0.22</td>\n",
              "      <td>277.562534</td>\n",
              "      <td>59.125290</td>\n",
              "      <td>2.956265</td>\n",
              "    </tr>\n",
              "    <tr>\n",
              "      <th>11</th>\n",
              "      <td>12358</td>\n",
              "      <td>1.0</td>\n",
              "      <td>149.0</td>\n",
              "      <td>150.0</td>\n",
              "      <td>683.200000</td>\n",
              "      <td>0.999486</td>\n",
              "      <td>0.25</td>\n",
              "      <td>704.704679</td>\n",
              "      <td>174.550478</td>\n",
              "      <td>8.727524</td>\n",
              "    </tr>\n",
              "  </tbody>\n",
              "</table>\n",
              "</div>"
            ],
            "text/plain": [
              "    CustomerID  frequency  recency  ...  exp_avg_sales  predicted_clv        CLV\n",
              "1        12347        6.0    365.0  ...     603.040247     280.409518  14.020476\n",
              "2        12348        3.0    283.0  ...     306.725889      81.591026   4.079551\n",
              "5        12352        6.0    260.0  ...     371.034926     206.034640  10.301732\n",
              "9        12356        2.0    303.0  ...     277.562534      59.125290   2.956265\n",
              "11       12358        1.0    149.0  ...     704.704679     174.550478   8.727524\n",
              "\n",
              "[5 rows x 10 columns]"
            ]
          },
          "metadata": {
            "tags": []
          },
          "execution_count": 42
        }
      ]
    },
    {
      "cell_type": "code",
      "metadata": {
        "colab": {
          "base_uri": "https://localhost:8080/"
        },
        "id": "NA6lmuDBXp2P",
        "outputId": "022115b4-1dfa-4384-a375-2f9ad813d8ea"
      },
      "source": [
        "summary['CLV'].describe()"
      ],
      "execution_count": null,
      "outputs": [
        {
          "output_type": "execute_result",
          "data": {
            "text/plain": [
              "count    2790.000000\n",
              "mean       12.312040\n",
              "std        49.327361\n",
              "min         0.136205\n",
              "25%         2.826065\n",
              "50%         5.668581\n",
              "75%        10.967735\n",
              "max      1692.149403\n",
              "Name: CLV, dtype: float64"
            ]
          },
          "metadata": {
            "tags": []
          },
          "execution_count": 43
        }
      ]
    }
  ]
}